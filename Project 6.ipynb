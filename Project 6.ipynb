{
 "cells": [
  {
   "cell_type": "markdown",
   "id": "1e124aaa",
   "metadata": {},
   "source": [
    "# Yelp Classification- NLP"
   ]
  },
  {
   "cell_type": "code",
   "execution_count": null,
   "id": "2574215f",
   "metadata": {},
   "outputs": [],
   "source": []
  },
  {
   "cell_type": "markdown",
   "id": "3a4b6fc5",
   "metadata": {},
   "source": [
    "# Import Libraries"
   ]
  },
  {
   "cell_type": "code",
   "execution_count": 2,
   "id": "8cde1dfc",
   "metadata": {},
   "outputs": [],
   "source": [
    "import numpy as np\n",
    "import pandas as pd\n",
    "import matplotlib.pyplot as plt\n",
    "import seaborn as sns"
   ]
  },
  {
   "cell_type": "markdown",
   "id": "a5999330",
   "metadata": {},
   "source": [
    "# Import data"
   ]
  },
  {
   "cell_type": "code",
   "execution_count": 3,
   "id": "46932e1d",
   "metadata": {},
   "outputs": [],
   "source": [
    "yelp_df=pd.read_csv('yelp.csv')"
   ]
  },
  {
   "cell_type": "code",
   "execution_count": 5,
   "id": "13d6084a",
   "metadata": {},
   "outputs": [
    {
     "data": {
      "text/html": [
       "<div>\n",
       "<style scoped>\n",
       "    .dataframe tbody tr th:only-of-type {\n",
       "        vertical-align: middle;\n",
       "    }\n",
       "\n",
       "    .dataframe tbody tr th {\n",
       "        vertical-align: top;\n",
       "    }\n",
       "\n",
       "    .dataframe thead th {\n",
       "        text-align: right;\n",
       "    }\n",
       "</style>\n",
       "<table border=\"1\" class=\"dataframe\">\n",
       "  <thead>\n",
       "    <tr style=\"text-align: right;\">\n",
       "      <th></th>\n",
       "      <th>business_id</th>\n",
       "      <th>date</th>\n",
       "      <th>review_id</th>\n",
       "      <th>stars</th>\n",
       "      <th>text</th>\n",
       "      <th>type</th>\n",
       "      <th>user_id</th>\n",
       "      <th>cool</th>\n",
       "      <th>useful</th>\n",
       "      <th>funny</th>\n",
       "    </tr>\n",
       "  </thead>\n",
       "  <tbody>\n",
       "    <tr>\n",
       "      <th>0</th>\n",
       "      <td>9yKzy9PApeiPPOUJEtnvkg</td>\n",
       "      <td>2011-01-26</td>\n",
       "      <td>fWKvX83p0-ka4JS3dc6E5A</td>\n",
       "      <td>5</td>\n",
       "      <td>My wife took me here on my birthday for breakf...</td>\n",
       "      <td>review</td>\n",
       "      <td>rLtl8ZkDX5vH5nAx9C3q5Q</td>\n",
       "      <td>2</td>\n",
       "      <td>5</td>\n",
       "      <td>0</td>\n",
       "    </tr>\n",
       "    <tr>\n",
       "      <th>1</th>\n",
       "      <td>ZRJwVLyzEJq1VAihDhYiow</td>\n",
       "      <td>2011-07-27</td>\n",
       "      <td>IjZ33sJrzXqU-0X6U8NwyA</td>\n",
       "      <td>5</td>\n",
       "      <td>I have no idea why some people give bad review...</td>\n",
       "      <td>review</td>\n",
       "      <td>0a2KyEL0d3Yb1V6aivbIuQ</td>\n",
       "      <td>0</td>\n",
       "      <td>0</td>\n",
       "      <td>0</td>\n",
       "    </tr>\n",
       "    <tr>\n",
       "      <th>2</th>\n",
       "      <td>6oRAC4uyJCsJl1X0WZpVSA</td>\n",
       "      <td>2012-06-14</td>\n",
       "      <td>IESLBzqUCLdSzSqm0eCSxQ</td>\n",
       "      <td>4</td>\n",
       "      <td>love the gyro plate. Rice is so good and I als...</td>\n",
       "      <td>review</td>\n",
       "      <td>0hT2KtfLiobPvh6cDC8JQg</td>\n",
       "      <td>0</td>\n",
       "      <td>1</td>\n",
       "      <td>0</td>\n",
       "    </tr>\n",
       "    <tr>\n",
       "      <th>3</th>\n",
       "      <td>_1QQZuf4zZOyFCvXc0o6Vg</td>\n",
       "      <td>2010-05-27</td>\n",
       "      <td>G-WvGaISbqqaMHlNnByodA</td>\n",
       "      <td>5</td>\n",
       "      <td>Rosie, Dakota, and I LOVE Chaparral Dog Park!!...</td>\n",
       "      <td>review</td>\n",
       "      <td>uZetl9T0NcROGOyFfughhg</td>\n",
       "      <td>1</td>\n",
       "      <td>2</td>\n",
       "      <td>0</td>\n",
       "    </tr>\n",
       "    <tr>\n",
       "      <th>4</th>\n",
       "      <td>6ozycU1RpktNG2-1BroVtw</td>\n",
       "      <td>2012-01-05</td>\n",
       "      <td>1uJFq2r5QfJG_6ExMRCaGw</td>\n",
       "      <td>5</td>\n",
       "      <td>General Manager Scott Petello is a good egg!!!...</td>\n",
       "      <td>review</td>\n",
       "      <td>vYmM4KTsC8ZfQBg-j5MWkw</td>\n",
       "      <td>0</td>\n",
       "      <td>0</td>\n",
       "      <td>0</td>\n",
       "    </tr>\n",
       "    <tr>\n",
       "      <th>5</th>\n",
       "      <td>-yxfBYGB6SEqszmxJxd97A</td>\n",
       "      <td>2007-12-13</td>\n",
       "      <td>m2CKSsepBCoRYWxiRUsxAg</td>\n",
       "      <td>4</td>\n",
       "      <td>Quiessence is, simply put, beautiful.  Full wi...</td>\n",
       "      <td>review</td>\n",
       "      <td>sqYN3lNgvPbPCTRsMFu27g</td>\n",
       "      <td>4</td>\n",
       "      <td>3</td>\n",
       "      <td>1</td>\n",
       "    </tr>\n",
       "    <tr>\n",
       "      <th>6</th>\n",
       "      <td>zp713qNhx8d9KCJJnrw1xA</td>\n",
       "      <td>2010-02-12</td>\n",
       "      <td>riFQ3vxNpP4rWLk_CSri2A</td>\n",
       "      <td>5</td>\n",
       "      <td>Drop what you're doing and drive here. After I...</td>\n",
       "      <td>review</td>\n",
       "      <td>wFweIWhv2fREZV_dYkz_1g</td>\n",
       "      <td>7</td>\n",
       "      <td>7</td>\n",
       "      <td>4</td>\n",
       "    </tr>\n",
       "  </tbody>\n",
       "</table>\n",
       "</div>"
      ],
      "text/plain": [
       "              business_id        date               review_id  stars  \\\n",
       "0  9yKzy9PApeiPPOUJEtnvkg  2011-01-26  fWKvX83p0-ka4JS3dc6E5A      5   \n",
       "1  ZRJwVLyzEJq1VAihDhYiow  2011-07-27  IjZ33sJrzXqU-0X6U8NwyA      5   \n",
       "2  6oRAC4uyJCsJl1X0WZpVSA  2012-06-14  IESLBzqUCLdSzSqm0eCSxQ      4   \n",
       "3  _1QQZuf4zZOyFCvXc0o6Vg  2010-05-27  G-WvGaISbqqaMHlNnByodA      5   \n",
       "4  6ozycU1RpktNG2-1BroVtw  2012-01-05  1uJFq2r5QfJG_6ExMRCaGw      5   \n",
       "5  -yxfBYGB6SEqszmxJxd97A  2007-12-13  m2CKSsepBCoRYWxiRUsxAg      4   \n",
       "6  zp713qNhx8d9KCJJnrw1xA  2010-02-12  riFQ3vxNpP4rWLk_CSri2A      5   \n",
       "\n",
       "                                                text    type  \\\n",
       "0  My wife took me here on my birthday for breakf...  review   \n",
       "1  I have no idea why some people give bad review...  review   \n",
       "2  love the gyro plate. Rice is so good and I als...  review   \n",
       "3  Rosie, Dakota, and I LOVE Chaparral Dog Park!!...  review   \n",
       "4  General Manager Scott Petello is a good egg!!!...  review   \n",
       "5  Quiessence is, simply put, beautiful.  Full wi...  review   \n",
       "6  Drop what you're doing and drive here. After I...  review   \n",
       "\n",
       "                  user_id  cool  useful  funny  \n",
       "0  rLtl8ZkDX5vH5nAx9C3q5Q     2       5      0  \n",
       "1  0a2KyEL0d3Yb1V6aivbIuQ     0       0      0  \n",
       "2  0hT2KtfLiobPvh6cDC8JQg     0       1      0  \n",
       "3  uZetl9T0NcROGOyFfughhg     1       2      0  \n",
       "4  vYmM4KTsC8ZfQBg-j5MWkw     0       0      0  \n",
       "5  sqYN3lNgvPbPCTRsMFu27g     4       3      1  \n",
       "6  wFweIWhv2fREZV_dYkz_1g     7       7      4  "
      ]
     },
     "execution_count": 5,
     "metadata": {},
     "output_type": "execute_result"
    }
   ],
   "source": [
    "yelp_df.head(7)"
   ]
  },
  {
   "cell_type": "code",
   "execution_count": 7,
   "id": "c2a4c18b",
   "metadata": {},
   "outputs": [
    {
     "data": {
      "text/html": [
       "<div>\n",
       "<style scoped>\n",
       "    .dataframe tbody tr th:only-of-type {\n",
       "        vertical-align: middle;\n",
       "    }\n",
       "\n",
       "    .dataframe tbody tr th {\n",
       "        vertical-align: top;\n",
       "    }\n",
       "\n",
       "    .dataframe thead th {\n",
       "        text-align: right;\n",
       "    }\n",
       "</style>\n",
       "<table border=\"1\" class=\"dataframe\">\n",
       "  <thead>\n",
       "    <tr style=\"text-align: right;\">\n",
       "      <th></th>\n",
       "      <th>business_id</th>\n",
       "      <th>date</th>\n",
       "      <th>review_id</th>\n",
       "      <th>stars</th>\n",
       "      <th>text</th>\n",
       "      <th>type</th>\n",
       "      <th>user_id</th>\n",
       "      <th>cool</th>\n",
       "      <th>useful</th>\n",
       "      <th>funny</th>\n",
       "    </tr>\n",
       "  </thead>\n",
       "  <tbody>\n",
       "    <tr>\n",
       "      <th>9995</th>\n",
       "      <td>VY_tvNUCCXGXQeSvJl757Q</td>\n",
       "      <td>2012-07-28</td>\n",
       "      <td>Ubyfp2RSDYW0g7Mbr8N3iA</td>\n",
       "      <td>3</td>\n",
       "      <td>First visit...Had lunch here today - used my G...</td>\n",
       "      <td>review</td>\n",
       "      <td>_eqQoPtQ3e3UxLE4faT6ow</td>\n",
       "      <td>1</td>\n",
       "      <td>2</td>\n",
       "      <td>0</td>\n",
       "    </tr>\n",
       "    <tr>\n",
       "      <th>9996</th>\n",
       "      <td>EKzMHI1tip8rC1-ZAy64yg</td>\n",
       "      <td>2012-01-18</td>\n",
       "      <td>2XyIOQKbVFb6uXQdJ0RzlQ</td>\n",
       "      <td>4</td>\n",
       "      <td>Should be called house of deliciousness!\\n\\nI ...</td>\n",
       "      <td>review</td>\n",
       "      <td>ROru4uk5SaYc3rg8IU7SQw</td>\n",
       "      <td>0</td>\n",
       "      <td>0</td>\n",
       "      <td>0</td>\n",
       "    </tr>\n",
       "    <tr>\n",
       "      <th>9997</th>\n",
       "      <td>53YGfwmbW73JhFiemNeyzQ</td>\n",
       "      <td>2010-11-16</td>\n",
       "      <td>jyznYkIbpqVmlsZxSDSypA</td>\n",
       "      <td>4</td>\n",
       "      <td>I recently visited Olive and Ivy for business ...</td>\n",
       "      <td>review</td>\n",
       "      <td>gGbN1aKQHMgfQZkqlsuwzg</td>\n",
       "      <td>0</td>\n",
       "      <td>0</td>\n",
       "      <td>0</td>\n",
       "    </tr>\n",
       "    <tr>\n",
       "      <th>9998</th>\n",
       "      <td>9SKdOoDHcFoxK5ZtsgHJoA</td>\n",
       "      <td>2012-12-02</td>\n",
       "      <td>5UKq9WQE1qQbJ0DJbc-B6Q</td>\n",
       "      <td>2</td>\n",
       "      <td>My nephew just moved to Scottsdale recently so...</td>\n",
       "      <td>review</td>\n",
       "      <td>0lyVoNazXa20WzUyZPLaQQ</td>\n",
       "      <td>0</td>\n",
       "      <td>0</td>\n",
       "      <td>0</td>\n",
       "    </tr>\n",
       "    <tr>\n",
       "      <th>9999</th>\n",
       "      <td>pF7uRzygyZsltbmVpjIyvw</td>\n",
       "      <td>2010-10-16</td>\n",
       "      <td>vWSmOhg2ID1MNZHaWapGbA</td>\n",
       "      <td>5</td>\n",
       "      <td>4-5 locations.. all 4.5 star average.. I think...</td>\n",
       "      <td>review</td>\n",
       "      <td>KSBFytcdjPKZgXKQnYQdkA</td>\n",
       "      <td>0</td>\n",
       "      <td>0</td>\n",
       "      <td>0</td>\n",
       "    </tr>\n",
       "  </tbody>\n",
       "</table>\n",
       "</div>"
      ],
      "text/plain": [
       "                 business_id        date               review_id  stars  \\\n",
       "9995  VY_tvNUCCXGXQeSvJl757Q  2012-07-28  Ubyfp2RSDYW0g7Mbr8N3iA      3   \n",
       "9996  EKzMHI1tip8rC1-ZAy64yg  2012-01-18  2XyIOQKbVFb6uXQdJ0RzlQ      4   \n",
       "9997  53YGfwmbW73JhFiemNeyzQ  2010-11-16  jyznYkIbpqVmlsZxSDSypA      4   \n",
       "9998  9SKdOoDHcFoxK5ZtsgHJoA  2012-12-02  5UKq9WQE1qQbJ0DJbc-B6Q      2   \n",
       "9999  pF7uRzygyZsltbmVpjIyvw  2010-10-16  vWSmOhg2ID1MNZHaWapGbA      5   \n",
       "\n",
       "                                                   text    type  \\\n",
       "9995  First visit...Had lunch here today - used my G...  review   \n",
       "9996  Should be called house of deliciousness!\\n\\nI ...  review   \n",
       "9997  I recently visited Olive and Ivy for business ...  review   \n",
       "9998  My nephew just moved to Scottsdale recently so...  review   \n",
       "9999  4-5 locations.. all 4.5 star average.. I think...  review   \n",
       "\n",
       "                     user_id  cool  useful  funny  \n",
       "9995  _eqQoPtQ3e3UxLE4faT6ow     1       2      0  \n",
       "9996  ROru4uk5SaYc3rg8IU7SQw     0       0      0  \n",
       "9997  gGbN1aKQHMgfQZkqlsuwzg     0       0      0  \n",
       "9998  0lyVoNazXa20WzUyZPLaQQ     0       0      0  \n",
       "9999  KSBFytcdjPKZgXKQnYQdkA     0       0      0  "
      ]
     },
     "execution_count": 7,
     "metadata": {},
     "output_type": "execute_result"
    }
   ],
   "source": [
    "yelp_df.tail(5)"
   ]
  },
  {
   "cell_type": "code",
   "execution_count": 8,
   "id": "38c96bc2",
   "metadata": {},
   "outputs": [
    {
     "data": {
      "text/html": [
       "<div>\n",
       "<style scoped>\n",
       "    .dataframe tbody tr th:only-of-type {\n",
       "        vertical-align: middle;\n",
       "    }\n",
       "\n",
       "    .dataframe tbody tr th {\n",
       "        vertical-align: top;\n",
       "    }\n",
       "\n",
       "    .dataframe thead th {\n",
       "        text-align: right;\n",
       "    }\n",
       "</style>\n",
       "<table border=\"1\" class=\"dataframe\">\n",
       "  <thead>\n",
       "    <tr style=\"text-align: right;\">\n",
       "      <th></th>\n",
       "      <th>stars</th>\n",
       "      <th>cool</th>\n",
       "      <th>useful</th>\n",
       "      <th>funny</th>\n",
       "    </tr>\n",
       "  </thead>\n",
       "  <tbody>\n",
       "    <tr>\n",
       "      <th>count</th>\n",
       "      <td>10000.000000</td>\n",
       "      <td>10000.000000</td>\n",
       "      <td>10000.000000</td>\n",
       "      <td>10000.000000</td>\n",
       "    </tr>\n",
       "    <tr>\n",
       "      <th>mean</th>\n",
       "      <td>3.777500</td>\n",
       "      <td>0.876800</td>\n",
       "      <td>1.409300</td>\n",
       "      <td>0.701300</td>\n",
       "    </tr>\n",
       "    <tr>\n",
       "      <th>std</th>\n",
       "      <td>1.214636</td>\n",
       "      <td>2.067861</td>\n",
       "      <td>2.336647</td>\n",
       "      <td>1.907942</td>\n",
       "    </tr>\n",
       "    <tr>\n",
       "      <th>min</th>\n",
       "      <td>1.000000</td>\n",
       "      <td>0.000000</td>\n",
       "      <td>0.000000</td>\n",
       "      <td>0.000000</td>\n",
       "    </tr>\n",
       "    <tr>\n",
       "      <th>25%</th>\n",
       "      <td>3.000000</td>\n",
       "      <td>0.000000</td>\n",
       "      <td>0.000000</td>\n",
       "      <td>0.000000</td>\n",
       "    </tr>\n",
       "    <tr>\n",
       "      <th>50%</th>\n",
       "      <td>4.000000</td>\n",
       "      <td>0.000000</td>\n",
       "      <td>1.000000</td>\n",
       "      <td>0.000000</td>\n",
       "    </tr>\n",
       "    <tr>\n",
       "      <th>75%</th>\n",
       "      <td>5.000000</td>\n",
       "      <td>1.000000</td>\n",
       "      <td>2.000000</td>\n",
       "      <td>1.000000</td>\n",
       "    </tr>\n",
       "    <tr>\n",
       "      <th>max</th>\n",
       "      <td>5.000000</td>\n",
       "      <td>77.000000</td>\n",
       "      <td>76.000000</td>\n",
       "      <td>57.000000</td>\n",
       "    </tr>\n",
       "  </tbody>\n",
       "</table>\n",
       "</div>"
      ],
      "text/plain": [
       "              stars          cool        useful         funny\n",
       "count  10000.000000  10000.000000  10000.000000  10000.000000\n",
       "mean       3.777500      0.876800      1.409300      0.701300\n",
       "std        1.214636      2.067861      2.336647      1.907942\n",
       "min        1.000000      0.000000      0.000000      0.000000\n",
       "25%        3.000000      0.000000      0.000000      0.000000\n",
       "50%        4.000000      0.000000      1.000000      0.000000\n",
       "75%        5.000000      1.000000      2.000000      1.000000\n",
       "max        5.000000     77.000000     76.000000     57.000000"
      ]
     },
     "execution_count": 8,
     "metadata": {},
     "output_type": "execute_result"
    }
   ],
   "source": [
    "yelp_df.describe()"
   ]
  },
  {
   "cell_type": "code",
   "execution_count": 9,
   "id": "8059730e",
   "metadata": {},
   "outputs": [
    {
     "name": "stdout",
     "output_type": "stream",
     "text": [
      "<class 'pandas.core.frame.DataFrame'>\n",
      "RangeIndex: 10000 entries, 0 to 9999\n",
      "Data columns (total 10 columns):\n",
      " #   Column       Non-Null Count  Dtype \n",
      "---  ------       --------------  ----- \n",
      " 0   business_id  10000 non-null  object\n",
      " 1   date         10000 non-null  object\n",
      " 2   review_id    10000 non-null  object\n",
      " 3   stars        10000 non-null  int64 \n",
      " 4   text         10000 non-null  object\n",
      " 5   type         10000 non-null  object\n",
      " 6   user_id      10000 non-null  object\n",
      " 7   cool         10000 non-null  int64 \n",
      " 8   useful       10000 non-null  int64 \n",
      " 9   funny        10000 non-null  int64 \n",
      "dtypes: int64(4), object(6)\n",
      "memory usage: 781.4+ KB\n"
     ]
    }
   ],
   "source": [
    "yelp_df.info()"
   ]
  },
  {
   "cell_type": "code",
   "execution_count": 11,
   "id": "8a5bdd6c",
   "metadata": {},
   "outputs": [
    {
     "name": "stdout",
     "output_type": "stream",
     "text": [
      "0    My wife took me here on my birthday for breakf...\n",
      "1    I have no idea why some people give bad review...\n",
      "Name: text, dtype: object\n"
     ]
    }
   ],
   "source": [
    "print(yelp_df.head(2)['text'])"
   ]
  },
  {
   "cell_type": "code",
   "execution_count": 12,
   "id": "3a382ee6",
   "metadata": {},
   "outputs": [
    {
     "name": "stdout",
     "output_type": "stream",
     "text": [
      "9998    My nephew just moved to Scottsdale recently so...\n",
      "9999    4-5 locations.. all 4.5 star average.. I think...\n",
      "Name: text, dtype: object\n"
     ]
    }
   ],
   "source": [
    "print(yelp_df.tail(2)['text'])"
   ]
  },
  {
   "cell_type": "code",
   "execution_count": 14,
   "id": "025f67bc",
   "metadata": {},
   "outputs": [
    {
     "data": {
      "text/plain": [
       "'My nephew just moved to Scottsdale recently so me and a bunch of friends brought him here to show him a local bar that he and the girlfriend could come shoot pool, watch football, play volleyball etc...well....we weren\\'t there 5minutes and 2 kids were running around the pool tables, messing up our games and screaming. I couldn\\'t believe the staff was allowing this to happen. They were hitting the pool sticks on everything and crying when their mom attempted (in vain) to quiet them. You\\'d think the mom would leave at this point with her  kids....um...no....the staff did seem annoyed as well but said nothing. Then....it happened...she said \" you guys better behave or mommy will be fired\"!! Holy shit....she works there!! Even worse! Shame on that owner for allowing this to happen. And that employee needs to recognize this...YOU WORK AT A BAR.....not a daycare....A BAR!!!'"
      ]
     },
     "execution_count": 14,
     "metadata": {},
     "output_type": "execute_result"
    }
   ],
   "source": [
    "yelp_df['text'][9998]"
   ]
  },
  {
   "cell_type": "markdown",
   "id": "f398a1ed",
   "metadata": {},
   "source": [
    "# Visualize the data"
   ]
  },
  {
   "cell_type": "code",
   "execution_count": 15,
   "id": "638fded9",
   "metadata": {},
   "outputs": [],
   "source": [
    "yelp_df['length']=yelp_df['text'].apply(len)"
   ]
  },
  {
   "cell_type": "code",
   "execution_count": 16,
   "id": "a6256b1d",
   "metadata": {},
   "outputs": [
    {
     "data": {
      "text/html": [
       "<div>\n",
       "<style scoped>\n",
       "    .dataframe tbody tr th:only-of-type {\n",
       "        vertical-align: middle;\n",
       "    }\n",
       "\n",
       "    .dataframe tbody tr th {\n",
       "        vertical-align: top;\n",
       "    }\n",
       "\n",
       "    .dataframe thead th {\n",
       "        text-align: right;\n",
       "    }\n",
       "</style>\n",
       "<table border=\"1\" class=\"dataframe\">\n",
       "  <thead>\n",
       "    <tr style=\"text-align: right;\">\n",
       "      <th></th>\n",
       "      <th>business_id</th>\n",
       "      <th>date</th>\n",
       "      <th>review_id</th>\n",
       "      <th>stars</th>\n",
       "      <th>text</th>\n",
       "      <th>type</th>\n",
       "      <th>user_id</th>\n",
       "      <th>cool</th>\n",
       "      <th>useful</th>\n",
       "      <th>funny</th>\n",
       "      <th>length</th>\n",
       "    </tr>\n",
       "  </thead>\n",
       "  <tbody>\n",
       "    <tr>\n",
       "      <th>0</th>\n",
       "      <td>9yKzy9PApeiPPOUJEtnvkg</td>\n",
       "      <td>2011-01-26</td>\n",
       "      <td>fWKvX83p0-ka4JS3dc6E5A</td>\n",
       "      <td>5</td>\n",
       "      <td>My wife took me here on my birthday for breakf...</td>\n",
       "      <td>review</td>\n",
       "      <td>rLtl8ZkDX5vH5nAx9C3q5Q</td>\n",
       "      <td>2</td>\n",
       "      <td>5</td>\n",
       "      <td>0</td>\n",
       "      <td>889</td>\n",
       "    </tr>\n",
       "    <tr>\n",
       "      <th>1</th>\n",
       "      <td>ZRJwVLyzEJq1VAihDhYiow</td>\n",
       "      <td>2011-07-27</td>\n",
       "      <td>IjZ33sJrzXqU-0X6U8NwyA</td>\n",
       "      <td>5</td>\n",
       "      <td>I have no idea why some people give bad review...</td>\n",
       "      <td>review</td>\n",
       "      <td>0a2KyEL0d3Yb1V6aivbIuQ</td>\n",
       "      <td>0</td>\n",
       "      <td>0</td>\n",
       "      <td>0</td>\n",
       "      <td>1345</td>\n",
       "    </tr>\n",
       "    <tr>\n",
       "      <th>2</th>\n",
       "      <td>6oRAC4uyJCsJl1X0WZpVSA</td>\n",
       "      <td>2012-06-14</td>\n",
       "      <td>IESLBzqUCLdSzSqm0eCSxQ</td>\n",
       "      <td>4</td>\n",
       "      <td>love the gyro plate. Rice is so good and I als...</td>\n",
       "      <td>review</td>\n",
       "      <td>0hT2KtfLiobPvh6cDC8JQg</td>\n",
       "      <td>0</td>\n",
       "      <td>1</td>\n",
       "      <td>0</td>\n",
       "      <td>76</td>\n",
       "    </tr>\n",
       "    <tr>\n",
       "      <th>3</th>\n",
       "      <td>_1QQZuf4zZOyFCvXc0o6Vg</td>\n",
       "      <td>2010-05-27</td>\n",
       "      <td>G-WvGaISbqqaMHlNnByodA</td>\n",
       "      <td>5</td>\n",
       "      <td>Rosie, Dakota, and I LOVE Chaparral Dog Park!!...</td>\n",
       "      <td>review</td>\n",
       "      <td>uZetl9T0NcROGOyFfughhg</td>\n",
       "      <td>1</td>\n",
       "      <td>2</td>\n",
       "      <td>0</td>\n",
       "      <td>419</td>\n",
       "    </tr>\n",
       "    <tr>\n",
       "      <th>4</th>\n",
       "      <td>6ozycU1RpktNG2-1BroVtw</td>\n",
       "      <td>2012-01-05</td>\n",
       "      <td>1uJFq2r5QfJG_6ExMRCaGw</td>\n",
       "      <td>5</td>\n",
       "      <td>General Manager Scott Petello is a good egg!!!...</td>\n",
       "      <td>review</td>\n",
       "      <td>vYmM4KTsC8ZfQBg-j5MWkw</td>\n",
       "      <td>0</td>\n",
       "      <td>0</td>\n",
       "      <td>0</td>\n",
       "      <td>469</td>\n",
       "    </tr>\n",
       "    <tr>\n",
       "      <th>...</th>\n",
       "      <td>...</td>\n",
       "      <td>...</td>\n",
       "      <td>...</td>\n",
       "      <td>...</td>\n",
       "      <td>...</td>\n",
       "      <td>...</td>\n",
       "      <td>...</td>\n",
       "      <td>...</td>\n",
       "      <td>...</td>\n",
       "      <td>...</td>\n",
       "      <td>...</td>\n",
       "    </tr>\n",
       "    <tr>\n",
       "      <th>9995</th>\n",
       "      <td>VY_tvNUCCXGXQeSvJl757Q</td>\n",
       "      <td>2012-07-28</td>\n",
       "      <td>Ubyfp2RSDYW0g7Mbr8N3iA</td>\n",
       "      <td>3</td>\n",
       "      <td>First visit...Had lunch here today - used my G...</td>\n",
       "      <td>review</td>\n",
       "      <td>_eqQoPtQ3e3UxLE4faT6ow</td>\n",
       "      <td>1</td>\n",
       "      <td>2</td>\n",
       "      <td>0</td>\n",
       "      <td>668</td>\n",
       "    </tr>\n",
       "    <tr>\n",
       "      <th>9996</th>\n",
       "      <td>EKzMHI1tip8rC1-ZAy64yg</td>\n",
       "      <td>2012-01-18</td>\n",
       "      <td>2XyIOQKbVFb6uXQdJ0RzlQ</td>\n",
       "      <td>4</td>\n",
       "      <td>Should be called house of deliciousness!\\n\\nI ...</td>\n",
       "      <td>review</td>\n",
       "      <td>ROru4uk5SaYc3rg8IU7SQw</td>\n",
       "      <td>0</td>\n",
       "      <td>0</td>\n",
       "      <td>0</td>\n",
       "      <td>881</td>\n",
       "    </tr>\n",
       "    <tr>\n",
       "      <th>9997</th>\n",
       "      <td>53YGfwmbW73JhFiemNeyzQ</td>\n",
       "      <td>2010-11-16</td>\n",
       "      <td>jyznYkIbpqVmlsZxSDSypA</td>\n",
       "      <td>4</td>\n",
       "      <td>I recently visited Olive and Ivy for business ...</td>\n",
       "      <td>review</td>\n",
       "      <td>gGbN1aKQHMgfQZkqlsuwzg</td>\n",
       "      <td>0</td>\n",
       "      <td>0</td>\n",
       "      <td>0</td>\n",
       "      <td>1425</td>\n",
       "    </tr>\n",
       "    <tr>\n",
       "      <th>9998</th>\n",
       "      <td>9SKdOoDHcFoxK5ZtsgHJoA</td>\n",
       "      <td>2012-12-02</td>\n",
       "      <td>5UKq9WQE1qQbJ0DJbc-B6Q</td>\n",
       "      <td>2</td>\n",
       "      <td>My nephew just moved to Scottsdale recently so...</td>\n",
       "      <td>review</td>\n",
       "      <td>0lyVoNazXa20WzUyZPLaQQ</td>\n",
       "      <td>0</td>\n",
       "      <td>0</td>\n",
       "      <td>0</td>\n",
       "      <td>880</td>\n",
       "    </tr>\n",
       "    <tr>\n",
       "      <th>9999</th>\n",
       "      <td>pF7uRzygyZsltbmVpjIyvw</td>\n",
       "      <td>2010-10-16</td>\n",
       "      <td>vWSmOhg2ID1MNZHaWapGbA</td>\n",
       "      <td>5</td>\n",
       "      <td>4-5 locations.. all 4.5 star average.. I think...</td>\n",
       "      <td>review</td>\n",
       "      <td>KSBFytcdjPKZgXKQnYQdkA</td>\n",
       "      <td>0</td>\n",
       "      <td>0</td>\n",
       "      <td>0</td>\n",
       "      <td>461</td>\n",
       "    </tr>\n",
       "  </tbody>\n",
       "</table>\n",
       "<p>10000 rows × 11 columns</p>\n",
       "</div>"
      ],
      "text/plain": [
       "                 business_id        date               review_id  stars  \\\n",
       "0     9yKzy9PApeiPPOUJEtnvkg  2011-01-26  fWKvX83p0-ka4JS3dc6E5A      5   \n",
       "1     ZRJwVLyzEJq1VAihDhYiow  2011-07-27  IjZ33sJrzXqU-0X6U8NwyA      5   \n",
       "2     6oRAC4uyJCsJl1X0WZpVSA  2012-06-14  IESLBzqUCLdSzSqm0eCSxQ      4   \n",
       "3     _1QQZuf4zZOyFCvXc0o6Vg  2010-05-27  G-WvGaISbqqaMHlNnByodA      5   \n",
       "4     6ozycU1RpktNG2-1BroVtw  2012-01-05  1uJFq2r5QfJG_6ExMRCaGw      5   \n",
       "...                      ...         ...                     ...    ...   \n",
       "9995  VY_tvNUCCXGXQeSvJl757Q  2012-07-28  Ubyfp2RSDYW0g7Mbr8N3iA      3   \n",
       "9996  EKzMHI1tip8rC1-ZAy64yg  2012-01-18  2XyIOQKbVFb6uXQdJ0RzlQ      4   \n",
       "9997  53YGfwmbW73JhFiemNeyzQ  2010-11-16  jyznYkIbpqVmlsZxSDSypA      4   \n",
       "9998  9SKdOoDHcFoxK5ZtsgHJoA  2012-12-02  5UKq9WQE1qQbJ0DJbc-B6Q      2   \n",
       "9999  pF7uRzygyZsltbmVpjIyvw  2010-10-16  vWSmOhg2ID1MNZHaWapGbA      5   \n",
       "\n",
       "                                                   text    type  \\\n",
       "0     My wife took me here on my birthday for breakf...  review   \n",
       "1     I have no idea why some people give bad review...  review   \n",
       "2     love the gyro plate. Rice is so good and I als...  review   \n",
       "3     Rosie, Dakota, and I LOVE Chaparral Dog Park!!...  review   \n",
       "4     General Manager Scott Petello is a good egg!!!...  review   \n",
       "...                                                 ...     ...   \n",
       "9995  First visit...Had lunch here today - used my G...  review   \n",
       "9996  Should be called house of deliciousness!\\n\\nI ...  review   \n",
       "9997  I recently visited Olive and Ivy for business ...  review   \n",
       "9998  My nephew just moved to Scottsdale recently so...  review   \n",
       "9999  4-5 locations.. all 4.5 star average.. I think...  review   \n",
       "\n",
       "                     user_id  cool  useful  funny  length  \n",
       "0     rLtl8ZkDX5vH5nAx9C3q5Q     2       5      0     889  \n",
       "1     0a2KyEL0d3Yb1V6aivbIuQ     0       0      0    1345  \n",
       "2     0hT2KtfLiobPvh6cDC8JQg     0       1      0      76  \n",
       "3     uZetl9T0NcROGOyFfughhg     1       2      0     419  \n",
       "4     vYmM4KTsC8ZfQBg-j5MWkw     0       0      0     469  \n",
       "...                      ...   ...     ...    ...     ...  \n",
       "9995  _eqQoPtQ3e3UxLE4faT6ow     1       2      0     668  \n",
       "9996  ROru4uk5SaYc3rg8IU7SQw     0       0      0     881  \n",
       "9997  gGbN1aKQHMgfQZkqlsuwzg     0       0      0    1425  \n",
       "9998  0lyVoNazXa20WzUyZPLaQQ     0       0      0     880  \n",
       "9999  KSBFytcdjPKZgXKQnYQdkA     0       0      0     461  \n",
       "\n",
       "[10000 rows x 11 columns]"
      ]
     },
     "execution_count": 16,
     "metadata": {},
     "output_type": "execute_result"
    }
   ],
   "source": [
    "yelp_df"
   ]
  },
  {
   "cell_type": "code",
   "execution_count": 17,
   "id": "54a05a8c",
   "metadata": {},
   "outputs": [
    {
     "data": {
      "text/plain": [
       "<AxesSubplot:ylabel='Frequency'>"
      ]
     },
     "execution_count": 17,
     "metadata": {},
     "output_type": "execute_result"
    },
    {
     "data": {
      "image/png": "[encoded data removed]",
      "text/plain": [
       "<Figure size 640x480 with 1 Axes>"
      ]
     },
     "metadata": {},
     "output_type": "display_data"
    }
   ],
   "source": [
    "yelp_df['length'].plot(bins=100,kind='hist')"
   ]
  },
  {
   "cell_type": "code",
   "execution_count": 18,
   "id": "87496c49",
   "metadata": {},
   "outputs": [
    {
     "data": {
      "text/plain": [
       "count    10000.000000\n",
       "mean       710.738700\n",
       "std        617.399827\n",
       "min          1.000000\n",
       "25%        294.000000\n",
       "50%        541.500000\n",
       "75%        930.000000\n",
       "max       4997.000000\n",
       "Name: length, dtype: float64"
      ]
     },
     "execution_count": 18,
     "metadata": {},
     "output_type": "execute_result"
    }
   ],
   "source": [
    "yelp_df['length'].describe()"
   ]
  },
  {
   "cell_type": "code",
   "execution_count": 19,
   "id": "2da44c32",
   "metadata": {},
   "outputs": [
    {
     "data": {
      "text/plain": [
       "'In our continuing quest to identify cool, locally owned places to eat and/or drink, Caroline and I auditioned Vintage 95 last night. \\n\\nBefore I go further, understand that whenever I go out for eats or drinks, I have  in  mind a Platonic Ideal of the Bar/Pub/Eatery I most want to frequent. I\\'m on a constant quest to find that  Ideal expressed in Real Life. \\n\\nVintage 95 isn\\'t quite there, but it\\'s damn close. If I ever give something Five Stars, you\\'ll know it has pegged my Platonic Ideal. Anyway...\\n\\nThe plan last night was for drinks. No plans for food, just Adult Beverages and warm conversation. But it turned into more.\\n\\nThe location in downtown Chandler is terrific for us. The owners have created a very fine visual experience - leather, stone, dark woods, good lighting. And they don\\'t have the music turned up so loud that you CANNOT HAVE A CONVERSATION. This is one of my pet peeves. If I want to stare at people move their mouths while enduring an aural assault, I\\'ll stand on the deck of an aircraft carrier. When I go out with friends, I want to enjoy their company AND their conversation. Is that concept so difficult to grasp? [/rant off]\\n\\nThe atmosphere at Vintage 95 is very close to my Ideal. I\\'d go back just to sit on the leather couches in front of the fireplace, and then go back another time to sit on the leather stools at the bar, and then go back about fourteen more times to sit out on the patio. Seriously - go check out the patio. It is EXACTLY what a Patio Hangout Bar should be. EXACTLY.\\n\\nCaroline and I told the hostesses we were only there for drinks, so we were seated in the bar area in some fabulous leather club chairs. It wasn\\'t initmate, but we weren\\'t looking for intimate. And speaking of the bar, even though V95 advertises itself as a wine bar, they DO have booze. I\\'m not much of a wine drinker and was very pleased to see that they carried a pretty good selection of single malt scotches. Not an overwhelming selection, but well beyond the normal Glenfiddich /Glenlivit /GlenMorangie trio to which most places are limited. I had a couple of drums of Ardbeg, which is one of my new favorites and very reasonably priced at retail. (Scotch is never reasonably priced in restaurants, but I was celebrating so I didn\\'t care.) Caroline had her normal \"vodka martini extra dirty extra cold\" which she judged to have \"perfect dirtiness\", (no wonder I love her!), perfect amount of olives and very cold. \\n\\nThe limited Happy Hour menu had some very interesting choices. We settled on the bruschetta and the smoked tomato bisque. The bruschetta was VERY nice and quite unusual. You get to select four of eight choices for your bruschetta platter; we picked: (1) white bean and pancetta, (2) gravlax, caper goat cheese and pickled onions, (3) fig chutney, ricotta and prosciutto, (4) brie, pear and onion jam. They were all served cold, in nice sized portions and the flavors were all nicely balanced and very interesting. Caroline would have preferred the bread to not be so crispy, but I really liked it. The tomato bisque  was creamy, smoky and had well-balanced flavor. Caroline said it was unique and I say it was just darn delicious. \\n\\nThings being as they are, drinks and appetizers turned into food. A friend had told us \"you have to try the Vintage burger\", so we did. It came served with a mixture of regular and sweet potato fries, all nicely cooked and nicely seasoned. Recommended. The burger was VERY tasty. They obviously use good beef, the bun was fresh, the fixin\\'s were tasty. HIGHLY recommended.\\n\\nIn for a dime, in for a dollar, right? So we ordered dessert. Again, the dessert menu is short, but I\\'m okay with that as long as they do it well. Chocolate torte with hazelnut gelato, apple pie with carmel sauce and creme fraiche gelato, and something else we couldn\\'t remember. I\\'m allergic to hazelnut and don\\'t like sweet desserts, so we decided to try the apple pie.\\n\\nLike everything else we had sampled, the apple pie was unusual - you wouldn\\'t find it anywhere else. It was served on a freshly baked puff pastry, cubed apples served on top and inside - tender but not mushy -  with lots of cinnamon and sugar, plate was swirled with salted dolce la leche. It was tasty, but instead of the expected creme fraiche gelato, we were served hazelnut gelato. I didn\\'t realize it was hazelnut until I\\'d had a couple of bites and my throat started to swell up.\\n\\nAt this point that the night could have turned into a disaster, but to their credit - it didn\\'t. We told the waiter who told the manager, (Gavin - one of the owners), who immediately came and asked if I needed emergency assistance. I didn\\'t, I\\'m not THAT allergic.)  Frankly, their response was EXACTLY the kind of customer service you want to see. Anyone can make a mistake, so no harm, no foul. But I must give BIG Kudos to Gavin for his kindness, attention to detail and outstanding customer service.\\n\\nWe will DEFINTELY be back and I strongly recommend you put it on your list too.'"
      ]
     },
     "execution_count": 19,
     "metadata": {},
     "output_type": "execute_result"
    }
   ],
   "source": [
    "yelp_df[yelp_df['length']==4997]['text'].iloc[0]"
   ]
  },
  {
   "cell_type": "code",
   "execution_count": 22,
   "id": "ef27a518",
   "metadata": {},
   "outputs": [
    {
     "data": {
      "text/plain": [
       "'X'"
      ]
     },
     "execution_count": 22,
     "metadata": {},
     "output_type": "execute_result"
    }
   ],
   "source": [
    "yelp_df[yelp_df['length']==1]['text'].iloc[0]"
   ]
  },
  {
   "cell_type": "code",
   "execution_count": 24,
   "id": "f1386b8d",
   "metadata": {},
   "outputs": [
    {
     "data": {
      "text/plain": [
       "\"I went here for lunch a couple of weeks ago with my bosses. It was packed on a Friday - we sat at the bar and our cook was fantastic! We got to sit and chat with him while he worked away at the orders. I had the chicken pesto pasty and it was wonderful! the bread used is similar to a pastry dough type...but not as sweet. The pasty was so filling, I could barely finish it.\\n\\nMy bosses have been there before and have always wanted to try the peanut butter and jelly pasty - so we all split it as dessert and it was so good. They put bananas in it and drizzle jelly over the whole pasty. It's definitely rich and gooey. \\n\\nI would totally go back here again and have told my friends about it too! Amazing place.\""
      ]
     },
     "execution_count": 24,
     "metadata": {},
     "output_type": "execute_result"
    }
   ],
   "source": [
    "yelp_df[yelp_df['length']==710]['text'].iloc[0]"
   ]
  },
  {
   "cell_type": "code",
   "execution_count": 25,
   "id": "20239cef",
   "metadata": {},
   "outputs": [
    {
     "data": {
      "text/plain": [
       "<AxesSubplot:xlabel='count', ylabel='stars'>"
      ]
     },
     "execution_count": 25,
     "metadata": {},
     "output_type": "execute_result"
    },
    {
     "data": {
      "image/png": "[encoded data removed]",
      "text/plain": [
       "<Figure size 640x480 with 1 Axes>"
      ]
     },
     "metadata": {},
     "output_type": "display_data"
    }
   ],
   "source": [
    "sns.countplot(y='stars',data=yelp_df)"
   ]
  },
  {
   "cell_type": "code",
   "execution_count": 31,
   "id": "adb8b270",
   "metadata": {},
   "outputs": [
    {
     "data": {
      "image/png": "[encoded data removed]",
      "text/plain": [
       "<Figure size 900x600 with 5 Axes>"
      ]
     },
     "metadata": {},
     "output_type": "display_data"
    }
   ],
   "source": [
    "g=sns.FacetGrid(data=yelp_df,col='stars',col_wrap=3)"
   ]
  },
  {
   "cell_type": "code",
   "execution_count": 32,
   "id": "bfe75521",
   "metadata": {},
   "outputs": [
    {
     "data": {
      "text/plain": [
       "<seaborn.axisgrid.FacetGrid at 0x257f6d1dcd0>"
      ]
     },
     "execution_count": 32,
     "metadata": {},
     "output_type": "execute_result"
    },
    {
     "data": {
      "image/png": "[encoded data removed]",
      "text/plain": [
       "<Figure size 900x600 with 5 Axes>"
      ]
     },
     "metadata": {},
     "output_type": "display_data"
    }
   ],
   "source": [
    "g=sns.FacetGrid(data=yelp_df,col='stars',col_wrap=3)\n",
    "g.map(plt.hist,'length',bins=20,color='r')"
   ]
  },
  {
   "cell_type": "code",
   "execution_count": 45,
   "id": "ee5cc198",
   "metadata": {},
   "outputs": [],
   "source": [
    "yelp_df_1=yelp_df[yelp_df['stars']==1]"
   ]
  },
  {
   "cell_type": "code",
   "execution_count": 46,
   "id": "ded820e0",
   "metadata": {},
   "outputs": [
    {
     "data": {
      "text/html": [
       "<div>\n",
       "<style scoped>\n",
       "    .dataframe tbody tr th:only-of-type {\n",
       "        vertical-align: middle;\n",
       "    }\n",
       "\n",
       "    .dataframe tbody tr th {\n",
       "        vertical-align: top;\n",
       "    }\n",
       "\n",
       "    .dataframe thead th {\n",
       "        text-align: right;\n",
       "    }\n",
       "</style>\n",
       "<table border=\"1\" class=\"dataframe\">\n",
       "  <thead>\n",
       "    <tr style=\"text-align: right;\">\n",
       "      <th></th>\n",
       "      <th>business_id</th>\n",
       "      <th>date</th>\n",
       "      <th>review_id</th>\n",
       "      <th>stars</th>\n",
       "      <th>text</th>\n",
       "      <th>type</th>\n",
       "      <th>user_id</th>\n",
       "      <th>cool</th>\n",
       "      <th>useful</th>\n",
       "      <th>funny</th>\n",
       "      <th>length</th>\n",
       "    </tr>\n",
       "  </thead>\n",
       "  <tbody>\n",
       "    <tr>\n",
       "      <th>23</th>\n",
       "      <td>IJ0o6b8bJFAbG6MjGfBebQ</td>\n",
       "      <td>2010-09-05</td>\n",
       "      <td>Dx9sfFU6Zn0GYOckijom-g</td>\n",
       "      <td>1</td>\n",
       "      <td>U can go there n check the car out. If u wanna...</td>\n",
       "      <td>review</td>\n",
       "      <td>zRlQEDYd_HKp0VS3hnAffA</td>\n",
       "      <td>0</td>\n",
       "      <td>1</td>\n",
       "      <td>1</td>\n",
       "      <td>594</td>\n",
       "    </tr>\n",
       "    <tr>\n",
       "      <th>31</th>\n",
       "      <td>vvA3fbps4F9nGlAEYKk_sA</td>\n",
       "      <td>2012-05-04</td>\n",
       "      <td>S9OVpXat8k5YwWCn6FAgXg</td>\n",
       "      <td>1</td>\n",
       "      <td>Disgusting!  Had a Groupon so my daughter and ...</td>\n",
       "      <td>review</td>\n",
       "      <td>8AMn6644NmBf96xGO3w6OA</td>\n",
       "      <td>0</td>\n",
       "      <td>1</td>\n",
       "      <td>0</td>\n",
       "      <td>361</td>\n",
       "    </tr>\n",
       "    <tr>\n",
       "      <th>35</th>\n",
       "      <td>o1GIYYZJjM6nM03fQs_uEQ</td>\n",
       "      <td>2011-11-30</td>\n",
       "      <td>ApKbwpYJdnhhgP4NbjQw2Q</td>\n",
       "      <td>1</td>\n",
       "      <td>I've eaten here many times, but none as bad as...</td>\n",
       "      <td>review</td>\n",
       "      <td>iwUN95LIaEr75TZE_JC6bg</td>\n",
       "      <td>0</td>\n",
       "      <td>4</td>\n",
       "      <td>3</td>\n",
       "      <td>1198</td>\n",
       "    </tr>\n",
       "    <tr>\n",
       "      <th>61</th>\n",
       "      <td>l4vBbCL9QbGiwLuLKwD_bA</td>\n",
       "      <td>2011-11-22</td>\n",
       "      <td>DJVxOfj2Rw9zklC9tU3i1w</td>\n",
       "      <td>1</td>\n",
       "      <td>I have always been a fan of Burlington's deals...</td>\n",
       "      <td>review</td>\n",
       "      <td>EPROVap0M19Y6_4uf3eCmQ</td>\n",
       "      <td>0</td>\n",
       "      <td>0</td>\n",
       "      <td>0</td>\n",
       "      <td>569</td>\n",
       "    </tr>\n",
       "    <tr>\n",
       "      <th>64</th>\n",
       "      <td>CEswyP-9SsXRNLR9fFGKKw</td>\n",
       "      <td>2012-05-19</td>\n",
       "      <td>GXj4PNAi095-q9ynPYH3kg</td>\n",
       "      <td>1</td>\n",
       "      <td>Another night meeting friends here.  I have to...</td>\n",
       "      <td>review</td>\n",
       "      <td>MjLAe48XNfYlTeFYca5gMw</td>\n",
       "      <td>0</td>\n",
       "      <td>1</td>\n",
       "      <td>2</td>\n",
       "      <td>498</td>\n",
       "    </tr>\n",
       "    <tr>\n",
       "      <th>...</th>\n",
       "      <td>...</td>\n",
       "      <td>...</td>\n",
       "      <td>...</td>\n",
       "      <td>...</td>\n",
       "      <td>...</td>\n",
       "      <td>...</td>\n",
       "      <td>...</td>\n",
       "      <td>...</td>\n",
       "      <td>...</td>\n",
       "      <td>...</td>\n",
       "      <td>...</td>\n",
       "    </tr>\n",
       "    <tr>\n",
       "      <th>9924</th>\n",
       "      <td>mhQCxOiqp03qnhGRTtPduw</td>\n",
       "      <td>2012-07-07</td>\n",
       "      <td>PCjnn__E8AzNa2kXFXxTHQ</td>\n",
       "      <td>1</td>\n",
       "      <td>Horrible service.</td>\n",
       "      <td>review</td>\n",
       "      <td>rvaJcf5OIY2So_pkoqDHLQ</td>\n",
       "      <td>0</td>\n",
       "      <td>1</td>\n",
       "      <td>0</td>\n",
       "      <td>17</td>\n",
       "    </tr>\n",
       "    <tr>\n",
       "      <th>9931</th>\n",
       "      <td>C_eWAEOvkHZ_IZYGwjtpmg</td>\n",
       "      <td>2011-04-25</td>\n",
       "      <td>QfdoE-XqEeCsttJH8g0ugQ</td>\n",
       "      <td>1</td>\n",
       "      <td>I love Saddle Ranch for its casual night time ...</td>\n",
       "      <td>review</td>\n",
       "      <td>yhGfcKunPjcy-v-1ppr6oQ</td>\n",
       "      <td>0</td>\n",
       "      <td>2</td>\n",
       "      <td>0</td>\n",
       "      <td>995</td>\n",
       "    </tr>\n",
       "    <tr>\n",
       "      <th>9953</th>\n",
       "      <td>QCxXYA13PtkD3wec47_r8Q</td>\n",
       "      <td>2012-03-14</td>\n",
       "      <td>V2N2TCqnaqMYfg7zXGG-Rg</td>\n",
       "      <td>1</td>\n",
       "      <td>\"Hipster,Trendy\" ????-I think NOT !!!! Very di...</td>\n",
       "      <td>review</td>\n",
       "      <td>JEQ6el2-tLtKJU6k_SpE-w</td>\n",
       "      <td>0</td>\n",
       "      <td>2</td>\n",
       "      <td>0</td>\n",
       "      <td>296</td>\n",
       "    </tr>\n",
       "    <tr>\n",
       "      <th>9984</th>\n",
       "      <td>wepFVY82q_tuDzG6lQjHWw</td>\n",
       "      <td>2012-02-12</td>\n",
       "      <td>spusZYROtBKw_5tv3gYm4Q</td>\n",
       "      <td>1</td>\n",
       "      <td>Went last night to Whore Foods to get basics t...</td>\n",
       "      <td>review</td>\n",
       "      <td>W7zmm1uzlyUkEqpSG7PlBw</td>\n",
       "      <td>0</td>\n",
       "      <td>1</td>\n",
       "      <td>2</td>\n",
       "      <td>1673</td>\n",
       "    </tr>\n",
       "    <tr>\n",
       "      <th>9987</th>\n",
       "      <td>r-a-Cn9hxdEnYTtVTB5bMQ</td>\n",
       "      <td>2012-04-07</td>\n",
       "      <td>j9HwZZoBBmJgOlqDSuJcxg</td>\n",
       "      <td>1</td>\n",
       "      <td>The food is delicious.  The service:  discrimi...</td>\n",
       "      <td>review</td>\n",
       "      <td>toPtsUtYoRB-5-ThrOy2Fg</td>\n",
       "      <td>0</td>\n",
       "      <td>0</td>\n",
       "      <td>0</td>\n",
       "      <td>200</td>\n",
       "    </tr>\n",
       "  </tbody>\n",
       "</table>\n",
       "<p>749 rows × 11 columns</p>\n",
       "</div>"
      ],
      "text/plain": [
       "                 business_id        date               review_id  stars  \\\n",
       "23    IJ0o6b8bJFAbG6MjGfBebQ  2010-09-05  Dx9sfFU6Zn0GYOckijom-g      1   \n",
       "31    vvA3fbps4F9nGlAEYKk_sA  2012-05-04  S9OVpXat8k5YwWCn6FAgXg      1   \n",
       "35    o1GIYYZJjM6nM03fQs_uEQ  2011-11-30  ApKbwpYJdnhhgP4NbjQw2Q      1   \n",
       "61    l4vBbCL9QbGiwLuLKwD_bA  2011-11-22  DJVxOfj2Rw9zklC9tU3i1w      1   \n",
       "64    CEswyP-9SsXRNLR9fFGKKw  2012-05-19  GXj4PNAi095-q9ynPYH3kg      1   \n",
       "...                      ...         ...                     ...    ...   \n",
       "9924  mhQCxOiqp03qnhGRTtPduw  2012-07-07  PCjnn__E8AzNa2kXFXxTHQ      1   \n",
       "9931  C_eWAEOvkHZ_IZYGwjtpmg  2011-04-25  QfdoE-XqEeCsttJH8g0ugQ      1   \n",
       "9953  QCxXYA13PtkD3wec47_r8Q  2012-03-14  V2N2TCqnaqMYfg7zXGG-Rg      1   \n",
       "9984  wepFVY82q_tuDzG6lQjHWw  2012-02-12  spusZYROtBKw_5tv3gYm4Q      1   \n",
       "9987  r-a-Cn9hxdEnYTtVTB5bMQ  2012-04-07  j9HwZZoBBmJgOlqDSuJcxg      1   \n",
       "\n",
       "                                                   text    type  \\\n",
       "23    U can go there n check the car out. If u wanna...  review   \n",
       "31    Disgusting!  Had a Groupon so my daughter and ...  review   \n",
       "35    I've eaten here many times, but none as bad as...  review   \n",
       "61    I have always been a fan of Burlington's deals...  review   \n",
       "64    Another night meeting friends here.  I have to...  review   \n",
       "...                                                 ...     ...   \n",
       "9924                                  Horrible service.  review   \n",
       "9931  I love Saddle Ranch for its casual night time ...  review   \n",
       "9953  \"Hipster,Trendy\" ????-I think NOT !!!! Very di...  review   \n",
       "9984  Went last night to Whore Foods to get basics t...  review   \n",
       "9987  The food is delicious.  The service:  discrimi...  review   \n",
       "\n",
       "                     user_id  cool  useful  funny  length  \n",
       "23    zRlQEDYd_HKp0VS3hnAffA     0       1      1     594  \n",
       "31    8AMn6644NmBf96xGO3w6OA     0       1      0     361  \n",
       "35    iwUN95LIaEr75TZE_JC6bg     0       4      3    1198  \n",
       "61    EPROVap0M19Y6_4uf3eCmQ     0       0      0     569  \n",
       "64    MjLAe48XNfYlTeFYca5gMw     0       1      2     498  \n",
       "...                      ...   ...     ...    ...     ...  \n",
       "9924  rvaJcf5OIY2So_pkoqDHLQ     0       1      0      17  \n",
       "9931  yhGfcKunPjcy-v-1ppr6oQ     0       2      0     995  \n",
       "9953  JEQ6el2-tLtKJU6k_SpE-w     0       2      0     296  \n",
       "9984  W7zmm1uzlyUkEqpSG7PlBw     0       1      2    1673  \n",
       "9987  toPtsUtYoRB-5-ThrOy2Fg     0       0      0     200  \n",
       "\n",
       "[749 rows x 11 columns]"
      ]
     },
     "execution_count": 46,
     "metadata": {},
     "output_type": "execute_result"
    }
   ],
   "source": [
    "yelp_df_1"
   ]
  },
  {
   "cell_type": "code",
   "execution_count": 47,
   "id": "5c835d14",
   "metadata": {},
   "outputs": [],
   "source": [
    "yelp_df_5=yelp_df[yelp_df['stars']==5]"
   ]
  },
  {
   "cell_type": "code",
   "execution_count": 48,
   "id": "6b646be3",
   "metadata": {
    "scrolled": true
   },
   "outputs": [
    {
     "data": {
      "text/html": [
       "<div>\n",
       "<style scoped>\n",
       "    .dataframe tbody tr th:only-of-type {\n",
       "        vertical-align: middle;\n",
       "    }\n",
       "\n",
       "    .dataframe tbody tr th {\n",
       "        vertical-align: top;\n",
       "    }\n",
       "\n",
       "    .dataframe thead th {\n",
       "        text-align: right;\n",
       "    }\n",
       "</style>\n",
       "<table border=\"1\" class=\"dataframe\">\n",
       "  <thead>\n",
       "    <tr style=\"text-align: right;\">\n",
       "      <th></th>\n",
       "      <th>business_id</th>\n",
       "      <th>date</th>\n",
       "      <th>review_id</th>\n",
       "      <th>stars</th>\n",
       "      <th>text</th>\n",
       "      <th>type</th>\n",
       "      <th>user_id</th>\n",
       "      <th>cool</th>\n",
       "      <th>useful</th>\n",
       "      <th>funny</th>\n",
       "      <th>length</th>\n",
       "    </tr>\n",
       "  </thead>\n",
       "  <tbody>\n",
       "    <tr>\n",
       "      <th>0</th>\n",
       "      <td>9yKzy9PApeiPPOUJEtnvkg</td>\n",
       "      <td>2011-01-26</td>\n",
       "      <td>fWKvX83p0-ka4JS3dc6E5A</td>\n",
       "      <td>5</td>\n",
       "      <td>My wife took me here on my birthday for breakf...</td>\n",
       "      <td>review</td>\n",
       "      <td>rLtl8ZkDX5vH5nAx9C3q5Q</td>\n",
       "      <td>2</td>\n",
       "      <td>5</td>\n",
       "      <td>0</td>\n",
       "      <td>889</td>\n",
       "    </tr>\n",
       "    <tr>\n",
       "      <th>1</th>\n",
       "      <td>ZRJwVLyzEJq1VAihDhYiow</td>\n",
       "      <td>2011-07-27</td>\n",
       "      <td>IjZ33sJrzXqU-0X6U8NwyA</td>\n",
       "      <td>5</td>\n",
       "      <td>I have no idea why some people give bad review...</td>\n",
       "      <td>review</td>\n",
       "      <td>0a2KyEL0d3Yb1V6aivbIuQ</td>\n",
       "      <td>0</td>\n",
       "      <td>0</td>\n",
       "      <td>0</td>\n",
       "      <td>1345</td>\n",
       "    </tr>\n",
       "    <tr>\n",
       "      <th>3</th>\n",
       "      <td>_1QQZuf4zZOyFCvXc0o6Vg</td>\n",
       "      <td>2010-05-27</td>\n",
       "      <td>G-WvGaISbqqaMHlNnByodA</td>\n",
       "      <td>5</td>\n",
       "      <td>Rosie, Dakota, and I LOVE Chaparral Dog Park!!...</td>\n",
       "      <td>review</td>\n",
       "      <td>uZetl9T0NcROGOyFfughhg</td>\n",
       "      <td>1</td>\n",
       "      <td>2</td>\n",
       "      <td>0</td>\n",
       "      <td>419</td>\n",
       "    </tr>\n",
       "    <tr>\n",
       "      <th>4</th>\n",
       "      <td>6ozycU1RpktNG2-1BroVtw</td>\n",
       "      <td>2012-01-05</td>\n",
       "      <td>1uJFq2r5QfJG_6ExMRCaGw</td>\n",
       "      <td>5</td>\n",
       "      <td>General Manager Scott Petello is a good egg!!!...</td>\n",
       "      <td>review</td>\n",
       "      <td>vYmM4KTsC8ZfQBg-j5MWkw</td>\n",
       "      <td>0</td>\n",
       "      <td>0</td>\n",
       "      <td>0</td>\n",
       "      <td>469</td>\n",
       "    </tr>\n",
       "    <tr>\n",
       "      <th>6</th>\n",
       "      <td>zp713qNhx8d9KCJJnrw1xA</td>\n",
       "      <td>2010-02-12</td>\n",
       "      <td>riFQ3vxNpP4rWLk_CSri2A</td>\n",
       "      <td>5</td>\n",
       "      <td>Drop what you're doing and drive here. After I...</td>\n",
       "      <td>review</td>\n",
       "      <td>wFweIWhv2fREZV_dYkz_1g</td>\n",
       "      <td>7</td>\n",
       "      <td>7</td>\n",
       "      <td>4</td>\n",
       "      <td>1565</td>\n",
       "    </tr>\n",
       "    <tr>\n",
       "      <th>...</th>\n",
       "      <td>...</td>\n",
       "      <td>...</td>\n",
       "      <td>...</td>\n",
       "      <td>...</td>\n",
       "      <td>...</td>\n",
       "      <td>...</td>\n",
       "      <td>...</td>\n",
       "      <td>...</td>\n",
       "      <td>...</td>\n",
       "      <td>...</td>\n",
       "      <td>...</td>\n",
       "    </tr>\n",
       "    <tr>\n",
       "      <th>9990</th>\n",
       "      <td>R8VwdLyvsp9iybNqRvm94g</td>\n",
       "      <td>2011-10-03</td>\n",
       "      <td>pcEeHdAJPoFNF23es0kKWg</td>\n",
       "      <td>5</td>\n",
       "      <td>Yes I do rock the hipster joints.  I dig this ...</td>\n",
       "      <td>review</td>\n",
       "      <td>b92Y3tyWTQQZ5FLifex62Q</td>\n",
       "      <td>1</td>\n",
       "      <td>1</td>\n",
       "      <td>1</td>\n",
       "      <td>263</td>\n",
       "    </tr>\n",
       "    <tr>\n",
       "      <th>9991</th>\n",
       "      <td>WJ5mq4EiWYAA4Vif0xDfdg</td>\n",
       "      <td>2011-12-05</td>\n",
       "      <td>EuHX-39FR7tyyG1ElvN1Jw</td>\n",
       "      <td>5</td>\n",
       "      <td>Only 4 stars? \\n\\n(A few notes: The folks that...</td>\n",
       "      <td>review</td>\n",
       "      <td>hTau-iNZFwoNsPCaiIUTEA</td>\n",
       "      <td>1</td>\n",
       "      <td>1</td>\n",
       "      <td>0</td>\n",
       "      <td>908</td>\n",
       "    </tr>\n",
       "    <tr>\n",
       "      <th>9992</th>\n",
       "      <td>f96lWMIAUhYIYy9gOktivQ</td>\n",
       "      <td>2009-03-10</td>\n",
       "      <td>YF17z7HWlMj6aezZc-pVEw</td>\n",
       "      <td>5</td>\n",
       "      <td>I'm not normally one to jump at reviewing a ch...</td>\n",
       "      <td>review</td>\n",
       "      <td>W_QXYA7A0IhMrvbckz7eVg</td>\n",
       "      <td>2</td>\n",
       "      <td>3</td>\n",
       "      <td>2</td>\n",
       "      <td>1326</td>\n",
       "    </tr>\n",
       "    <tr>\n",
       "      <th>9994</th>\n",
       "      <td>L3BSpFvxcNf3T_teitgt6A</td>\n",
       "      <td>2012-03-19</td>\n",
       "      <td>0nxb1gIGFgk3WbC5zwhKZg</td>\n",
       "      <td>5</td>\n",
       "      <td>Let's see...what is there NOT to like about Su...</td>\n",
       "      <td>review</td>\n",
       "      <td>OzOZv-Knlw3oz9K5Kh5S6A</td>\n",
       "      <td>1</td>\n",
       "      <td>2</td>\n",
       "      <td>1</td>\n",
       "      <td>1968</td>\n",
       "    </tr>\n",
       "    <tr>\n",
       "      <th>9999</th>\n",
       "      <td>pF7uRzygyZsltbmVpjIyvw</td>\n",
       "      <td>2010-10-16</td>\n",
       "      <td>vWSmOhg2ID1MNZHaWapGbA</td>\n",
       "      <td>5</td>\n",
       "      <td>4-5 locations.. all 4.5 star average.. I think...</td>\n",
       "      <td>review</td>\n",
       "      <td>KSBFytcdjPKZgXKQnYQdkA</td>\n",
       "      <td>0</td>\n",
       "      <td>0</td>\n",
       "      <td>0</td>\n",
       "      <td>461</td>\n",
       "    </tr>\n",
       "  </tbody>\n",
       "</table>\n",
       "<p>3337 rows × 11 columns</p>\n",
       "</div>"
      ],
      "text/plain": [
       "                 business_id        date               review_id  stars  \\\n",
       "0     9yKzy9PApeiPPOUJEtnvkg  2011-01-26  fWKvX83p0-ka4JS3dc6E5A      5   \n",
       "1     ZRJwVLyzEJq1VAihDhYiow  2011-07-27  IjZ33sJrzXqU-0X6U8NwyA      5   \n",
       "3     _1QQZuf4zZOyFCvXc0o6Vg  2010-05-27  G-WvGaISbqqaMHlNnByodA      5   \n",
       "4     6ozycU1RpktNG2-1BroVtw  2012-01-05  1uJFq2r5QfJG_6ExMRCaGw      5   \n",
       "6     zp713qNhx8d9KCJJnrw1xA  2010-02-12  riFQ3vxNpP4rWLk_CSri2A      5   \n",
       "...                      ...         ...                     ...    ...   \n",
       "9990  R8VwdLyvsp9iybNqRvm94g  2011-10-03  pcEeHdAJPoFNF23es0kKWg      5   \n",
       "9991  WJ5mq4EiWYAA4Vif0xDfdg  2011-12-05  EuHX-39FR7tyyG1ElvN1Jw      5   \n",
       "9992  f96lWMIAUhYIYy9gOktivQ  2009-03-10  YF17z7HWlMj6aezZc-pVEw      5   \n",
       "9994  L3BSpFvxcNf3T_teitgt6A  2012-03-19  0nxb1gIGFgk3WbC5zwhKZg      5   \n",
       "9999  pF7uRzygyZsltbmVpjIyvw  2010-10-16  vWSmOhg2ID1MNZHaWapGbA      5   \n",
       "\n",
       "                                                   text    type  \\\n",
       "0     My wife took me here on my birthday for breakf...  review   \n",
       "1     I have no idea why some people give bad review...  review   \n",
       "3     Rosie, Dakota, and I LOVE Chaparral Dog Park!!...  review   \n",
       "4     General Manager Scott Petello is a good egg!!!...  review   \n",
       "6     Drop what you're doing and drive here. After I...  review   \n",
       "...                                                 ...     ...   \n",
       "9990  Yes I do rock the hipster joints.  I dig this ...  review   \n",
       "9991  Only 4 stars? \\n\\n(A few notes: The folks that...  review   \n",
       "9992  I'm not normally one to jump at reviewing a ch...  review   \n",
       "9994  Let's see...what is there NOT to like about Su...  review   \n",
       "9999  4-5 locations.. all 4.5 star average.. I think...  review   \n",
       "\n",
       "                     user_id  cool  useful  funny  length  \n",
       "0     rLtl8ZkDX5vH5nAx9C3q5Q     2       5      0     889  \n",
       "1     0a2KyEL0d3Yb1V6aivbIuQ     0       0      0    1345  \n",
       "3     uZetl9T0NcROGOyFfughhg     1       2      0     419  \n",
       "4     vYmM4KTsC8ZfQBg-j5MWkw     0       0      0     469  \n",
       "6     wFweIWhv2fREZV_dYkz_1g     7       7      4    1565  \n",
       "...                      ...   ...     ...    ...     ...  \n",
       "9990  b92Y3tyWTQQZ5FLifex62Q     1       1      1     263  \n",
       "9991  hTau-iNZFwoNsPCaiIUTEA     1       1      0     908  \n",
       "9992  W_QXYA7A0IhMrvbckz7eVg     2       3      2    1326  \n",
       "9994  OzOZv-Knlw3oz9K5Kh5S6A     1       2      1    1968  \n",
       "9999  KSBFytcdjPKZgXKQnYQdkA     0       0      0     461  \n",
       "\n",
       "[3337 rows x 11 columns]"
      ]
     },
     "execution_count": 48,
     "metadata": {},
     "output_type": "execute_result"
    }
   ],
   "source": [
    "yelp_df_5"
   ]
  },
  {
   "cell_type": "code",
   "execution_count": 49,
   "id": "b89ec262",
   "metadata": {},
   "outputs": [],
   "source": [
    "yelp_df_1_5=pd.concat([yelp_df_5,yelp_df_1])"
   ]
  },
  {
   "cell_type": "code",
   "execution_count": 50,
   "id": "a5a6107c",
   "metadata": {},
   "outputs": [
    {
     "data": {
      "text/html": [
       "<div>\n",
       "<style scoped>\n",
       "    .dataframe tbody tr th:only-of-type {\n",
       "        vertical-align: middle;\n",
       "    }\n",
       "\n",
       "    .dataframe tbody tr th {\n",
       "        vertical-align: top;\n",
       "    }\n",
       "\n",
       "    .dataframe thead th {\n",
       "        text-align: right;\n",
       "    }\n",
       "</style>\n",
       "<table border=\"1\" class=\"dataframe\">\n",
       "  <thead>\n",
       "    <tr style=\"text-align: right;\">\n",
       "      <th></th>\n",
       "      <th>business_id</th>\n",
       "      <th>date</th>\n",
       "      <th>review_id</th>\n",
       "      <th>stars</th>\n",
       "      <th>text</th>\n",
       "      <th>type</th>\n",
       "      <th>user_id</th>\n",
       "      <th>cool</th>\n",
       "      <th>useful</th>\n",
       "      <th>funny</th>\n",
       "      <th>length</th>\n",
       "    </tr>\n",
       "  </thead>\n",
       "  <tbody>\n",
       "    <tr>\n",
       "      <th>0</th>\n",
       "      <td>9yKzy9PApeiPPOUJEtnvkg</td>\n",
       "      <td>2011-01-26</td>\n",
       "      <td>fWKvX83p0-ka4JS3dc6E5A</td>\n",
       "      <td>5</td>\n",
       "      <td>My wife took me here on my birthday for breakf...</td>\n",
       "      <td>review</td>\n",
       "      <td>rLtl8ZkDX5vH5nAx9C3q5Q</td>\n",
       "      <td>2</td>\n",
       "      <td>5</td>\n",
       "      <td>0</td>\n",
       "      <td>889</td>\n",
       "    </tr>\n",
       "    <tr>\n",
       "      <th>1</th>\n",
       "      <td>ZRJwVLyzEJq1VAihDhYiow</td>\n",
       "      <td>2011-07-27</td>\n",
       "      <td>IjZ33sJrzXqU-0X6U8NwyA</td>\n",
       "      <td>5</td>\n",
       "      <td>I have no idea why some people give bad review...</td>\n",
       "      <td>review</td>\n",
       "      <td>0a2KyEL0d3Yb1V6aivbIuQ</td>\n",
       "      <td>0</td>\n",
       "      <td>0</td>\n",
       "      <td>0</td>\n",
       "      <td>1345</td>\n",
       "    </tr>\n",
       "    <tr>\n",
       "      <th>3</th>\n",
       "      <td>_1QQZuf4zZOyFCvXc0o6Vg</td>\n",
       "      <td>2010-05-27</td>\n",
       "      <td>G-WvGaISbqqaMHlNnByodA</td>\n",
       "      <td>5</td>\n",
       "      <td>Rosie, Dakota, and I LOVE Chaparral Dog Park!!...</td>\n",
       "      <td>review</td>\n",
       "      <td>uZetl9T0NcROGOyFfughhg</td>\n",
       "      <td>1</td>\n",
       "      <td>2</td>\n",
       "      <td>0</td>\n",
       "      <td>419</td>\n",
       "    </tr>\n",
       "    <tr>\n",
       "      <th>4</th>\n",
       "      <td>6ozycU1RpktNG2-1BroVtw</td>\n",
       "      <td>2012-01-05</td>\n",
       "      <td>1uJFq2r5QfJG_6ExMRCaGw</td>\n",
       "      <td>5</td>\n",
       "      <td>General Manager Scott Petello is a good egg!!!...</td>\n",
       "      <td>review</td>\n",
       "      <td>vYmM4KTsC8ZfQBg-j5MWkw</td>\n",
       "      <td>0</td>\n",
       "      <td>0</td>\n",
       "      <td>0</td>\n",
       "      <td>469</td>\n",
       "    </tr>\n",
       "    <tr>\n",
       "      <th>6</th>\n",
       "      <td>zp713qNhx8d9KCJJnrw1xA</td>\n",
       "      <td>2010-02-12</td>\n",
       "      <td>riFQ3vxNpP4rWLk_CSri2A</td>\n",
       "      <td>5</td>\n",
       "      <td>Drop what you're doing and drive here. After I...</td>\n",
       "      <td>review</td>\n",
       "      <td>wFweIWhv2fREZV_dYkz_1g</td>\n",
       "      <td>7</td>\n",
       "      <td>7</td>\n",
       "      <td>4</td>\n",
       "      <td>1565</td>\n",
       "    </tr>\n",
       "    <tr>\n",
       "      <th>...</th>\n",
       "      <td>...</td>\n",
       "      <td>...</td>\n",
       "      <td>...</td>\n",
       "      <td>...</td>\n",
       "      <td>...</td>\n",
       "      <td>...</td>\n",
       "      <td>...</td>\n",
       "      <td>...</td>\n",
       "      <td>...</td>\n",
       "      <td>...</td>\n",
       "      <td>...</td>\n",
       "    </tr>\n",
       "    <tr>\n",
       "      <th>9924</th>\n",
       "      <td>mhQCxOiqp03qnhGRTtPduw</td>\n",
       "      <td>2012-07-07</td>\n",
       "      <td>PCjnn__E8AzNa2kXFXxTHQ</td>\n",
       "      <td>1</td>\n",
       "      <td>Horrible service.</td>\n",
       "      <td>review</td>\n",
       "      <td>rvaJcf5OIY2So_pkoqDHLQ</td>\n",
       "      <td>0</td>\n",
       "      <td>1</td>\n",
       "      <td>0</td>\n",
       "      <td>17</td>\n",
       "    </tr>\n",
       "    <tr>\n",
       "      <th>9931</th>\n",
       "      <td>C_eWAEOvkHZ_IZYGwjtpmg</td>\n",
       "      <td>2011-04-25</td>\n",
       "      <td>QfdoE-XqEeCsttJH8g0ugQ</td>\n",
       "      <td>1</td>\n",
       "      <td>I love Saddle Ranch for its casual night time ...</td>\n",
       "      <td>review</td>\n",
       "      <td>yhGfcKunPjcy-v-1ppr6oQ</td>\n",
       "      <td>0</td>\n",
       "      <td>2</td>\n",
       "      <td>0</td>\n",
       "      <td>995</td>\n",
       "    </tr>\n",
       "    <tr>\n",
       "      <th>9953</th>\n",
       "      <td>QCxXYA13PtkD3wec47_r8Q</td>\n",
       "      <td>2012-03-14</td>\n",
       "      <td>V2N2TCqnaqMYfg7zXGG-Rg</td>\n",
       "      <td>1</td>\n",
       "      <td>\"Hipster,Trendy\" ????-I think NOT !!!! Very di...</td>\n",
       "      <td>review</td>\n",
       "      <td>JEQ6el2-tLtKJU6k_SpE-w</td>\n",
       "      <td>0</td>\n",
       "      <td>2</td>\n",
       "      <td>0</td>\n",
       "      <td>296</td>\n",
       "    </tr>\n",
       "    <tr>\n",
       "      <th>9984</th>\n",
       "      <td>wepFVY82q_tuDzG6lQjHWw</td>\n",
       "      <td>2012-02-12</td>\n",
       "      <td>spusZYROtBKw_5tv3gYm4Q</td>\n",
       "      <td>1</td>\n",
       "      <td>Went last night to Whore Foods to get basics t...</td>\n",
       "      <td>review</td>\n",
       "      <td>W7zmm1uzlyUkEqpSG7PlBw</td>\n",
       "      <td>0</td>\n",
       "      <td>1</td>\n",
       "      <td>2</td>\n",
       "      <td>1673</td>\n",
       "    </tr>\n",
       "    <tr>\n",
       "      <th>9987</th>\n",
       "      <td>r-a-Cn9hxdEnYTtVTB5bMQ</td>\n",
       "      <td>2012-04-07</td>\n",
       "      <td>j9HwZZoBBmJgOlqDSuJcxg</td>\n",
       "      <td>1</td>\n",
       "      <td>The food is delicious.  The service:  discrimi...</td>\n",
       "      <td>review</td>\n",
       "      <td>toPtsUtYoRB-5-ThrOy2Fg</td>\n",
       "      <td>0</td>\n",
       "      <td>0</td>\n",
       "      <td>0</td>\n",
       "      <td>200</td>\n",
       "    </tr>\n",
       "  </tbody>\n",
       "</table>\n",
       "<p>4086 rows × 11 columns</p>\n",
       "</div>"
      ],
      "text/plain": [
       "                 business_id        date               review_id  stars  \\\n",
       "0     9yKzy9PApeiPPOUJEtnvkg  2011-01-26  fWKvX83p0-ka4JS3dc6E5A      5   \n",
       "1     ZRJwVLyzEJq1VAihDhYiow  2011-07-27  IjZ33sJrzXqU-0X6U8NwyA      5   \n",
       "3     _1QQZuf4zZOyFCvXc0o6Vg  2010-05-27  G-WvGaISbqqaMHlNnByodA      5   \n",
       "4     6ozycU1RpktNG2-1BroVtw  2012-01-05  1uJFq2r5QfJG_6ExMRCaGw      5   \n",
       "6     zp713qNhx8d9KCJJnrw1xA  2010-02-12  riFQ3vxNpP4rWLk_CSri2A      5   \n",
       "...                      ...         ...                     ...    ...   \n",
       "9924  mhQCxOiqp03qnhGRTtPduw  2012-07-07  PCjnn__E8AzNa2kXFXxTHQ      1   \n",
       "9931  C_eWAEOvkHZ_IZYGwjtpmg  2011-04-25  QfdoE-XqEeCsttJH8g0ugQ      1   \n",
       "9953  QCxXYA13PtkD3wec47_r8Q  2012-03-14  V2N2TCqnaqMYfg7zXGG-Rg      1   \n",
       "9984  wepFVY82q_tuDzG6lQjHWw  2012-02-12  spusZYROtBKw_5tv3gYm4Q      1   \n",
       "9987  r-a-Cn9hxdEnYTtVTB5bMQ  2012-04-07  j9HwZZoBBmJgOlqDSuJcxg      1   \n",
       "\n",
       "                                                   text    type  \\\n",
       "0     My wife took me here on my birthday for breakf...  review   \n",
       "1     I have no idea why some people give bad review...  review   \n",
       "3     Rosie, Dakota, and I LOVE Chaparral Dog Park!!...  review   \n",
       "4     General Manager Scott Petello is a good egg!!!...  review   \n",
       "6     Drop what you're doing and drive here. After I...  review   \n",
       "...                                                 ...     ...   \n",
       "9924                                  Horrible service.  review   \n",
       "9931  I love Saddle Ranch for its casual night time ...  review   \n",
       "9953  \"Hipster,Trendy\" ????-I think NOT !!!! Very di...  review   \n",
       "9984  Went last night to Whore Foods to get basics t...  review   \n",
       "9987  The food is delicious.  The service:  discrimi...  review   \n",
       "\n",
       "                     user_id  cool  useful  funny  length  \n",
       "0     rLtl8ZkDX5vH5nAx9C3q5Q     2       5      0     889  \n",
       "1     0a2KyEL0d3Yb1V6aivbIuQ     0       0      0    1345  \n",
       "3     uZetl9T0NcROGOyFfughhg     1       2      0     419  \n",
       "4     vYmM4KTsC8ZfQBg-j5MWkw     0       0      0     469  \n",
       "6     wFweIWhv2fREZV_dYkz_1g     7       7      4    1565  \n",
       "...                      ...   ...     ...    ...     ...  \n",
       "9924  rvaJcf5OIY2So_pkoqDHLQ     0       1      0      17  \n",
       "9931  yhGfcKunPjcy-v-1ppr6oQ     0       2      0     995  \n",
       "9953  JEQ6el2-tLtKJU6k_SpE-w     0       2      0     296  \n",
       "9984  W7zmm1uzlyUkEqpSG7PlBw     0       1      2    1673  \n",
       "9987  toPtsUtYoRB-5-ThrOy2Fg     0       0      0     200  \n",
       "\n",
       "[4086 rows x 11 columns]"
      ]
     },
     "execution_count": 50,
     "metadata": {},
     "output_type": "execute_result"
    }
   ],
   "source": [
    "yelp_df_1_5"
   ]
  },
  {
   "cell_type": "code",
   "execution_count": 51,
   "id": "f1b5cd51",
   "metadata": {},
   "outputs": [
    {
     "name": "stdout",
     "output_type": "stream",
     "text": [
      "<class 'pandas.core.frame.DataFrame'>\n",
      "Int64Index: 4086 entries, 0 to 9987\n",
      "Data columns (total 11 columns):\n",
      " #   Column       Non-Null Count  Dtype \n",
      "---  ------       --------------  ----- \n",
      " 0   business_id  4086 non-null   object\n",
      " 1   date         4086 non-null   object\n",
      " 2   review_id    4086 non-null   object\n",
      " 3   stars        4086 non-null   int64 \n",
      " 4   text         4086 non-null   object\n",
      " 5   type         4086 non-null   object\n",
      " 6   user_id      4086 non-null   object\n",
      " 7   cool         4086 non-null   int64 \n",
      " 8   useful       4086 non-null   int64 \n",
      " 9   funny        4086 non-null   int64 \n",
      " 10  length       4086 non-null   int64 \n",
      "dtypes: int64(5), object(6)\n",
      "memory usage: 383.1+ KB\n"
     ]
    }
   ],
   "source": [
    "yelp_df_1_5.info()"
   ]
  },
  {
   "cell_type": "code",
   "execution_count": 52,
   "id": "22c44e28",
   "metadata": {},
   "outputs": [
    {
     "name": "stdout",
     "output_type": "stream",
     "text": [
      "1-star review percentage=  18.330885952031327 %\n"
     ]
    }
   ],
   "source": [
    "print('1-star review percentage= ',(len(yelp_df_1)/len(yelp_df_1_5) )*100,'%' )"
   ]
  },
  {
   "cell_type": "code",
   "execution_count": 53,
   "id": "fe493ec0",
   "metadata": {},
   "outputs": [
    {
     "name": "stdout",
     "output_type": "stream",
     "text": [
      "5-star review percentage=  81.66911404796868 %\n"
     ]
    }
   ],
   "source": [
    "print('5-star review percentage= ',(len(yelp_df_5)/len(yelp_df_1_5) )*100,'%' )"
   ]
  },
  {
   "cell_type": "code",
   "execution_count": 54,
   "id": "b2958a2c",
   "metadata": {},
   "outputs": [
    {
     "name": "stderr",
     "output_type": "stream",
     "text": [
      "C:\\Users\\Ramachandra\\anaconda3\\lib\\site-packages\\seaborn\\_decorators.py:36: FutureWarning: Pass the following variable as a keyword arg: x. From version 0.12, the only valid positional argument will be `data`, and passing other arguments without an explicit keyword will result in an error or misinterpretation.\n",
      "  warnings.warn(\n"
     ]
    },
    {
     "data": {
      "text/plain": [
       "<AxesSubplot:xlabel='stars', ylabel='count'>"
      ]
     },
     "execution_count": 54,
     "metadata": {},
     "output_type": "execute_result"
    },
    {
     "data": {
      "image/png": "[encoded data removed]",
      "text/plain": [
       "<Figure size 640x480 with 1 Axes>"
      ]
     },
     "metadata": {},
     "output_type": "display_data"
    }
   ],
   "source": [
    "sns.countplot(yelp_df_1_5['stars'],label='Count')"
   ]
  },
  {
   "cell_type": "markdown",
   "id": "e3069f47",
   "metadata": {},
   "source": [
    "# Data Cleaning"
   ]
  },
  {
   "cell_type": "code",
   "execution_count": 55,
   "id": "075b1064",
   "metadata": {},
   "outputs": [],
   "source": [
    "# remove punctuation"
   ]
  },
  {
   "cell_type": "code",
   "execution_count": 56,
   "id": "d49df064",
   "metadata": {},
   "outputs": [
    {
     "data": {
      "text/plain": [
       "'!\"#$%&\\'()*+,-./:;<=>?@[\\\\]^_`{|}~'"
      ]
     },
     "execution_count": 56,
     "metadata": {},
     "output_type": "execute_result"
    }
   ],
   "source": [
    "import string\n",
    "string.punctuation"
   ]
  },
  {
   "cell_type": "code",
   "execution_count": 68,
   "id": "987d01a0",
   "metadata": {},
   "outputs": [],
   "source": [
    "test='Hello Mr. Past, I am so glad im learning AI now!!'"
   ]
  },
  {
   "cell_type": "code",
   "execution_count": 69,
   "id": "d6466745",
   "metadata": {},
   "outputs": [],
   "source": [
    "test_punc_removed=[ char  for char in test if char not in string.punctuation]"
   ]
  },
  {
   "cell_type": "code",
   "execution_count": 70,
   "id": "c4e0f61f",
   "metadata": {},
   "outputs": [
    {
     "data": {
      "text/plain": [
       "['H',\n",
       " 'e',\n",
       " 'l',\n",
       " 'l',\n",
       " 'o',\n",
       " ' ',\n",
       " 'M',\n",
       " 'r',\n",
       " ' ',\n",
       " 'P',\n",
       " 'a',\n",
       " 's',\n",
       " 't',\n",
       " ' ',\n",
       " 'I',\n",
       " ' ',\n",
       " 'a',\n",
       " 'm',\n",
       " ' ',\n",
       " 's',\n",
       " 'o',\n",
       " ' ',\n",
       " 'g',\n",
       " 'l',\n",
       " 'a',\n",
       " 'd',\n",
       " ' ',\n",
       " 'i',\n",
       " 'm',\n",
       " ' ',\n",
       " 'l',\n",
       " 'e',\n",
       " 'a',\n",
       " 'r',\n",
       " 'n',\n",
       " 'i',\n",
       " 'n',\n",
       " 'g',\n",
       " ' ',\n",
       " 'A',\n",
       " 'I',\n",
       " ' ',\n",
       " 'n',\n",
       " 'o',\n",
       " 'w']"
      ]
     },
     "execution_count": 70,
     "metadata": {},
     "output_type": "execute_result"
    }
   ],
   "source": [
    "test_punc_removed"
   ]
  },
  {
   "cell_type": "code",
   "execution_count": 71,
   "id": "e6a33e76",
   "metadata": {},
   "outputs": [],
   "source": [
    "test_punc_removed_join=''.join(test_punc_removed)"
   ]
  },
  {
   "cell_type": "code",
   "execution_count": 72,
   "id": "4cafa505",
   "metadata": {},
   "outputs": [
    {
     "data": {
      "text/plain": [
       "'Hello Mr Past I am so glad im learning AI now'"
      ]
     },
     "execution_count": 72,
     "metadata": {},
     "output_type": "execute_result"
    }
   ],
   "source": [
    "test_punc_removed_join"
   ]
  },
  {
   "cell_type": "code",
   "execution_count": 73,
   "id": "6bb0929e",
   "metadata": {},
   "outputs": [],
   "source": [
    "# Remove stopwords"
   ]
  },
  {
   "cell_type": "code",
   "execution_count": 78,
   "id": "a5c6de35",
   "metadata": {},
   "outputs": [
    {
     "name": "stderr",
     "output_type": "stream",
     "text": [
      "[nltk_data] Downloading package stopwords to\n",
      "[nltk_data]     C:\\Users\\Ramachandra\\AppData\\Roaming\\nltk_data...\n",
      "[nltk_data]   Unzipping corpora\\stopwords.zip.\n"
     ]
    },
    {
     "data": {
      "text/plain": [
       "['i',\n",
       " 'me',\n",
       " 'my',\n",
       " 'myself',\n",
       " 'we',\n",
       " 'our',\n",
       " 'ours',\n",
       " 'ourselves',\n",
       " 'you',\n",
       " \"you're\",\n",
       " \"you've\",\n",
       " \"you'll\",\n",
       " \"you'd\",\n",
       " 'your',\n",
       " 'yours',\n",
       " 'yourself',\n",
       " 'yourselves',\n",
       " 'he',\n",
       " 'him',\n",
       " 'his',\n",
       " 'himself',\n",
       " 'she',\n",
       " \"she's\",\n",
       " 'her',\n",
       " 'hers',\n",
       " 'herself',\n",
       " 'it',\n",
       " \"it's\",\n",
       " 'its',\n",
       " 'itself',\n",
       " 'they',\n",
       " 'them',\n",
       " 'their',\n",
       " 'theirs',\n",
       " 'themselves',\n",
       " 'what',\n",
       " 'which',\n",
       " 'who',\n",
       " 'whom',\n",
       " 'this',\n",
       " 'that',\n",
       " \"that'll\",\n",
       " 'these',\n",
       " 'those',\n",
       " 'am',\n",
       " 'is',\n",
       " 'are',\n",
       " 'was',\n",
       " 'were',\n",
       " 'be',\n",
       " 'been',\n",
       " 'being',\n",
       " 'have',\n",
       " 'has',\n",
       " 'had',\n",
       " 'having',\n",
       " 'do',\n",
       " 'does',\n",
       " 'did',\n",
       " 'doing',\n",
       " 'a',\n",
       " 'an',\n",
       " 'the',\n",
       " 'and',\n",
       " 'but',\n",
       " 'if',\n",
       " 'or',\n",
       " 'because',\n",
       " 'as',\n",
       " 'until',\n",
       " 'while',\n",
       " 'of',\n",
       " 'at',\n",
       " 'by',\n",
       " 'for',\n",
       " 'with',\n",
       " 'about',\n",
       " 'against',\n",
       " 'between',\n",
       " 'into',\n",
       " 'through',\n",
       " 'during',\n",
       " 'before',\n",
       " 'after',\n",
       " 'above',\n",
       " 'below',\n",
       " 'to',\n",
       " 'from',\n",
       " 'up',\n",
       " 'down',\n",
       " 'in',\n",
       " 'out',\n",
       " 'on',\n",
       " 'off',\n",
       " 'over',\n",
       " 'under',\n",
       " 'again',\n",
       " 'further',\n",
       " 'then',\n",
       " 'once',\n",
       " 'here',\n",
       " 'there',\n",
       " 'when',\n",
       " 'where',\n",
       " 'why',\n",
       " 'how',\n",
       " 'all',\n",
       " 'any',\n",
       " 'both',\n",
       " 'each',\n",
       " 'few',\n",
       " 'more',\n",
       " 'most',\n",
       " 'other',\n",
       " 'some',\n",
       " 'such',\n",
       " 'no',\n",
       " 'nor',\n",
       " 'not',\n",
       " 'only',\n",
       " 'own',\n",
       " 'same',\n",
       " 'so',\n",
       " 'than',\n",
       " 'too',\n",
       " 'very',\n",
       " 's',\n",
       " 't',\n",
       " 'can',\n",
       " 'will',\n",
       " 'just',\n",
       " 'don',\n",
       " \"don't\",\n",
       " 'should',\n",
       " \"should've\",\n",
       " 'now',\n",
       " 'd',\n",
       " 'll',\n",
       " 'm',\n",
       " 'o',\n",
       " 're',\n",
       " 've',\n",
       " 'y',\n",
       " 'ain',\n",
       " 'aren',\n",
       " \"aren't\",\n",
       " 'couldn',\n",
       " \"couldn't\",\n",
       " 'didn',\n",
       " \"didn't\",\n",
       " 'doesn',\n",
       " \"doesn't\",\n",
       " 'hadn',\n",
       " \"hadn't\",\n",
       " 'hasn',\n",
       " \"hasn't\",\n",
       " 'haven',\n",
       " \"haven't\",\n",
       " 'isn',\n",
       " \"isn't\",\n",
       " 'ma',\n",
       " 'mightn',\n",
       " \"mightn't\",\n",
       " 'mustn',\n",
       " \"mustn't\",\n",
       " 'needn',\n",
       " \"needn't\",\n",
       " 'shan',\n",
       " \"shan't\",\n",
       " 'shouldn',\n",
       " \"shouldn't\",\n",
       " 'wasn',\n",
       " \"wasn't\",\n",
       " 'weren',\n",
       " \"weren't\",\n",
       " 'won',\n",
       " \"won't\",\n",
       " 'wouldn',\n",
       " \"wouldn't\"]"
      ]
     },
     "execution_count": 78,
     "metadata": {},
     "output_type": "execute_result"
    }
   ],
   "source": [
    "import nltk\n",
    "from nltk.corpus import stopwords\n",
    "nltk.download('stopwords')\n",
    "stopwords = stopwords.words('english')\n",
    "stopwords"
   ]
  },
  {
   "cell_type": "code",
   "execution_count": 79,
   "id": "5daa4920",
   "metadata": {},
   "outputs": [
    {
     "data": {
      "text/plain": [
       "'Hello Mr Past I am so glad im learning AI now'"
      ]
     },
     "execution_count": 79,
     "metadata": {},
     "output_type": "execute_result"
    }
   ],
   "source": [
    "test_punc_removed_join"
   ]
  },
  {
   "cell_type": "code",
   "execution_count": 80,
   "id": "2337b690",
   "metadata": {},
   "outputs": [
    {
     "data": {
      "text/plain": [
       "['Hello', 'Mr', 'Past', 'I', 'am', 'so', 'glad', 'im', 'learning', 'AI', 'now']"
      ]
     },
     "execution_count": 80,
     "metadata": {},
     "output_type": "execute_result"
    }
   ],
   "source": [
    "test_punc_removed_join.split()"
   ]
  },
  {
   "cell_type": "code",
   "execution_count": 82,
   "id": "cbdb15a0",
   "metadata": {},
   "outputs": [],
   "source": [
    "test_punc_removed_join_clean=[ word  for word in test_punc_removed_join.split() if word.lower() not in stopwords]"
   ]
  },
  {
   "cell_type": "code",
   "execution_count": 83,
   "id": "f72e0fed",
   "metadata": {},
   "outputs": [
    {
     "data": {
      "text/plain": [
       "['Hello', 'Mr', 'Past', 'glad', 'im', 'learning', 'AI']"
      ]
     },
     "execution_count": 83,
     "metadata": {},
     "output_type": "execute_result"
    }
   ],
   "source": [
    "test_punc_removed_join_clean"
   ]
  },
  {
   "cell_type": "code",
   "execution_count": 84,
   "id": "39781a3d",
   "metadata": {},
   "outputs": [],
   "source": [
    "# Count Vectorization"
   ]
  },
  {
   "cell_type": "code",
   "execution_count": 85,
   "id": "348f25e5",
   "metadata": {},
   "outputs": [],
   "source": [
    "# Know how to count vectorize"
   ]
  },
  {
   "cell_type": "markdown",
   "id": "7ae951e0",
   "metadata": {},
   "source": [
    "# Apply all the three above processes to the data"
   ]
  },
  {
   "cell_type": "code",
   "execution_count": 87,
   "id": "a9b9f895",
   "metadata": {},
   "outputs": [],
   "source": [
    "def message_cleaning(message):\n",
    "    test_punc_removed=[char for char in message if char not in string.punctuation]\n",
    "    test_punc_removed_join=''.join(test_punc_removed)\n",
    "    test_punc_removed_join_clean=[ word for word in test_punc_removed_join.split() if word.lower() not in stopwords]\n",
    "    return test_punc_removed_join_clean"
   ]
  },
  {
   "cell_type": "code",
   "execution_count": 88,
   "id": "fc9089d1",
   "metadata": {},
   "outputs": [],
   "source": [
    "yelp_df_clean=yelp_df_1_5['text'].apply(message_cleaning)"
   ]
  },
  {
   "cell_type": "code",
   "execution_count": 89,
   "id": "bd5081a3",
   "metadata": {},
   "outputs": [
    {
     "name": "stdout",
     "output_type": "stream",
     "text": [
      "['wife', 'took', 'birthday', 'breakfast', 'excellent', 'weather', 'perfect', 'made', 'sitting', 'outside', 'overlooking', 'grounds', 'absolute', 'pleasure', 'waitress', 'excellent', 'food', 'arrived', 'quickly', 'semibusy', 'Saturday', 'morning', 'looked', 'like', 'place', 'fills', 'pretty', 'quickly', 'earlier', 'get', 'better', 'favor', 'get', 'Bloody', 'Mary', 'phenomenal', 'simply', 'best', 'Ive', 'ever', 'Im', 'pretty', 'sure', 'use', 'ingredients', 'garden', 'blend', 'fresh', 'order', 'amazing', 'EVERYTHING', 'menu', 'looks', 'excellent', 'white', 'truffle', 'scrambled', 'eggs', 'vegetable', 'skillet', 'tasty', 'delicious', 'came', '2', 'pieces', 'griddled', 'bread', 'amazing', 'absolutely', 'made', 'meal', 'complete', 'best', 'toast', 'Ive', 'ever', 'Anyway', 'cant', 'wait', 'go', 'back']\n"
     ]
    }
   ],
   "source": [
    "print(yelp_df_clean[0]) # cleaned review"
   ]
  },
  {
   "cell_type": "code",
   "execution_count": 90,
   "id": "7beae9b4",
   "metadata": {},
   "outputs": [
    {
     "name": "stdout",
     "output_type": "stream",
     "text": [
      "My wife took me here on my birthday for breakfast and it was excellent.  The weather was perfect which made sitting outside overlooking their grounds an absolute pleasure.  Our waitress was excellent and our food arrived quickly on the semi-busy Saturday morning.  It looked like the place fills up pretty quickly so the earlier you get here the better.\n",
      "\n",
      "Do yourself a favor and get their Bloody Mary.  It was phenomenal and simply the best I've ever had.  I'm pretty sure they only use ingredients from their garden and blend them fresh when you order it.  It was amazing.\n",
      "\n",
      "While EVERYTHING on the menu looks excellent, I had the white truffle scrambled eggs vegetable skillet and it was tasty and delicious.  It came with 2 pieces of their griddled bread with was amazing and it absolutely made the meal complete.  It was the best \"toast\" I've ever had.\n",
      "\n",
      "Anyway, I can't wait to go back!\n"
     ]
    }
   ],
   "source": [
    "print(yelp_df_1_5['text'][0])# original review"
   ]
  },
  {
   "cell_type": "markdown",
   "id": "0f393568",
   "metadata": {},
   "source": [
    "# Apply count vectorization"
   ]
  },
  {
   "cell_type": "code",
   "execution_count": 91,
   "id": "e0a982a5",
   "metadata": {},
   "outputs": [],
   "source": [
    "from sklearn.feature_extraction.text import CountVectorizer\n",
    "vectorizer=CountVectorizer(analyzer=message_cleaning)# Checking if we have cleaned or else clean again\n",
    "yelp_countvectorizer=vectorizer.fit_transform(yelp_df_1_5['text'])"
   ]
  },
  {
   "cell_type": "code",
   "execution_count": 92,
   "id": "404d318b",
   "metadata": {},
   "outputs": [
    {
     "name": "stdout",
     "output_type": "stream",
     "text": [
      "['0', '00s', '01042012', '022010', '03342', '05', '050', '06', '07092008', '075', '09', '090', '095', '1', '10', '100', '1000', '10000', '1000am', '1000pm', '1000x', '1001', '100150', '1007', '100s', '100th', '101', '1011', '1012', '101412', '1015', '102', '1025', '1030', '103011', '1030pm', '10312012', '105', '105°', '1070', '108', '109', '1095', '1099', '10Shrimp', '10X', '10am', '10am4pm', '10close', '10each', '10gallon', '10ish', '10min', '10mins', '10minutes', '10person', '10pm', '10pm12am', '10th', '10thand', '10yard', '10yo', '11', '110', '1100', '1100am', '1103', '111', '1113', '1115', '1118', '111807', '111809', '111909', '111PM', '111th', '112', '112312', '1125', '1130', '1130am', '1135', '1139', '114', '1141', '1145', '115', '1150', '1152', '1154', '1155', '115th', '116', '118', '1182010', '1199', '11991079', '11AM', '11PM', '11a3p', '11am', '11ish', '11person', '11pm', '12', '120', '1200', '12000', '1205', '1207', '120year', '121007', '121107', '121207', '1213', '121407', '1216', '122111', '122112', '1230', '1230P', '123110', '1232', '123200', '1240', '1244', '125', '1250', '12712', '128i', '129', '1295', '12am', '12maybe', '12oz', '12pm', '12th', '12year', '12yr', '13', '130', '1300', '131415', '13331', '1361', '13are', '13dont', '13person', '13th', '13years', '14', '140', '1400', '1417', '1418', '147', '149', '1495', '1499', '1499lb', '14Half', '14lbs', '15', '150', '1500', '15000', '150200', '150mm', '1520', '1520min', '1525', '1530', '1564', '157', '15plate', '15th', '15yard', '16', '160', '1600', '162', '165', '1650', '169', '1699', '16th', '17', '1700', '1719', '175', '17th', '18', '180', '1800', '1800s', '185', '1850', '1895', '1895s', '1899', '18lb', '18th', '19', '1900', '1900s', '1913', '1928', '1929', '1930s', '1940s', '195', '1952', '1953', '1955', '1956', '1960s', '1961', '1968', '1969', '1970', '1978', '1980', '1980s', '1987', '199', '1990', '1990s', '1992', '1995', '1996', '1997', '1998', '1999', '199not', '19th', '1Full', '1I', '1PM', '1cent', '1k', '1perscoop', '1pm', '1st', '1to1', '2', '20', '200', '2000', '2002', '2003', '2004', '2005', '2006', '2007', '2008', '2009', '200lbs', '2010', '2011', '2012', '2012They', '202', '2025', '2030', '2038', '205', '20mbs', '20miles', '20min', '20minutes', '20s', '20something', '20th', '20xs', '21', '2100', '214', '215', '21but', '21st', '21we', '22', '220', '22312', '2240', '225', '2253', '2295', '22oz', '23', '230', '235', '24', '241', '2412', '247', '249', '249449', '2499', '24and', '24hrs', '24st', '24th', '25', '250', '2500', '25000', '250400', '2540', '25min', '25person', '25th', '26', '260', '2600', '2608', '26Whole', '26th', '27', '27243', '275', '27th', '28', '285', '29', '295', '299', '2995', '2998', '2999', '29th', '2Fresh', '2I', '2Mbps', '2am', '2nd', '2pm', '2pound', '2rd', '2top', '2topping', '2wice', '2x', '3', '30', '300', '3000', '300degree', '3035', '3040', '3045', '3080', '30extra', '30s', '30somethings', '30th', '30years', '311', '3122669', '315', '316', '32', '3200', '32010because', '325', '328', '32s', '33', '330', '330pm', '33rd', '34', '3400', '34000', '345pm', '349', '3499', '34th', '35', '350', '350ib', '3540', '35c', '35th', '36', '369', '36pm', '37', '370', '375', '3755', '379', '38', '389', '38th', '39', '3900', '394', '398', '399', '39th', '3AM', '3Also', '3D', '3G', '3I', '3K', '3PM', '3Xyear', '3am', '3bean', '3egg', '3lbs', '3p6p', '3pm', '3rd', '3stars', '3x', '3xwk', '3year', '4', '40', '400', '4000', '400a', '400s', '4050', '40Lm', '40ish', '40min', '40th', '40yearold', '40years', '41', '411', '415', '41711', '42', '4200', '420000', '425', '43', '430', '430530', '430pm', '435', '4499', '44th', '45', '450', '450600', '450ish', '455', '45min', '46', '46th', '47', '4730pm', '475', '48', '480', '48th', '49', '490', '491', '495', '499', '4B', '4Little', '4PM', '4hr', '4pack', '4pm', '4pm7pm', '4s', '4star', '4th', '4that', '4x6', '5', '50', '500', '5000', '50000', '500pm', '5060', '5070', '50Lm', '50cents', '50s', '50thats', '51', '510', '515', '517', '517p', '52', '520', '52010', '5231', '525', '528', '53', '530', '530p', '530pm', '54', '545', '549', '55', '550', '552', '56', '565', '57', '575', '58', '595', '599', '5995', '59th', '5Make', '5k', '5min', '5p', '5pm', '5star', '5stars', '5th', '5yo', '6', '60', '600', '6000', '60000', '600am', '600pm', '601', '602', '6080', '60miles', '60s', '610', '612', '615pm', '618', '61st', '620', '62010', '620pm', '623', '6235474655', '6239774458', '625', '63', '630', '630AM', '630am', '64', '642', '64ish', '64th', '65', '650', '653pm', '65person', '66', '6600', '67', '67000', '68', '69', '699', '6PM', '6am', '6pack', '6pm', '6th', '7', '70', '700', '700am', '70lb', '70s', '70th', '71', '710', '711', '711ish', '715', '719', '71st', '725', '730', '730ish', '730pm', '74th', '75', '750', '7500', '76', '775', '78', '7807', '79', '7AM6PM', '7AM9PM', '7PM', '7am', '7pm', '7th', '8', '80', '800', '8000hp', '800am', '8020', '80s', '81', '810', '811', '812', '8132010', '814', '815', '815am', '816', '819', '820', '82012', '83', '830', '830pm', '832we', '83rd', '845', '849', '85', '850', '85340', '85year', '86', '875', '88', '89', '895', '899', '8AM', '8PM', '8V', '8am', '8amagain', '8close', '8pm', '8pm10pm', '8th', '8x10', '8yo', '9', '90', '900', '9000', '90lower', '90minute', '90s', '91', '911', '915', '925', '92nd', '93', '930', '930am', '945', '945am', '95', '950', '950ea', '951pm', '96', '975', '98', '99', '995', '9975', '999', '99999', '999for', '99cent', '9am', '9oz', '9p11p', '9pm', '9th', '9year', '9yo', 'A1', 'A2', 'AA', 'AAA', 'AAAAMAZING', 'AAAMMMAZZING', 'AB', 'ABC', 'ABSOLUTE', 'ABSOLUTELY', 'ABUELOSit', 'AC', 'ACCURATE', 'ADD', 'ADORABLE', 'ADORE', 'AEG', 'AFRAID', 'AID', 'AIRPORT', 'AJ', 'AJi', 'AJs', 'AKA', 'ALEXANDRA', 'ALMOST', 'ALOT', 'ALTERNATIVE', 'ALWAYS', 'ALofts', 'AMAAAAAZING', 'AMAZED', 'AMAZING', 'AMC', 'AMORE', 'AMP', 'AMPLE', 'AMPM', 'AMazing', 'AMber', 'ANDshes', 'ANGER', 'ANGRY', 'ANIMAL', 'ANISTON', 'ANOTHER', 'ANYBODY', 'ANYONE', 'ANYTHING', 'ANYWHERE', 'AP', 'APRIL', 'APeeling', 'AREA', 'ARIZONA', 'ARTS', 'ASAP', 'ASK', 'ASS', 'ASU', 'ASUs', 'ATC', 'ATCs', 'ATF', 'ATL', 'ATM', 'ATT', 'AVG', 'AVOID', 'AVOIDING', 'AW', 'AWARDWINNING', 'AWAY', 'AWEFUL', 'AWESOME', 'AWFUL', 'AWSOME', 'AZ', 'AZ88', 'AZN', 'AZSpaGirls', 'AZs', 'Aaron', 'AbbaZabba', 'Abby', 'Absinthe', 'Absolut', 'Absolute', 'Absolutely', 'Abuelos', 'Acacia', 'Academy', 'Acai', 'Acapulco', 'Access', 'According', 'Account', 'Accutemp', 'Ace', 'Acid', 'Acknowledge', 'Acne', 'Acres', 'Acting', 'Actor', 'Actually', 'Adam', 'Adams', 'Add', 'Added', 'Addendum', 'Addicted', 'Addiction', 'Adding', 'Additional', 'Additionally', 'Adelman', 'Adios', 'Admission', 'Admittedly', 'Adobe', 'Adobo', 'Adovada', 'Adrian', 'Adrianne', 'Adrienne', 'Adult', 'Advisor', 'Advocate', 'Aerobics', 'Aesthetically', 'Affordable', 'Africa', 'Afterdark', 'Afterward', 'Afterwards', 'Agaves', 'Aged', 'Agent', 'Agree', 'Agua', 'Aguila', 'Agwa', 'Ah', 'Ahha', 'Ahhh', 'Ahhhhh', 'Ahhhhhh', 'Ahi', 'Ahmazing', 'Ahwahtukee', 'Ahwatukee', 'Aid', 'Aiellos', 'Aiko', 'Air', 'Airlines', 'Airpark', 'Airport', 'Airwarys', 'Airways', 'Airwaysnever', 'Aisha', 'Aji', 'Ajo', 'Akor', 'Al', 'Alabama', 'Aladdins', 'Alain', 'Alameda', 'Alan', 'Alas', 'AlasIve', 'Alaska', 'Alaskan', 'Alaus', 'Albacore', 'Alber', 'Albertsons', 'Alcatraz', 'Ale', 'Alessias', 'Alex', 'Alexs', 'Alfalfa', 'Alfonso', 'Alfred', 'Alfredo', 'Ali', 'Alice', 'Alicia', 'AllAmerican', 'AllStar', 'Allegiant', 'Allen', 'Allende', 'Allergic', 'Allesias', 'Allison', 'Allow', 'Allstars', 'Almond', 'Almost', 'Aloe', 'Aloha', 'Along', 'Alongside', 'Alp', 'Alphagraphics', 'Already', 'Alright', 'Als', 'Also', 'Alterations', 'Although', 'Altic', 'Alvadora', 'Always', 'Amados', 'Amalfi', 'Amanda', 'Amaro', 'Amazed', 'Amazing', 'Amazingly', 'Amazon', 'Amazoncom', 'Ambassador', 'Amber', 'Ambiance', 'Ambrosia', 'Ambulance', 'Amenities', 'AmeriZona', 'America', 'American', 'AmericanFrench', 'Americana', 'Americanized', 'AmericanizedItalian', 'Americano', 'Americanos', 'Americans', 'Americas', 'Ameritrash', 'Amin', 'Amish', 'Amomi', 'Amore', 'Amphitheatre', 'Ample', 'Amsterdam', 'Amtrack', 'Amuse', 'Amy', 'Anaheim', 'Anchored', 'Andiamo', 'Andrea', 'Andrew', 'Andrews', 'Andwait', 'AndyAndrew', 'Andys', 'Angel', 'Angela', 'Angelas', 'Angeles', 'Angelesjust', 'Angello', 'Angels', 'Angie', 'Angry', 'Anibal', 'Animal', 'Animals', 'Anise', 'Ann', 'Anne', 'Annette', 'Annie', 'Annies', 'Annihilator', 'Anniversary', 'Annoying', 'Anns', 'Another', 'Ansel', 'Answer', 'Anthem', 'Anthems', 'Anthony', 'Anti', 'Antipasto', 'Antique', 'Antiques', 'Antonio', 'Antono', 'Ants', 'Anyhow', 'Anyone', 'Anything', 'Anytime', 'Anyway', 'Anyways', 'AnywaysI', 'Anywaysthe', 'Anywaystheir', 'Anywaytry', 'Anywhere', 'Anywho', 'Ao', 'Apache', 'Apartment', 'Apology', 'Apothic', 'Appalachians', 'Apparel', 'Apparently', 'Appearances', 'Appears', 'Appetit', 'Appetite', 'Appetizer', 'Appetizers', 'Apple', 'Applebees', 'Apples', 'Applewood', 'Appreciated', 'Appreciation', 'Approximately', 'Apps', 'Apricot', 'April', 'Aqua', 'Arabic', 'Arai', 'Arbol', 'Arborio', 'Arbuckles', 'Arcadia', 'ArcadiaBiltmoreCamelback', 'Arcane', 'Archery', 'Architect', 'Architecture', 'Arco', 'Area', 'Arena', 'Arent', 'Argentine', 'Argentinian', 'Argyle', 'Ariel', 'Arigato', 'Arizona', 'Arizonans', 'Arizonas', 'Arizonian', 'Arizonians', 'Arkansas', 'Arlecchinos', 'Arlin', 'Armando', 'Armed', 'Armour', 'Arms', 'Army', 'Arnold', 'Around', 'Arpaio', 'Arriba', 'Arribas', 'ArribasGo', 'Arrive', 'Arrived', 'Arrivederci', 'Arriving', 'Arrogant', 'Arrowhead', 'Art', 'Artful', 'Arthur', 'Artichoke', 'Arties', 'Artist', 'Artois', 'Arts', 'Arugula', 'Asada', 'Asado', 'Asahi', 'Asaian', 'Ashamedly', 'Ashley', 'Ashleys', 'Ashtanga', 'Asia', 'Asiago', 'Asian', 'AsianMexican', 'Asians', 'Aside', 'Ask', 'Asked', 'Asparagus', 'Ass', 'Assistant', 'Association', 'Ate', 'Athenian', 'Athletics', 'Atlanta', 'Atlantic', 'Atmosphere', 'Atmospherewise', 'Atomic', 'Atoyac', 'Attack', 'Attempting', 'Attendants', 'Attended', 'Attention', 'Attentive', 'Attorney', 'Au', 'Auditioning', 'Aug', 'August', 'Aunt', 'Auntie', 'Aurohaus', 'Aussie', 'Aussies', 'Austin', 'Australia', 'Australian', 'Authentic', 'Authenticabsolutely', 'Authentically', 'Author', 'Auto', 'Automotive', 'Autumnlike', 'Avacado', 'Avacodo', 'Avadado', 'Ave', 'Avenue', 'Average', 'Averaging', 'Avewho', 'Avocado', 'Avoid', 'Avondale', 'Awakening', 'Away', 'Awaze', 'Awesome', 'Awesomely', 'Awesometown', 'Awful', 'Axe', 'Az', 'AzRESCUE', 'Azkaban', 'Azucena', 'B', 'BA', 'BACK', 'BACON', 'BAD', 'BAG', 'BALLS', 'BAM', 'BANK', 'BAR', 'BARE', 'BASED', 'BASIC', 'BAY', 'BB', 'BBB', 'BBBwhat', 'BBQ', 'BBQJoes', 'BBs', 'BCBG', 'BDSM', 'BEAN', 'BEANS', 'BEARS', 'BEAUTIFUL', 'BEEF', 'BEER', 'BEERS', 'BEETS', 'BENCHES', 'BEST', 'BETTER', 'BEWARE', 'BEYOND', 'BF', 'BFFs', 'BFG', 'BGF', 'BIANCOVERDE', 'BIG', 'BIGASS', 'BILL', 'BILLIARDS', 'BJ', 'BJs', 'BLACK', 'BLAND', 'BLECH', 'BLEECH', 'BLISS', 'BLOWN', 'BLT', 'BMW', 'BMWs', 'BMX', 'BO', 'BOB', 'BOCA', 'BOGO', 'BOLT', 'BOMB', 'BOTTLES', 'BOTTOM', 'BOWLS', 'BOX', 'BOY', 'BPA', 'BR', 'BRAVO', 'BREAKFAST', 'BS', 'BTW', 'BUCKET', 'BUG', 'BUILD', 'BURGER', 'BURGERS', 'BURRITO', 'BURRO', 'BUS', 'BUSINESS', 'BUY', 'BUZZKILL', 'BV500', 'BYO', 'BYOB', 'Baaaaaaad', 'Baba', 'Babaganoush', 'Babbo', 'Baby', 'Babys', 'Bacado', 'Bacardi', 'Back', 'Bacon', 'BaconCheddar', 'Bad', 'Bader', 'Badger', 'Baeley', 'Baffled', 'Bag', 'Bagel', 'Bagginsey', 'Baghlava', 'Bags', 'Bahama', 'Bahamas', 'Bahn', 'Baileys', 'Baiz', 'Baja', 'Baked', 'Baker', 'Bakers', 'Bakery', 'Baklava', 'Ballet', 'Ballroom', 'Balls', 'Balsamic', 'Baltimore', 'Bam', 'Bamboo', 'Ban', 'Banana', 'Bananas', 'Banco', 'Band', 'Banddddeeedo', 'Bandera', 'Banderas', 'Bandido', 'Bandit', 'Bandito', 'Banfield', 'Bang', 'Bangkok', 'Bank', 'Banks', 'Banner', 'Bant', 'Bao', 'Bar', 'BarBQue', 'Barb', 'Barbacoa', 'Barbara', 'Barbbacoa', 'Barbecue', 'Barber', 'Barbershop', 'Barbs', 'Barcelona', 'Bare', 'Barely', 'Barista', 'Baristas', 'Bark', 'Barnes', 'Barnesque', 'Barneys', 'Barqs', 'Barr', 'Barramundi', 'Barrel', 'Barrio', 'Barros', 'Barry', 'Bars', 'BarsSen', 'Bartender', 'Bartholomew', 'Base', 'Based', 'Baseline', 'Bashas', 'Basically', 'Basil', 'Basket', 'Baskin', 'Basmati', 'Bass', 'Baston', 'Bathe', 'Bathroom', 'Bathrooms', 'Batman', 'Batmobile', 'Baton', 'Batter', 'Battlefoam', 'Bavaria', 'Bay', 'Bea', 'Beach', 'Bean', 'Beans', 'Beard', 'Beards', 'Bears', 'Beast', 'Beat', 'Beatles', 'Beats', 'Beau', 'Beautiful', 'Beautifully', 'Beauty', 'Beaver', 'Becca', 'Becketts', 'Becky', 'Bed', 'Beds', 'Beef', 'Beefsteak', 'Beefy', 'Beer', 'Beerbread', 'Beeror', 'Beers', 'Beet', 'Beetle', 'Beginning', 'Behind', 'Beijing', 'Beirut', 'Belgian', 'Believe', 'Bell', 'Bella', 'Bellini', 'Bells', 'Belltown', 'Belly', 'Belmont', 'Ben', 'Benches', 'Bend', 'Benedict', 'Benihana', 'Benny', 'Bento', 'Beppo', 'Bergesson', 'Berlin', 'Berry', 'Berschler', 'Bert', 'Berthas', 'Berto', 'Bertos', 'Besides', 'Best', 'Bethany', 'Bethel', 'Betitos', 'Bette', 'Better', 'Betty', 'Bettys', 'Betunia', 'Bev', 'BevMo', 'Beverages', 'Beverly', 'Bevmo', 'Beware', 'Beyond', 'Bhel', 'Biacoverde', 'Biagga', 'Biaggia', 'Biagio', 'Bialy', 'Bianco', 'BiancoCibo', 'Biancos', 'Biancothough', 'Biancoverde', 'Biancoverdes', 'Bibimbap', 'Bicycle', 'Bicycles', 'Biet', 'Big', 'BigAStorewithJobs', 'Bigger', 'Biiiiiiiiiiig', 'Bike', 'Bikini', 'Bikram', 'Bilbo', 'Bill', 'Billet', 'Biltmore', 'Bimbo', 'Bin', 'Bings', 'Binkley', 'Binkleys', 'Bird', 'Birthday', 'Biscuits', 'Bismark', 'Bison', 'Bisque', 'Bistro', 'Bitch', 'Bite', 'Bitzee', 'Biz', 'Black', 'Blackberry', 'Blacks', 'Blackstone', 'Blah', 'Blake', 'Blanc', 'Blanca', 'Blanco', 'Blancos', 'Bland', 'Blank', 'Blankity', 'Blast', 'Blazer', 'Blech', 'Bleh', 'Blended', 'Blendinis', 'Bless', 'Bleu', 'Bliss', 'BlissreBar', 'Blockbuster', 'Blood', 'Bloody', 'Bloom', 'Blooming', 'Blooze', 'Blossom', 'Blossoms', 'Blow', 'Blown', 'Blu', 'Blue', 'BlueMoon', 'Blueberry', 'Blues', 'Blunt', 'Blvd', 'Bo', 'BoSa', 'Boa', 'Board', 'Boars', 'Boat', 'Bob', 'Boba', 'Bobas', 'Bobbie', 'Bobby', 'Bobbys', 'Bobs', 'Bocca', 'Bocce', 'Bock', 'Body', 'Bogi', 'Bohemian', 'Boisterous', 'Bolivia', 'Bollywood', 'Bolt', 'Bomb', 'Bombay', 'Bombero', 'Bomberos', 'Bombs', 'Bon', 'Bone', 'Bonein', 'Boneless', 'Bonne', 'Bonnie', 'Bonus', 'Boo', 'Book', 'Booked', 'Bookmans', 'Boom', 'Boop', 'Boot', 'Bordeaux', 'Border', 'Borders', 'Bosa', 'Bosco', 'Bosnia', 'Bosnian', 'BosnianJugoslavian', 'Boss', 'Bostic', 'Boston', 'Botanical', 'Botox', 'Bottle', 'Bottom', 'Bought', 'Boulangerie', 'Boulders', 'Boulevard', 'Boullion', 'Bourban', 'Bourbon', 'Bourdon', 'Boutique', 'Bowl', 'Bowling', 'Box', 'Boxer', 'Boxing', 'Boy', 'Boyfriend', 'Boys', 'Brace', 'Brachetto', 'Brad', 'Bradley', 'Braised', 'Braized', 'Brak', 'Braks', 'Branding', 'Brasserie', 'Brat', 'Braves', 'Bravo', 'Bray', 'Brazen', 'Brazilian', 'Bread', 'Breadfruit', 'Breads', 'Breakfast', 'BreakfastNOT', 'Breast', 'Breasts', 'Breeze', 'Brenda', 'Brenden', 'Brewer', 'Brewery', 'Brewing', 'Brews', 'Bri', 'Brian', 'Brianna', 'Brick', 'Bridal', 'Bridge', 'Brie', 'Briggs', 'Brilliant', 'Bring', 'Brio', 'Brioche', 'Brioni', 'Brios', 'Brisket', 'Brit', 'British', 'BritishFrench', 'Britishers', 'Britney', 'Brittan', 'Brittian', 'Brittle', 'Bro', 'Broadway', 'Broccolini', 'Brodkin', 'Broiled', 'Broken', 'Bronx', 'Brooklyn', 'Brookstone', 'Brophy', 'Bros', 'Broth', 'Brother', 'Brothers', 'Brought', 'Brown', 'Brownie', 'Brownies', 'Browns', 'Bruce', 'Bruchetta', 'Bruder', 'Brule', 'Brulee', 'Brunch', 'Bruschetta', 'Brussel', 'Brussels', 'Brutus', 'Bryan', 'Brûlée', 'Btchy', 'Btwthe', 'Bubl', 'Buca', 'Bucatini', 'Bucca', 'Bucco', 'Buchanan', 'Bucket', 'Buckeye', 'Buckeyes', 'Buckhunt', 'Buckle', 'Bucks', 'Buckwheat', 'Budget', 'Buds', 'Budweiser', 'Bueno', 'Buffalo', 'Buffet', 'Bug', 'Bugtussel', 'Build', 'Buildyourown', 'Bula', 'Bulgogi', 'Bulk', 'Bulldog', 'Bullriders', 'Bummer', 'Bummerthe', 'Bun', 'Buns', 'Buon', 'Buona', 'Buran', 'Burch', 'Buren', 'Burger', 'Burgernot', 'Burgers', 'Burlington', 'Burlingtons', 'Burmese', 'Burratta', 'Burrito', 'Burritos', 'Burro', 'Burt', 'Burton', 'Busan', 'Bush', 'Business', 'Businesses', 'Bust', 'Busy', 'ButI', 'Butai', 'Butas', 'Butcher', 'Butka', 'Butter', 'ButterScallopsStrawberry', 'Butterburger', 'Buttercream', 'Buttercrunch', 'Butterfly', 'Butters', 'Buttery', 'Buy', 'Buyer', 'Buzz', 'Bye', 'Bánh', 'C', 'C4', 'CA', 'CAKE', 'CALIFORNIA', 'CALL', 'CALLE', 'CANAILLE', 'CANDY', 'CANNOT', 'CANT', 'CAR', 'CARE', 'CARES', 'CART', 'CASE', 'CASH', 'CASK', 'CAT', 'CAT5', 'CAT6', 'CAVEAT', 'CB', 'CC', 'CCA', 'CCGs', 'CCO', 'CD', 'CDC', 'CDDVD', 'CDs', 'CENTS', 'CEO', 'CERTAIN', 'CF', 'CFLs', 'CFOO', 'CFu', 'CH', 'CHAIN', 'CHANCE', 'CHANDLER', 'CHANGE', 'CHARBROILED', 'CHARRED', 'CHEAP', 'CHECK', 'CHECKS', 'CHEESE', 'CHICAGO', 'CHINESE', 'CHZ', 'CIBO', 'CIDER', 'CK', 'CKs', 'CLEAN', 'CLEARLY', 'CLINIC', 'CLOSED', 'CLOTHESPURSESSHOES', 'CO', 'CODE', 'COFCO', 'COKE', 'COLD', 'COLLARD', 'COME', 'COMFORTABLE', 'COMING', 'COMPANY', 'COMPETENT', 'COMPLETELY', 'CONSISTANCY', 'CONSISTENCY', 'CONTACT', 'COOL', 'CORNBREAD', 'COST', 'COSTS', 'COULD', 'CPC', 'CPH', 'CPR', 'CPU', 'CRAB', 'CRACKS', 'CRAFT', 'CRAMMED', 'CRAVE', 'CRAZY', 'CREAM', 'CRIB', 'CRRRAAZZYYY', 'CRUST', 'CUCUMBER', 'CURSING', 'CUSTOMER', 'CVS', 'CabFABULOUS', 'Cabbage', 'Cabela', 'Cabernet', 'Cactus', 'Cactus40th', 'Caddilac', 'Cadillac', 'Caesar', 'Caesars', 'Cafe', 'Cafeteria', 'Caffe', 'Café', 'Cage', 'Caitlin', 'Cajun', 'Cajuns', 'Cake', 'Cakes', 'Cal', 'Calabria', 'Calamari', 'Calamos', 'Calcutta', 'Cali', 'Caliente', 'California', 'Californiastyle', 'Calimari', 'Call', 'Called', 'Calm', 'Calories', 'Calypso', 'Calzone', 'Came', 'Camelback', 'Camelbacks', 'Camelview', 'Camera', 'Cameras', 'Camile', 'Camille', 'Camp', 'Campbell', 'Camping', 'Campus', 'Camus', 'Canada', 'Canadian', 'Canasta', 'Candace', 'Candied', 'Candlelight', 'Candy', 'Canes', 'Canidae', 'Canine', 'Cannibal', 'Cannot', 'Canoe', 'Cant', 'Canteen', 'Cantina', 'Canton', 'Cantonese', 'Canyon', 'Canyone', 'Capellini', 'Capezios', 'Capital', 'Capitol', 'Cappuccino', 'Caprese', 'Capri', 'Capriotti', 'Capriottis', 'Captain', 'Car', 'Caramel', 'Caramelized', 'Carbonara', 'Card', 'Cardinals', 'Cards', 'Care', 'Carefree', 'CarefreeCave', 'Careful', 'Carefully', 'Caribbean', 'Carla', 'Carlos', 'Carls', 'Carlsbad', 'Carlton', 'Carmax', 'Carmel', 'Carmelized', 'Carne', 'Carnegie', 'Carniceria', 'Carnitas', 'Carol', 'Carolina', 'Carolinas', 'Caroline', 'Carpaccio', 'Carpet', 'Carrabbas', 'Carribbean', 'Cars', 'Cartel', 'Cartwrights', 'Cary', 'Casa', 'CasaSlightly', 'Case', 'Casellas', 'Casey', 'Caseys', 'Cash', 'Cashew', 'Cashier', 'Cashiers', 'Casie', 'Casita', 'Casserole', 'Castilla', 'Castillas', 'Casual', 'Catch', 'Cathedral', 'Cats', 'Caucasians', 'Caught', 'Cauliflower', 'Caution', 'Cavalleria', 'Cave', 'Caveat', 'Caviar', 'Ceaser', 'Celebrated', 'Celebrating', 'Celery', 'Celina', 'Celsius', 'CenPho', 'CenPhoMid', 'Center', 'Centerbarsrestaurantsarena', 'Centers', 'Central', 'Centre', 'Cerignola', 'Certainly', 'Certificate', 'Certificates', 'Cesar', 'Ceviche', 'Cezanne', 'Cha', 'Chaat', 'Chace', 'Chai', 'Chalet', 'Challenge', 'Chamber', 'Chambord', 'Champagne', 'Championship', 'Champong', 'Chance', 'Chancer', 'Chancers', 'Chances', 'Chandler', 'Change', 'Changes', 'Changing', 'Changs', 'Channel', 'Chanterelle', 'Chanterelles', 'Chaparral', 'Chapoutier', 'Chard', 'Chardonnay', 'ChardonnayI', 'Charged', 'Charleen', 'Charlene', 'Charles', 'Charlestons', 'Charlie', 'Charlies', 'Charlotte', 'Charred', 'Chars', 'Chase', 'Chased', 'Chashumen', 'Chashuramen', 'Chateaux', 'Chavez', 'Cheap', 'Cheaper', 'Checca', 'Check', 'CheckIn', 'Checkedin', 'Checklist', 'Checks', 'Cheddar', 'Cheeeeno', 'Cheers', 'Cheese', 'Cheesecake', 'Cheesesteak', 'Cheesy', 'CheezIts', 'Chef', 'Chefowner', 'Chefs', 'Chelsea', 'Chemex', 'Cherry', 'CherryBlossom', 'Cherryblossom', 'Cherryblossoms', 'Cheryl', 'Chew', 'Chewy', 'Chey', 'Chi', 'ChiChi', 'Chiang', 'Chianti', 'Chic', 'Chicago', 'Chicagoan', 'Chicagos', 'Chicagostyle', 'Chichis', 'Chick', 'Chicken', 'Chickenit', 'ChickfilA', 'Chickfila', 'Chiclets', 'Chicory', 'Chilaquiles', 'Child', 'Childcare', 'Children', 'Childrens', 'Childsplay', 'Chile', 'Chilean', 'Chili', 'Chilis', 'Chill', 'Chilulah', 'Chimi', 'Chimichanga', 'Chimmichurri', 'Chin', 'China', 'Chinaberry', 'Chinatown', 'Chinese', 'Chino', 'Chip', 'Chipolte', 'Chipote', 'Chipotle', 'Chipotles', 'Chips', 'Chiptole', 'Chiro', 'Chiropractic', 'Chiropractics', 'Chiropractor', 'ChoCho', 'Chocolate', 'ChocolatePeanut', 'Chodang', 'Choice', 'Cholla', 'Cholocate', 'Chompies', 'Choo', 'Chop', 'Chopped', 'Chorizo', 'Chorro', 'Chorus', 'Chow', 'Chows', 'Chris', 'Chriss', 'Christ', 'Christian', 'Christine', 'Christmas', 'Christmastime', 'Christopher', 'Christophers', 'Christy', 'Chronicle', 'Chronicles', 'Chu', 'Chualright', 'Church', 'Churches', 'Churn', 'Chutney', 'Chuys', 'Chynas', 'ChâteauneufduPape', 'Ciabatta', 'Ciao', 'Ciaos', 'Cibo', 'Cibos', 'Cien', 'Cigarettes', 'Cilantro', 'Cinderellas', 'Cindy', 'Cine', 'Cinema', 'Cinemark', 'Cinemas', 'Cinnamon', 'Circa', 'Circle', 'Ciroc', 'Cisco', 'Ciscos', 'Cited', 'Citizen', 'Citrus', 'City', 'CityWide', 'Claims', 'Clair', 'Claires', 'Claredon', 'Clarendon', 'Class', 'Classes', 'Classic', 'Claudes', 'Clean', 'Cleaner', 'Cleaners', 'Cleanliness', 'Clear', 'Clearance', 'Clearly', 'Clement', 'Clerk', 'Clever', 'Click', 'Client', 'Climax', 'Climaxs', 'Climb', 'Clinic', 'Clint', 'Clips', 'Clooney', 'Close', 'Closed', 'Closer', 'Closest', 'Clothing', 'Clover', 'Club', 'Clubhouse', 'Clubs', 'ClueDelivery', 'Clusters', 'Clyde', 'Cmon', 'Cmost', 'Co', 'Coach', 'Coalface', 'Coast', 'Coastal', 'Coat', 'Cobb', 'Cobbler', 'Cobras', 'Coca', 'Cocaine', 'Cocina', 'Cocktail', 'Cocktails', 'Coco', 'Cocoa', 'Coconut', 'Code', 'Coe', 'Coffe', 'Coffee', 'Coffeemeh', 'Coke', 'Cola', 'Colada', 'Colbert', 'Cold', 'ColdStone', 'Coldstones', 'Cole', 'Coleslaw', 'Colleen', 'College', 'Colonial', 'Color', 'Colorado', 'Colossal', 'Columbia', 'Com', 'Combat', 'Combination', 'Combo', 'Come', 'Comedy', 'Comes', 'Comfort', 'Comfortable', 'Coming', 'Commence', 'Common', 'Communists', 'Companion', 'Company', 'Compass', 'Compassion', 'Complaing', 'Complete', 'Completely', 'Complex', 'Complimentary', 'Compressa', 'Con', 'Conclusion', 'Condesa', 'Condo', 'Cone', 'Conference', 'Confessional', 'Confit', 'Confite', 'Confucius', 'Congrats', 'Congratulations', 'Congress', 'Connecticut', 'Connection', 'Connery', 'Connolys', 'Cons', 'Considering', 'Consigner', 'Consistantly', 'Consistency', 'Consistent', 'Consistently', 'Conspire', 'Constitution', 'Constitutional', 'Contact', 'Contentment', 'Contest', 'Contrary', 'Convelient', 'Convenient', 'Conveniently', 'Conversely', 'Cooked', 'Cookie', 'Cookies', 'Cooks', 'Cool', 'Cooper', 'Coors', 'Copic', 'Copper', 'Corbins', 'Cordial', 'CoreBalance', 'Cork', 'Corleones', 'Corn', 'Corner', 'Cornish', 'Corolla', 'Corona', 'Coronado', 'Corporate', 'Corps', 'Corridor', 'Cortadito', 'Cosa', 'Cosco', 'Cosmetic', 'Cost', 'Costa', 'Costco', 'Costillas', 'Costo', 'Cotta', 'Cottonwood', 'Cougar', 'Could', 'Couldnt', 'Coulter', 'Count', 'Country', 'Countryside', 'County', 'Coup', 'Couple', 'Coupled', 'Coupling', 'Court', 'Courtney', 'CousCous', 'Cousin', 'Couture', 'Covered', 'Covet', 'Cow', 'Cowboy', 'Cowboys', 'Coworker', 'Coworkers', 'Cox', 'Coyotes', 'Coz', 'Cozy', 'Crab', 'Crabs', 'Cracker', 'Crackerjack', 'Crackers', 'Crack®', 'Craftsman', 'Craigslist', 'Cranberry', 'Crap', 'Crappy', 'Crate', 'Crave', 'Crazy', 'Cream', 'CreamOOOOOhhh', 'Creambut', 'Creamy', 'Create', 'Creative', 'Creativity', 'Credit', 'Creek', 'Creepy', 'Creme', 'Crepe', 'Crescent', 'Crisp', 'Crispy', 'Cristo', 'Croce', 'Croissant', 'Croissants', 'Crop', 'Croque', 'Crosbie', 'Crosby', 'Crossfit', 'Crossing', 'Crown', 'Crudo', 'Cruelty', 'Crumble', 'Crunch', 'CrusesEl', 'Crust', 'Crustada', 'Crusted', 'Crustini', 'Crusty', 'Cry', 'Crystal', 'Crème', 'Créme', 'Cs', 'Cuban', 'Cubbies', 'Cubs', 'Cucina', 'Cucumber', 'Cuisinart', 'Cuisine', 'Culinary', 'Culture', 'Culvers', 'CulversIm', 'Cummings', 'Cuon', 'Cup', 'Cupcake', 'Curbage', 'Curds', 'Curious', 'Curls', 'Currently', 'Currents', 'Curries', 'Curry', 'Currys', 'Curse', 'Cusack', 'Custard', 'Customer', 'Cut', 'Cute', 'Cuts', 'Cuttery', 'Cutting', 'Cycle', 'Cyclo', 'Cyclos', 'Cyr', 'D70S', 'DAILY', 'DAMN', 'DARK', 'DAY', 'DAYCARE', 'DAYS', 'DAtri', 'DB', 'DBA', 'DBG', 'DC', 'DD', 'DDD', 'DDDinfomaccom', 'DDS', 'DDelish', 'DEAD', 'DEAL', 'DEALS', 'DEBRIS', 'DECEITFUL', 'DECEMBER', 'DECISION', 'DEEEES', 'DEEP', 'DEFAULT', 'DEFINATLY', 'DEGREE', 'DELICIOUS', 'DELICIOUSNESS', 'DELIVER', 'DELIVERY', 'DELTA', 'DESCRETELY', 'DESERT', 'DESERVE', 'DEX', 'DIE', 'DIECISEIS', 'DIFFERENT', 'DIGGETY', 'DIME', 'DINER', 'DINNER', 'DINNING', 'DIRT', 'DISCUSTING', 'DISGRACE', 'DISGUSTING', 'DISH', 'DISHES', 'DIVINE', 'DIY', 'DIYer', 'DIllys', 'DJ', 'DJs', 'DJwellkindahe', 'DK', 'DMV', 'DMVs', 'DNF', 'DOA', 'DODGERS', 'DOGS', 'DOLLARS', 'DONE', 'DONT', 'DOPE', 'DOUSING', 'DPOV', 'DQ', 'DRENCH', 'DRESS', 'DRINK', 'DRINKS', 'DRIPPING', 'DRIVE', 'DRUNK', 'DST', 'DT', 'DTPho', 'DUDES', 'DUDEwhere', 'DUIs', 'DUMP', 'DV', 'DVD', 'DVDs', 'Da', 'Dac', 'Dachs', 'Dad', 'Daddy', 'Daikon', 'Daily', 'Dairiki', 'Dairy', 'Daiya', 'Dakota', 'Dale', 'Dali', 'Dallas', 'Dally', 'Dambrosios', 'Dame', 'Dameven', 'Damn', 'Dan', 'DanDan', 'Dana', 'Dance', 'Dancewear', 'Dandelion', 'Dane', 'Dang', 'Daniel', 'Danielle', 'Daniels', 'Danish', 'Dannie', 'Danny', 'Danyluk', 'Daphnes', 'Dara', 'Daradee', 'Darcy', 'Daren', 'Darius', 'Dark', 'Darla', 'Darn', 'Darryl', 'Darykla', 'Dashboard', 'Date', 'Dates', 'Daughter', 'Dave', 'Daves', 'David', 'Davids', 'Davidson', 'Day', 'Dazbog', 'Dazs', 'Dbagly', 'De', 'DeMarias', 'Dead', 'Deal', 'Dealers', 'Dealership', 'Deans', 'Dear', 'Death', 'Deb', 'Debbie', 'Debra', 'Decadent', 'December', 'Decent', 'Deceptively', 'Decide', 'Decided', 'Deciding', 'Decor', 'Decorative', 'Deduct', 'Deep', 'Deere', 'Dees', 'Def', 'Defalcos', 'Defense', 'Definetly', 'Definitely', 'Defnitely', 'Degrees', 'Del', 'Deli', 'Delia', 'Delicate', 'Delicately', 'Delicious', 'Deliciously', 'Delight', 'Delightful', 'Delights', 'Delish', 'Delivery', 'Della', 'Delta', 'Delux', 'Deluxe', 'Democratic', 'Denim', 'Dennis', 'Dennys', 'Dennystype', 'Dental', 'Dentist', 'Dentistry', 'Dentists', 'Denver', 'Department', 'Depot', 'Dept', 'Derby', 'Dermabrasion', 'Dernmark', 'Deschutes', 'Deseo', 'Desert', 'Deserves', 'Designer', 'Designs', 'Despite', 'Dessert', 'Detail', 'Detailing', 'Determining', 'Detroit', 'Devil', 'Devils', 'Devoured', 'Devry', 'Dew', 'Dewalt', 'Di', 'DiFara', 'Dia', 'Diablo', 'Diamond', 'Diamondbacks', 'Diamonds', 'Diane', 'Diaya', 'Dicks', 'Didnt', 'Die', 'Diego', 'Diet', 'Different', 'Dig', 'Digestifs', 'Diggity', 'Digs', 'Dijon', 'Dill', 'Dilla', 'Dillards', 'Dilly', 'Dim', 'DineInAzcom', 'Diner', 'Diners', 'Dining', 'Dinner', 'Dip', 'Directions', 'Director', 'Dirty', 'Disappointed', 'Disappointing', 'Disclaimer', 'Disco', 'Disconsolate', 'Discount', 'Discover', 'Disgusting', 'Dishes', 'Disney', 'Disneyesque', 'Disneyland', 'Dispite', 'District', 'Distrito', 'Disturbed', 'Ditto', 'Dive', 'Dives', 'Divine', 'Division', 'Dixon', 'Dizzy', 'Dlish', 'Dmoes', 'Dobbins', 'Dobson', 'Doc', 'Doctors', 'Dodger', 'Dodgers', 'Doesnt', 'Dog', 'Dogfish', 'Dogfishhead', 'Doggie', 'Dogs', 'Dolce', 'Doling', 'Dollhouse', 'Dolls', 'Dolmeh', 'Dolphin', 'Dom', 'Dominick', 'Dominicks', 'Dominique', 'Dominos', 'Domo', 'Done', 'Donkey', 'Donna', 'Dont', 'Donut', 'Donuts', 'Doom', 'Door', 'Doors', 'Doozy', 'Dorato', 'Doris', 'Dormouse', 'Dorrie', 'Dorries', 'Dos', 'Dosa', 'Double', 'Douche', 'Doughboy', 'Douxelle', 'Downer', 'Downright', 'Downstairs', 'Downtown', 'Dr', 'Draft', 'Dragon', 'DragonFly', 'Dragonfly', 'Draw', 'Dre', 'Dream', 'Dreamcatcher', 'Dressing', 'Drew', 'Dried', 'Drink', 'Drinkers', 'Drinking', 'Drinks', 'Drip', 'Drive', 'DriveIns', 'Driveins', 'Driver', 'Driving', 'Droban', 'Drop', 'DropIn', 'Dropout', 'Dropped', 'Drove', 'Drowning', 'Drunken', 'Dry', 'Ds', 'Dscusting', 'Duane', 'Dubba', 'Duce', 'Duck', 'Dude', 'Dudea', 'Due', 'Dug', 'Duh', 'Dukes', 'Dulce', 'Dumb', 'Dumbass', 'Dummies', 'Dump', 'Dumped', 'Dumpling', 'Dumplings', 'Dunkin', 'Durants', 'Durst', 'Dutchman', 'Dutton', 'Duty', 'Duvalin', 'Dyer', 'Dynamite', 'Dysart', 'E', 'EARLY', 'EASILY', 'EAT', 'EBAY', 'ECT', 'EDIT', 'EEWWWW', 'EFF', 'EFFECTIVE', 'EFFING', 'EG', 'EGG', 'EGs', 'ELSE', 'EM', 'ENCHILADA', 'END', 'ENGLISH', 'ENORMOUS', 'ENOUGH', 'ENTHUSIASTIC', 'EPIC', 'ER', 'ESPN', 'ETA', 'EVEN', 'EVER', 'EVERY', 'EVERYDAY', 'EVERYONE', 'EVERYTHING', 'EVERYTIME', 'EVOO', 'EXACTLY', 'EXCEEDED', 'EXCELLENT', 'EXCEPTIONAL', 'EXCITING', 'EXCLAMATION', 'EXPECTATIONS', 'EXPENIVE', 'EXPENSIVE', 'EXPERIENCE', 'EXPRESS', 'EXTRA', 'EXTREMELY', 'EYES', 'Eagle', 'Earleir', 'Earlier', 'Early', 'EarlyBird', 'Earth', 'Easily', 'Easleys', 'East', 'Easter', 'Eastern', 'EasternMediterranean', 'Eastside', 'Eastwood', 'Easy', 'Eat', 'Eatery', 'Eating', 'Eats', 'Echo', 'Ed', 'Edamame', 'Eddie', 'Eddies', 'Edens', 'Edison', 'Edit', 'Edited', 'Edna', 'Eds', 'Eduardo', 'Education', 'Eduprize', 'Edward', 'Edwards', 'Eegees', 'Eek', 'Eel', 'Egads', 'Egadwhy', 'Egg', 'Eggplant', 'Eggrolls', 'Eggs', 'Ego', 'Egypt', 'Egyptian', 'Eh', 'Einsteins', 'Either', 'El', 'Elaboration', 'Elaines', 'Elderly', 'Electronics', 'Elegant', 'Elements', 'Elentra', 'Elephant', 'Elephants', 'Elite', 'Elizabeth', 'Ella', 'Elliot', 'Ellis', 'Elm', 'Elmer', 'Elote', 'Elsas', 'Elsewhere', 'Elvis', 'Ely', 'Emails', 'Embarrassingly', 'Emergency', 'Empire', 'Employee', 'Employees', 'Empress', 'Emptor', 'Empty', 'Encebollada', 'Enchantment', 'Enchilada', 'Enchiladas', 'Encore', 'End', 'Ended', 'Endless', 'Endovenera', 'Ends', 'England', 'English', 'Enjoy', 'Enjoyable', 'Enjoyed', 'Enlightenment', 'Enormous', 'Enotria', 'Enough', 'Enrique', 'Ensenada', 'Enter', 'Entering', 'Enterprise', 'Entree', 'Entrees', 'Entrepreneurship', 'Environment', 'Environmental', 'Envy', 'Epic', 'Equal', 'Equally', 'Equals', 'Equis', 'Eric', 'Erica', 'Erin', 'Erins', 'Eritrean', 'Ernies', 'Es', 'Escentuals', 'Escolar', 'Esp', 'Espana', 'Esparza', 'Especially', 'Esplanade', 'Espresso', 'Essence', 'Essences', 'Essentially', 'Essie', 'Estate', 'Estrella', 'Etc', 'Ethiopia', 'Ethiopian', 'Etiennes', 'Etiquette', 'Eugene', 'Eugenia', 'Euro', 'Europe', 'European', 'Evangers', 'Eve', 'Even', 'Event', 'Eventually', 'Ever', 'Everett', 'Every', 'Everybody', 'Everyday', 'Everyone', 'Everyones', 'Everything', 'Everytime', 'Everywhere', 'Evidently', 'Evil', 'Ew', 'Ewwww', 'Ex', 'Exactly', 'Excellent', 'Excellente', 'Except', 'Exchange', 'Excited', 'Excluding', 'Excuse', 'Execucar', 'Executive', 'Exemplary', 'Exotic', 'Expect', 'Expensive', 'Experience', 'Experienced', 'Explain', 'Explained', 'Explaining', 'Exposed', 'Express', 'Exsalonce', 'Extensive', 'Extra', 'Extraordinary', 'Extras', 'Extremely', 'Eye', 'Eyecare', 'Eytans', 'F', 'F724', 'FABULOUS', 'FACE', 'FAIL', 'FAILED', 'FANS', 'FANTABULOUS', 'FANTASTIC', 'FAR', 'FAST', 'FASTFRIENDLYFRESH', 'FATAL', 'FAVORITE', 'FB', 'FCK', 'FE', 'FEAST', 'FEELING', 'FEES', 'FEZ', 'FEs', 'FF', 'FH', 'FIFTEEN', 'FILLYBs', 'FINALLY', 'FINALMENTE', 'FIND', 'FINE', 'FINEIll', 'FINISH', 'FIRST', 'FIVE', 'FLUENT', 'FLW', 'FLWs', 'FOI', 'FOO', 'FOOD', 'FOOLS', 'FOREVER', 'FORGOT', 'FORTYFIVE', 'FOUR', 'FRAG', 'FRANCISCO', 'FREAKIN', 'FREE', 'FRENCH', 'FRESH', 'FRESHLY', 'FRIDAY', 'FRIED', 'FRIENDLY', 'FRY', 'FULL', 'FUN', 'FW', 'FYI', 'Fable', 'Fabrics', 'Fabulous', 'Face', 'FaceBook', 'Facebook', 'Faceplates', 'Faces', 'Facial', 'Faciatis', 'Fact', 'Factories', 'Factory', 'Fags', 'Fail', 'Failing', 'Fair', 'Fairly', 'Fairmont', 'Fairy', 'Faith', 'Faiths', 'Fajita', 'Fajitas', 'FajitasTHE', 'Fajito', 'Fake', 'Falafel', 'Fall', 'Fallout', 'Falls', 'False', 'Familiar', 'Families', 'Family', 'Familyrun', 'Famous', 'Fan', 'Fancy', 'Fans', 'Fantastic', 'FantasticAlways', 'Far', 'Farberware', 'Fare', 'Farm', 'Farmers', 'Farms', 'Farnsworth', 'Fascinations', 'Fashion', 'Fast', 'Fat', 'Fatburger', 'Fate', 'Father', 'Fathers', 'Fats', 'Fav', 'Fave', 'Favorite', 'Favorites', 'Favs', 'Fe', 'Feast', 'Featuring', 'Feb', 'Feddys', 'Federal', 'Fedex', 'Fee', 'Feed', 'Feeling', 'Feels', 'Fees', 'Feist', 'Felipes', 'Felt', 'Female', 'Fennel', 'Fermier', 'Fernidad', 'Ferns', 'Ferrari', 'Fervor', 'Fest', 'Festival', 'Fet', 'Feta', 'Fetash', 'Fetoosh', 'Fetzer', 'Feuille', 'Fez', 'Fezs', 'Fiance', 'Fiancee', 'Fiction', 'Fiddlers', 'Field', 'Fieldincluding', 'Fiesta', 'Fig', 'Fight', 'Figs', 'Figure', 'Figured', 'Filepes', 'Files', 'Filet', 'FiletoFish', 'Filibertos', 'FilibertosUmbertosRobertosErnie', 'Filipino', 'FilipinoMexican', 'Filled', 'Fillet', 'Film', 'Filthy', 'Fin', 'Final', 'Finally', 'Find', 'Finding', 'Fine', 'Fingers', 'Finish', 'Fiorellas', 'Fire', 'Firebird', 'Fired', 'Firefly', 'Firestone', 'Firm', 'First', 'Firstly', 'Fish', 'Fishing', 'FitCenter', 'Fitness', 'Fitter', 'Fitting', 'Fitzgerald', 'Five', 'Flagstaff', 'Flame', 'Flan', 'Flap', 'Flashed', 'Flat', 'Flatbread', 'Flatiron', 'Flattened', 'Flavorful', 'Flavors', 'Flawless', 'Fleet', 'Fleming', 'Flemings', 'Flemmingsery', 'Flight', 'Flip', 'Flipstick', 'Flirtini', 'Floor', 'Florences', 'Florentine', 'Florida', 'Floridinos', 'Florist', 'Flos', 'Flow', 'Flower', 'Flowers', 'Fluff', 'Flushes', 'Flying', 'FnB', 'Focaccia', 'Focus', 'Focused', 'Focusing', 'Fogo', 'Foie', 'Folks', 'Follow', 'Followed', 'Following', 'Fonda', 'Fondue', 'Fontina', 'Foo', 'Food', 'FoodAholic', 'FoodThe', 'Foodhave', 'Foodie', 'Foodies', 'Foodjust', 'Foodnet', 'Foods', 'Foodwise', 'Fool', 'Football', 'Foothill', 'Foothills', 'Foraged', 'Forbidden', 'Forcing', 'Ford', 'Forever', 'Forget', 'Forgive', 'Fork', 'Forks', 'Formerly', 'Forms', 'Fornaio', 'Forno', 'Fortunately', 'Fortune', 'Forward', 'Fossil', 'Foster', 'Found', 'Founded', 'Fountain', 'Four', 'Fourth', 'Fourtherly', 'Fox', 'FoxRC', 'Foxes', 'Foxy', 'Fran', 'France', 'Frances', 'Francesca', 'Francis', 'Franciscan', 'Francisco', 'Franco', 'Frank', 'Frankly', 'Franks', 'Frappuccino', 'Fraîche', 'Freakin', 'Freaking', 'Fred', 'Freddie', 'Freddy', 'Freddys', 'Freds', 'Free', 'Freerange', 'Freeze', 'Freezing', 'French', 'FrenchEnglish', 'FrenchGreeksame', 'Frenched', 'Frenzy', 'Frequent', 'Fresca', 'Fresco', 'Frescolina', 'Fresh', 'Freshest', 'Freud', 'Fri', 'Fricase', 'Frida', 'Friday', 'FridayDinnerOut', 'Fridays', 'Fridge', 'Fried', 'Friend', 'Friendly', 'Friends', 'Friendship', 'Fries', 'Friggin', 'Frijoles', 'Frisco', 'Frita', 'Fritas', 'Fritatta', 'Frites', 'Frittata', 'Fritto', 'FroYo', 'Frontiers', 'Frontline', 'Frost', 'Frozen', 'Fruit', 'Fry', 'Frybread', 'Frys', 'Frysback', 'Fuck', 'Fucking', 'Fuddburger', 'Fuddruckers', 'Fudge', 'Fuego', 'Fuel', 'Fuji', 'Fujiwara', 'Fujiya', 'Fujiyas', 'Fulfilling', 'Full', 'Fun', 'FunSports', 'Fundido', 'Fundito', 'Funky', 'Funny', 'Furniture', 'Furthermore', 'Fusion', 'G', 'G37', 'GALLON', 'GEE', 'GELATINOUS', 'GET', 'GF', 'GIANT', 'GIANTS', 'GIGANTIC', 'GIRL', 'GIVE', 'GIVING', 'GIven', 'GLAD', 'GM', 'GMOs', 'GO', 'GOING', 'GOLDEN', 'GOLF', 'GOLFERS', 'GONE', 'GOOD', 'GOOGLED', 'GOOOOOD', 'GORGEOUS', 'GOSH', 'GOT', 'GOTTA', 'GPA', 'GPS', 'GR8', 'GRAPE', 'GREASY', 'GREAT', 'GREEN', 'GREENS', 'GRILL', 'GRINGOS', 'GROCERY', 'GROSS', 'GROWN', 'GS', 'GS3', 'GSpot', 'GSpotgrapefruit', 'GTFO', 'GUEST', 'GUSTA', 'GUY', 'GUYS', 'GW', 'GYN', 'GYRO', 'Gabe', 'Gabi', 'Gabriel', 'Gadsden', 'Gaeta', 'Gag', 'Gaga', 'Gai', 'Gainey', 'Gak', 'Galbi', 'Galbut', 'Gallina', 'Gallo', 'Game', 'Games', 'Gammage', 'Gangplank', 'Ganoosh', 'Gansitos', 'Garage', 'Garbage', 'Garces', 'Garcia', 'Garden', 'Gardens', 'Gardeny', 'Gardinn', 'Garfield', 'Garlic', 'Garmin', 'Gary', 'Gas', 'Gateway', 'Gator', 'Gauc', 'Gave', 'Gavin', 'Gay', 'Gaylee', 'Geek', 'Geezerados', 'Geisha', 'Gel', 'Gelati', 'Gelatis', 'Gelato', 'Gelish', 'Gem', 'Gene', 'General', 'Generally', 'Generals', 'Generous', 'Genin', 'Gentleman', 'Gently', 'Gents', 'George', 'Georges', 'Georgia', 'Georgie', 'Geranios', 'Germain', 'German', 'Germany', 'Gerri', 'Gerry', 'Get', 'Gets', 'Getting', 'Gf', 'Ghetto', 'Ghost', 'Giant', 'Giants', 'GiantsDiamondbacks', 'Gift', 'Gigantic', 'Gil', 'Gila', 'Gilbert', 'Gilda', 'Gils', 'Gimlet', 'Gin', 'Gina', 'Ginger', 'GingerbreadOh', 'Gio', 'Giorno', 'Girdle', 'Girl', 'Girlfriend', 'Girls', 'Giselle', 'Giu', 'Giuseppe', 'Giuseppes', 'Give', 'Given', 'Glad', 'Glam', 'Glass', 'Glasses', 'Glasswares', 'Glen', 'Glendale', 'Glendales', 'Glibert', 'Glitters', 'Global', 'Globo', 'Gloria', 'Glorias', 'Glory', 'Glows', 'Gluten', 'GlutenFree', 'Gnocchi', 'Go', 'GoAZ', 'GoKatGo', 'Goat', 'Gobi', 'God', 'Goddess', 'Godfather', 'Godiva', 'Gods', 'Goes', 'Goi', 'Going', 'Gold', 'Golden', 'Golds', 'Goldwater', 'Goldwell', 'Golf', 'Goliath', 'Gomen', 'Gone', 'Gong', 'Gonzales', 'Goo', 'Goober', 'Goobye', 'Good', 'Goodcents', 'Goodcertainly', 'Goodness', 'Goodwill', 'Goodyear', 'Goodytwos', 'Google', 'Googling', 'Goose', 'Gordon', 'Gorgeous', 'Gorgonzola', 'Gosh', 'GoshAwfulGooey', 'Gospel', 'Got', 'Gotta', 'Gourmet', 'Governor', 'GowShrimp', 'Grab', 'Grabbed', 'Grady', 'Gradys', 'Graffenberg', 'Grand', 'Grande', 'Grandfather', 'Grandma', 'Grandmas', 'Grandmother', 'Grandparents', 'Granite', 'Granted', 'Grape', 'Gras', 'Grass', 'Grassroots', 'Grateful', 'Gratin', 'Gratzi', 'Gravy', 'Grayhawk', 'Grazie', 'Greasepaint', 'Greasewood', 'Greasy', 'Great', 'Greater', 'Greatness', 'Greece', 'Greeeeeeat', 'Greek', 'Green', 'Greene', 'Greenhow', 'Greenville', 'Greenway', 'GreenwayHayden', 'Greeted', 'Greg', 'Grelichs', 'Grenache', 'Grew', 'Grey', 'Grill', 'Grille', 'Grilled', 'Griller', 'Grills', 'Grillyou', 'Grimaldis', 'Grimaldisbut', 'Grind', 'Grinders', 'Gringa', 'Gringos', 'Gris', 'Grits', 'Grocery', 'Grooming', 'Gross', 'Grotown', 'Group', 'Groupon', 'Grouponers', 'Grove', 'Groves', 'Growing', 'Grr', 'Grrr', 'Gruyere', 'Gryos', 'Gs', 'Guac', 'Guacamole', 'Guacomole', 'Guadalupe', 'Guangdong', 'Guaranteed', 'Gucci', 'Guedos', 'Guenther', 'Guess', 'Guest', 'Guests', 'Guido', 'Guilt', 'Guiness', 'Guinness', 'Guissepes', 'Gulf', 'Gum', 'Gumbo', 'Gummi', 'Gun', 'Gunny', 'Gurtude', 'Gusto', 'Gutsy', 'Guy', 'Guys', 'Gym', 'Gymboree', 'Gyms', 'Gyoza', 'Gyro', 'Gyros', 'H', 'H20', 'H2O', 'HA', 'HAHAHAHAHA', 'HAIR', 'HALLWAY', 'HALO', 'HAND', 'HANDS', 'HANG', 'HAPPY', 'HARD', 'HATE', 'HATS', 'HBO', 'HCG', 'HD', 'HEAD', 'HEALTHY', 'HEART', 'HEAVEN', 'HEAVENLY', 'HEAVY', 'HEELS', 'HELL', 'HELLISH', 'HELLLLLLLLO', 'HELLLLLLTOTHENO', 'HELLO', 'HELP', 'HEROES', 'HEY', 'HH', 'HI', 'HIGH', 'HIGHCHAIR', 'HIGHLY', 'HKGB', 'HKGuangdong', 'HM', 'HMMMMM', 'HO', 'HOA', 'HOB', 'HOLY', 'HOLYSHIT', 'HOME', 'HONEST', 'HONESTY', 'HONEY', 'HOOKED', 'HORRENDOUS', 'HORRIBLE', 'HORRIBLEno', 'HORRIBLY', 'HOT', 'HOTEL', 'HOTin', 'HOUR', 'HOURS', 'HOUSE', 'HOWEVER', 'HRT', 'HS', 'HTC', 'HUGE', 'HUGH', 'HUMAN', 'HUUUUGGGEEE', 'Ha', 'Haagen', 'Habanero', 'Habaneros', 'Habenaro', 'Habenero', 'Habit', 'Hacienda', 'Haddock', 'Hadnt', 'Hagen', 'Haha', 'Hahn', 'Hair', 'Haircot', 'Haji', 'Hajis', 'Hakata', 'Haley', 'Half', 'Halfprice', 'Halfway', 'Halibut', 'Hall', 'Halley', 'Hallmark', 'Halloween', 'Halogens', 'Ham', 'HamWow', 'Hamachi', 'Hamburger', 'Hamburgers', 'HamiltonBeach', 'Hampshire', 'Hampton', 'Hana', 'Hancock', 'Hand', 'Handlebar', 'Hands', 'Handsdown', 'Haneys', 'Hanger', 'Hanging', 'Hank', 'Hannah', 'Hannys', 'Hansen', 'Hansons', 'Happened', 'Happiness', 'Happy', 'Har', 'Harbor', 'Harborunless', 'Hard', 'Hardwood', 'Hardy', 'Harkins', 'Harley', 'Harm', 'Harolds', 'Harris', 'Harry', 'Haru', 'Harvest', 'Harvil', 'Harvils', 'Hashbrowns', 'Hatch', 'Hate', 'Hatha', 'Hats', 'Haus', 'Hava', 'Havana', 'Havarti', 'Havent', 'Hawaii', 'Hawaiian', 'Hay', 'Hayashi', 'Hayden', 'Hazelnut', 'Haüs', 'Head', 'HeadQuarters', 'Headed', 'Headquarters', 'Heady', 'Healer', 'Healing', 'Health', 'Healthy', 'Hear', 'Heard', 'Hearing', 'Heart', 'Hearted', 'Heat', 'Heated', 'Heath', 'Heather', 'Heaven', 'Heavenly', 'Heavy', 'Hebrew', 'Heck', 'Hector', 'Hed', 'Hefeweizen', 'Heff', 'Hegel', 'Heh', 'Heidelberg', 'Heinritz', 'Heinz', 'Heirloom', 'Helen', 'Hell', 'Hellava', 'Hello', 'Hells', 'Help', 'Helped', 'Helpful', 'Helstrom', 'Hemet', 'Hence', 'Henckels', 'Herb', 'Herberger', 'Herbs', 'Heres', 'Heritage', 'Herme', 'Hernan', 'Hernandez', 'Hertz', 'Hes', 'Hey', 'Heymaybe', 'Hi', 'Hibachi', 'Hick', 'Hidden', 'Hide', 'Hideaway', 'Hideawayall', 'Hideway', 'High', 'Highlights', 'Highly', 'Hiking', 'Hilary', 'Hill', 'Hillard', 'Hills', 'Hillstone', 'Hillstones', 'Hilo', 'Hilton', 'Himalayan', 'Hint', 'Hip', 'HipHop', 'Hippies', 'Hipster', 'HipsterTrendy', 'Hire', 'Hiro', 'Hispanic', 'Historic', 'Hit', 'Hmm', 'Hmmm', 'Hmmmm', 'Hmmmmm', 'Hnnngffff', 'Ho', 'Hoa', 'Hoan', 'Hob', 'Hobby', 'Hoboken', 'Hobos', 'Hoegaarden', 'Hoffman', 'Hog', 'Hogwarts', 'Hokokum', 'Hold', 'Holdem', 'Hole', 'HoleintheRock', 'Holey', 'Holiday', 'Hollendaise', 'Holly', 'Hollywood', 'Holmes', 'Holocaust', 'Holy', 'Home', 'HomeRun', 'Homemade', 'Homer', 'Hometown', 'Hominy', 'Homous', 'Honda', 'Honduras', 'Honest', 'Honestly', 'HonestlyPanda', 'Honey', 'Honeycomb', 'Hong', 'Honor', 'Hoo', 'Hood', 'Hoodlums', 'Hooray', 'Hoosiers', 'Hooters', 'Hootsuite', 'Hop', 'Hope', 'Hopefully', 'Hopi', 'Hopital', 'Hoppins', 'Hopshot', 'Horatio', 'Horchata', 'Horizon', 'Horns', 'Horrible', 'Horrific', 'Horseradish', 'Horses', 'Horwitz', 'Hospital', 'Hospitality', 'Host', 'Hostess', 'Hot', 'HotandSour', 'Hotel', 'Hottie', 'Hound', 'Hour', 'Houron', 'Hours', 'House', 'Houses', 'Houston', 'Houstons', 'Howard', 'Howdy', 'Howell', 'However', 'Howl', 'Hows', 'Hs', 'Huauchinango', 'Hubbard', 'Hubby', 'Hubbys', 'Hubris', 'Hubster', 'Hudson', 'Hue', 'Huevos', 'Huge', 'Huh', 'Human', 'Humane', 'Humble', 'Humboldt', 'Humdinger', 'Hummers', 'Hummus', 'Humus', 'Hundred', 'Hundreds', 'Hunger', 'Hungry', 'Hunt', 'Hurrah', 'Hurricane', 'Husband', 'Hut', 'Hwy', 'Hyatt', 'Hybrid', 'Hyde', 'Hydrants', 'HydroPro', 'Hyundai', 'I10', 'I17', 'ICE', 'ID', 'IDIOTS', 'IDs', 'IGNACIO', 'IGNORE', 'IGNORED', 'IHOP', 'III', 'IIIs', 'IKEA', 'IKEAish', 'IL', 'ILBs', 'IM', 'IMAGINE', 'IMAX', 'IMHO', 'IMO', 'IMPORTANTLYyou', 'IMPOSSIBLE', 'IMPRESSED', 'IMPRESSIVE', 'IMTOOSEXYFORMYSELF', 'INCREDIBLE', 'INEXPENSIVE', 'INFORMATION', 'INNOUT', 'INOA', 'INSIDE', 'IPA', 'IPAheavy', 'IPAs', 'IPad', 'IQ', 'IRL', 'IRS', 'IU', 'IVAA', 'IVE', 'Iam', 'Ice', 'Iceberg', 'Icecream', 'Iced', 'Icee', 'Ichi', 'Ichigo', 'Icing', 'Icky', 'Id', 'Idem', 'Ignite', 'Ignore', 'Ignoring', 'Ihop', 'Ii', 'Iitoi', 'Ikea', 'Ikura', 'Il', 'Ill', 'Im', 'Images', 'Imagine', 'Imax', 'Immediately', 'Impact', 'Impeccable', 'Important', 'Impossible', 'Impossibly', 'Impress', 'Impressive', 'Improper', 'Improv', 'InNOut', 'Inc', 'Included', 'Including', 'Incredible', 'Incredibly', 'Indeed', 'India', 'Indian', 'IndianPakistani', 'Indiana', 'Indians', 'Indias', 'IndoPak', 'Indoor', 'Indoors', 'Indulge', 'Indulgence', 'Inedible', 'Inexcusable', 'Inexpensive', 'Inexplicably', 'Infiniti', 'Infinity', 'Infused', 'Infusion', 'Ingenious', 'Ingredient', 'Ingredients', 'Ink', 'Inn', 'InnOut', 'Innout', 'Innova', 'Inns', 'Ins', 'Insanely', 'Insert', 'Inside', 'Insights', 'Insist', 'Inspired', 'Inst', 'Instead', 'Institute', 'Instructors', 'Insulting', 'Insurance', 'Integrated', 'Intel', 'Intelligent', 'Intense', 'Intercontinental', 'Interesting', 'Internet', 'Intimidated', 'Introduced', 'Invergorden', 'Invisalign', 'Iolanda', 'Iowa', 'Ippei', 'Iranian', 'Iraq', 'Irish', 'Irma', 'Iron', 'Ironic', 'Ironically', 'Ironman', 'Ish', 'Island', 'Islandssmall', 'Isnt', 'Israel', 'Israeli', 'Isreal', 'Italia', 'Italian', 'ItalianChineseMexicanAmerican', 'Italianstyle', 'Italy', 'Items', 'Ithink', 'Itisslow', 'Itll', 'Ito', 'Itos', 'Ivans', 'Ive', 'IvegottheTwangyTartwithdrawalshakes', 'Ivejustbeenbitchslappedbycaffeine', 'Iveve', 'Ivory', 'Ivy', 'Iwe', 'IxtapaZihuatenejo', 'J', 'JAM', 'JC', 'JCooks', 'JD', 'JENNIFER', 'JERK', 'JESTERS', 'JIB', 'JJ', 'JJs', 'JK', 'JP', 'JUNEand', 'JW', 'Jack', 'Jackass', 'Jacket', 'Jackie', 'Jacks', 'Jacob', 'Jacobs', 'Jacques', 'Jacquie', 'Jacs', 'Jade', 'Jaeger', 'Jagermeister', 'Jaimes', 'Jake', 'Jakes', 'Jalapeno', 'Jalapenos', 'Jalapeño', 'Jalepeno', 'Jam', 'Jamaica', 'Jamaican', 'Jamba', 'Jambalaya', 'Jamburrito', 'James', 'Jameson', 'Jan', 'Janes', 'Janet', 'Janis', 'Jans', 'Janslet', 'January', 'Japan', 'Japanese', 'Jar', 'Jared', 'Jarred', 'Jarvis', 'Jasmin', 'Jasmine', 'Jason', 'Jasons', 'Java', 'Javas', 'Jaws', 'Jay', 'Jazz', 'Jcrew', 'Jeans', 'Jedis', 'Jeez', 'Jeff', 'Jefferson', 'Jekyll', 'Jen', 'Jenn', 'Jenna', 'Jennfer', 'Jennifer', 'Jennifers', 'Jenny', 'Jens', 'Jensy', 'Jeremiah', 'Jerk', 'Jerron', 'Jerrys', 'Jersey', 'Jess', 'Jesse', 'Jessie', 'Jesterz', 'Jesus', 'Jetland', 'Jetsons', 'Jewel', 'Jewelry', 'Jewess', 'Jewish', 'Jhane', 'Jiang', 'Jill', 'Jillian', 'Jills', 'Jim', 'Jimmy', 'Jo', 'JoBot', 'Joan', 'Job', 'Jobingcom', 'Jobs', 'Jodi', 'Joe', 'Joes', 'John', 'Johnny', 'Johns', 'Joliet', 'Jolla', 'Joltachinno', 'Jon', 'Jonathan', 'Jones', 'Joplin', 'Jordans', 'Jose', 'Joshua', 'Joy', 'Joynt', 'Jr', 'Juan', 'Juba', 'Judge', 'Judging', 'Judith', 'Juggalo', 'Juice', 'Juiceyou', 'Juicy', 'Juijitsu', 'Jules', 'Julie', 'Julios', 'July', 'Julyish', 'Jumbo', 'Jumbotron', 'Jumping', 'June', 'Jungle', 'Jungles', 'Junior', 'Junk', 'Junkie', 'Jura', 'Jus', 'Justin', 'Justina', 'K', 'K56', 'KEEN', 'KFC', 'KFCsidesized', 'KIDS', 'KILL', 'KILLER', 'KIND', 'KKs', 'KMart', 'KNOW', 'KNOWS', 'KNOWand', 'KOOL', 'KWSS', 'KYOT', 'Ka', 'Kabob', 'Kabuki', 'Kahlo', 'Kai', 'Kaigen', 'Kaj', 'Kake', 'Kalamata', 'Kalbi', 'Kale', 'Kaleaid', 'Kaley', 'Kama', 'Kampachi', 'Kanarish', 'Kang', 'Kansas', 'Kanye', 'Kara', 'Karanish', 'Karaoke', 'Karawi', 'Karen', 'Karens', 'Kareys', 'Karoake', 'Karshs', 'Karve', 'Karyn', 'Kasabian', 'Kashmans', 'Kashmere', 'Kat', 'Katheaw', 'Kathleen', 'Kathy', 'Katie', 'Katies', 'Katlan', 'Katsu', 'Kauai', 'Kaya', 'Kaylee', 'Kaz', 'Kazilicious', 'Kazimierz', 'Kazmer', 'Kebab', 'Kee', 'Keep', 'Keeping', 'Keg', 'Keith', 'Kellen', 'Keller', 'Kelley', 'Kelly', 'Ken', 'Kennan', 'Kennebec', 'Kens', 'Kerrie', 'Keurig', 'Kevin', 'Kevins', 'Key', 'Keyboard', 'Keye', 'Khabibulin', 'Khai', 'Kia', 'Kick', 'Kickboxing', 'Kid', 'Kids', 'Kierland', 'Kiersten', 'Kik', 'Killer', 'Killing', 'Kilt', 'Kiltlifter', 'Kim', 'Kimber', 'Kimberly', 'Kimpton', 'Kind', 'Kinda', 'Kindergarten', 'Kindly', 'Kindred', 'Kinetic', 'King', 'Kingdom', 'Kings', 'Kingston', 'Kirin', 'Kisra', 'Kisras', 'Kiss', 'Kitchen', 'Kitchens', 'Kitfo', 'Kittens', 'Kitty', 'Knave', 'Knife', 'Knorr', 'Knot', 'Knots', 'Know', 'Knowing', 'Knowledgable', 'Knowledgeable', 'Known', 'Kobe', 'Koch', 'Kohls', 'Koko', 'Kokopelli', 'Kolschmakes', 'Kona', 'Konas', 'Kong', 'Kool', 'KoolAid', 'Koolaid', 'Kore', 'Korea', 'Korean', 'Koreanmom', 'Koreanstyle', 'Kosher', 'Kota', 'Krab', 'Kraft', 'Krav', 'Kreamery', 'Kreme', 'Krispy', 'Krista', 'Kristen', 'Kristi', 'Kristian', 'Kristin', 'Kristy', 'Kronos', 'Kruez', 'Kruger', 'Ks', 'Ksubi', 'Kubricks', 'Kudos', 'Kumomato', 'Kun', 'Kung', 'Kurt', 'Kyle', 'Kyoto', 'Kyrene', 'L', 'LA', 'LAMB', 'LAME', 'LAMPS', 'LARGE', 'LARGEST', 'LAST', 'LAX', 'LArpege', 'LB', 'LBS', 'LCD', 'LCs', 'LEAGUE', 'LEAST', 'LED', 'LEFT', 'LEGIT', 'LESS', 'LET', 'LETS', 'LETTUCE', 'LF', 'LFS', 'LGO', 'LGOs', 'LIBRARY', 'LIFE', 'LIFT', 'LIKE', 'LINE', 'LINKS', 'LISTEN', 'LITTERALLY', 'LITTLE', 'LIVED', 'LMT', 'LMTs', 'LOADED', 'LOATHE', 'LOCAL', 'LOCATION', 'LOL', 'LOLCat', 'LONG', 'LOOKS', 'LOST', 'LOT', 'LOTS', 'LOUD', 'LOVE', 'LOVED', 'LOVES', 'LOW', 'LSUSaints', 'LTF', 'LUCKILY', 'LUGGAGE', 'LUNCH', 'LUSH', 'LUX', 'La', 'Lab', 'Labor', 'Labs', 'Lack', 'Ladies', 'Lady', 'Lafayette', 'Lahna', 'Lai', 'Laid', 'Lais', 'Lait', 'Lake', 'Lake91110', 'Lalibela', 'Lalibelas', 'Lamars', 'Lamb', 'Lame', 'Lamps', 'Lance', 'Land', 'Landis', 'Landon', 'Lanning', 'Lantana', 'Lapsang', 'Larb', 'Laredo', 'Large', 'Largely', 'Larissa', 'Larry', 'Las', 'Lasagna', 'Lasagnareally', 'Laser', 'Last', 'Lastly', 'Late', 'Lately', 'Later', 'Latilla', 'Latin', 'Latino', 'Latte', 'Lattes', 'Laura', 'Lava', 'Lavender', 'Lavenders', 'Lavosh', 'Lawannah', 'Lay', 'Layered', 'Layla', 'Lazy', 'LazyBoy', 'Le', 'Leaf', 'League', 'Leah', 'Learn', 'Learning', 'Leary', 'Leash', 'Leave', 'Leaving', 'Lebaneseyou', 'Leche', 'Leches', 'Lechon', 'Lee', 'Lees', 'Left', 'Legacy', 'Legal', 'Legs', 'Leguizamo', 'Leila', 'Lemme', 'Lemon', 'Lemonade', 'Lenart', 'Lennie', 'Lent', 'Lentil', 'Lenôtre', 'Leonidas', 'Leslie', 'Leslies', 'Less', 'Lesson', 'Let', 'Lets', 'Lettuce', 'Level', 'Leviticus', 'Levy', 'Lewis', 'Lexus', 'Leyvas', 'Liberty', 'Library', 'Libras', 'Libre', 'License', 'Licorice', 'Lienau', 'Lienaus', 'Life', 'LifeTime', 'Lifetime', 'Lifetimes', 'Lifter', 'Light', 'Lightly', 'Lightning', 'Lightweight', 'Like', 'Lilly', 'Lime', 'Limit', 'Limo', 'Lincoln', 'Linda', 'Lindsay', 'Lindsey', 'Line', 'Lines', 'Lingerie', 'Lion', 'Lipstick', 'Liqueur', 'Liquors', 'Lisa', 'Lisabels', 'Lisettes', 'List', 'Listen', 'Listings', 'Litchfield', 'Lite', 'Literally', 'Little', 'Live', 'Lived', 'Lives', 'Living', 'LivingSocial', 'Liz', 'Lizabels', 'Lizzie', 'Lloyd', 'Lo', 'LoLos', 'LoMein', 'Loaded', 'Loads', 'Lobby', 'Lobbys', 'Lobster', 'Local', 'Locally', 'Located', 'Location', 'Locker', 'Lockhart', 'Loco', 'Locoyesp', 'Lodge', 'Lodges', 'Lodi', 'Lodis', 'Loft', 'Lola', 'Lolas', 'Lolita', 'Lolos', 'London', 'Lonely', 'Long', 'Lons', 'Look', 'Looked', 'Looking', 'Lookout', 'Looks', 'Loooove', 'LoopFat', 'Lora', 'Lord', 'Loren', 'Loretta', 'Lori', 'Los', 'Losers', 'Lost', 'Lot', 'Lots', 'Loughner', 'Louis', 'Louisiana', 'Lounge', 'Loungeyie', 'Love', 'Loved', 'LoveitLoveit', 'Loveitloveit', 'Lovely', 'Lover', 'Lovers', 'Loves', 'Lovey', 'Lovvvve', 'Low', 'Lower', 'Loyd', 'Ls', 'Luau', 'Lubys', 'Lucia', 'Lucilles', 'Luckily', 'Lucky', 'Luckys', 'Lucy', 'Luigi', 'Luis', 'Lulus', 'Luminarias', 'Lumpia', 'Luna', 'Lunch', 'Luncha', 'Lush', 'Luv', 'Lux', 'Lychee', 'Lynn', 'Lysol', 'MAC', 'MACNCHEESE', 'MAHHH', 'MAKE', 'MAKEOVER', 'MAMA', 'MAN', 'MANAGEMENT', 'MANY', 'MANZANA', 'MAPS', 'MARCO', 'MARCUS', 'MARGARITA', 'MARGHERITA', 'MARINARA', 'MARK', 'MARjust', 'MASSIVE', 'MBA', 'MC', 'MCC', 'MCCAC', 'MDame', 'MEAL', 'MEAN', 'MELT', 'MENU', 'MEOW', 'MESMERIZED', 'MESS', 'MET', 'MF', 'MFin', 'MIA', 'MIDDLE', 'MIDI', 'MIM', 'MINS', 'MINUTES', 'MIRRORS', 'MISINFORMATION', 'MISTAKE', 'MISTAKES', 'MIXED', 'MIll', 'MJ', 'MLB', 'MLBNFLNBA', 'MM', 'MMA', 'MMM', 'MMMM', 'MMMMM', 'MMMMMMmmmmm', 'MMs', 'MNF', 'MOJO', 'MOLY', 'MONEY', 'MORNING', 'MS', 'MSG', 'MTG', 'MTN', 'MUCH', 'MUCHO', 'MURDER', 'MUSIC', 'MUST', 'MVP', 'Mabels', 'Mac', 'MacAlpines', 'MacBook', 'Macadamian', 'Macademia', 'Macaroni', 'Macarons', 'Macaw', 'Macayos', 'Macerated', 'Machaca', 'Macmillan', 'Macmillian', 'Macs', 'Macys', 'Mad', 'Madagascar', 'Madame', 'Madden', 'Maddie', 'Made', 'Madeliene', 'Madera', 'Madiera', 'Madness', 'Madonna', 'Madras', 'Madrid', 'Maestro', 'Maestros', 'Maga', 'Magazine', 'Magazines', 'Maggi', 'Maggianos', 'Magic', 'Magical', 'Magners', 'Magnet', 'Magnolia', 'Mahi', 'Mai', 'Maid', 'Maiden', 'Mail', 'Main', 'Maine', 'Maintain', 'Maintenance', 'Maizies', 'Majerles', 'Major', 'Majority', 'Make', 'Makes', 'Making', 'Makita', 'Malaysian', 'Malbec', 'Malees', 'Malibu', 'Mall', 'Maltese', 'Mama', 'Mamas', 'Mamma', 'Man', 'Management', 'Manager', 'Managerand', 'Managers', 'Manchego', 'Manchurian', 'MandarinCantonese', 'Mandatory', 'Mandy', 'Manger', 'Mangeroperator', 'Mango', 'MangoPomegranate', 'Manhattan', 'Mani', 'Manipulation', 'Mans', 'Manuel', 'Manuels', 'Many', 'Manzanita', 'Manzy', 'Maple', 'MapleSmoked', 'Mar', 'Marathons', 'Marcellino', 'Marcellinos', 'March', 'Marching', 'Marcia', 'Marco', 'Marcus', 'Mardi', 'Maretplace', 'Margaret', 'Margareta', 'Margarita', 'Margaritas', 'MargaritasAM', 'Margaritascheck', 'Margaritta', 'Margherita', 'Margs', 'Marguerite', 'Maria', 'Maricopa', 'Marie', 'Marilyn', 'Marilyns', 'Marinara', 'Marine', 'Mario', 'Marios', 'Mariott', 'Mark', 'Markeplace', 'Market', 'Marketplace', 'Markets', 'Marketsthat', 'Markie', 'Marnier', 'Marquee', 'Marriage', 'Married', 'Marriot', 'Marriott', 'Marrow', 'Marsala', 'Marsha', 'Marshmallow', 'Mart', 'Martin', 'Martinez', 'Martini', 'Marty', 'Mary', 'Maryland', 'Marys', 'Maryvale', 'Marz', 'Masa', 'Masaiesqe', 'Mascarpone', 'Mash', 'Mashed', 'Masiman', 'Mason', 'Massage', 'Massages', 'Massive', 'Mast', 'Master', 'Mastros', 'Matador', 'Mateo', 'Matney', 'Matt', 'Matter', 'Mattress', 'Matts', 'Mauclerc', 'Maui', 'Mauiits', 'Maureen', 'Maurizio', 'Max', 'Maxx', 'May', 'Maybe', 'Mayo', 'Mays', 'Maytag', 'Mbps', 'Mc', 'McCain', 'McClendon', 'McClendons', 'McClintock', 'McCormick', 'McDonalds', 'McDowell', 'McDs', 'McGees', 'McGinnis', 'McGrath', 'McGraths', 'McGrittles', 'McKellips', 'McNuggets', 'McRae', 'Mcdonald', 'Mcdonalds', 'Mcklintock', 'Meal', 'Meals', 'Meant', 'Meanwhile', 'Meat', 'Meatball', 'Meatballs', 'Meatloaf', 'Meatza', 'Mechado', 'Mechanical', 'Mecinas', 'Media', 'Medical', 'Mediocre', 'Mediterranean', 'Medium', 'Meetup', 'Mega', 'Megan', 'Meh', 'Mei', 'Meineke', 'Mekong', 'Mel', 'Meling', 'Melissa', 'Mellow', 'MelonFishPhoto', 'Melrose', 'Melt', 'Melting', 'Melts', 'Member', 'Membership', 'Memo', 'Memorial', 'Men', 'Menchiesmuch', 'Menu', 'Merc', 'Mercedes', 'MercedesBMWLexusJaguar', 'Mercury', 'Merry', 'Mesa', 'MesaGateway', 'Mesas', 'Meshas', 'Mesquite', 'Mess', 'Met', 'Metate', 'Methinks', 'Metro', 'Mex', 'Mexican', 'Mexicanstyle', 'Mexico', 'Mexicono', 'Meyer', 'Mi', 'MiMis', 'Mia', 'Miagi', 'Miami', 'Mias', 'Michael', 'Michaels', 'Michelada', 'Michelinas', 'Michelle', 'Michigan', 'Mickey', 'Mickie', 'Micky', 'Microwaved', 'Mid', 'Middle', 'Midnight', 'Mido', 'Midpriced', 'Midwest', 'Midwesterner', 'Might', 'Mighty', 'Mignon', 'Miguel', 'Mikado', 'Mike', 'Mikes', 'Mila', 'Milagros', 'Milano', 'Milanos', 'Mile', 'Milic', 'Milk', 'Milkshake', 'Mill', 'Mille', 'MilleFeuille', 'Miller', 'Mills', 'Millwich', 'Mimis', 'Mimosa', 'Mims', 'Min', 'Mina', 'Mind', 'MindBody', 'Mine', 'Minestrone', 'Mini', 'Minimal', 'Minna', 'Minnesota', 'Minnie', 'Mins', 'Mint', 'Miracle', 'Mirage', 'Miranda', 'Mirrors', 'Mirushe', 'Mischas', 'Misir', 'Miso', 'Misono', 'Miss', 'Mission', 'Mississippi', 'Mist', 'Mistake', 'Mistakes', 'Mister', 'Misto', 'Mistos', 'Mitch', 'Miu', 'Mix', 'Mixed', 'Mm', 'Mmm', 'Mmmm', 'Mmmmgood', 'Mmmmm', 'Mmmmmmm', 'Mmmmmmmm', 'Mmmmmmmmmmmm', 'Mo', 'MoJo', 'Mocchiato', 'Mocha', 'Mochi', 'Mock', 'Moco', 'Model', 'Moderate', 'Modern', 'Moescow', 'Mohawk', 'Moist', 'Mojito', 'Mojitos', 'Mojo', 'Mojos', 'Mole', 'Molinos', 'Molly', 'Mom', 'MomPop', 'Momma', 'Mommys', 'Moms', 'MonFri', 'MonSat', 'MonTues', 'Monarch', 'Monday', 'Mondays', 'Mongolian', 'Monkey', 'Monsieuror', 'Monster', 'Monsters', 'Monte', 'Montelucia', 'Montenegro', 'Monterey', 'Monterrey', 'Monty', 'Moo', 'Moon', 'Moons', 'Moores', 'Morale', 'Moreover', 'Morgan', 'Mormon', 'Mormonic', 'Morning', 'Moroccan', 'Morons', 'Morristown', 'Mortons', 'Moscow', 'Mosear', 'Mostly', 'Motel', 'Motherinlaw', 'Mothers', 'Motor', 'Mountain', 'Mountains', 'Mouse', 'Mouth', 'Move', 'Moved', 'Movement', 'Movie', 'Moviegoers', 'Movies', 'Moving', 'Mozarella', 'Mozza', 'Mozzarella', 'MozzarellaParma', 'Mpls', 'Mr', 'MrLynn', 'Mrs', 'Mu', 'Muay', 'Much', 'Mucho', 'Mudd', 'Mudslide', 'Muertos', 'Muffler', 'Mule', 'Multiple', 'Munchener', 'Munich', 'Murderesque', 'Murphys', 'Murray', 'Museum', 'Mush', 'Mushroom', 'Mushrooms', 'Music', 'Musscles', 'Mussels', 'Must', 'Mustachio', 'Mutton', 'Mylissa', 'Mystery', 'N', 'NAAAAAH', 'NAG', 'NAMASTE', 'NAME', 'NASCAR', 'NASTY', 'NAUs', 'NBA', 'NC', 'NCOUNTER', 'NCounter', 'NE', 'NEAR', 'NEED', 'NEEDED', 'NEVER', 'NEW', 'NEXT', 'NFL', 'NGD', 'NHRA', 'NICE', 'NICER', 'NICEST', 'NIGHT', 'NINE', 'NINJA', 'NJ', 'NJNY', 'NL', 'NOB', 'NOBODY', 'NOCA', 'NOEL', 'NOEl', 'NOM', 'NONE', 'NONEXISTENT', 'NOOOO', 'NOPE', 'NORMAL', 'NOSH', 'NOTE', 'NOTES', 'NOTHING', 'NP', 'NSA', 'NTN', 'NUTS', 'NUVI', 'NW', 'NWOhio', 'NWash', 'NY', 'NYC', 'NYPD', 'Na', 'Naan', 'Nachos', 'Nada', 'Nadia', 'Nadya', 'Nail', 'Nails', 'Nair', 'Nak', 'Naked', 'Nam', 'Nami', 'Nancy', 'Nandos', 'Nans', 'Naot', 'Napa', 'Napoleon', 'Napoleons', 'Napolitano', 'Nasty', 'Natale', 'Natalie', 'Natcher', 'Natchers', 'Nate', 'Natelys', 'Nathans', 'Nation', 'National', 'Nationals', 'Native', 'Naturally', 'Nature', 'Naturopath', 'Naturopathbut', 'Navajo', 'Navy', 'Nay', 'Nazi', 'Nd', 'Nearly', 'Neat', 'Nebbiolo', 'Nebraska', 'Nebraskabut', 'Nectarine', 'Need', 'Needed', 'Needles', 'Needless', 'Needs', 'Negative', 'Negatives', 'Negress', 'Neighbors', 'Neimans', 'Neither', 'Nellos', 'Nengmyun', 'Nervous', 'Nespresso', 'Nestled', 'NetFlix', 'Network', 'Nevada', 'Never', 'Nevertheless', 'New', 'NewYorker', 'Newark', 'Newcomers', 'Newland', 'Newmans', 'Newport', 'NewsHour', 'Next', 'Nhat', 'Nib', 'Nice', 'Nicely', 'Niceso', 'Nick', 'Nicnacs', 'Nicole', 'Nieman', 'Nigeri', 'Night', 'Nigirisashimi', 'Niiiice', 'Nike', 'Nikes', 'Nikki', 'Nikolai', 'Nikon', 'Nile', 'Niman', 'Nina', 'Nine', 'Ninja', 'Nippon', 'Niros', 'Nitas', 'Nites', 'Noble', 'Noblewhich', 'Nobody', 'Nobodys', 'Nobs', 'Nobuo', 'Nobuos', 'Noca', 'Nogales', 'Noir', 'Noiseloud', 'Nom', 'Non', 'NonResident', 'NonResidents', 'None', 'Nonetheless', 'Nonnas', 'Noodle', 'Noodles', 'Noon', 'Noone', 'Nooooooooo', 'Nopalito', 'Nope', 'Nordies', 'Nordique', 'Nordstrom', 'Nordstroms', 'Norm', 'Normal', 'Normally', 'Normandy', 'Nortena', 'Norterra', 'North', 'Northeast', 'Northern', 'NorthernNortheast', 'Northwest', 'Norton', 'Nosh', 'Note', 'Notes', 'Nothing', 'Notice', 'Noticeable', 'Notte', 'Nov', 'Nova', 'November', 'Nowstay', 'Noy', 'Nueva', 'Nuff', 'Nuggets', 'Nulaid', 'Number', 'Nun', 'Nursery', 'Nut', 'Nutcracker', 'Nuteila', 'Nutella', 'OB', 'OBGYN', 'OBSCENE', 'OBSESSED', 'OBVIOUSLY', 'OBrien', 'OCD', 'OCLOCK', 'ODonnell', 'OFFERED', 'OFTEN', 'OH', 'OHSO', 'OJ', 'OK', 'OKAY', 'OLD', 'OMFG', 'OMG', 'OMGheaven', 'OMT', 'ONE', 'ONEHOPE', 'ONEOFAKINDits', 'OOOOOWWWEEEE', 'OOPS', 'OPEN', 'OPI', 'OPear', 'ORDER', 'ORiva', 'OSF', 'OSP', 'OSU', 'OSullivans', 'OT', 'OTB', 'OTFM', 'OUTFRONT', 'OUTRAGEOUS', 'OUTSTANDING', 'OUTTA', 'OVERALL', 'OVERPRICED', 'OYE', 'Oahu', 'Oak', 'Oakland', 'Oakville', 'Oasis', 'Oatmeal', 'Oaxaca', 'Obligatory', 'Obsessed', 'Obviously', 'Occasionally', 'Ocean', 'Ocotillo', 'Oct', 'October', 'Oddly', 'Odinian', 'Odom', 'Offer', 'Office', 'Officer', 'Often', 'Oggie', 'Oh', 'OhI', 'Ohand', 'Ohhh', 'Ohhhhkay', 'Ohio', 'Ohthe', 'Oil', 'Oink', 'Ok', 'OkI', 'Okaaaaay', 'Okay', 'OkayI', 'Okayfollow', 'Okaytalk', 'Oklahoma', 'Okra', 'Okso', 'Oktoberfest', 'Old', 'Oldtimey', 'Olive', 'Oliver', 'Olives', 'Olivos', 'Ollie', 'Oly', 'Olympia', 'Olympic', 'Omelet', 'Omelets', 'Omelette', 'OnStar', 'One', 'Onion', 'Onions', 'Ono', 'Onto', 'Oo', 'Ooh', 'Oooh', 'Oooohhhh', 'Oooooooo', 'Oops', 'Oopssometimes', 'Open', 'OpenTable', 'Opening', 'Opens', 'Opera', 'Operations', 'Oprah', 'Opto', 'Opus', 'Orange', 'Orchata', 'Order', 'Ordered', 'Ordering', 'Ordinarily', 'Orecchiette', 'Oreganata', 'Oregano', 'Oreganos', 'Oreganymphos', 'Oregon', 'Oregonian', 'Oreo', 'Oreos', 'Organic', 'Organize', 'Orgasm', 'Orient', 'Oriental', 'Original', 'Originality', 'Originally', 'Orlando', 'Orleans', 'OrleansSERIOUSLY', 'Orleanscajun', 'Orthodonitcs', 'Orthodontic', 'Orvieto', 'Oscar', 'Osco', 'Osetra', 'Osteopathic', 'Oster', 'Otaku', 'Others', 'Otherwise', 'Outdated', 'Outdoor', 'Outer', 'Outfitters', 'Outrigger', 'Outside', 'Outstanding', 'Overall', 'Overcome', 'Overcooked', 'Overcrowded', 'Overly', 'Overpriced', 'Owen', 'Owl', 'Owned', 'Owner', 'Owners', 'Oxbow', 'Oxidizing', 'Oxtail', 'Oysters', 'Oz', 'P', 'P2', 'P3', 'P90X', 'PA', 'PAC', 'PACK', 'PACKED', 'PANCAKES', 'PARKING', 'PASSED', 'PAT', 'PATRONIZE', 'PAVLOV', 'PAY', 'PAYING', 'PB', 'PBJ', 'PBR', 'PBS', 'PC', 'PCG', 'PEELED', 'PENNY', 'PEOPLE', 'PER', 'PERFECT', 'PERFECTION', 'PF', 'PFD', 'PGA', 'PHENOMENAL', 'PHO', 'PHOENIX', 'PHOnomenal', 'PHX', 'PHXpay', 'PHhighly', 'PICKY', 'PIECE', 'PIG', 'PILE', 'PISTACHIO', 'PITA', 'PIZZA', 'PIschke', 'PJ', 'PJL', 'PKH', 'PLACE', 'PLAIN', 'PLEASE', 'PLENTIFUL', 'PLENTY', 'PLLLEEEEAAAASSSEEEEEE', 'PLUS', 'PM', 'PMG', 'PNP', 'POD', 'POINT', 'POOR', 'POS', 'POSH', 'POSTED', 'POT', 'PPP', 'PPPS', 'PPS', 'PR', 'PRESTIGE', 'PRETTY', 'PROMOTE', 'PROTEIN', 'PS', 'PSGuys', 'PSThey', 'PURE', 'PUT', 'PV', 'PVEAH', 'Pa', 'Pablo', 'Pace', 'Pacific', 'Pacifico', 'Pack', 'Packs', 'Pad', 'Paddys', 'Padre', 'Padres', 'Paella', 'Page', 'Pagliacci', 'Paid', 'Pain', 'Paints', 'Pair', 'Paired', 'Pakistani', 'Pal', 'Palace', 'Palees', 'Paletas', 'Palette', 'Palm', 'Palmer', 'Palmers', 'Palms', 'Palomar', 'Pan', 'Panang', 'Pancakes', 'Panchos', 'Pancit', 'Panda', 'Pane', 'Panera', 'Pani', 'Panini', 'Paninis', 'Panko', 'Panna', 'Pants', 'Pao', 'Paolas', 'Papa', 'Papago', 'Papas', 'Papaya', 'Papdi', 'Paper', 'Papgo', 'Pappadeaux', 'Pappadeauxs', 'Pappas', 'Par', 'Paradise', 'Parent', 'Parents', 'Paris', 'Pariswith', 'Park', 'Parker', 'Parking', 'Parks', 'Parkway', 'Parlor', 'Parm', 'Parma', 'Parmagiana', 'Parmesan', 'Parmigiano', 'Part', 'Particularly', 'Party', 'Pasena', 'Paso', 'Pasquale', 'Pass', 'Passion', 'Past', 'Pasta', 'Pastabar', 'Pastas', 'Pastor', 'Pastrami', 'Pastries', 'Pastry', 'Pasty', 'Pastys', 'Pat', 'Path', 'Pathetic', 'Patience', 'Patisserie', 'Patrick', 'Patricks', 'Patron', 'Patterson', 'Patti', 'Patties', 'Paul', 'PaulGStudiocom', 'Paula', 'Pauli', 'Pavillion', 'Pavle', 'Pavlovian', 'Pavlovs', 'Paws', 'Pay', 'Payard', 'Pays', 'Payton', 'Pazookie', 'Pea', 'Peace', 'Peach', 'Peak', 'Peaks', 'Peanut', 'Pear', 'Pearl', 'Peas', 'Pebbles', 'Pecan', 'Pecans', 'Pechuga', 'Pedi', 'Pedicure', 'Pedregal', 'Peebles', 'Peeking', 'Peel', 'Peeped', 'Peeps', 'Peggy', 'Pei', 'Peking', 'Pelo', 'Pelon', 'Penang', 'Pendemums', 'Penh', 'Penne', 'Penny', 'Pennys', 'Penzeys', 'People', 'Peoples', 'Peoria', 'Pepper', 'PepperMr', 'Peppercorn', 'Peppermint', 'Pepperoni', 'Peppers', 'Pepsi', 'Perchance', 'Perfect', 'Perfection', 'Perfectly', 'Performance', 'Perhaps', 'Period', 'Perk', 'Pernil', 'Persian', 'Personal', 'Personally', 'Peruvian', 'Pesto', 'Pet', 'PetSmart', 'Petals', 'Petco', 'Petello', 'Peter', 'Petes', 'Petite', 'Pets', 'PetsHotel', 'Petsmart', 'PhadSeeEw', 'Pharmacy', 'Phenom', 'Phenomenal', 'Phil', 'Philadelphia', 'Philip', 'Philippines', 'Philly', 'Phish', 'Phnom', 'Pho', 'Phoenicia', 'Phoenician', 'Phoenicians', 'Phoenix', 'PhoenixGo', 'PhoenixScottsdale', 'Phoenixish', 'Phoenixmetro', 'Phoenixs', 'Phoeniz', 'Phok', 'Phone', 'Phoneix', 'Phoreal', 'Photo', 'Photomark', 'Photomart', 'Phoyuck', 'Phuket', 'Phx', 'Physical', 'Physician', 'Pi', 'Piaggion', 'Piano', 'Piatto', 'Piazza', 'Pibb', 'Picazzos', 'Piccola', 'Pick', 'Picked', 'Pickle', 'Pickles', 'Pics', 'Picture', 'Pie', 'Piece', 'Pieces', 'Piedmont', 'Pier', 'Pierce', 'Pierre', 'Pierrend', 'Pies', 'Piestewa', 'Pig', 'Pigg', 'Pikes', 'Piled', 'Pils', 'Pilsner', 'Pima', 'Pimms', 'Pimpercrombie', 'Pinata', 'Pinball', 'Pine', 'Pineapple', 'Pinguinos', 'Pink', 'Pinnacle', 'Pinner', 'Pinot', 'Piper', 'Pipes', 'Piping', 'Pirates', 'Pischkes', 'Pistachio', 'Pistachios', 'Pit', 'Pita', 'PitaOh', 'Pitcher', 'Pitt', 'Pittsburgh', 'Pizza', 'PizzaAMetro', 'Pizzaria', 'Pizzas', 'Pizzeria', 'Pizzookie', 'Piña', 'Place', 'Placebo', 'Placed', 'Places', 'Placing', 'Plan', 'Plane', 'Plans', 'Plant', 'Plantar', 'Plantation', 'Plastic', 'Plate', 'Plates', 'Platonically', 'Platter', 'Play', 'Players', 'Plaza', 'Pleasant', 'Please', 'Pleasure', 'Pleeeaaassse', 'Plenty', 'Pleydate', 'Plinko', 'Plinkoesque', 'Plumbing', 'Plus', 'Plush', 'Po', 'PoBoy', 'Poblana', 'Poblano', 'Poca', 'Point', 'Pointe', 'Poivre', 'Poke', 'Polestar', 'Polish', 'Polishcentric', 'Polite', 'Polka', 'Pollo', 'Polo', 'Polytechnic', 'Pomegranate', 'Pomegranates', 'Pomo', 'Poncho', 'Pontiac', 'Pool', 'Pools', 'Poor', 'Pop', 'Popcorn', 'Porchetta', 'Pork', 'Porter', 'Portion', 'Portions', 'Portland', 'Portlandia', 'Portlands', 'Portuguese', 'Posh', 'Positives', 'Possibly', 'PostNet', 'Postino', 'Postinos', 'Postinosame', 'Pot', 'Potato', 'Potatoes', 'Potbelly', 'Potence', 'Potential', 'Pottery', 'Pottinger', 'Pound', 'Pounded', 'Pounds', 'Pourover', 'Pow', 'Power', 'Practical', 'Practice', 'Prada', 'Prawns', 'Predator', 'Preet', 'Prefer', 'Preferably', 'Preferred', 'Prego', 'Premade', 'Premium', 'Prempro', 'Preparada', 'Prepared', 'Prepped', 'Presentation', 'Presents', 'Preserve', 'President', 'Presidential', 'Presidents', 'Press', 'Presto', 'Pretentious', 'Pretty', 'Pretzel', 'Previous', 'Previously', 'Price', 'Priced', 'Priceline', 'Prices', 'Pricewise', 'Pricey', 'Pricing', 'Prickly', 'Pricy', 'Prik', 'Prime', 'Primera', 'Primp', 'Prince', 'Princess', 'Prior', 'Private', 'Pro', 'ProTip', 'Probably', 'Problem', 'Produce', 'Product', 'Productchips', 'Professional', 'Program', 'Prompt', 'Property', 'Props', 'Pros', 'Prosciutto', 'ProsciuttoParmigiano', 'Protip', 'Proud', 'Provencal', 'Provence', 'Province', 'Ps', 'Pub', 'Public', 'Publix', 'Pudding', 'Puddle', 'Pueblo', 'Puff', 'Pug', 'Puka', 'Pull', 'Pulled', 'Pulling', 'Pullman', 'Pulp', 'Pumas', 'Pumpkin', 'Punch', 'Punctual', 'Pungent', 'Punjabi', 'Puntini', 'Pure', 'Purell', 'Puri', 'Purista', 'Purveyor', 'Pushy', 'Pussycat', 'Put', 'Puttanesca', 'Puttanesco', 'Putting', 'Q', 'QC', 'QT', 'QUALITY', 'QUEEN', 'QUESADILLAS', 'QUESTION', 'QUICKLY', 'QUIET', 'Qdoba', 'Qs', 'Quail', 'Qualifier', 'Quality', 'Quarter', 'Quebec', 'Queen', 'Quesadillas', 'Queso', 'Question', 'Quiche', 'Quick', 'Quiessence', 'Quiet', 'QuikTrip', 'Quiktrip', 'Quiktrips', 'Quite', 'Quiznos', 'Quorn', 'Qverpriced', 'Qwest', 'R', 'RA', 'RAD', 'RADIATOR', 'RANCID', 'RANDYS', 'RAW', 'RAWK', 'RAWR', 'RAckin', 'RAs', 'RB', 'RBC', 'RBar', 'RC', 'RDH', 'RDS', 'READ', 'REAL', 'REALLY', 'REASON', 'RECEIVE', 'RECOMMEND', 'RECOMMENDED', 'RED', 'REFUSE', 'REG', 'RELAXthe', 'REMEMBER', 'REQUEST', 'RESELL', 'RESERVATIONS', 'RESTAURANT', 'RESTAURANTS', 'RESULTS', 'RETURN', 'REVIEW', 'RICO', 'RIDICULOUS', 'RIGHT', 'RINGER', 'RIP', 'RIght', 'RL', 'RM', 'ROCK', 'ROCKS', 'ROLL', 'ROOM', 'ROSA', 'ROTC', 'ROTD', 'RR', 'RT', 'RUBEN', 'RUDE', 'RULES', 'RUN', 'RX', 'Ra', 'Rabbit', 'Rabies', 'Rabit', 'Racette', 'Raceway', 'Rachael', 'Rachel', 'Racial', 'Rack', 'Rad', 'Radio', 'Ragin', 'Rai', 'Rail', 'Rain', 'Rainbow', 'Rainforest', 'Raintree', 'Raj', 'Ralph', 'Rama', 'Ramada', 'Ramadas', 'Rambutans', 'Ramen', 'Ramirez', 'Ramiros', 'Rana', 'Ranch', 'Ranchera', 'Rancheros', 'Rancilio', 'Random', 'Randy', 'Range', 'Rapid', 'Rarely', 'Raspadotostitos', 'Raspberry', 'Rat', 'Ratatouillie', 'Rates', 'Ratpack', 'Rave', 'Ravioli', 'Raviolis', 'Raviolli', 'Raw', 'Ray', 'Rd', 'React', 'Read', 'Readers', 'Reading', 'Ready', 'Real', 'RealRider', 'RealRyder', 'Reality', 'Really', 'Realty', 'Reason', 'Reasonable', 'Reasonably', 'Rebecca', 'Rec', 'Received', 'Receives', 'Recently', 'Recommend', 'Recommendation', 'Recommended', 'Record', 'Red', 'RedChili', 'RedDwarf', 'RedSeven', 'RedSevens', 'Redid', 'Redux', 'Reef', 'Reese', 'Reesesyou', 'Refills', 'Reflections', 'Refused', 'Regal', 'Reganera', 'Regarding', 'Regardless', 'Reggiano', 'Regina', 'Regional', 'Regios', 'Regrettably', 'Regular', 'Regularly', 'Regus', 'Reina', 'Reliable', 'Rellano', 'Rellena', 'Relleno', 'Rellenos', 'Remember', 'Reminded', 'Renaissance', 'Renegade', 'Reno', 'Rental', 'Rents', 'Rep', 'Repair', 'Replaced', 'Replacement', 'Republic', 'Republican', 'Republics', 'Request', 'Requested', 'Required', 'Rescue', 'Reservations', 'Residence', 'Resident', 'Residents', 'Resort', 'Responsive', 'Rest', 'Restaurant', 'RestaurantCrush', 'Restaurantcom', 'Restaurants', 'Resteraunt', 'Restored', 'Reuben', 'Revenge', 'Revenue', 'Review', 'Rewards', 'Rewind', 'Rey', 'Reynolds', 'Rhino', 'Rhondas', 'Rhone', 'Rhythm', 'Rib', 'Ribbon', 'Ribeye', 'Ribs', 'Rican', 'Rice', 'Rich', 'Richard', 'Richardsons', 'RichardsonsRokerij', 'Richman', 'Richmonds', 'Rick', 'Rico', 'Ricotta', 'Rides', 'Ridge', 'Ridgemont', 'Ridiculous', 'Ridiculously', 'Riesling', 'Rig', 'Rigatoni', 'Right', 'Rim', 'Rings', 'Rinkukiu', 'Rio', 'Rios', 'Rip', 'Riparian', 'Ripened', 'Rising', 'Risotto', 'Risser', 'Ristorant', 'Ritas', 'Ritos', 'Ritz', 'Rivas', 'River', 'Rivers', 'Riverview', 'RnR', 'Road', 'Roadhouse', 'Roadshow', 'Roam', 'Roaring', 'Roark', 'Roast', 'Roasted', 'Roaster', 'Rob', 'Robb', 'Robbins', 'Robe', 'Robert', 'Robertos', 'Roberts', 'Robin', 'Robyn', 'Rock', 'Rockabilly', 'Rockerij', 'Rocket', 'RocketBurger', 'Rockets', 'Rocking', 'RocknRoll', 'Rocks', 'Rod', 'Rodgering', 'Roeser', 'Rogue', 'Roka', 'Rokerij', 'Roll', 'Rollbasically', 'Rolls', 'Roma', 'Roman', 'Romance', 'Romanellis', 'Romantic', 'Rome', 'Romes', 'Ron', 'Room', 'Rooms', 'Roomy', 'Roosevelt', 'Roost', 'Rooster', 'Root', 'Ropa', 'Rosa', 'Rose', 'Rosemary', 'Rosie', 'Rositas', 'Ross', 'Rosson', 'Rotisserie', 'RottieSheppard', 'Rouge', 'Route', 'Row', 'Roxie', 'Roy', 'Royal', 'Royale', 'Royals', 'Roys', 'Rubbed', 'Ruben', 'Rubiks', 'Rubios', 'Ruby', 'Rubz', 'Rude', 'Rudys', 'Rue', 'Rueben', 'Rues', 'Rugby', 'Rugged', 'Rula', 'Rule', 'Rum', 'Run', 'Russells', 'Russian', 'Rustica', 'Rusticana', 'Rustlers', 'Rusty', 'Rustys', 'Rutabaga', 'Ruth', 'Ruths', 'Rx', 'Ryan', 'SA', 'SACKS', 'SAKE', 'SALAD', 'SALADS', 'SAN', 'SANDWICH', 'SAR', 'SARRC', 'SARs', 'SAUCE', 'SAUSAGE', 'SAs', 'SB', 'SBUX', 'SCENE', 'SCENERY', 'SCHOOL', 'SCHOOLS', 'SCORE', 'SCOTTSDALE', 'SCal', 'SD', 'SDL', 'SE', 'SEARCH', 'SEAT', 'SEATS', 'SECOND', 'SELECT', 'SELECTS', 'SELF', 'SELL', 'SERIOUSLY', 'SERVER', 'SERVICE', 'SET', 'SETTING', 'SEVEN', 'SEXY', 'SF', 'SF25B', 'SFO', 'SFthe', 'SHADE', 'SHADOWS', 'SHAME', 'SHARE', 'SHOP', 'SHORT', 'SHOVED', 'SHOVING', 'SIAM', 'SICK', 'SIDE', 'SIGNATURE', 'SIGNIFICANTLY', 'SIMPLY', 'SIX', 'SIXTY', 'SIiders', 'SIt', 'SJ', 'SJcrappy', 'SKINS', 'SLAMMED', 'SLOW', 'SLURPERS', 'SM', 'SMALLEST', 'SMC', 'SMELLS', 'SMILE', 'SMOKE', 'SMOKES', 'SODA', 'SOFT', 'SOL', 'SOLD', 'SOMEONE', 'SOMETHING', 'SOMEone', 'SONNY', 'SOON', 'SOOO', 'SOOOO', 'SOOOOOOOOO', 'SOOOOOwe', 'SORRY', 'SOULS', 'SOUP', 'SPA', 'SPEAKS', 'SPECIFICALLY', 'SPECTACULAR', 'SPEED', 'SPEEDY', 'SPICY', 'SPIIICCYYYY', 'SPORTS', 'SPOT', 'SPRING', 'SRIRACHA', 'SSC', 'STAFF', 'STAR', 'STARRbut', 'STARS', 'STARVING', 'STAY', 'STILL', 'STL', 'STOP', 'STORE', 'STREET', 'STUDY', 'STUFF', 'STYLE', 'STYLEBABY', 'STYLISH', 'SUCKED', 'SUCKS', 'SULTRYSEDUCTIVE', 'SUMMER', 'SUPER', 'SUPERB', 'SURE', 'SUV', 'SVS', 'SW', 'SWAG', 'SWB', 'SWEATERS', 'SWITCH', 'SYDs', 'Sabor', 'Sabzi', 'Sacks', 'Sacramento', 'Sacred', 'Sad', 'Saddle', 'Sadly', 'Safe', 'Safeway', 'Sage', 'Saguaro', 'Said', 'Saigon', 'Sailors', 'Sakana', 'Sake', 'SakeBomber', 'Saki', 'Sala', 'Salad', 'Salada', 'Saladfresh', 'Salads', 'Salami', 'Salazar', 'Salazars', 'Salcido', 'Salek', 'Salem', 'Sales', 'Salmon', 'Salmons', 'Salon', 'Salontrust', 'Saloon', 'Salsa', 'Salsiccia', 'Salt', 'Salted', 'Salty', 'Salud', 'Salvador', 'Salvation', 'Sam', 'Samburger', 'Sampler', 'Sams', 'Samsung', 'Samuri', 'San', 'SanTan', 'Sanctuary', 'Sanctuarythe', 'Sand', 'Sandals', 'Sandalwood', 'Sandellas', 'Sands', 'Sandwich', 'Sandwiches', 'Sandy', 'Sangria', 'Santa', 'Sante', 'Santi', 'Santisi', 'Sao', 'Sapporo', 'Sara', 'Sarah', 'Sashimi', 'Sat', 'Satay', 'Satisfaction', 'Satori', 'Satuday', 'Saturday', 'SaturdaySunday', 'Saturdays', 'Sauce', 'Saucespread', 'Sausage', 'Sauteed', 'Sautéed', 'Sauv', 'Sauvignon', 'Save', 'Saving', 'Savor', 'Savoy', 'Saw', 'SawThsic', 'Sawed', 'Say', 'Sayin', 'Sazerac', 'Scale', 'Scallop', 'Scallops', 'Scamorza', 'Scandalesque', 'Scandinavian', 'Scape', 'Scheduling', 'Schmicks', 'School', 'Schreiners', 'Schwettyand', 'Scientific', 'Scone', 'Sconedry', 'Score', 'Scorpion', 'Scott', 'Scottsadale', 'Scottsdale', 'ScottsdaleLincoln', 'ScottsdaleParadise', 'Scottsdales', 'Scottsdalian', 'Scottsdalish', 'Scramble', 'Scrambled', 'Scrambler', 'Scramblers', 'Scrap', 'Scraped', 'Screw', 'Sea', 'Seabass', 'Seafood', 'Seamus', 'Sean', 'Seann', 'Seared', 'Sears', 'Seasonal', 'Seasons', 'Seated', 'Seating', 'SeatingLots', 'Seats', 'Seattle', 'Sebastian', 'Sec', 'Second', 'Secondly', 'Secret', 'Security', 'Sedona', 'Sedonawe', 'See', 'Seed', 'Seeded', 'Seeds', 'Seeing', 'Seek', 'Seems', 'Segway', 'Sekong', 'Select', 'Selections', 'Selena', 'Self', 'Seller', 'Selvedge', 'Semerdjian', 'Sen', 'Send', 'Seniors', 'Senor', 'Senorita', 'Sens', 'Sensation', 'Sense', 'Sent', 'Separate', 'Sephora', 'September', 'Sera', 'Serbian', 'Series', 'Serious', 'Seriously', 'Seriouslythis', 'Serously', 'Serptember', 'Served', 'Server', 'Servers', 'Service', 'Serviceridiculously', 'Services', 'Serviceslow', 'Servicewise', 'Serving', 'Setting', 'Seven', 'Several', 'Sew', 'Sex', 'Sexy', 'Shabu', 'Shack', 'Shade', 'ShadysI', 'Shae', 'Shake', 'Shaker', 'Shaking', 'Shame', 'Shanghai', 'Shank', 'Shannon', 'Shar', 'Shark', 'Sharkfest', 'Sharon', 'Sharper', 'Shasta', 'Shaving', 'Shawarma', 'Shawn', 'Shazam', 'Shea', 'Sheen', 'Sheesh', 'Sheila', 'Shell', 'Shelley', 'Shellfish', 'Shelves', 'Shep', 'Shepard', 'Shepards', 'Shepherd', 'Shepherds', 'Sheps', 'Sheraton', 'Sheriff', 'Sherlock', 'Sherry', 'Shes', 'Shimagamo', 'Shin', 'ShinBay', 'Shiner', 'Shins', 'Shirataki', 'Shiraz', 'Shishito', 'Shit', 'Shitake', 'Shitaki', 'Shocked', 'Shoe', 'Shoes', 'Shoot', 'Shooters', 'Shop', 'Shoppe', 'Shops', 'Shoretype', 'Short', 'Shortly', 'Shortys', 'Shot', 'Shotgun', 'Shots', 'Show', 'Showed', 'Shower', 'Shows', 'Shrimp', 'ShrimpPork', 'Shu', 'Shuro', 'Shut', 'Siam', 'Sichuan', 'Sicilian', 'Side', 'SideBar', 'SideBarphx', 'Sidecar', 'Sides', 'Siduri', 'Siebel', 'Sierra', 'Sigh', 'Sign', 'Signature', 'Signed', 'Silberschlag', 'Silvana', 'Silver', 'Silverton', 'Sima', 'Simple', 'Simply', 'Simpson', 'Sin', 'Sinatra', 'Since', 'Sincerely', 'Sinfully', 'Singapore', 'Single', 'Singleton', 'Siphon', 'Sirloin', 'Sit', 'Sitting', 'Situated', 'Sivananda', 'Six', 'Sixth', 'Sizeranne', 'Sizzler', 'Sizzling', 'Skarderud', 'Skiba', 'Skillet', 'Skim', 'Skin', 'Skinny', 'Skip', 'Sky', 'Slaw', 'Sleazers', 'Sleek', 'Slice', 'Sliced', 'Slices', 'Slider', 'Sliders', 'Slightly', 'Slingers', 'Slippery', 'Slope', 'Slow', 'Slowest', 'Small', 'Smaller', 'Smallshared', 'Smash', 'Smashboxx', 'Smashburger', 'Smashed', 'Smeeks', 'Smells', 'Smile', 'Smiles', 'Smittys', 'Smoke', 'Smoked', 'Smokehouse', 'Smokey', 'Smoking', 'Smooth', 'Smoothie', 'Smoothies', 'Smore', 'Smores', 'Smuckers', 'Snaaz', 'Snacks', 'Snap', 'Snikerdoodle', 'Snobbsdaleish', 'Snottsdale', 'Snow', 'SnowFairy', 'SoI', 'Soap', 'Soaps', 'Soas', 'Soba', 'Social', 'Society', 'Societya', 'Soda', 'Sodas', 'Sofiait', 'Soft', 'Softee', 'Softshell', 'Soggy', 'Sol', 'Sold', 'Solitaire', 'Solstice', 'Solutions', 'Som', 'SomTum', 'Sombras', 'Sombreros', 'Someday', 'Somehow', 'Someone', 'Something', 'Somethings', 'Sometimes', 'Somewhere', 'Sommelier', 'Songs', 'Sonic', 'Sonny', 'Sonora', 'Sonoran', 'Sons', 'Sony', 'Sooo', 'Soooo', 'Sooooo', 'Soooooo', 'Soooooooo', 'Sopa', 'Sopapillas', 'Sophia', 'Sophies', 'Sopranos', 'Sopressata', 'Sorbet', 'Sorento', 'Soronan', 'Sorrentino', 'Sorry', 'Sort', 'Sosince', 'Souchong', 'Sound', 'Sounded', 'Sounds', 'Soup', 'Soups', 'Sour', 'Sourdough', 'South', 'SouthWest', 'Southbridge', 'Southeast', 'Southern', 'SouthernSpanish', 'Southwest', 'Southwestern', 'Soutwest', 'Souvia', 'Souvlaki', 'Sowill', 'Sox', 'Soy', 'Soylent', 'Spa', 'Space', 'Spaghetti', 'Spain', 'Spam', 'Spaniards', 'Spanish', 'Spaten', 'Speak', 'Speaking', 'Spearmint', 'Special', 'Specialist', 'Specialists', 'Specials', 'Specifically', 'Speed', 'Speedy', 'Spencer', 'Spend', 'Spent', 'Spice', 'Spiced', 'Spices', 'Spicoli', 'Spicollilike', 'Spicy', 'Spiedini', 'Spieker', 'Spinach', 'Spinal', 'Spinatos', 'Spirits', 'Spiritual', 'Spiro', 'Splendid', 'Splinter', 'Split', 'Splitting', 'Splleeeendid', 'Splurge', 'Spoken', 'Spoon', 'Spoons', 'Sportmans', 'Sports', 'Sportsmans', 'Spot', 'Spotted', 'Spring', 'Springfield', 'Springrolls', 'Springs', 'Sprinkles', 'Sprite', 'Sprouts', 'Spudnuts', 'Spur', 'Spy', 'Squad', 'Square', 'Squash', 'Squaw', 'Squeeze', 'Squirrel', 'Sr', 'Sriracha', 'St', 'Stack', 'Stadium', 'Staff', 'Staffperson', 'Staffpersons', 'Stages', 'Stale', 'Stand', 'Standard', 'Standing', 'Stanley', 'Stans', 'Stapley', 'Star', 'Starbucks', 'Starbucksand', 'Stars', 'Starsthe', 'Start', 'Started', 'Starters', 'Starting', 'Starwood', 'State', 'States', 'Stateside', 'Station', 'Stay', 'Stayed', 'Staying', 'Steak', 'SteakBon', 'Steakchicken', 'Steakhouse', 'Steakmelts', 'Steaks', 'Stealing', 'Steamed', 'Steelhead', 'Steen', 'Steer', 'Steinway', 'Stella', 'Stellar', 'Stellas', 'Stephen', 'Stetson', 'Steve', 'Stew', 'Stewart', 'Sthttpwwwsonoraveterinaryspecialistscom', 'Stick', 'Stickler', 'Sticky', 'Still', 'Stilton', 'Stingray', 'Stinkweeds', 'Stockyards', 'Stone', 'Stop', 'Stopped', 'Store', 'StoresBrewers', 'Stormy', 'Stouffers', 'Stout', 'Stracciatella', 'Strand', 'Strange', 'Strategy', 'Strawberries', 'Strawberry', 'Stream', 'Streamliner', 'Strebe', 'Street', 'Streets', 'Strength', 'Stress', 'Strictly', 'Strip', 'Stripe', 'Strolled', 'Strong', 'Stronger', 'Stronghold', 'Struck', 'Stubbs', 'Stubs', 'Stucky', 'Studebaker', 'Studio', 'Studios', 'Stuff', 'Stuffed', 'Stuffing', 'Stupid', 'Style', 'Stylish', 'Stylists', 'Stylush', 'Styrofoam', 'Subaru', 'Subarus', 'Sublime', 'Subs', 'Subsequently', 'Subtle', 'Suburban', 'Subway', 'Subways', 'Suck', 'Suckers', 'Sud', 'Sue', 'Suffered', 'Suffice', 'Sugar', 'Suggest', 'Suggestion', 'Suite', 'Sullungtang', 'Sum', 'Sumibiyaki', 'Summary', 'Summer', 'Summit', 'Summitt', 'Sun', 'SunThurs', 'Sundae', 'Sundance', 'Sunday', 'Sundayand', 'Sundays', 'Sundaysboo', 'Sundaysfound', 'Sundrops', 'Sunflower', 'Sunnyslope', 'Sunridge', 'Sunrise', 'Suns', 'Sunscreens', 'Sunscreensi', 'Sunset', 'Sunshine', 'Super', 'Superb', 'Superbowl', 'Supercuts', 'Superfriendly', 'Superman', 'Supermarket', 'Superstition', 'Supervisor', 'Supply', 'Support', 'Supposedly', 'Supreme', 'Suprise', 'Sur', 'Sure', 'Surely', 'Surf', 'Surprise', 'SurpriseSun', 'Surprised', 'Surprisingly', 'Surreal', 'Surrounding', 'Suruki', 'Susan', 'Susans', 'Sushi', 'Sushipoo', 'Susies', 'Sven', 'Swaddee', 'Swadee', 'Swear', 'Sweden', 'Swedish', 'Sweeet', 'Sweeping', 'Sweet', 'SweetRepublic', 'Sweeties', 'Sweets', 'Swim', 'Swing', 'Swirl', 'Swiss', 'Switch', 'Switchs', 'Swoop', 'Sword', 'Swordfish', 'Symphony', 'Sysco', 'Systems', 'Szechuan', 'TAKE', 'TALKIN', 'TALLEST', 'TAMARIND', 'TAMfoolery', 'TASTE', 'TASTY', 'TAXI', 'TB', 'TBone', 'TC', 'TCPA', 'TEA', 'TEDS', 'TEN', 'TERRIBLE', 'TGF', 'THANK', 'THATS', 'THICK', 'THINGS', 'THINK', 'THINKING', 'THIRD', 'THOUGHT', 'THREE', 'THROW', 'THRU', 'THUMBS', 'TIFFANY', 'TIME', 'TIMES', 'TINY', 'TIP', 'TJ', 'TJS', 'TJs', 'TJsnow', 'TKs', 'TLC', 'TLCs', 'TODAY', 'TOLD', 'TON', 'TONGUE', 'TONIGHT', 'TONS', 'TOOL', 'TOTAL', 'TOTALLY', 'TOTTS', 'TQLA', 'TREMENDOUS', 'TRIP', 'TROUGH', 'TRUE', 'TRULY', 'TRY', 'TRYING', 'TS', 'TSA', 'TSa', 'TUNED', 'TV', 'TVs', 'TVsfor', 'TWICE', 'TWO', 'TX', 'TYLER', 'Tabasco', 'Tabassco', 'Table', 'Tableoh', 'Tables', 'Tablespoons', 'Tacky', 'Taco', 'Tacos', 'Taffy', 'Tahiti', 'Tai', 'Tail', 'Taipei', 'Taiwanese', 'Takamatsus', 'Take', 'TakeOut', 'Takes', 'Taking', 'Tako', 'Takoyaki', 'Talavera', 'Talent', 'Talibanish', 'Talisha', 'Talk', 'Talked', 'Talking', 'Tam', 'Tamarindo', 'Tamie', 'Tammie', 'Tampa', 'Tampiquena', 'Tan', 'Tana', 'Tandoori', 'Tangerine', 'Tangible', 'Tango', 'Tanzanian', 'Tanzy', 'Taos', 'Tap', 'Tapas', 'Tapenade', 'Taquitos', 'Tara', 'Tarantino', 'Tarbells', 'Targer', 'Target', 'Targets', 'Taro', 'Tart', 'Tartar', 'TartifletteWOW', 'Tassone', 'Taste', 'Tasted', 'Tastefully', 'Tastes', 'Tastings', 'Tasty', 'Tater', 'Tattoo', 'Tatum', 'TatumShea', 'Tatziki', 'Taught', 'Tavern', 'Tawnya', 'Tax', 'Taylor', 'TaylorTassone', 'Taylors', 'Tea', 'Teach', 'Teaks', 'Team', 'Tears', 'Teavana', 'Teavanas', 'Tech', 'Technically', 'Ted', 'Teddy', 'Teds', 'Teehee', 'Tees', 'Teese', 'Teeter', 'Teharu', 'Tejas', 'Telegraph', 'Telephone', 'Tell', 'Tempe', 'TempeMesa', 'TempePhoenix', 'Tempes', 'Temporada', 'Tempranillo', 'Tempura', 'Ten', 'Tender', 'Tenderbelly', 'Tenderloin', 'Tennesee', 'Tent', 'Tepary', 'Tepenyaki', 'Teppiniyaki', 'Tequila', 'Teresa', 'Teriyaki', 'Terminal', 'Terra', 'Terrayki', 'Terrazzo', 'Terrible', 'Terrific', 'Terrill', 'Territory', 'Terrrific', 'Tess', 'Test', 'TexMex', 'TexMexnot', 'Texan', 'Texas', 'Texasstyle', 'Texaz', 'Thai', 'Thaiger', 'Thaigers', 'Thailand', 'Thais', 'Thanh', 'Thank', 'ThankYou', 'Thanked', 'Thankfully', 'Thankgsiving', 'Thanks', 'ThanksLIVING', 'Thanksgiving', 'Thankyou', 'Thats', 'TheStandard', 'Theater', 'Theaters', 'Theatre', 'Thee', 'Theodosopoulos', 'Theodosopouloss', 'Therapy', 'Therefore', 'Therein', 'Therere', 'Theres', 'Theyd', 'Theyll', 'Theyre', 'Theyve', 'Thick', 'Thin', 'Thing', 'Things', 'Think', 'Thinking', 'Thinner', 'Third', 'Thirdly', 'Thirsty', 'Thit', 'Tho', 'Thomas', 'Thompson', 'Thoroughly', 'Though', 'Thought', 'Three', 'Threw', 'Thrifty', 'Throw', 'Throwing', 'Thumbs', 'Thunderbird', 'Thurs', 'Thursday', 'ThursdaySunday', 'Thursdayguess', 'Thursdays', 'Thus', 'Tibi', 'Tibs', 'Tickets', 'Ticoz', 'Tieu', 'Tiffany', 'Tiffanysmy', 'Tiger', 'Tijuana', 'Tikil', 'Tikki', 'Tilapia', 'Tiler', 'Tillys', 'Tim', 'Time', 'Times', 'Timo', 'Timos', 'Tina', 'Tiny', 'Tinys', 'Tip', 'Tipalia', 'Tips', 'Tiramisu', 'Tire', 'Tired', 'Tish', 'Tishs', 'Tit', 'Titan', 'Title', 'Toad', 'Toast', 'Toasted', 'Tobacco', 'Today', 'Todays', 'Todd', 'Todds', 'Toddy', 'Toes', 'Toffee', 'Tofu', 'Togo', 'Tokyo', 'Tokyos', 'Told', 'Toledos', 'Toliet', 'Tolteca', 'Tom', 'Tomahawk', 'Tomasos', 'Tomato', 'Tomatoes', 'Tomi', 'Tommy', 'Tonight', 'Tons', 'Tony', 'Tonys', 'Took', 'Tools', 'Top', 'Top5', 'Topless', 'Topped', 'Topps', 'Torched', 'Tori', 'Torn', 'Torres', 'Torta', 'Tortilla', 'Toshiba', 'Tostadas', 'Total', 'Totally', 'Tots', 'Tottie', 'Totties', 'Touch', 'Tough', 'Tour', 'Tourist', 'Tours', 'Tovar', 'Towards', 'Towed', 'Towel', 'Tower', 'Town', 'TownDowntown', 'Towne', 'Towns', 'Toyota', 'Toys', 'Trace', 'Traces', 'Track', 'Tracks', 'Tracy', 'Tracys', 'Trade', 'Trader', 'Traders', 'Tradersthey', 'Traditional', 'Traffic', 'Trail', 'Trailhead', 'Trails', 'Train', 'Training', 'Tramadol', 'Transcendental', 'Transformersvery', 'Traps', 'Trash', 'Travel', 'TravelZoo', 'Travelzoo', 'Travis', 'Treachery', 'Treasures', 'Treat', 'Treated', 'Treats', 'Tree', 'Treehouse', 'Trek', 'Trendy', 'Tres', 'Tricks', 'Tried', 'Trio', 'Trip', 'Triple', 'Trish', 'Trisha', 'Triva', 'Trivia', 'Troon', 'Trout', 'Troy', 'Truck', 'Truckin', 'True', 'Truffle', 'Truly', 'Trumpet', 'Trunk', 'Trust', 'Trusting', 'Truth', 'Truthfully', 'Try', 'Trying', 'Tryst', 'Tshirt', 'Tsos', 'Tsoynami', 'Tsoynamis', 'Tub', 'Tuck', 'Tucked', 'Tucker', 'Tucson', 'Tuesday', 'Tuesdays', 'Tuition', 'Tum', 'Tummy', 'Tums', 'Tuna', 'Tunes', 'Tupperware', 'Turkey', 'Turkish', 'Turned', 'Turner', 'Turns', 'Turtle', 'Tuscan', 'Tuscany', 'Tutti', 'Tweens', 'Tweet', 'Twenty', 'Twice', 'Twilight', 'Twin', 'Twins', 'Twitter', 'Two', 'Tx', 'Tyler', 'Tylor', 'Typical', 'Typically', 'Tyson', 'Tzatziki', 'U', 'UA', 'UFC', 'UGH', 'UGHin', 'UH', 'UHMAZING', 'UHmazing', 'UK', 'UMMMMMMMMcan', 'UN', 'UNBELIEVABLE', 'UNI', 'UNIQUE', 'UNLESS', 'UNREAL', 'UNo', 'UOPX', 'UPC', 'UPDATE', 'UPS', 'US', 'USA', 'USAirways', 'USD', 'USE', 'USLUL', 'USPS', 'USemail', 'UV', 'UX10', 'UYE', 'Uber', 'Uchi', 'Udder', 'Udon', 'Udupai', 'Udupi', 'Ugh', 'Ugly', 'Uh', 'Uhaul', 'Uhh', 'Ukrainian', 'Ulta', 'Ultimate', 'Ultimately', 'Ultra', 'Um', 'Umami', 'Umbria', 'Umm', 'Ummm', 'UnPhogettable', 'Unacceptable', 'Unagi', 'Unbelievable', 'Uncaring', 'Undecided', 'Undr', 'Unexplainably', 'Unfortunately', 'Uni', 'Union', 'Unique', 'United', 'Units', 'University', 'Unless', 'Unlike', 'Unnecessary', 'Unocal', 'Unofficial', 'Unprofessional', 'Unted', 'Unusually', 'Upbeat', 'Update', 'Updates', 'Updating', 'Upon', 'Upper', 'Uptown', 'Urban', 'Urgent', 'Uruguay', 'Us', 'Usain', 'Use', 'Used', 'Useless', 'Using', 'Usual', 'Usually', 'Utah', 'V', 'VA', 'VALUE', 'VARIETY', 'VCA', 'VETS', 'VIBE', 'VIETNAMESE', 'VIG', 'VIOLENCE', 'VIP', 'VIPs', 'VSC', 'VW', 'Va', 'Vac', 'Vaca', 'Vacation', 'Val', 'Valentines', 'Valerie', 'Valet', 'Valid', 'Valle', 'Valley', 'Valleyno', 'Valleyor', 'Valleys', 'Valomilk', 'Value', 'Van', 'Vancouver', 'Vandalized', 'Vang', 'Vanilla', 'Vans', 'Variety', 'Various', 'Vatican', 'Vatoci', 'Vatra', 'Vday', 'Veal', 'Vegan', 'Vegas', 'Vegetable', 'Vegetables', 'Vegetarian', 'VegetarianVegan', 'Veggie', 'Veggies', 'Velvet', 'Velveta', 'Vendors', 'Venice', 'Venus', 'Venyse', 'Vera', 'Verde', 'Verdes', 'Verdict', 'Verduras', 'Vermont', 'Vermonter', 'Veronica', 'Veronique', 'Verrado', 'Verse', 'Verts', 'Verve', 'Vesper', 'Vet', 'Veterinary', 'Vets', 'Viad', 'Viagra', 'Vice', 'Vickys', 'Vics', 'Victorian', 'Victorias', 'Video', 'Viejas', 'Vien', 'Viet', 'Vietnam', 'Vietnamese', 'Vietri', 'View', 'Views', 'Vig', 'VigAzz', 'Vignettes', 'Viking', 'Vikings', 'Vile', 'Village', 'Vinagrette', 'Vincent', 'Vincents', 'Vindaloo', 'Vine', 'Vines', 'Vings', 'Vintage', 'Viola', 'Virginia', 'Visit', 'Visited', 'Visiting', 'Visitors', 'Vista', 'Vistal', 'Vitality', 'Vitamin', 'Vitamins', 'Vodka', 'VodkaGinger', 'Voga', 'Voila', 'Volcano', 'Von', 'Vs', 'W', 'WA', 'WAC', 'WAH', 'WAIT', 'WANT', 'WANTED', 'WARNING', 'WASTE', 'WATCH', 'WATER', 'WATERSLIDES', 'WAY', 'WAYYY', 'WBC', 'WBCs', 'WCG', 'WEATHER', 'WEBSITE', 'WEEK', 'WEEKEND', 'WELL', 'WHEREVER', 'WHITE', 'WHOA', 'WHOAH', 'WHOLE', 'WHOPPER', 'WINDY', 'WINE', 'WISEGUY', 'WISH', 'WIthin', 'WM', 'WONDERFUL', 'WONT', 'WONTON', 'WOOHOO', 'WORKING', 'WORKS', 'WORLD', 'WORSE', 'WORST', 'WORTH', 'WORTHY', 'WOW', 'WOWexciting', 'WRAPS', 'WRITE', 'WRONG', 'WT', 'WTF', 'WTH', 'WWE', 'WWINE', 'Wa', 'Waaaaaay', 'Wacky', 'Waffle', 'Waffles', 'Wag', 'WagnWash', 'Wagyu', 'Wahoo', 'Waikiki', 'Wait', 'Waited', 'Waiter', 'Waiters', 'Waiting', 'Waitress', 'Waitstaff', 'WalMart', 'Waldorf', 'Walgreens', 'Walk', 'Walked', 'Walking', 'Wall', 'Wallhangings', 'Wally', 'Wallys', 'Walmart', 'Walmartized', 'Walnut', 'Wanda', 'Wandas', 'Wanna', 'Want', 'Wanted', 'Wants', 'War', 'Warm', 'Warner', 'Warning', 'Wars', 'Wasabi', 'Wash', 'Washday', 'Washed', 'Washer', 'Washington', 'Wasnt', 'Waste', 'Waster', 'Watch', 'Watching', 'Water', 'Waterfront', 'Waters', 'Watt', 'Wavelle', 'Wax', 'Way', 'Wayne', 'Ways', 'WeKoPa', 'Wear', 'Webe', 'Website', 'Wed', 'Wedding', 'Wedge', 'Wednesday', 'WednesdaySaturday', 'Wednesdays', 'Weds', 'Week', 'Weekday', 'Weekend', 'Weeks', 'Wei', 'Weihenstephaner', 'Weil', 'Weird', 'Weirdos', 'Weirdthe', 'Weis', 'Welcome', 'Welcoming', 'Well', 'Welleven', 'Wellit', 'Welllit', 'Wellness', 'Wellno', 'Wellwait', 'Wendys', 'Went', 'Wes', 'West', 'Western', 'Westgate', 'Westin', 'Westminster', 'Westside', 'Westward', 'Weve', 'Whaat', 'Whatever', 'Whats', 'WhenHarryMetSally', 'Whenever', 'Whered', 'Wheres', 'Whether', 'Whew', 'Whimsical', 'White', 'Whites', 'Whiteys', 'Whitney', 'Whoa', 'Whod', 'Whoever', 'Whole', 'Wholeheartedly', 'Whore', 'Whyd', 'WiFi', 'Wich', 'Wicked', 'Wide', 'Wife', 'Wifey', 'Wifi', 'Wigwam', 'Wikipedia', 'Wil', 'Wild', 'Wildfish', 'Wildflower', 'Wildhorse', 'Willamette', 'Willie', 'Willow', 'Wills', 'Willy', 'Willys', 'Win', 'Windsor', 'Wine', 'Wings', 'Winkies', 'Winner', 'Winning', 'Winter', 'Winwin', 'Wipesorry', 'Wisconsin', 'Wisconsinite', 'Wiseguy', 'Wish', 'Witches', 'Withaspoon', 'Within', 'Without', 'Wizard', 'Woah', 'Wolfpack', 'Wolverine', 'Woman', 'Wonder', 'Wonderful', 'Wonderfully', 'Wonderland', 'Wongs', 'Wont', 'Wontons', 'Woo', 'Wood', 'Woodlands', 'Woohoo', 'Wooooooooo', 'Word', 'Words', 'Work', 'Worked', 'World', 'Worse', 'Worst', 'Worth', 'Wott', 'Would', 'Wouldnt', 'Wow', 'Wrap', 'Wrapped', 'Wraps', 'Wrath', 'Wreck', 'Wright', 'Wrigley', 'WrigleyvilleChicago', 'Writing', 'Wrong', 'Ws', 'Würze', 'X5', 'XBOX', 'XCP', 'XL', 'XLV', 'XRays', 'XYZ', 'Xanax', 'Xavier', 'Xbox', 'Xmas', 'YAHUMMEE', 'YAY', 'YCs', 'YEAH', 'YEAR', 'YEARLY', 'YEARS', 'YELP', 'YELPs', 'YES', 'YESSSSS', 'YET', 'YGL', 'YIKES', 'YMCA', 'YOGURTLAND', 'YOURE', 'YOWZA', 'YUCK', 'YUK', 'YUM', 'YUMMMMMM', 'YUMMMMMMMM', 'YUMMY', 'YUNG', 'YUUKK', 'Ya', 'Yahoo', 'Yakaguru', 'Yall', 'Yang', 'Yanks', 'Yard', 'Yasu', 'Yasus', 'Yay', 'Yea', 'Yeah', 'YeahIm', 'Yeahlike', 'Yeahnotsomuch', 'Year', 'Years', 'Yelena', 'Yellow', 'Yelp', 'YelpAdvertised', 'YelpI', 'Yelped', 'Yelper', 'Yelpers', 'Yelping', 'Yen', 'Yep', 'Yes', 'Yesterday', 'Yet', 'Yew', 'Yikes', 'YikesI', 'Yin', 'Yippee', 'Yknow', 'Yo', 'Yodeling', 'Yoga', 'Yogalates', 'Yoghund', 'Yogis', 'Yogurt', 'Yogurtini', 'Yogurtland', 'Yogurtology', 'Yogurtopia', 'Yolis', 'Yon', 'YooHoo', 'York', 'Yorker', 'Yorkers', 'Yorkie', 'YouTube', 'Youd', 'Youki', 'Youll', 'Young', 'Youngtown', 'Youre', 'Youve', 'Yraguis', 'Yuck', 'Yukgejang', 'Yukon', 'Yum', 'YumO', 'Yuma', 'Yumjust', 'Yumm', 'Yummmayyyy', 'Yummmm', 'Yummmmm', 'Yummy', 'Yung', 'Yup', 'Yupha', 'Yuphas', 'Yuris', 'Yusefs', 'Yuuuummmmae', 'Yuuuuuuum', 'Yyyeeaahhhhsooooothe', 'Z', 'Z11', 'ZERO', 'ZExperience', 'ZGrill', 'ZIA', 'ZIPPS', 'ZIn', 'Zach', 'Zam', 'Zanella', 'Zankou', 'Zappos', 'Zatsiki', 'Zen', 'Zero', 'Zesty', 'Zha', 'Zin', 'ZinBurger', 'Zinburger', 'Zinburgergeist', 'Zinc', 'Zinfandel', 'Zipcar', 'Zippers', 'Zipps', 'Ziti', 'Zoe', 'Zoes', 'Zombi', 'Zombies', 'Zone', 'Zoners', 'Zoo', 'Zoyo', 'ZuZu', 'ZuZus', 'Zucca', 'Zumba', 'Zupas', 'Zuzu', 'aback', 'abandoned', 'abandoning', 'abbreviate', 'abbreviated', 'abdomen', 'abhor', 'abiding', 'abilities', 'ability', 'abilty', 'able', 'abodoba', 'abou', 'abound', 'aboutseriously', 'abovehaving', 'abrasion', 'abroad', 'abrupt', 'absence', 'absent', 'absoloutely', 'absolute', 'absolutely', 'absolutley', 'absolutly', 'absorb', 'absorption', 'abstain', 'abstained', 'abstract', 'absurd', 'absurd8', 'abundance', 'abundant', 'abuse', 'abused', 'abusive', 'abysmal', 'ac', 'academy', 'accent', 'accented', 'accents', 'accept', 'acceptable', 'accepted', 'accepting', 'accepts', 'access', 'accessed', 'accessible', 'accessories', 'accessorize', 'accessory', 'accident', 'accidental', 'accidentally', 'accidently', 'acclaimed', 'accolades', 'accommodate', 'accommodated', 'accommodates', 'accommodating', 'accommodation', 'accommodations', 'accomodate', 'accomodated', 'accomodating', 'accompanied', 'accompanies', 'accompaniment', 'accompany', 'accompanying', 'accomplish', 'accomplished', 'accomplishment', 'according', 'accordingly', 'account', 'accountable', 'accounts', 'accoutrements', 'accredited', 'accross', 'accumulated', 'accurate', 'accurately', 'accusation', 'accused', 'accustom', 'accustomed', 'ace', 'ache', 'acheat', 'aches', 'achieve', 'achieved', 'achievement', 'acid', 'acidic', 'acknowledge', 'acknowledged', 'acknowledgement', 'acknowledging', 'ackward', 'acoustic', 'acoustics', 'acquaintance', 'acquaintence', 'acquired', 'acres', 'acrid', 'across', 'acrylics', 'act', 'acted', 'acting', 'action', 'actions', 'activation', 'active', 'activehealthy', 'actively', 'activism', 'activities', 'activitiessuch', 'activity', 'actor', 'actors', 'acts', 'actual', 'actuality', 'actually', 'actualy', 'actully', 'acute', 'acy', 'ad', 'adage', 'adamant', 'adapter', 'add', 'addd', 'added', 'addict', 'addicted', 'addicting', 'addictingly', 'addiction', 'addictionand', 'addictive', 'addicts', 'adding', 'addition', 'additional', 'additions', 'addon', 'addperhaps', 'address', 'addressed', 'addressing', 'addressweb', 'adds', 'adequate', 'adequately', 'adjacent', 'adjoining', 'adjust', 'adjusted', 'adjustment', 'adjustments', 'administrative', 'admire', 'admired', 'admiring', 'admission', 'admit', 'admits', 'admitted', 'admittedly', 'admitting', 'admonishment', 'ado', 'adobada', 'adobo', 'adolescence', 'adopt', 'adopted', 'adoption', 'adoptions', 'adorable', 'adoration', 'adore', 'adorned', 'adorning', 'adovada', 'adquate', 'ads', 'adult', 'adulthood', 'adults', 'advance', 'advanced', 'advancing', 'advantage', 'advantages', 'adventure', 'adventures', 'adventurous', 'adversity', 'advertise', 'advertised', 'advertisement', 'advertisements', 'advertising', 'adverts', 'advice', 'advicedo', 'advise', 'advised', 'advising', 'advisors', 'advocate', 'advocated', 'aerators', 'aerobic', 'aerobics', 'aeropress', 'aerosol', 'aesthetics', 'affair', 'affect', 'affected', 'affects', 'afficianados', 'affiliated', 'affiliates', 'affiliation', 'affliction', 'affluent', 'afforadable', 'afford', 'affordable', 'aficionado', 'aficionados', 'afloat', 'aforementioned', 'afoul', 'afraid', 'afterall', 'afterbar', 'afterglow', 'afternoon', 'afternoons', 'aftertaste', 'afterthought', 'afterward', 'afterwards', 'againRamiros', 'againbut', 'againno', 'againthe', 'agape', 'agave', 'age', 'aged', 'agemy', 'agency', 'agent', 'agents', 'ages', 'aggressive', 'aging', 'agitated', 'ago', 'agonizing', 'agony', 'agree', 'agreeable', 'agreeably', 'agreed', 'agreeing', 'agreement', 'agrees', 'agua', 'aguas', 'ah', 'ahead', 'ahem', 'ahhh', 'ahhhh', 'ahi', 'ahing', 'ahold', 'ahwatukee', 'aid', 'aim', 'aimed', 'aimlessly', 'aims', 'aint', 'aioli', 'aiptasia', 'air', 'airand', 'airconditioned', 'aircooled', 'airfair', 'airfare', 'airline', 'airlines', 'airpark', 'airplane', 'airport', 'airports', 'airways', 'airy', 'aisde', 'aisle', 'aisles', 'ajar', 'ajos', 'ajvar', 'aka', 'aki', 'aknowledging', 'al', 'ala', 'alarmed', 'alas', 'alastoo', 'albacore', 'albeit', 'album', 'albums', 'alcohol', 'alcoholic', 'aldente', 'aldo', 'ale', 'alert', 'alerting', 'ales', 'alfredo', 'algae', 'alienate', 'alienated', 'aliens', 'alike', 'alittle', 'alive', 'allPredominant', 'alla', 'allayed', 'alleged', 'allergen', 'allergic', 'allergies', 'allergy', 'alleviated', 'alley', 'allhe', 'alli', 'alligator', 'allnatural', 'allnighter', 'allnightlong', 'allocating', 'allot', 'alloted', 'allotted', 'allow', 'allowable', 'allowance', 'allowed', 'allowing', 'allows', 'allstar', 'allure', 'alluringMaybe', 'allyoucaneat', 'almond', 'almondorange', 'almonds', 'almondsthis', 'almost', 'aloe', 'alone', 'along', 'alongside', 'alons', 'aloo', 'aloof', 'alot', 'aloud', 'alread', 'already', 'alright', 'also', 'alter', 'alteration', 'alterations', 'altercation', 'altered', 'altering', 'alternately', 'alternative', 'alternatively', 'alternatives', 'although', 'altogether', 'aluminum', 'alums', 'alway', 'always', 'alwayswe', 'ama', 'amaazing', 'amaebi', 'amaretti', 'amarettiOMG', 'amaretto', 'amarillo', 'amateur', 'amaze', 'amazeballs', 'amazed', 'amazement', 'amazes', 'amazing', 'amazingI', 'amazingan', 'amazinghe', 'amazingly', 'amazingness', 'amazingtruly', 'amazingwe', 'amazon', 'amber', 'ambiance', 'ambience', 'ambient', 'ambrosia', 'amenable', 'amend', 'amendment', 'amenities', 'amenity', 'america', 'american', 'americano', 'americanos', 'ami', 'amicable', 'amid', 'amidst', 'ammo', 'ammonia', 'among', 'amongst', 'amonst', 'amore', 'amount', 'amounted', 'amounts', 'amp', 'ample', 'ampm', 'amuse', 'amusebouche', 'amused', 'amusement', 'amusing', 'anal', 'anallyretentive', 'analogy', 'analysis', 'analyze', 'anatomical', 'ancho', 'anchor', 'anchors', 'anchovies', 'anchovy', 'ancient', 'ancillary', 'andEncanto', 'andor', 'andouille', 'andthe', 'anecdotes', 'anemic', 'anesthetic', 'anew', 'angel', 'angelic', 'angels', 'anger', 'anglaise', 'angle', 'angler', 'angles', 'angry', 'angst', 'animal', 'animals', 'animated', 'animatronics', 'anise', 'ankle', 'ankles', 'anniversary', 'announced', 'announces', 'annoy', 'annoyance', 'annoyed', 'annoying', 'annual', 'anomaly', 'anonymous', 'another', 'anotherits', 'anotherwho', 'ans', 'answer', 'answered', 'answering', 'answers', 'ant', 'antchiladas', 'anti', 'antiaging', 'antibiotic', 'anticipate', 'anticipated', 'anticipateda', 'anticipatedthe', 'anticipating', 'anticipation', 'anticlimatic', 'antipasta', 'antipasti', 'antipasto', 'antique', 'antiqueetc', 'antiques', 'antiquing', 'antiseptic', 'antisocial', 'antithesis', 'antivirus', 'antlerchandeliers', 'ants', 'anxiety', 'anxious', 'anxiously', 'anybody', 'anyday', 'anyhow', 'anymore', 'anyone', 'anyones', 'anyplace', 'anything', 'anythings', 'anytime', 'anyway', 'anywayIts', 'anywayit', 'anyways', 'anywaysbut', 'anywhere', 'ao', 'aok', 'ap', 'apart', 'apartment', 'apartments', 'ape', 'apiece', 'apologetic', 'apologetically', 'apologies', 'apologize', 'apologized', 'apologizedreally', 'apologizes', 'apologizing', 'apology', 'apostles', 'apothecary', 'app', 'appaled', 'appalled', 'appalling', 'apparantly', 'apparel', 'apparent', 'apparently', 'apparitions', 'appauled', 'appauling', 'appeal', 'appealed', 'appealing', 'appeals', 'appear', 'appearance', 'appearances', 'appeared', 'appears', 'appeasing', 'appertizer', 'appetite', 'appetito', 'appetizaer', 'appetizer', 'appetizers', 'appetizerwhich', 'appetizing', 'appitizer', 'applaud', 'applause', 'apple', 'apples', 'appletini', 'appletinis', 'applewood', 'appliances', 'applicable', 'applied', 'applies', 'apply', 'applying', 'appoinmtnt', 'appointed', 'appointment', 'appointments', 'appointmentsand', 'appologized', 'appraisal', 'appraisals', 'appraiser', 'appreciate', 'appreciated', 'appreciates', 'appreciation', 'appreciative', 'apprehensive', 'apprehensiveand', 'appreicate', 'approach', 'approachable', 'approached', 'approaches', 'approaching', 'appropriate', 'appropriately', 'approval', 'approved', 'approx', 'approximate', 'approximately', 'apps', 'appt', 'appy', 'appys', 'apricot', 'april', 'apron', 'apt', 'aqua', 'aquarium', 'aquiring', 'ar', 'arbol', 'arboreal', 'arcade', 'arches', 'architecture', 'archive', 'archway', 'area', 'areaa', 'areacheck', 'areas', 'areawell', 'arehere', 'areif', 'arena', 'arent', 'arentcheck', 'argue', 'argued', 'argues', 'arguing', 'argumentative', 'arise', 'arises', 'arizona', 'arlecchino', 'arm', 'armed', 'arms', 'armsand', 'army', 'aroma', 'aromas', 'aromatherapy', 'aromatic', 'aromatics', 'around', 'aroundI', 'aroundand', 'arousal', 'arragont', 'arrange', 'arranged', 'arrangement', 'arrangements', 'arranging', 'array', 'arrest', 'arrested', 'arrival', 'arrive', 'arrived', 'arriveddeparted', 'arrivedsteaming', 'arrives', 'arriving', 'arrogance', 'arrogant', 'arroz', 'art', 'artesian', 'artful', 'artfully', 'artichoke', 'artichokes', 'article', 'articles', 'articulate', 'artifacts', 'artificial', 'artificially', 'artisan', 'artisans', 'artist', 'artistic', 'artistically', 'artistry', 'artists', 'arts', 'artsy', 'artwork', 'arty', 'arugala', 'arugula', 'asada', 'asado', 'asana', 'asap', 'asasda', 'ascend', 'ascent', 'ash', 'ashamed', 'ashes', 'ashtray', 'asian', 'aside', 'ask', 'askchildhood', 'asked', 'askin', 'asking', 'asks', 'asleep', 'asparagus', 'aspargus', 'aspect', 'aspects', 'aspire', 'aspirin', 'aspiring', 'ass', 'assault', 'assaulted', 'assaults', 'asserted', 'asses', 'assessed', 'assessment', 'asset', 'assets', 'asshat', 'asshole', 'assholes', 'assigned', 'assignment', 'assinine', 'assist', 'assistance', 'assistant', 'assistants', 'assisted', 'asskissing', 'assoc', 'associate', 'associated', 'associates', 'association', 'assorted', 'assortment', 'assume', 'assumed', 'assumes', 'assuming', 'assumption', 'assumptions', 'assurance', 'assure', 'assured', 'assuredly', 'astatically', 'asterisk', 'astonished', 'astonishing', 'astonishingly', 'astounded', 'astounding', 'astrological', 'astronomical', 'asu', 'atari', 'ate', 'athelete', 'athlete', 'athletes', 'athletic', 'athletica', 'atlantic', 'atleast', 'atm', 'atmosphere', 'atmosphereIll', 'atmosphereblue', 'atmosphereits', 'atmospherejust', 'atomic', 'atomosphere', 'atop', 'atrium', 'atrocious', 'atrociously', 'attached', 'attack', 'attacked', 'attacks', 'attain', 'attained', 'attarct', 'attempt', 'attempted', 'attempting', 'attempts', 'attend', 'attendance', 'attendant', 'attendants', 'attendantsI', 'attended', 'attendee', 'attendees', 'attending', 'attention', 'attentive', 'attest', 'attic', 'attire', 'attitude', 'attitudeThe', 'attitudes', 'attorney', 'attract', 'attracted', 'attraction', 'attractions', 'attractive', 'attractiveness', 'attracts', 'attribute', 'attributes', 'atypical', 'au', 'auctioned', 'audacity', 'audience', 'audiences', 'audio', 'audiobook', 'audiovideo', 'audition', 'auditioning', 'auditions', 'auditorium', 'augments', 'augratin', 'august', 'aunt', 'aunts', 'auspices', 'authentic', 'authentically', 'authenticity', 'authenticly', 'authenticstyle', 'autistic', 'auto', 'autocross', 'autographed', 'autograt', 'automatic', 'automatically', 'automobile', 'automotive', 'autumn', 'avacado', 'avail', 'availability', 'available', 'avalanches', 'ave', 'aver', 'average', 'averaged', 'averagehorrible', 'averages', 'averaging', 'averse', 'avid', 'avo', 'avocado', 'avocados', 'avoid', 'avoidance', 'avoided', 'avoiding', 'awaited', 'awaiting', 'awaits', 'awake', 'awaken', 'award', 'awards', 'aware', 'awareness', 'away', 'awaybut', 'awaycause', 'aways', 'awe', 'awed', 'awesome', 'awesomeI', 'awesomeeverything', 'awesomely', 'awesomeness', 'awesomethe', 'awful', 'awfulit', 'awfully', 'awhile', 'awkward', 'awkwardly', 'awkwardness', 'awning', 'awsome', 'az', 'azz', 'b', 'baba', 'babaganoush', 'babies', 'baby', 'babyback', 'babykid', 'babysitter', 'bachelor', 'bachelorette', 'back', 'backGreat', 'backI', 'backafter', 'backand', 'backdrop', 'backed', 'background', 'backing', 'backlit', 'backnine', 'backnot', 'backoffice', 'backpack', 'backside', 'backsoon', 'backstage', 'backstory', 'backtracked', 'backunless', 'backup', 'backvibrator', 'backwards', 'backyard', 'bacon', 'baconick', 'baconsausageham', 'baconwrapped', 'bacteria', 'bad', 'bad18', 'badass', 'badbut', 'badger', 'badly', 'baffled', 'baffling', 'bag', 'bage', 'bagel', 'bagels', 'baggage', 'bagged', 'baggy', 'bagjust', 'bags', 'baguette', 'baguettes', 'bahn', 'bail', 'baileys', 'bait', 'baja', 'bajesus', 'bajillion', 'bajillionaire', 'bake', 'baked', 'baker', 'bakeries', 'bakeriesdistributors', 'bakers', 'bakery', 'bakerys', 'baking', 'baklava', 'balance', 'balanced', 'balances', 'balancing', 'balcony', 'bald', 'balidated', 'balk', 'balking', 'ball', 'ballet', 'ballin', 'balloons', 'ballpark', 'ballparks', 'ballroom', 'balls', 'balms', 'balsalmic', 'balsamic', 'bam', 'bamboo', 'banana', 'bananas', 'bananay', 'bananoffee', 'band', 'bandages', 'bandaid', 'bandaids', 'bandana', 'banded', 'bands', 'bang', 'bangers', 'bangin', 'banging', 'bangleI', 'bangles', 'bangs', 'bangup', 'bank', 'banked', 'banker', 'banking', 'bankruptcy', 'bannana', 'bannanas', 'banned', 'banner', 'banquets', 'banquette', 'banter', 'bantering', 'bap', 'bar', 'barNow', 'barand', 'barback', 'barbacks', 'barbacoa', 'barbecue', 'barbecuein', 'barbeque', 'barber', 'barbers', 'barbershop', 'barboxing', 'barbut', 'bare', 'barefaced', 'barefoot', 'barely', 'barelyrecognizableasfood', 'barelytouched', 'bargain', 'bargaining', 'bargains', 'bargin', 'bargoers', 'barista', 'baristas', 'bark', 'barked', 'barking', 'barley', 'barleywine', 'barlong', 'barrelmore', 'barrels', 'barrestaurant', 'barrier', 'barrio', 'bars', 'bartable', 'bartender', 'bartenders', 'bartenderserver', 'bartenderstay', 'bartenderwaitperson', 'bartistas', 'bartlett', 'bartop', 'basalmic', 'base', 'baseball', 'baseballs', 'based', 'basement', 'bash', 'bashing', 'basic', 'basically', 'basics', 'basil', 'basing', 'basis', 'bask', 'basket', 'basketball', 'baskets', 'basmati', 'bass', 'bastard', 'bastards', 'bastardsoh', 'basted', 'bat', 'batch', 'bath', 'bathbombs', 'bathe', 'bathed', 'bathers', 'bathing', 'bathroom', 'bathrooms', 'baths', 'bats', 'batter', 'battered', 'batteries', 'battery', 'batting', 'battle', 'battlers', 'battleship', 'bavarian', 'bay', 'bbq', 'bbqd', 'bbqs', 'bc', 'bday', 'bdays', 'beach', 'beaded', 'beams', 'bean', 'beanery', 'beans', 'beansrice', 'bear', 'bearable', 'beard', 'bearing', 'bears', 'bearyou', 'beat', 'beaten', 'beaters', 'beatifully', 'beating', 'beats', 'beau', 'beautiful', 'beautifulhandsome', 'beautifully', 'beauty', 'became', 'bechamel', 'beckon', 'become', 'becomes', 'becoming', 'becute', 'becuz', 'bed', 'bedand', 'bedazzled', 'bedroom', 'bedrooms', 'beds', 'bedside', 'beebees', 'beef', 'beefcake', 'beefchicken', 'beefjust', 'beefkung', 'beepbeep', 'beeping', 'beer', 'beerliquor', 'beerno', 'beers', 'beerstyle', 'bees', 'beet', 'beetles', 'beets', 'beforeand', 'beforehand', 'befpre', 'beg', 'began', 'beggars', 'begged', 'begging', 'begin', 'begining', 'beginner', 'beginners', 'beginning', 'beginningend', 'begins', 'begrudgingly', 'begun', 'behalf', 'behaved', 'behavior', 'behind', 'behold', 'beige', 'beignets', 'bein', 'belabor', 'belgian', 'belief', 'believe', 'believed', 'believer', 'believers', 'believes', 'believing', 'beligerent', 'belittled', 'belive', 'bell', 'bellboy', 'bellies', 'belligerently', 'bellinis', 'belly', 'bellycola', 'bellymmmm', 'belong', 'belongs', 'beloved', 'belowI', 'belowaverage', 'belt', 'belts', 'bench', 'benches', 'bend', 'bender', 'bending', 'beneath', 'benedict', 'beneficial', 'benefit', 'benefited', 'benefits', 'benever', 'benign', 'bent', 'bento', 'bentos', 'berated', 'berg', 'berkshire', 'bermuda', 'berries', 'berry', 'bertos', 'bes', 'beside', 'besides', 'best', 'bestdid', 'bestie', 'bestor', 'bestowed', 'bestthe', 'bestthis', 'bet', 'betray', 'betrayed', 'betta', 'better', 'betteras', 'betterjust', 'betterthey', 'betterwe', 'betweeen', 'beverage', 'beverages', 'beware', 'bewareit', 'beyonce', 'beyond', 'bf', 'bfast', 'bff', 'bfs', 'bi', 'bialy', 'bianco', 'bias', 'biased', 'bibimbap', 'bible', 'bicker', 'bicycle', 'bicycles', 'biden', 'bidet', 'bier', 'biet', 'bifocal', 'big', 'bigass', 'bigclear', 'bigee', 'bigfatlap', 'bigger', 'biggest', 'biggie', 'bike', 'biker', 'bikers', 'bikes', 'biking', 'bikini', 'bikiniclad', 'bilinis', 'bill', 'billiards', 'billing', 'bills', 'billthey', 'biltmore', 'bin', 'bind', 'bing', 'bingo', 'bingsoo', 'bins', 'biography', 'biohazard', 'bird', 'birdies', 'birdlife', 'birds', 'birth', 'birthday', 'birthdayChristmas', 'birthdays', 'birthdaythey', 'biryani', 'biscotti', 'biscuit', 'biscuits', 'bison', 'bisque', 'bistec', 'bistro', 'bit', 'bitch', 'bitches', 'bitching', 'bitchy', 'bite', 'biteThere', 'biteand', 'bitenot', 'bites', 'biting', 'bits', 'bitsy', 'bitten', 'bitter', 'bitterness', 'bitttyyy', 'bitty', 'biz', 'bizarre', 'bla', 'black', 'blackberries', 'blackberry', 'blackboard', 'blackened', 'blackout', 'blackpinto', 'blackrice', 'blacksmithing', 'blackwidow', 'bladder', 'blade', 'blades', 'blah', 'blame', 'blamed', 'bland', 'blandness', 'blank', 'blanket', 'blanketed', 'blaring', 'blase', 'blasphemy', 'blast', 'blastdancing', 'blasting', 'blasts', 'blatantly', 'blaze', 'blazer', 'blazing', 'bleached', 'bleacher', 'bleachers', 'bleaching', 'bleed', 'bleeding', 'bleh', 'blemish', 'blend', 'blended', 'blending', 'blends', 'bless', 'blessed', 'blessing', 'blessings', 'bleu', 'blew', 'blimpie', 'blind', 'blindfolded', 'blindfolds', 'blindness', 'blindshotheavy', 'blink', 'blinking', 'bliss', 'blissful', 'blistered', 'blisters', 'bloated', 'blobs', 'block', 'blocked', 'blocking', 'blocks', 'blog', 'blond', 'blonde', 'blood', 'bloody', 'bloodymary', 'bloom', 'blooming', 'blooms', 'bloomy', 'blossom', 'blossoms', 'blouses', 'blow', 'blowdry', 'blower', 'blowing', 'blown', 'blows', 'blowups', 'blt', 'blu', 'blue', 'blueberries', 'blueberry', 'bluecheese', 'blunt', 'bluntly', 'blur', 'blush', 'blushes', 'bo', 'boa', 'boar', 'board', 'boarded', 'boarding', 'boards', 'boasts', 'boat', 'boats', 'boba', 'bobafied', 'bobahad', 'bobas', 'bobby', 'bobs', 'bocce', 'bod', 'bodied', 'bodies', 'body', 'bodyguards', 'bodyworker', 'bogey', 'bogged', 'bogus', 'boil', 'boiled', 'boiling', 'boisterous', 'bold', 'bolster', 'bolsterless', 'bolt', 'bolted', 'bolts', 'bomb', 'bombarded', 'bombaros', 'bomber', 'bombers', 'bombs', 'bombsyou', 'bon', 'bona', 'bonafide', 'bonanza', 'bond', 'bonding', 'bone', 'bonein', 'boneless', 'bones', 'bonfire', 'bong', 'bonus', 'bonuses', 'boo', 'boob', 'boobs', 'boofay', 'boohiney', 'boohoo', 'book', 'booked', 'bookespecially', 'booking', 'bookingfront', 'bookletstyle', 'books', 'booksauthors', 'bookstore', 'bookstores', 'boolgogee', 'booming', 'boooy', 'booshelf', 'boost', 'booster', 'boot', 'booth', 'booths', 'boots', 'booyah', 'booze', 'boozers', 'boozin', 'boozometer', 'bop', 'bopped', 'borad', 'bordelaise', 'border', 'bordering', 'borderline', 'bored', 'boring', 'born', 'borne', 'borrow', 'bosa', 'bosch', 'boss', 'bosses', 'bossy', 'bosu', 'botanical', 'botany', 'bother', 'bothered', 'bothering', 'bothers', 'bothersome', 'bottle', 'bottled', 'bottles', 'bottling', 'bottom', 'bottomfeeders', 'bottomless', 'bottoms', 'bouche', 'bouches', 'bought', 'bouillabaisse', 'boulder', 'boulders', 'bounce', 'bounced', 'bouncer', 'bouncers', 'bouncing', 'bound', 'bounty', 'bouquet', 'bourbon', 'bout', 'boutique', 'boutiques', 'boutonnieres', 'bow', 'bowl', 'bowling', 'bowlit', 'bowlplatesalad', 'bowls', 'bowties', 'box', 'boxand', 'boxed', 'boxer', 'boxers', 'boxes', 'boxing', 'boxingmartial', 'boy', 'boycotting', 'boyfriend', 'boyfriends', 'boyfrind', 'boys', 'boyshorts', 'bra', 'brace', 'braces', 'brad', 'brag', 'bragged', 'bragging', 'braille', 'brain', 'brainless', 'brains', 'braised', 'brake', 'bran', 'branch', 'branched', 'branches', 'brand', 'brandied', 'branding', 'brands', 'brandsPrismacolor', 'brandy', 'branzino', 'bras', 'brass', 'brat', 'brats', 'bratwurst', 'bravas', 'brave', 'brazilian', 'brdiesmaid', 'bread', 'breadawesome', 'breadcrumbs', 'breaded', 'breading', 'breadits', 'breads', 'breadsticks', 'breadticks', 'break', 'breaker', 'breakfast', 'breakfastbrunch', 'breakfastdang', 'breakfasts', 'breakfastthe', 'breakfasty', 'breaking', 'breaks', 'breaksfastlunch', 'breakthrough', 'breas', 'breast', 'breastguacamoleprovolone', 'breasts', 'breath', 'breathe', 'breathed', 'breather', 'breathing', 'breathtaking', 'bred', 'breed', 'breeze', 'breezy', 'brekafast', 'bretheren', 'breve', 'brew', 'brewed', 'brewer', 'breweries', 'brewery', 'brewing', 'brewpub', 'brewpubs', 'brews', 'brewskis', 'brick', 'brickandmortar', 'brickoven', 'brickwork', 'bridal', 'bride', 'brides', 'bridesmaid', 'bridesmaids', 'bridging', 'brie', 'brief', 'briefcase', 'briefed', 'briefly', 'briefs', 'bright', 'brightened', 'brighter', 'brightly', 'brightness', 'brilliance', 'brilliant', 'brim', 'brine', 'bring', 'bringing', 'brings', 'brining', 'briny', 'brioche', 'brisk', 'brisket', 'brisketboth', 'brittle', 'brle', 'bro', 'broad', 'broasted', 'broccoli', 'broccolini', 'brochette', 'brocolli', 'broiled', 'broiledboiled', 'broke', 'broken', 'bronze', 'brooches', 'bros', 'broth', 'brothdivine', 'brother', 'brotherinlaw', 'brothers', 'brothy', 'brough', 'brought', 'broun', 'brow', 'brown', 'browned', 'brownfried', 'brownie', 'brownies', 'brownorange', 'browns', 'brows', 'browse', 'browsed', 'browser', 'browsing', 'bruises', 'brulee', 'brulees', 'brulée', 'brunch', 'brunchlunch', 'brunets', 'brunette', 'bruscetta', 'bruschetta', 'bruschettaI', 'bruschettas', 'brush', 'brushcetta', 'brushed', 'brushes', 'brushettas', 'brusqueness', 'brussel', 'brussels', 'brutal', 'brûlée', 'bs', 'btch', 'btw', 'bubble', 'bubbles', 'bubbly', 'bucco', 'buck', 'bucked', 'bucket', 'bucketloads', 'buckets', 'buckle', 'buckles', 'bucks', 'buckwheat', 'bud', 'buddhism', 'buddies', 'buddy', 'budge', 'budget', 'budgetfriendly', 'buds', 'bueno', 'buff', 'buffala', 'buffalo', 'buffer', 'buffet', 'buffets', 'buffett', 'bug', 'bugger', 'buggers', 'bugs', 'build', 'building', 'buildingI', 'buildingincluding', 'buildings', 'buildyourown', 'built', 'buisness', 'bulb', 'bulbs', 'bulgogi', 'bulk', 'bulked', 'bull', 'bulldogs', 'bullet', 'bullion', 'bullshit', 'bullsht', 'bummed', 'bummer', 'bump', 'bumped', 'bumper', 'bumping', 'bums', 'bun', 'bunbut', 'bunch', 'bunches', 'bundle', 'bundled', 'bundles', 'bundyno', 'bunnies', 'buns', 'burger', 'burgers', 'burial', 'burle', 'burly', 'burn', 'burned', 'burning', 'burnt', 'burnthow', 'burped', 'burps', 'burrata', 'burrito', 'burritoal', 'burritos', 'burritoshave', 'burritoswith', 'burro', 'burros', 'burrows', 'burrritos', 'burst', 'bursting', 'bus', 'busboy', 'busboygirl', 'busboys', 'buses', 'bush', 'bushes', 'busier', 'busiest', 'business', 'businesses', 'businessman', 'businessmen', 'businessthe', 'businesswoman', 'busser', 'busses', 'bussing', 'bust', 'busted', 'busting', 'bustle', 'bustled', 'bustling', 'busy', 'busywe', 'butbut', 'butcher', 'butchered', 'butchering', 'butt', 'butte', 'butter', 'buttered', 'butterfish', 'butterflies', 'butterfly', 'butterkäse', 'buttermarinated', 'buttermilk', 'butternut', 'butterscotch', 'buttery', 'button', 'buttons', 'butts', 'bux', 'buy', 'buybuybaby', 'buyer', 'buyers', 'buying', 'buyingputting', 'buyonegetonefree', 'buys', 'buzz', 'buzzcation', 'buzzes', 'buzzing', 'buzzy', 'bye', 'bygone', 'byob', 'byproduct', 'bytheglass', 'c', 'ca', 'cab', 'cabagecarrots', 'cabana', 'cabanas', 'cabbage', 'cabbies', 'cabelas', 'cabernet', 'cabeza', 'cabin', 'cabinet', 'cable', 'cabs', 'cacti', 'cactus', 'cactuseverything', 'caddy', 'cadillac', 'caesar', 'caesarish', 'caeser', 'cafe', 'cafelounge', 'cafeteria', 'cafeteriaan', 'caffeinate', 'caffeine', 'café', 'cage', 'cages', 'cagetrapped', 'cajun', 'cajunstyle', 'cake', 'cakecupcakes', 'cakeof', 'cakes', 'cal', 'calamari', 'calamarideliciouslovely', 'calculate', 'calculator', 'calendar', 'calf', 'cali', 'caliber', 'caliente', 'california', 'call', 'calland', 'called', 'caller', 'calling', 'callingme', 'callous', 'calloused', 'calls', 'callsso', 'callus', 'calm', 'calmed', 'calming', 'calmly', 'calorie', 'calorienutritional', 'calories', 'caloriessaturated', 'cals', 'calves', 'calzone', 'calzones', 'came', 'camelback', 'camelbackhappy', 'camels', 'camera', 'cameraphotography', 'cameras', 'camo', 'camp', 'campaign', 'campaigning', 'campbells', 'camper', 'campers', 'camping', 'campus', 'campuses', 'canailleflock', 'canal', 'canals', 'cancel', 'canceled', 'canceling', 'cancellation', 'cancelled', 'cancelling', 'cancer', 'candid', 'candied', 'candies', 'candle', 'candlelit', 'candlemaking', 'candles', 'candy', 'candyland', 'cane', 'canister', 'canned', 'cannelloni', 'canneloni', 'cannoli', 'cannolis', 'cannon', 'cannot', 'canoli', 'canopy', 'cans', 'cant', 'canteloupe', 'canton', 'canvas', 'canvases', 'canyon', 'cap', 'capable', 'capaccino', 'capacity', 'caper', 'capers', 'capicolla', 'capital', 'capitalism', 'caponata', 'capped', 'cappella', 'cappicola', 'cappuccino', 'cappuccinos', 'caprese', 'capri', 'caps', 'capsule', 'captain', 'captivated', 'captivates', 'capture', 'captured', 'car', 'carCUZ', 'caradmom', 'carafe', 'caramel', 'caramelcolored', 'caramelized', 'carb', 'carbchocolate', 'carbheavy', 'carbloading', 'carbohydrate', 'carbon', 'carbonara', 'carbonation', 'carbs', 'carbsugar', 'carburetor', 'card', 'cardamom', 'cardboard', 'carded', 'cardiac', 'cardinal', 'cardio', 'cards', 'cardstock', 'cardwhat', 'care', 'cared', 'career', 'careful', 'carefully', 'caregiver', 'caregivers', 'careless', 'cares', 'carignorant', 'caring', 'carmel', 'carmelized', 'carnage', 'carne', 'carniceria', 'carnitas', 'carnivore', 'carnivores', 'carnivorial', 'carolers', 'carousel', 'carpacchio', 'carpaccio', 'carpal', 'carpet', 'carpeting', 'carpets', 'carpool', 'carried', 'carrier', 'carriers', 'carries', 'carrot', 'carrots', 'carrott', 'carry', 'carrying', 'carryout', 'cars', 'carstyled', 'cart', 'carte', 'carter', 'carton', 'carts', 'carved', 'carving', 'cary', 'casa', 'case', 'caseI', 'casement', 'cases', 'cash', 'cashed', 'cashew', 'cashews', 'cashier', 'cashiers', 'cashing', 'cashthat', 'casing', 'casino', 'casita', 'cask', 'casserole', 'cast', 'casting', 'castle', 'casual', 'casualfeels', 'casually', 'casuals', 'cat', 'catagory', 'catalog', 'catalogs', 'catalytic', 'catch', 'catching', 'categories', 'category', 'cater', 'catered', 'catering', 'catfish', 'cathedral', 'cats', 'caucasian', 'caught', 'cauldron', 'cauliflower', 'cause', 'caused', 'causednot', 'causes', 'causing', 'caution', 'cautious', 'cavalli', 'cave', 'caveat', 'caved', 'cavelike', 'cavernous', 'caviar', 'cavities', 'cavity', 'cayman', 'caymans', 'ceasar', 'cease', 'ceases', 'cede', 'ceiling', 'ceilings', 'celebrate', 'celebrated', 'celebrating', 'celebration', 'celebratory', 'celebrities', 'celebrity', 'celery', 'celiac', 'celiacs', 'cell', 'cellar', 'cellist', 'cellphone', 'cement', 'censor', 'cent', 'center', 'centerPhoenix', 'centered', 'centerits', 'centerpiece', 'centerpieces', 'centers', 'central', 'centralThis', 'centrally', 'centre', 'centric', 'cents', 'centsgallon', 'century', 'centurys', 'ceramic', 'cereal', 'cereals', 'ceremony', 'certain', 'certainly', 'certificate', 'certificates', 'certifications', 'certified', 'cesspool', 'cesspools', 'cetera', 'cevap', 'ceviche', 'cha', 'chaatA', 'chagrin', 'chai', 'chain', 'chaincos', 'chains', 'chainsaw', 'chair', 'chairs', 'chairsdesks', 'chaise', 'chalkboard', 'chalking', 'chalky', 'challah', 'challange', 'challenge', 'challenged', 'challenges', 'challenging', 'chamber', 'chambord', 'chamomile', 'champ', 'champagne', 'champagnes', 'champaigne', 'champainge', 'champers', 'champs', 'chana', 'chance', 'chances', 'chancesee', 'chandelier', 'chandeliers', 'chandler', 'chanel', 'change', 'changed', 'changei', 'changes', 'changing', 'changs', 'channel', 'channels', 'chantreloysterect', 'chao', 'chaoeven', 'chaos', 'chapter', 'char', 'character', 'characters', 'charburger', 'charcoal', 'chard', 'chardonnay', 'charge', 'charged', 'chargernot', 'charges', 'chargethen', 'charging', 'chargrilled', 'chargrilledroasted', 'charismatic', 'charismaticcame', 'charitable', 'charity', 'charm', 'charmed', 'charming', 'charred', 'chart', 'charts', 'chase', 'chased', 'chashu', 'chat', 'chatney', 'chatted', 'chatter', 'chattering', 'chatting', 'chatty', 'cheap', 'cheapand', 'cheaper', 'cheapest', 'cheaply', 'cheapskate', 'cheat', 'cheated', 'check', 'checkbox', 'checked', 'checkeed', 'checker', 'checkered', 'checkers', 'checkin', 'checking', 'checkins', 'checklist', 'checkout', 'checks', 'checkup', 'checkups', 'cheddar', 'cheek', 'cheered', 'cheerful', 'cheerfully', 'cheering', 'cheerleaders', 'cheers', 'cheery', 'cheese', 'cheeseOH', 'cheeseagain', 'cheesebacon', 'cheeseboard', 'cheeseburger', 'cheesecake', 'cheesecakeIm', 'cheesecakes', 'cheesecakeyum', 'cheesehead', 'cheeseit', 'cheeselettucetomatobacon', 'cheeses', 'cheesesteak', 'cheesesteaks', 'cheesewhat', 'cheesey', 'cheesy', 'cheez', 'chef', 'chefing', 'chefowner', 'chefs', 'cheftossed', 'chelseas', 'chemical', 'chemicals', 'cherished', 'cherries', 'cherry', 'cherrypoppin', 'chess', 'chest', 'chestnuts', 'chew', 'chewed', 'chewing', 'chewy', 'chiang', 'chianti', 'chic', 'chiccharon', 'chick', 'chickafila', 'chicken', 'chickenAMAZING', 'chickena', 'chickenfried', 'chickeninstead', 'chickenit', 'chickenlots', 'chickenpad', 'chickens', 'chickensubtler', 'chickpeas', 'chicks', 'chics', 'chief', 'chiku', 'chiladas', 'chilaquiles', 'child', 'childbirth', 'childcare', 'childhood', 'childhoods', 'childish', 'children', 'childrens', 'childs', 'chile', 'chilequiles', 'chiles', 'chili', 'chiliadverse', 'chilies', 'chiliglazed', 'chilis', 'chilisoup', 'chill', 'chilled', 'chilli', 'chilling', 'chills', 'chilly', 'chime', 'chimi', 'chimichanga', 'chimichangas', 'chiming', 'chimis', 'chin', 'china', 'chinas', 'chineness', 'chinese', 'chip', 'chipotle', 'chipotlecider', 'chipotleranch', 'chipped', 'chipping', 'chips', 'chipssalsa', 'chiro', 'chiropractic', 'chirping', 'chit', 'chitchat', 'chives', 'chix', 'chlorine', 'choc', 'chock', 'chockfull', 'chocolate', 'chocolatecaramelfilled', 'chocolately', 'chocolates', 'chocolatestrawberry', 'chocolatewithredchile', 'chocolatey', 'chocolatier', 'chocolatiers', 'chocolatiest', 'choice', 'choices', 'choir', 'choke', 'choked', 'choking', 'cholla', 'chomp', 'chompie', 'choose', 'choosers', 'chooses', 'choosing', 'chop', 'chopped', 'chopping', 'choppy', 'chops', 'chopstick', 'chopsticks', 'chores', 'chorizo', 'chorizohello', 'chorus', 'chose', 'chosen', 'choux', 'chow', 'chowder', 'chowing', 'christs', 'chrome', 'chronic', 'chuck', 'chuckle', 'chuckled', 'chucks', 'chugged', 'chumps', 'chunk', 'chunks', 'chunky', 'church', 'churches', 'churning', 'churro', 'churros', 'chutney', 'ciabatta', 'ciao', 'cider', 'cigar', 'cigarette', 'cigarfriendly', 'cigars', 'cigs', 'cilantro', 'cinammoness', 'cinema', 'cinnamon', 'cinnamonspicy', 'cioppino', 'circa', 'circle', 'circled', 'circles', 'circling', 'circuitous', 'circular', 'circulation', 'circumstance', 'circumvent', 'circus', 'circusrodeo', 'cited', 'cities', 'citing', 'citizen', 'citizens', 'citrus', 'citrusy', 'city', 'citysize', 'civic', 'civiche', 'ck', 'clad', 'claim', 'claimed', 'claiming', 'claims', 'clam', 'clamp', 'clams', 'clamshells', 'clang', 'clanging', 'claps', 'clarification', 'clarify', 'clarity', 'class', 'classes', 'classic', 'classics', 'classifies', 'classroom', 'classwork', 'classy', 'classybutcasual', 'clatter', 'claustrophobic', 'claw', 'clawing', 'claws', 'clay', 'clean', 'cleaned', 'cleaner', 'cleaners', 'cleanest', 'cleaning', 'cleaningcan', 'cleanliness', 'cleanlinessD', 'cleanser', 'cleansers', 'cleansterile', 'cleanthe', 'cleanup', 'clear', 'clearance', 'clearancing', 'cleared', 'clearheeled', 'clearing', 'clearly', 'cleary', 'cleavage', 'cleaver', 'clerk', 'clerks', 'clever', 'cleverly', 'cliche', 'cliched', 'click', 'clicquot', 'client', 'clientele', 'clients', 'clientsWOW', 'clif', 'cliffs', 'climate', 'climb', 'climbers', 'climbing', 'clincher', 'clingy', 'clinic', 'clinics', 'clintons', 'clip', 'clipped', 'clippers', 'clippings', 'clips', 'cliques', 'cliquish', 'clock', 'clockminispeaker', 'clockminispeakers', 'clocks', 'clockwork', 'clog', 'clones', 'clorox', 'close', 'closed', 'closedlame', 'closefourth', 'closely', 'closer', 'closes', 'closest', 'closet', 'closeup', 'closing', 'cloth', 'clothed', 'clothes', 'clothesall', 'clothing', 'clothingpurses', 'cloths', 'clotted', 'cloud', 'clouds', 'cloudy', 'cloves', 'clown', 'clowns', 'cloyed', 'club', 'clubbar', 'clubbing', 'clubby', 'clubhouse', 'clubprogram', 'clubs', 'clubswell', 'clue', 'clueless', 'clump', 'clumps', 'clumpy', 'clumsiness', 'clumsy', 'clunky', 'cluster', 'clutch', 'clutches', 'clutching', 'co', 'coach', 'coachDEFENSE', 'coaches', 'coagulated', 'coal', 'coalfired', 'coarse', 'coast', 'coasted', 'coasters', 'coastmidwest', 'coat', 'coated', 'coating', 'coats', 'coaxed', 'cob', 'cobaker', 'cobb', 'cobbler', 'cobblers', 'coc', 'coca', 'cocacola', 'cocaine', 'cock', 'cockroaches', 'cocktail', 'cocktaila', 'cocktails', 'cocktailsWe', 'coco', 'cocoa', 'coconut', 'coconutchocolate', 'cocstco', 'cod', 'coda', 'code', 'coded', 'codes', 'coed', 'coffee', 'coffeea', 'coffeeespresso', 'coffeegrinders', 'coffeehouse', 'coffeeit', 'coffeepullers', 'coffees', 'coffeeshop', 'coffeewater', 'cohost', 'coin', 'coincide', 'coincidence', 'coincidences', 'coins', 'coke', 'cokes', 'cola', 'cold', 'colda', 'cole', 'coleslaw', 'collaborate', 'collaboration', 'collapse', 'collar', 'collard', 'collared', 'collars', 'colleague', 'colleagues', 'collect', 'collected', 'collecting', 'collection', 'collections', 'collective', 'collectively', 'collector', 'college', 'collegeaged', 'colleges', 'cologne', 'colonial', 'color', 'colorado', 'colored', 'colorful', 'colorfulbut', 'colorfully', 'coloring', 'colorist', 'colorists', 'colorno', 'colors', 'colorsdesign', 'colossal', 'colour', 'com', 'coma', 'comb', 'combination', 'combinations', 'combine', 'combined', 'combines', 'combining', 'combo', 'combopepp', 'combos', 'come', 'comeback', 'comedy', 'comes', 'comethis', 'comfort', 'comfortable', 'comfortably', 'comforting', 'comforts', 'comfy', 'comic', 'comical', 'comically', 'comics', 'comin', 'coming', 'comingsomeday', 'commandment', 'commend', 'comment', 'commented', 'commenting', 'comments', 'commerce', 'commercial', 'commercialized', 'commission', 'commit', 'commitment', 'commitments', 'committed', 'committee', 'committing', 'common', 'commonly', 'commons', 'communal', 'communicate', 'communicated', 'communicates', 'communicating', 'communication', 'communications', 'communicator', 'communities', 'community', 'communityeasy', 'communitywide', 'commute', 'commuter', 'comp', 'compadres', 'compaining', 'companies', 'companion', 'companions', 'companionship', 'company', 'companys', 'comparable', 'compare', 'compared', 'compares', 'comparing', 'comparison', 'comparisons', 'compartment', 'compasionate', 'compass', 'compassion', 'compassionate', 'compatible', 'compd', 'comped', 'compelled', 'compelling', 'compels', 'compensate', 'compensation', 'compete', 'competely', 'competence', 'competent', 'competently', 'competes', 'competing', 'competition', 'competitive', 'competitively', 'competitor', 'competitors', 'comping', 'compitent', 'complain', 'complainOh', 'complained', 'complainer', 'complaining', 'complains', 'complainsmy', 'complaint', 'complaints', 'complement', 'complementary', 'complemented', 'complete', 'completed', 'completely', 'completelyIm', 'completes', 'completing', 'completly', 'complex', 'complexity', 'complicated', 'complications', 'complichatting', 'complientary', 'compliment', 'complimentary', 'complimented', 'compliments', 'component', 'compose', 'composed', 'composition', 'composure', 'compote', 'compounded', 'compounding', 'comprehend', 'comprehensive', 'compressed', 'compressor', 'comprised', 'compromise', 'compromised', 'computer', 'computerpad', 'computers', 'computeryou', 'comsumed', 'con', 'concealed', 'concede', 'concentrate', 'concentrated', 'concentrating', 'concept', 'conceptions', 'concepts', 'concern', 'concerned', 'concerning', 'concerns', 'concert', 'concession', 'concessions', 'conchita', 'concierge', 'concluded', 'conclusion', 'concoct', 'concoction', 'concoctions', 'concrete', 'concur', 'condemn', 'condensation', 'condensed', 'condescending', 'condiment', 'condiments', 'condition', 'conditioned', 'conditioner', 'conditioning', 'conditions', 'condo', 'condolences', 'condone', 'condos', 'conducive', 'conduct', 'cone', 'conemine', 'cones', 'confection', 'confectionary', 'confections', 'conference', 'confess', 'confessing', 'confidence', 'confident', 'confidently', 'confirm', 'confirmation', 'confirmed', 'confirmedI', 'confirming', 'confirms', 'conflicting', 'conflicts', 'conformable', 'confrontational', 'confronted', 'confuse', 'confused', 'confuses', 'confusing', 'confusion', 'conga', 'congee', 'congrats', 'congratulate', 'congregation', 'coninue', 'conjure', 'conjures', 'connect', 'connected', 'connecting', 'connection', 'connections', 'connoisseur', 'connosiuer', 'conquering', 'cons', 'conscience', 'conscientious', 'conscious', 'consecutive', 'consequently', 'conservatism', 'consider', 'considerate', 'consideration', 'considered', 'considering', 'considers', 'consign', 'consigned', 'consigning', 'consistant', 'consisted', 'consistency', 'consistent', 'consistently', 'consisting', 'consists', 'consolation', 'console', 'constant', 'constantly', 'constitute', 'constitutes', 'constraint', 'constructed', 'construction', 'constructive', 'constructively', 'consult', 'consultant', 'consultation', 'consume', 'consumed', 'consumer', 'consumers', 'consummate', 'consumption', 'contact', 'contacted', 'contacting', 'contacts', 'contagious', 'contain', 'contained', 'container', 'containers', 'containing', 'contains', 'contemporary', 'contend', 'contender', 'content', 'contents', 'contest', 'contests', 'context', 'contextualize', 'continentally', 'continually', 'continue', 'continueTheyre', 'continued', 'continues', 'continuing', 'continuosly', 'continuous', 'continuously', 'contract', 'contracted', 'contractors', 'contracts', 'contrarily', 'contrary', 'contrast', 'contribute', 'contributed', 'contributes', 'contribution', 'contrived', 'control', 'controlReally', 'controlled', 'controlling', 'controls', 'controversial', 'controversies', 'controversy', 'convenience', 'convenient', 'conveniently', 'convention', 'conversant', 'conversation', 'conversational', 'conversations', 'converse', 'conversing', 'conversingwell', 'convert', 'converted', 'converter', 'converters', 'convertible', 'converts', 'convey', 'conveyer', 'conveying', 'convictions', 'convince', 'convinced', 'convincing', 'convo', 'cook', 'cooked', 'cookers', 'cookie', 'cookiecakechocolate', 'cookies', 'cookiesoh', 'cookin', 'cooking', 'cookouts', 'cooks', 'cooksmore', 'cool', 'coolant', 'cooled', 'cooler', 'coolers', 'coolest', 'cooling', 'coolness', 'cools', 'cooney', 'coordinated', 'coordination', 'coordinators', 'coors', 'cooties', 'coowns', 'cop', 'cope', 'copied', 'copies', 'copious', 'copper', 'cops', 'copy', 'copymachine', 'copypaste', 'coq', 'coral', 'cordial', 'cordially', 'cordon', 'cordoned', 'corduroys', 'core', 'coreographed', 'corinthians', 'cork', 'corkage', 'corking', 'corks', 'corn', 'cornbread', 'corndog', 'corned', 'corner', 'corners', 'cornicopia', 'cornish', 'cornmeal', 'cornonthecob', 'cornonthecobs', 'cornstarchy', 'coronary', 'coronas', 'corporal', 'corporate', 'corporation', 'corporations', 'corral', 'correct', 'corrected', 'correction', 'corrections', 'correctly', 'correctness', 'correlated', 'correlation', 'correspondance', 'corresponding', 'corresponds', 'corridor', 'corridors', 'corroded', 'corrupted', 'corsages', 'corsets', 'cortadito', 'corwn', 'cos', 'cosmetic', 'cosmetics', 'cosmo', 'cosmopolitancool', 'cosmos', 'cost', 'costco', 'costing', 'costly', 'costs', 'costume', 'costumer', 'costumers', 'costumes', 'costumetheme', 'cosy', 'cotija', 'cotta', 'cottage', 'cotton', 'couch', 'couches', 'couchlounge', 'cougarmanther', 'cough', 'coughed', 'coughing', 'could', 'couldSo', 'couldnt', 'couldve', 'counselor', 'count', 'countdown', 'counted', 'counter', 'countered', 'counterheight', 'counterparts', 'counterperson', 'counters', 'counterservice', 'counting', 'countless', 'countries', 'country', 'countrycountry', 'countrys', 'countryside', 'countrywide', 'counts', 'county', 'coup', 'couple', 'coupled', 'couples', 'coupon', 'coupons', 'courage', 'course', 'courseas', 'coursed', 'courseif', 'courses', 'court', 'courteous', 'courteously', 'courtesy', 'courts', 'courtsits', 'courtyard', 'courtyards', 'cous', 'couscous', 'cousin', 'cousins', 'cover', 'coverage', 'covered', 'covering', 'covers', 'covert', 'coverup', 'coveted', 'cow', 'cowboy', 'cowboys', 'cowgals', 'cowork', 'coworker', 'coworkers', 'cows', 'cowtow', 'coy', 'coz', 'cozier', 'coziness', 'cozy', 'crab', 'crabcakes', 'crabs', 'crabstuffed', 'crack', 'cracked', 'crackedout', 'cracker', 'crackers', 'cracking', 'crackle', 'crackles', 'crackling', 'cracks', 'cradle', 'cradling', 'craft', 'craftbrews', 'crafted', 'crafter', 'crafts', 'craftsmanship', 'craigslist', 'cram', 'crammed', 'cramped', 'cramps', 'cranberries', 'cranberry', 'crank', 'cranking', 'cranks', 'cranky', 'cranny', 'crap', 'crappy', 'craptastic', 'crashed', 'crate', 'crates', 'crave', 'craveing', 'cravesEnzymes', 'craveworthy', 'craving', 'cravings', 'crawfish', 'crawling', 'crayon', 'craze', 'craziest', 'craziness', 'crazy', 'crazyass', 'cream', 'creamed', 'creamer', 'creamiest', 'creaminess', 'creams', 'creamsso', 'creamy', 'creamyness', 'create', 'created', 'creates', 'creating', 'creation', 'creations', 'creative', 'creativedown', 'creativity', 'creators', 'creature', 'creaturepossibly', 'creatures', 'cred', 'credentials', 'credibiilty', 'credit', 'creditand', 'credited', 'credits', 'creek', 'creep', 'creeped', 'creepily', 'creepy', 'crem', 'crema', 'cremation', 'creme', 'cremes', 'crenelations', 'creole', 'crepe', 'crepelike', 'crepes', 'creps', 'crepswhat', 'crept', 'crescendo', 'crew', 'crewthey', 'crib', 'cricket', 'cried', 'crime', 'crimes', 'criminal', 'criminals', 'crimini', 'cringe', 'crinkle', 'crippled', 'crisis', 'crisp', 'crisplightin', 'crisps', 'crispy', 'crispyAND', 'crisscrosses', 'criteria', 'critic', 'critical', 'critically', 'criticism', 'criticize', 'critics', 'critters', 'crock', 'croissant', 'croissants', 'crooks', 'cropping', 'croque', 'cross', 'crossaint', 'crossed', 'crossroad', 'crostini', 'crouton', 'croutons', 'crowd', 'crowded', 'crowding', 'crowds', 'crowed', 'crown', 'crowning', 'cruchy', 'crucial', 'crucially', 'crucifix', 'crudo', 'crueltyfree', 'cruisers', 'cruising', 'crullers', 'crumb', 'crumble', 'crumbled', 'crumbles', 'crumbling', 'crumbs', 'crummy', 'crunch', 'crunchiness', 'crunchy', 'crusade', 'crush', 'crushed', 'crushing', 'crust', 'crusted', 'crustier', 'crusties', 'crusts', 'crusty', 'crustysoft', 'cry', 'crying', 'crystal', 'crystalized', 'crystals', 'crème', 'cu', 'cube', 'cubed', 'cubes', 'cubesthat', 'cubicle', 'cubicles', 'cucina', 'cucumber', 'cucumberonion', 'cucumbers', 'cue', 'cues', 'cuff', 'cuffs', 'cuisine', 'cuisinesome', 'cuke', 'cukes', 'culinarily', 'culinary', 'culinaryvoid', 'culmination', 'culprit', 'cultural', 'culture', 'cultured', 'cultures', 'cum', 'cumin', 'cup', 'cupcake', 'cupcakefinger', 'cupcakes', 'cuppot', 'cups', 'cupstand', 'curated', 'curb', 'curd', 'curdjust', 'curds', 'cure', 'cured', 'curiosity', 'curious', 'curiously', 'curl', 'curler', 'curling', 'curly', 'curmudgeons', 'currants', 'current', 'currently', 'curriculum', 'curried', 'curries', 'curry', 'curryonly', 'curse', 'cursing', 'curt', 'curtain', 'curtained', 'curtains', 'curtly', 'curve', 'curves', 'cushier', 'cushions', 'cushy', 'cussing', 'cust', 'custard', 'custardicecustard', 'custardit', 'custards', 'custardwhile', 'custom', 'customer', 'customers', 'customize', 'customized', 'customizes', 'custommade', 'custurdlol', 'cut', 'cutat', 'cute', 'cutest', 'cutesy', 'cuticule', 'cutie', 'cuties', 'cutlery', 'cutlet', 'cutoff', 'cuts', 'cutshampoo', 'cutter', 'cutters', 'cutting', 'cuz', 'cycle', 'cycling', 'cyclingetc', 'cyclist', 'cyclists', 'cyl', 'cynic', 'cynical', 'cynicism', 'da', 'daas', 'dab', 'dac', 'dad', 'daddies', 'daddys', 'dads', 'dagger', 'daily', 'dainty', 'daiquiri', 'dairies', 'dairy', 'dairyfree', 'dairythey', 'damage', 'damaged', 'damagedugly', 'damages', 'damn', 'damned', 'damngood', 'damnit', 'damp', 'dan', 'dance', 'danced', 'dancelike', 'dancer', 'dancerThen', 'dancers', 'dances', 'dancing', 'dang', 'danged', 'danger', 'dangerous', 'dangerously', 'dangers', 'dangly', 'daniels', 'danishes', 'dank', 'daquiris', 'dare', 'daredevil', 'daring', 'dark', 'darkbut', 'darkchocolate', 'darkened', 'darker', 'darkness', 'darkseid', 'darling', 'darn', 'darned', 'dart', 'darts', 'dash', 'dashing', 'date', 'dated', 'datelike', 'datenight', 'dates', 'dating', 'daughter', 'daughterFathers', 'daughterinlawboth', 'daughters', 'daunted', 'daunting', 'dawn', 'day', 'daycare', 'daydream', 'dayeveryday', 'dayflu', 'daylate', 'daylight', 'daynight', 'dayno', 'days', 'dayshift', 'daysurprising', 'daytime', 'daze', 'dazed', 'dazzled', 'dazzles', 'dcor', 'de', 'dead', 'deadbeats', 'deadeyed', 'deadline', 'deadly', 'deadon', 'deaf', 'deal', 'dealer', 'dealers', 'dealership', 'dealerships', 'dealing', 'dealoftheday', 'deals', 'dealsthe', 'dealt', 'deamon', 'dean', 'dear', 'dearly', 'death', 'deathly', 'debacle', 'debate', 'debated', 'debating', 'debauchery', 'debbie', 'debilitating', 'debit', 'debitcredit', 'debon', 'debris', 'debt', 'debut', 'decade', 'decadence', 'decadent', 'decadently', 'decades', 'decadesold', 'decaf', 'decaffinated', 'decanted', 'decapitated', 'decellerating', 'decent', 'decently', 'deception', 'deceptive', 'decide', 'decided', 'decidedly', 'decides', 'deciding', 'decipherable', 'decision', 'decisiongo', 'decisions', 'decisive', 'decited', 'deck', 'decked', 'declare', 'declared', 'declaring', 'declasse', 'decline', 'declined', 'deco', 'decomissioned', 'decompose', 'deconstructed', 'decor', 'decorate', 'decorated', 'decorating', 'decoration', 'decorations', 'decore', 'decors', 'decorum', 'decrease', 'decreased', 'decreases', 'decrepit', 'dedicated', 'dedication', 'deduction', 'deductions', 'dee', 'deeeeaaallssss', 'deeeelicous', 'deelish', 'deep', 'deeper', 'deepfried', 'deepfrying', 'deeply', 'deer', 'def', 'defacto', 'default', 'defend', 'defensive', 'deference', 'deferred', 'defiance', 'defiantly', 'definately', 'definatly', 'define', 'definetely', 'definetly', 'definilty', 'defining', 'definite', 'definitely', 'definition', 'definitively', 'definitly', 'deflated', 'defreakinglicious', 'defunct', 'deg', 'degrades', 'degrading', 'degree', 'degrees', 'dehydrated', 'dehydration', 'deity', 'dejavu', 'del', 'delay', 'delayed', 'delaying', 'delays', 'delcious', 'delectable', 'deleting', 'deli', 'deliberate', 'deliberately', 'deliberation', 'delicacies', 'delicate', 'delicately', 'delicatessen', 'deliciious', 'delicioso', 'delicious', 'deliciousand', 'deliciousbut', 'deliciousjust', 'deliciously', 'deliciousness', 'deliciouso', 'delicioussatisfying', 'delicous', 'delicousness', 'delight', 'delighted', 'delightful', 'delightfully', 'delights', 'delis', 'delish', 'delishish', 'delite', 'deliver', 'deliverFREE', 'delivered', 'deliveries', 'delivering', 'delivers', 'delivery', 'delmonico', 'deluca', 'deluxe', 'delve', 'delved', 'demand', 'demanded', 'demanding', 'demands', 'demeaning', 'demeanor', 'demiglace', 'demiglaze', 'demise', 'demo', 'democrat', 'democratic', 'demographic', 'demonstrate', 'demonstrated', 'demonstrates', 'demonstrating', 'demonstrative', 'demoted', 'denied', 'denim', 'dense', 'densely', 'dent', 'dental', 'dented', 'dentist', 'dentists', 'deny', 'deocrations', 'departing', 'department', 'departure', 'depend', 'dependable', 'depended', 'depending', 'depends', 'depicting', 'deplane', 'depleted', 'deplorable', 'deployment', 'deported', 'deposit', 'depositing', 'depot', 'depressed', 'depressing', 'dept', 'depth', 'depths', 'derelicts', 'derived', 'dermatologist', 'des', 'descend', 'describe', 'describecoup', 'described', 'describes', 'describing', 'description', 'descriptions', 'desert', 'desertHighly', 'deserted', 'deserts', 'desertthe', 'deserve', 'deserved', 'deservedly', 'deserves', 'deserving', 'design', 'designated', 'designed', 'designer', 'designers', 'designing', 'designs', 'desirable', 'desire', 'desired', 'desires', 'desk', 'deskthey', 'desolate', 'despairing', 'desperate', 'desperately', 'desperation', 'despise', 'despised', 'despite', 'dessert', 'dessertI', 'dessertand', 'dessertbut', 'desserts', 'dessertsthe', 'dessertthis', 'dessertyes', 'dest', 'destination', 'destined', 'destressed', 'destroy', 'destroyed', 'destroying', 'destroys', 'detail', 'detailed', 'details', 'deter', 'determine', 'determined', 'deterred', 'detours', 'detract', 'develop', 'develope', 'developed', 'developers', 'developing', 'development', 'device', 'devices', 'devil', 'deviled', 'devils', 'devine', 'devoid', 'devoted', 'devour', 'devoured', 'devouring', 'di', 'diabetes', 'diabetic', 'diablo', 'diabolical', 'diagnosable', 'diagnose', 'diagnosed', 'diagnosis', 'diagnostic', 'diagnostics', 'dial', 'dialogue', 'diamond', 'diamonds', 'diaper', 'diapers', 'diarrhea', 'diary', 'diavola', 'dibs', 'diced', 'dicey', 'dickhead', 'dicknose', 'dictate', 'didHoly', 'diddly', 'didnt', 'die', 'died', 'diefor', 'diego', 'diehard', 'diet', 'dietary', 'dieters', 'dieting', 'diff', 'differ', 'differed', 'difference', 'differences', 'different', 'differentiates', 'differentiation', 'differently', 'differnt', 'difficult', 'difficulty', 'dig', 'digdom', 'digestive', 'digging', 'diggity', 'digital', 'digress', 'digressThis', 'digression', 'digs', 'dilemma', 'diligent', 'dill', 'dim', 'dime', 'dimed', 'diminished', 'diminishes', 'dimlit', 'dimly', 'dimlylit', 'dimmer', 'dimsum', 'din', 'dine', 'dined', 'dinedin', 'dinedrink', 'dinein', 'diner', 'dinero', 'diners', 'dinersdrinkers', 'dines', 'ding', 'dinged', 'dingy', 'dining', 'dinky', 'dinne', 'dinneCheck', 'dinner', 'dinnerand', 'dinnerdrinks', 'dinnerextremely', 'dinnerit', 'dinnerlunch', 'dinnerlunchbreakfastwhatever', 'dinners', 'dinnersupper', 'dinnerthey', 'dinnerwhat', 'dinnerwhich', 'dinning', 'dip', 'dipboth', 'diplomatically', 'dipped', 'dippin', 'dipping', 'dips', 'dipshits', 'dire', 'direct', 'directed', 'directing', 'direction', 'directions', 'directly', 'director', 'directories', 'directors', 'dirt', 'dirtiest', 'dirty', 'disabled', 'disadvantage', 'disagree', 'disagreement', 'disappear', 'disappearance', 'disappeared', 'disappoint', 'disappointed', 'disappointin', 'disappointing', 'disappointingweird', 'disappointment', 'disappointments', 'disappoints', 'disaster', 'disastrous', 'disbelief', 'discard', 'discharged', 'discipline', 'disclosing', 'disclosure', 'discolored', 'discomfort', 'discontinued', 'discordant', 'discount', 'discounted', 'discounts', 'discourage', 'discouraged', 'discouraging', 'discover', 'discovered', 'discovering', 'discovery', 'discretely', 'discriminatory', 'discs', 'discshaped', 'discuss', 'discussed', 'discussing', 'discussion', 'disdain', 'disease', 'diseases', 'disengage', 'disgrace', 'disgruntled', 'disguised', 'disgust', 'disgusted', 'disgusting', 'disgustingdry', 'disgustingly', 'dish', 'dishes', 'dishesAJs', 'disheveled', 'dishits', 'dishonest', 'dishwater', 'disintegrate', 'disinterested', 'disks', 'dislike', 'disliked', 'disliking', 'disloyal', 'dismal', 'dismantle', 'dismay', 'dismayed', 'dismiss', 'dismissed', 'dismissive', 'disorganized', 'disoriented', 'disowned', 'dispense', 'dispensed', 'dispenser', 'dispensers', 'dispensing', 'disperses', 'display', 'displaydecorations', 'displayed', 'displaying', 'displays', 'displeased', 'displeasure', 'disposable', 'disposal', 'disproportionately', 'disregarding', 'disrepair', 'disrespect', 'disrespected', 'disrespectful', 'disrespectfully', 'disruption', 'disruptive', 'dissapoint', 'dissapointed', 'dissapointment', 'dissappeared', 'dissappointed', 'dissatisfaction', 'dissatisfied', 'dissertation', 'dissipated', 'dissuade', 'distance', 'distant', 'distaste', 'distasteful', 'distinct', 'distinction', 'distinctive', 'distinctly', 'distinctness', 'distinguished', 'distortions', 'distracted', 'distracting', 'distraction', 'distress', 'distressing', 'distribute', 'distributors', 'district', 'disturbing', 'ditto', 'diuretic', 'dive', 'divers', 'diverse', 'diversion', 'diversity', 'dives', 'divey', 'divided', 'dividing', 'diviest', 'divine', 'diving', 'dixie', 'dizzy', 'dj', 'doCustomer', 'doWe', 'dobson', 'doc', 'dock', 'dockers', 'docs', 'doctor', 'doctors', 'document', 'documentary', 'documents', 'dodge', 'dodged', 'doenst', 'doesI', 'doesand', 'doesnt', 'doesntlike', 'dog', 'dogeatin', 'dogfish', 'dogfood', 'dogfoodadvisorcom', 'dogfriendly', 'doggie', 'doggies', 'doggy', 'doglegs', 'dogs', 'dogsso', 'dogtagsized', 'doingbut', 'dojo', 'doll', 'dollar', 'dollars', 'dollarsish', 'dolled', 'dollop', 'dolmades', 'dolmas', 'dolmeh', 'dolphin', 'dom', 'domestic', 'dominate', 'dominated', 'donate', 'donated', 'donation', 'donations', 'done', 'donecrispy', 'donedidnt', 'donor', 'dont', 'donut', 'donuts', 'doodle', 'doodles', 'doom', 'dooo', 'door', 'doorSusies', 'doorin', 'doorlittle', 'doorman', 'doors', 'doorsand', 'doortodoor', 'doorway', 'doorwhat', 'dope', 'dorm', 'dorms', 'dos', 'dosa', 'dosas', 'dose', 'dosent', 'dot', 'doted', 'dots', 'double', 'doubledouble', 'doubleended', 'doublefried', 'doubles', 'doubleshot', 'doubleshower', 'doublestacked', 'doublewon', 'doubt', 'doubted', 'doubts', 'douche', 'doudy', 'dough', 'doughhowever', 'doughnut', 'doughnuts', 'doughy', 'douh', 'douse', 'doused', 'dove', 'downer', 'downfall', 'downhill', 'downhome', 'downing', 'download', 'downloaded', 'downright', 'downs', 'downside', 'downsides', 'downstairs', 'downtime', 'downtown', 'downtrodden', 'downuntil', 'dozen', 'dozens', 'dr', 'draft', 'draftAnyhoo', 'drafts', 'drafty', 'drag', 'dragged', 'dragon', 'dragons', 'drags', 'drain', 'drama', 'dramatic', 'dramatically', 'dramatics', 'drank', 'drastically', 'draught', 'draw', 'drawback', 'drawer', 'drawing', 'drawings', 'drawn', 'draws', 'dread', 'dreaded', 'dreadful', 'dreading', 'dream', 'dreamTotally', 'dreamed', 'dreaming', 'dreamlike', 'dreams', 'dreamy', 'dreary', 'dregs', 'dremel', 'drenched', 'drenching', 'dress', 'dressed', 'dresser', 'dresses', 'dressier', 'dressing', 'dressingdrenched', 'dressings', 'dressy', 'dressycasual', 'drew', 'dried', 'drier', 'dries', 'drift', 'drill', 'drilling', 'drink', 'drinkDodey', 'drinkable', 'drinker', 'drinkers', 'drinking', 'drinks', 'drinksI', 'drinksthe', 'drip', 'dripped', 'dripping', 'drive', 'driveand', 'driveby', 'driven', 'driver', 'drivers', 'drives', 'drivethrough', 'drivethru', 'driveway', 'driving', 'drizzle', 'drizzled', 'drizzling', 'drone', 'drool', 'drooled', 'droolin', 'drooling', 'drop', 'dropby', 'dropin', 'dropouts', 'dropped', 'dropping', 'drops', 'dropthekidsoff', 'drought', 'drove', 'drown', 'drowned', 'drowning', 'drug', 'druginfested', 'drugs', 'drum', 'drummers', 'drums', 'drunk', 'drunken', 'drunkok', 'drunks', 'dry', 'drycame', 'dryer', 'drying', 'dryng', 'dryrub', 'drywall', 'dslreportscom', 'dtown', 'duck', 'ducked', 'duckpicking', 'ducks', 'duct', 'dude', 'dudes', 'duds', 'due', 'dug', 'dugout', 'duhvine', 'dulce', 'dulche', 'dull', 'dumb', 'dumbass', 'dumber', 'dumbest', 'dumbfounded', 'dump', 'dumped', 'dumping', 'dumpling', 'dumplings', 'dumps', 'dumpster', 'dun', 'dungeness', 'dunkin', 'dunking', 'dunno', 'duo', 'duothey', 'duper', 'duplicate', 'duplication', 'durability', 'duration', 'durationwhich', 'dusk', 'dust', 'dusted', 'dusting', 'dutch', 'duties', 'duty', 'dvds', 'dwellers', 'dwindling', 'dye', 'dyed', 'dyes', 'dying', 'dynamite', 'dynasty', 'dzughter', 'décor', 'e', 'eBay', 'eachother', 'eactually', 'eager', 'eagerly', 'eagerness', 'ear', 'earlier', 'earliest', 'early', 'earn', 'earned', 'earnest', 'earning', 'earrings', 'ears', 'earth', 'earthif', 'earthy', 'ease', 'eased', 'easels', 'easier', 'easiest', 'easily', 'easiy', 'east', 'easter', 'eastern', 'eastyour', 'easy', 'easygoing', 'easytouse', 'eat', 'eatable', 'eated', 'eaten', 'eater', 'eaterI', 'eateries', 'eaterieswill', 'eaters', 'eatery', 'eatin', 'eating', 'eatnlearn', 'eats', 'eatthey', 'eattry', 'eavesdrop', 'ebay', 'ebi', 'ecclectic', 'echo', 'echoed', 'echoes', 'echoing', 'eclaire', 'eclectic', 'eclub', 'ecofriendly', 'economic', 'economical', 'economy', 'ecstacy', 'ecstatic', 'ect', 'edamame', 'edemame', 'edge', 'edges', 'edgier', 'edgy', 'edible', 'edit', 'editable', 'edited', 'edition', 'educate', 'educated', 'educating', 'education', 'educational', 'eeew', 'eegee', 'eegees', 'eegeesbut', 'eel', 'efax', 'eff', 'effect', 'effective', 'effectively', 'effects', 'effen', 'efficacious', 'efficiency', 'efficient', 'efficiently', 'effin', 'effing', 'effort', 'efforts', 'eg', 'egg', 'eggcheeseonion', 'eggees', 'eggfoooo', 'eggless', 'eggplant', 'eggplants', 'eggroll', 'eggrolls', 'eggs', 'eggsfair', 'eggy', 'egyptian', 'eh', 'eight', 'eighteen', 'einsteins', 'eis', 'eish', 'either', 'eitherI', 'eitherthats', 'eitherthey', 'el', 'elastic', 'elbow', 'elbows', 'elder', 'elderflower', 'elderly', 'eldest', 'elected', 'electing', 'election', 'electoral', 'electric', 'electrical', 'electronic', 'electronics', 'elegance', 'elegant', 'element', 'elements', 'elevated', 'elevates', 'elevation', 'elevator', 'elevators', 'eleven', 'elf', 'eliminating', 'elites', 'eloquent', 'elote', 'else', 'elserude', 'elses', 'elsewhere', 'elsewherecant', 'elseyoure', 'eludes', 'elusive', 'elves', 'em', 'email', 'emailed', 'emails', 'emapanadas', 'embarassed', 'embarassing', 'embarked', 'embarking', 'embarrassed', 'embarrassing', 'embarrassment', 'embellishment', 'emberassed', 'embezzled', 'embodies', 'embraces', 'emcee', 'emerald', 'emerge', 'emergencies', 'emergency', 'emergencysick', 'emerging', 'emissions', 'emotion', 'emotional', 'empanada', 'empanadas', 'empathetic', 'empathize', 'emperors', 'emphasis', 'emphasize', 'employ', 'employed', 'employee', 'employees', 'employer', 'employers', 'employess', 'empowering', 'empties', 'empty', 'emptying', 'emu', 'emulate', 'emulsion', 'en', 'enable', 'encased', 'encebollado', 'enchalada', 'enchanted', 'enchanting', 'enchilada', 'enchiladas', 'enclosed', 'encompass', 'encounter', 'encountered', 'encounters', 'encourage', 'encouraged', 'encouragement', 'encouraging', 'encroaching', 'encrusted', 'end', 'endearing', 'endeavor', 'endeavors', 'ended', 'ending', 'endless', 'endlessly', 'endorse', 'endorsing', 'ends', 'endure', 'endures', 'enemies', 'enemy', 'energetic', 'energized', 'energy', 'enforce', 'engage', 'engaged', 'engagement', 'engaging', 'engine', 'engine20L', 'engineering', 'english', 'engrossed', 'enhance', 'enigma', 'enigmatic', 'enjoy', 'enjoyable', 'enjoyably', 'enjoyed', 'enjoying', 'enjoyment', 'enjoys', 'enlarge', 'enlightened', 'enlightening', 'enormous', 'enough', 'enoughand', 'enraged', 'enrolled', 'ensalda', 'ensembles', 'ensuing', 'ensure', 'ensured', 'ensuring', 'enter', 'entered', 'entering', 'entertain', 'entertained', 'entertaining', 'entertainment', 'enthusiasm', 'enthusiast', 'enthusiastic', 'enthusiastically', 'enthusiasts', 'entice', 'enticement', 'enticing', 'entire', 'entirely', 'entitled', 'entity', 'entomologist', 'entrance', 'entre', 'entree', 'entreeprobably', 'entrees', 'entreesbut', 'entrepreneurial', 'entrepreneurs', 'entress', 'entries', 'entry', 'entrée', 'entrées', 'enuf', 'enveloped', 'envelopes', 'enviornment', 'enviroment', 'environment', 'environmental', 'environmentally', 'environs', 'envisioned', 'envy', 'epic', 'epically', 'epiphany', 'episode', 'epitome', 'eponymous', 'equal', 'equally', 'equals', 'equip', 'equipement', 'equipetc', 'equipment', 'equipped', 'equivalent', 'er', 'era', 'erbe', 'erosion', 'erotic', 'errant', 'error', 'errors', 'es', 'escalate', 'escape', 'escaped', 'escaping', 'escebeche', 'escolar', 'esp', 'especially', 'espresso', 'esquire', 'essence', 'essential', 'essentially', 'essentials', 'esspresso', 'established', 'establishement', 'establishing', 'establishment', 'establishments', 'estate', 'esteem', 'esthetician', 'estimate', 'estimated', 'estimates', 'estimation', 'estimator', 'et', 'etc', 'etcOf', 'etcetera', 'etcif', 'etcnot', 'eternally', 'eternity', 'eternityif', 'ether', 'ethics', 'ethier', 'ethnic', 'ethnically', 'etoufee', 'etouffee', 'etsy', 'eucalyptus', 'euphoria', 'euphoric', 'euro', 'eurogames', 'european', 'eurostandard', 'euthanize', 'euthanizing', 'evaluations', 'evaluative', 'evap', 'eve', 'even', 'evening', 'evenings', 'event', 'eventeven', 'events', 'eventspool', 'eventually', 'ever', 'everEVER', 'everday', 'everespecially', 'everflowing', 'eversince', 'every', 'everybody', 'everybodys', 'everyday', 'everyday3', 'everyhthing', 'everynight', 'everyone', 'everyones', 'everysingleday', 'everything', 'everytime', 'everywhere', 'everyyyyy', 'eves', 'eveything', 'evident', 'evil', 'evoking', 'evolving', 'ew', 'ewe', 'eww', 'ewww', 'ewwwwww', 'ex', 'exHs', 'exact', 'exacting', 'exactly', 'exactlyso', 'exagerating', 'exaggerating', 'exaggeration', 'exam', 'examination', 'examined', 'examining', 'example', 'examples', 'exams', 'exasperated', 'exceeded', 'exceeding', 'exceedingly', 'exceeds', 'excelent', 'excellence', 'excellent', 'excellently', 'except', 'exception', 'exceptionaaly', 'exceptional', 'exceptionally', 'exceptions', 'excess', 'excessive', 'excessively', 'exchange', 'exchanged', 'excite', 'excited', 'excitedly', 'excitement', 'exciting', 'exclaimed', 'exclaiming', 'exclude', 'exclusive', 'exclusively', 'excoworker', 'excruciatingly', 'exctaly', 'excursion', 'excuse', 'excuses', 'execute', 'executed', 'execution', 'executive', 'exemplary', 'exercise', 'exercises', 'exfoliating', 'exfoliator', 'exhaust', 'exhausted', 'exhaustion', 'exhibit', 'exhibits', 'exhibitsI', 'exist', 'existed', 'existedafter', 'existence', 'existent', 'existing', 'exists', 'exit', 'exiting', 'exodus', 'exotic', 'expand', 'expanded', 'expanding', 'expands', 'expansion', 'expansions', 'expansive', 'expct', 'expecially', 'expect', 'expectaions', 'expectand', 'expectation', 'expectations', 'expected', 'expecting', 'expedite', 'expediting', 'expedition', 'expense', 'expenses', 'expensive', 'expereinces', 'experiece', 'experience', 'experienceEverything', 'experienceFirst', 'experienceI', 'experienceTerrible', 'experiencebecause', 'experienced', 'experiencedThe', 'experiences', 'experiencing', 'experiens', 'experiment', 'experimental', 'expert', 'expertise', 'expertly', 'experts', 'expiration', 'expire', 'expires', 'explain', 'explaindefend', 'explained', 'explaining', 'explains', 'explanation', 'explanations', 'explode', 'exploded', 'exploding', 'exploit', 'explore', 'explored', 'exploring', 'explosion', 'expo', 'export', 'expos', 'expose', 'exposed', 'exposure', 'express', 'expressed', 'expression', 'expressions', 'exquisite', 'exspensive', 'extend', 'extended', 'extending', 'extension', 'extensive', 'extensively', 'extent', 'exterior', 'exterminator', 'external', 'extorting', 'extra', 'extract', 'extracted', 'extraction', 'extramile', 'extraordinarily', 'extraordinary', 'extras', 'extrasthe', 'extravaganza', 'extravaganzas', 'extreme', 'extremely', 'extremity', 'extremly', 'exude', 'exudes', 'eye', 'eyeball', 'eyeballing', 'eyeballs', 'eyebrow', 'eyebrows', 'eyecandy', 'eyed', 'eyeing', 'eyeopening', 'eyes', 'eyesight', 'eyesore', 'ez', 'fab', 'fabric', 'fabricate', 'fabulos', 'fabulous', 'fabulousness', 'fabulus', 'face', 'faceWOW', 'facebook', 'faced', 'facelift', 'faces', 'facial', 'facials', 'facilites', 'facilities', 'facility', 'facing', 'fact', 'factor', 'factors', 'factory', 'facts', 'faded', 'fades', 'faggot', 'fail', 'failed', 'failing', 'fails', 'failure', 'faint', 'faintly', 'fair', 'fairly', 'fairness', 'fairtrade', 'fairway', 'fairways', 'fairy', 'fairytales', 'faith', 'faithful', 'fajita', 'fajitas', 'fake', 'fakefalls', 'fakeness', 'fakville', 'falafel', 'falafels', 'fall', 'fallen', 'falling', 'falls', 'false', 'fame', 'famed', 'familiar', 'families', 'familiescouples', 'family', 'familyfriends', 'familyowned', 'familyrun', 'familys', 'familysize', 'familystyle', 'familythey', 'famished', 'famous', 'fan', 'fanatic', 'fanatical', 'fancier', 'fanciest', 'fancy', 'fancystyle', 'fandito', 'fans', 'fanstatic', 'fantabulous', 'fantasies', 'fantasize', 'fantasizing', 'fantastalistic', 'fantastic', 'fantastical', 'fantastically', 'fantastiche', 'fantasticyumm', 'fantasy', 'far', 'fare', 'fargin', 'fargo', 'farm', 'farmed', 'farmer', 'farmers', 'farmhouse', 'farmland', 'farms', 'fart', 'farther', 'farthest', 'fascia', 'fascinated', 'fascinating', 'fashion', 'fashionable', 'fashioned', 'fashions', 'fast', 'faster', 'fastest', 'fastfood', 'fastish', 'fat', 'fate', 'fatfat', 'fatfree', 'father', 'fatherinlaw', 'fathom', 'fats', 'fattening', 'fattie', 'fatty', 'faucets', 'fault', 'faultthere', 'faux', 'fauxcowboy', 'fauxcowboys', 'fav', 'fave', 'faves', 'favie', 'favor', 'favorable', 'favorably', 'favored', 'favorite', 'favorites', 'favoritethough', 'favorito', 'favors', 'favourite', 'favs', 'fawning', 'fax', 'faxed', 'faxes', 'fck', 'fdown', 'fe', 'fear', 'feared', 'fearing', 'fears', 'feast', 'feasted', 'feasting', 'feat', 'feature', 'featured', 'features', 'featuring', 'febuary', 'feces', 'fed', 'feds', 'fee', 'feed', 'feedback', 'feeders', 'feeding', 'feeds', 'feel', 'feelgood', 'feeling', 'feelings', 'feellook', 'feels', 'feenin', 'fees', 'feet', 'feiends', 'feigned', 'felines', 'fell', 'fellas', 'feller', 'fellow', 'felt', 'feltand', 'female', 'fence', 'fenced', 'fences', 'fender', 'feng', 'fennel', 'fermentated', 'fermented', 'ferrits', 'fertility', 'festival', 'festivals', 'festive', 'festivities', 'feta', 'fetch', 'fetta', 'fettuccine', 'fettucine', 'fettucini', 'fever', 'fewer', 'fiance', 'fiancee', 'fiances', 'fiancé', 'fibbertygibbet', 'ficticious', 'fides', 'field', 'fields', 'fiend', 'fierce', 'fiercely', 'fiery', 'fiesta', 'fifteen', 'fifth', 'fiftysomething', 'fig', 'fight', 'fighters', 'fighting', 'fights', 'figs', 'figuratively', 'figure', 'figured', 'figures', 'figuring', 'file', 'filed', 'files', 'filet', 'filets', 'filing', 'filings', 'fill', 'filled', 'fillednot', 'filler', 'fillet', 'fillets', 'filling', 'fillingI', 'fillingicing', 'fillings', 'fills', 'film', 'filmed', 'films', 'filmy', 'filter', 'filth', 'filthy', 'fin', 'final', 'finale', 'finally', 'finals', 'finance', 'financial', 'financially', 'find', 'finding', 'findings', 'finds', 'findslike', 'fine', 'fineI', 'finebut', 'finedining', 'finely', 'finenot', 'finer', 'fines', 'finesse', 'finest', 'fing', 'finger', 'fingerling', 'fingernails', 'fingerprint', 'fingerprinting', 'fingerprints', 'fingers', 'fingertip', 'fingertipsincluding', 'finish', 'finished', 'finishes', 'finishing', 'finnaly', 'fire', 'firearm', 'firearms', 'fired', 'firefly', 'fireinthebungholio', 'firemen', 'firepit', 'firepits', 'fireplace', 'fireplaces', 'fires', 'firewood', 'fireworks', 'firey', 'firing', 'firm', 'firmdipbite', 'firmer', 'firmly', 'first', 'firsthand', 'firsttime', 'fish', 'fisherman', 'fishers', 'fishheads', 'fishing', 'fishy', 'fist', 'fists', 'fit', 'fitness', 'fits', 'fitted', 'fitter', 'fitting', 'five', 'fived', 'fives', 'fivestars', 'fix', 'fixa', 'fixable', 'fixated', 'fixed', 'fixie', 'fixing', 'fixings', 'fixingsmmmmmmmm', 'fixins', 'fixinsthe', 'fixtures', 'fk', 'flag', 'flagged', 'flagging', 'flagstaff', 'flair', 'flake', 'flaked', 'flakes', 'flakey', 'flaky', 'flambeed', 'flame', 'flamebroiled', 'flamed', 'flamenco', 'flaming', 'flan', 'flank', 'flanked', 'flannel', 'flare', 'flash', 'flashback', 'flashbacks', 'flashfried', 'flashing', 'flashlight', 'flashlights', 'flask', 'flat', 'flatbread', 'flatbreads', 'flatout', 'flatscreen', 'flattened', 'flatter', 'flautas', 'flautasrolled', 'flaverful', 'flavor', 'flavored', 'flavorful', 'flavorgasm', 'flavoring', 'flavorlemonthat', 'flavorless', 'flavorlesserrthats', 'flavors', 'flavorseating', 'flavorso', 'flavorsodium', 'flavortexture', 'flavour', 'flawjtha', 'flawless', 'flaws', 'flee', 'flemings', 'flew', 'flexed', 'flexibility', 'flexible', 'flick', 'flicked', 'flier', 'fliers', 'flies', 'flight', 'flights', 'flimsiest', 'flimsy', 'flintstones', 'flip', 'flipflops', 'flippant', 'flipped', 'flipper', 'flirt', 'flirting', 'float', 'floating', 'flock', 'flocking', 'flooded', 'flooding', 'floor', 'floored', 'flooring', 'floors', 'flops', 'flora', 'floral', 'florals', 'florescent', 'florets', 'florist', 'flossing', 'flour', 'flourished', 'flourishes', 'flourishing', 'flourless', 'flours', 'flow', 'flowed', 'flower', 'flowering', 'flowers', 'flowindeed', 'flowing', 'flown', 'flu', 'fluent', 'fluff', 'fluffed', 'fluffiness', 'fluffy', 'fluffyIts', 'fluffytheyll', 'fluke', 'flummoxed', 'fluorescent', 'flushed', 'flushes', 'flushing', 'flustered', 'flute', 'fluttering', 'fluttery', 'fly', 'flyer', 'flyers', 'flying', 'flyoverstateswhitefolk', 'fn', 'fo', 'foam', 'foamed', 'foamy', 'fob', 'focaccia', 'focal', 'foccacia', 'foced', 'focus', 'focused', 'focusedshes', 'focuses', 'focusing', 'fodder', 'foie', 'foil', 'fold', 'folded', 'folding', 'folk', 'folks', 'folks600', 'folksGo', 'follow', 'followed', 'followers', 'following', 'follows', 'followup', 'fond', 'fondant', 'fondest', 'fondu', 'fondue', 'fondues', 'fontina', 'fonts', 'foo', 'food', 'foodappstry', 'foodcoffee', 'fooddeliverer', 'fooddrinks', 'foodgreat', 'foodhealth', 'foodie', 'foodies', 'foodit', 'foodlike', 'foodnot', 'foodprobably', 'foods', 'foodsafe', 'foodso', 'foodstuffs', 'foodwise', 'foody', 'fooey', 'foofy', 'fool', 'fooled', 'fooling', 'foolish', 'foolishly', 'fools', 'foosball', 'foot', 'footage', 'football', 'foothill', 'foothills', 'footlong', 'footlongs', 'footnote', 'footprint', 'foray', 'forbes', 'forbidden', 'force', 'forced', 'forcing', 'forearms', 'foreign', 'foreigner', 'foremost', 'foresee', 'forest', 'forever', 'forewarned', 'forgave', 'forget', 'forgettable', 'forgetting', 'forgivable', 'forgive', 'forgiving', 'forgo', 'forgot', 'forgotten', 'forheck', 'fork', 'forks', 'forktender', 'form', 'formal', 'format', 'formation', 'formations', 'formative', 'formed', 'former', 'formerly', 'formidable', 'forming', 'forms', 'formula', 'formulaic', 'forsaken', 'forth', 'forthcoming', 'forts', 'fortunate', 'fortunately', 'fortune', 'forty', 'forvever', 'forward', 'forwarded', 'forwarding', 'foster', 'foul', 'fould', 'foulest', 'found', 'foundation', 'founded', 'founder', 'founderchef', 'fountain', 'fountains', 'four', 'fourfooted', 'foursome', 'fourstars', 'fourteen', 'fourth', 'fourtop', 'fouryearold', 'fowarding', 'fowl', 'fox', 'foyer', 'fraction', 'fragrance', 'fraiche', 'frail', 'frame', 'framed', 'frames', 'franchise', 'franchises', 'frangipane', 'frank', 'frankfurters', 'frankly', 'frantic', 'frantically', 'frappacino', 'frappes', 'frappuccino', 'frat', 'fray', 'frazzeling', 'fraîche', 'freak', 'freaked', 'freaken', 'freakin', 'freaking', 'freaky', 'free', 'freeEvery', 'freedom', 'freeriding', 'freestanding', 'freeway', 'freeze', 'freezer', 'freezerburned', 'freind', 'freindly', 'french', 'frenchfry', 'frenchfryshaped', 'frenetic', 'frequent', 'frequented', 'frequenting', 'frequently', 'frequents', 'fresca', 'frescas', 'frescoed', 'fresh', 'freshbaked', 'freshened', 'freshener', 'fresher', 'freshest', 'fresheverything', 'freshgrated', 'freshly', 'freshlymade', 'freshlyroasted', 'freshmade', 'freshman', 'freshness', 'freshsqueezed', 'freshthanks', 'freshthis', 'freshwater', 'fret', 'frickin', 'friday', 'fridays', 'fridge', 'fridges', 'fried', 'friend', 'friendlier', 'friendliest', 'friendliness', 'friendly', 'friends', 'friendsfamilykids', 'friendship', 'fries', 'friessoda', 'friggin', 'frigging', 'fright', 'frighten', 'frightened', 'frijoles', 'frills', 'frings', 'frisbee', 'frito', 'frittata', 'frittatas', 'fritters', 'fritti', 'fritto', 'fro', 'frogger', 'frogs', 'fromThe', 'fromage', 'frommy', 'front', 'frontI', 'frontdesk', 'frontrow', 'froo', 'froshy', 'frosted', 'frosting', 'frostingpiled', 'frostings', 'frosty', 'froth', 'frothing', 'frothy', 'froufrou', 'frown', 'froyo', 'froze', 'frozen', 'frozenthenmicrowaved', 'frquently', 'fru', 'fructose', 'frugal', 'frugle', 'fruit', 'fruits', 'fruity', 'frustrate', 'frustrated', 'frustrating', 'frustration', 'frustrations', 'fry', 'fryer', 'frying', 'frypieces', 'frys', 'fryshells', 'ft', 'ftw', 'fubar', 'fuck', 'fucked', 'fuckhead', 'fuckin', 'fucking', 'fucks', 'fuckyou', 'fuct', 'fudge', 'fuel', 'fueling', 'fuh', 'fulfill', 'fulfilling', 'full', 'fulla', 'fullest', 'fulling', 'fulls', 'fullservice', 'fullsize', 'fullsized', 'fully', 'fullyou', 'fumes', 'fuming', 'fun', 'funcreative', 'function', 'functional', 'functionality', 'fund', 'fundido', 'funding', 'fundraiser', 'fundraising', 'funds', 'fungi', 'fungus', 'funk', 'funky', 'funnel', 'funner', 'funniest', 'funny', 'funnyentertaining', 'funprofessional', 'furious', 'furnace', 'furnish', 'furnished', 'furnishings', 'furniture', 'furnituredated', 'furrowed', 'furry', 'fury', 'fuse', 'fuses', 'fusion', 'fuss', 'fussed', 'fussy', 'future', 'futuristic', 'fuzzy', 'fwd', 'fyi', 'g', 'gAstronomical', 'gadgets', 'gaeta', 'gag', 'gain', 'gained', 'gaining', 'gal', 'gall', 'galleries', 'gallery', 'galleryand', 'gallina', 'gallo', 'gallon', 'gallons', 'galore', 'gals', 'galze', 'gambas', 'gamble', 'gamblers', 'gambling', 'game', 'gameand', 'gamers', 'games', 'gamesthey', 'gaming', 'ganache', 'gang', 'gangly', 'gangplank', 'ganoosh', 'ganouj', 'ganoush', 'gap', 'garage', 'garbage', 'garbonzo', 'garden', 'gardeners', 'gardengrow', 'gardening', 'gardens', 'gargantuan', 'garlands', 'garlic', 'garlicherb', 'garlicky', 'garlickyspicy', 'garlictype', 'garner', 'garnish', 'garnished', 'garnishes', 'garnishing', 'garsh', 'gas', 'gasket', 'gasoline', 'gasping', 'gastrique', 'gastronomic', 'gastronomy', 'gastropub', 'gate', 'gates', 'gateway', 'gather', 'gathered', 'gathering', 'gatos', 'gaudy', 'gauge', 'gauzy', 'gave', 'gawking', 'gay', 'gaze', 'gazillion', 'gazing', 'gazpacho', 'ge', 'gear', 'gearing', 'geasy', 'gee', 'geek', 'geeks', 'gel', 'gelatin', 'gelatinous', 'gelato', 'gelatosorbet', 'gelish', 'gellato', 'gelleto', 'gels', 'gem', 'gems', 'gender', 'genders', 'general', 'generally', 'generate', 'generation', 'generations', 'generic', 'generious', 'generous', 'generously', 'genes', 'genetically', 'genevese', 'genius', 'genre', 'genres', 'gentle', 'gentleman', 'gentlemans', 'gentlemen', 'gently', 'genuine', 'genuinely', 'george', 'georgia', 'german', 'germs', 'gesture', 'get', 'getaway', 'gets', 'getsperiod', 'gettin', 'getting', 'gf', 'gfs', 'ghetto', 'ghirardelli', 'ghost', 'ghostly', 'ghosts', 'giant', 'giardinara', 'giardiniera', 'gift', 'giftcards', 'gifts', 'giftsdecoration', 'gig', 'gigantic', 'giggle', 'gills', 'gimme', 'gimmick', 'gimmicks', 'gimmicky', 'gin', 'ginandtonic', 'ginger', 'gingerbread', 'ginhound', 'ginormous', 'gio', 'giraffes', 'girl', 'girlfirned', 'girlfriend', 'girlfriends', 'girls', 'girlsand', 'girlswe', 'girly', 'girth', 'giseling', 'gist', 'give', 'giveing', 'given', 'giver', 'gives', 'giving', 'glacier', 'glad', 'gladly', 'glamorous', 'glamour', 'glance', 'glanced', 'glands', 'glare', 'glaring', 'glass', 'glassblowing', 'glassbut', 'glasses', 'glassware', 'glassyeyed', 'glaze', 'glazed', 'gleaming', 'glee', 'glib', 'glimpse', 'glistening', 'glitches', 'glitter', 'glitterific', 'glitters', 'glittery', 'global', 'globalpisecurity', 'glom', 'glop', 'glories', 'glorified', 'glorious', 'glory', 'glosses', 'glossy', 'glove', 'gloves', 'gloveshis', 'glow', 'glowing', 'glued', 'gluten', 'glutenfilled', 'glutenfree', 'glutenfreesure', 'glutten', 'glutton', 'gluttonous', 'gluttony', 'gnarlywhich', 'gnat', 'gnocchi', 'go', 'goal', 'goalie', 'goals', 'goat', 'goats', 'gobble', 'gobbled', 'gobi', 'gobs', 'god', 'goddamn', 'gods', 'godthe', 'goer', 'goers', 'goes', 'goesI', 'goesthe', 'gogo', 'going', 'goings', 'goingyes', 'gold', 'golden', 'golf', 'golfcarted', 'golfer', 'golfers', 'golfing', 'gomen', 'gomers', 'gon', 'gone', 'gonePERMANENTLY', 'gong', 'gonna', 'goo', 'good', 'goodI', 'goodThe', 'goodand', 'goodbye', 'goodeven', 'goodeveryone', 'goodies', 'goodif', 'goodlooking', 'goodnatured', 'goodness', 'goodnight', 'goodnothing', 'goodor', 'goodregardlesswhich', 'goods', 'goodshe', 'goodsmothered', 'goodsprinkled', 'goodthe', 'goodthen', 'goodthis', 'goodwill', 'goody', 'gooey', 'goof', 'goofing', 'goofy', 'google', 'googled', 'goona', 'goood', 'goooood', 'gooooooood', 'gooooooooodness', 'goosebumps', 'gooydefinately', 'gordo', 'goregous', 'gorganzola', 'gorge', 'gorgeous', 'gorgonzola', 'gosh', 'gossip', 'gossiping', 'got', 'gothic', 'goto', 'gots', 'gotta', 'gotten', 'gotter', 'gouda', 'gouged', 'gourmet', 'government', 'gowell', 'gown', 'gowns', 'gps', 'grab', 'grabbed', 'grabbing', 'grace', 'graced', 'gracious', 'graciously', 'graciousness', 'grad', 'grade', 'graders', 'grades', 'gradual', 'graduate', 'graduated', 'graduation', 'graham', 'grahm', 'grain', 'grainfree', 'grains', 'grainy', 'grand', 'grandad', 'grandchildren', 'granddaddy', 'granddaughter', 'grande', 'grandiose', 'grandma', 'grandmagrandpa', 'grandmas', 'grandmother', 'grandmothers', 'grandpa', 'grandparents', 'grandson', 'granite', 'granny', 'granola', 'granolay', 'granolayogurtfruit', 'granted', 'grape', 'grapefruit', 'grapes', 'graphically', 'graphics', 'grappa', 'gras', 'grasp', 'grass', 'grasses', 'grassfed', 'grassy', 'grateful', 'gratefully', 'grates', 'gratifyingI', 'gratin', 'gratis', 'gratitude', 'gratuitus', 'gratuity', 'grave', 'gravel', 'gravelly', 'graveyard', 'gravity', 'gravlax', 'gravy', 'gravylike', 'gravypancakestoast', 'gravywhat', 'gravyyou', 'gray', 'grazing', 'grease', 'greasiest', 'greasy', 'great', 'greatI', 'greatWe', 'greatdont', 'greater', 'greatest', 'greatfriendly', 'greatgenerous', 'greatgrandparents', 'greatjust', 'greatly', 'greatness', 'greatso', 'greattasting', 'greatthe', 'greatthey', 'greatwe', 'greed', 'greedy', 'greek', 'greekstyle', 'green', 'greenbelt', 'greens', 'greet', 'greeted', 'greeting', 'greetings', 'greets', 'greg', 'gregarious', 'greta', 'grew', 'grey', 'griddle', 'griddled', 'grief', 'grigio', 'grill', 'grilland', 'grilled', 'grilling', 'grillingcooking', 'grills', 'grimaldis', 'grimiest', 'grin', 'grind', 'grinda', 'grinded', 'grinder', 'grinders', 'grinding', 'gringa', 'gringas', 'gringos', 'grinning', 'gripe', 'gripeing', 'gripes', 'griping', 'gristle', 'gristly', 'grit', 'grits', 'gritsIve', 'gritted', 'gritty', 'groaning', 'grocer', 'groceries', 'grocery', 'groingrabbingly', 'groom', 'groomed', 'groomer', 'groomers', 'grooming', 'grooping', 'groovy', 'gross', 'grossBut', 'grossed', 'grossest', 'grossout', 'grossthe', 'ground', 'grounds', 'group', 'groupie', 'grouping', 'groupon', 'groupons', 'groups', 'groupwork', 'grousing', 'grow', 'growersfarmersSupport', 'growing', 'growl', 'growled', 'growler', 'growlers', 'growling', 'growls', 'grown', 'grownups', 'grows', 'growth', 'grub', 'grubbiest', 'grudge', 'grumbling', 'grumpy', 'grunts', 'gruyere', 'grâce', 'gspot', 'gspots', 'guac', 'guacamole', 'guacomole', 'guarantee', 'guaranteed', 'guard', 'guardians', 'guards', 'guerreros', 'guess', 'guessed', 'guessing', 'guest', 'guests', 'guide', 'guided', 'guidelines', 'guides', 'guiding', 'guild', 'guilt', 'guiltfree', 'guiltily', 'guilty', 'guiness', 'guinness', 'guitar', 'guitars', 'gulp', 'gum', 'gumbo', 'gumline', 'gummie', 'gummitgit', 'gummy', 'gums', 'gun', 'gunkan', 'gunked', 'gunna', 'guns', 'gurl', 'gurus', 'gush', 'gushing', 'gushy', 'gusting', 'gut', 'gutbusting', 'guts', 'gutted', 'gutting', 'guy', 'guys', 'guysJames', 'guysgirls', 'gym', 'gymboree', 'gymnastics', 'gyms', 'gymsI', 'gynormous', 'gynormus', 'gyoza', 'gyrating', 'gyro', 'gyros', 'gyrotogo', 'ha', 'habanero', 'habaneros', 'habenero', 'habit', 'habits', 'haboob', 'hacked', 'hacky', 'hadan', 'haddefinitely', 'haddock', 'hadit', 'hadnt', 'hadso', 'hagard', 'haha', 'hahahahaha', 'haiku', 'hail', 'hailed', 'hair', 'haircut', 'haircuts', 'haircutvery', 'hairdresser', 'haired', 'hairless', 'hairs', 'hairy', 'half', 'halfblackened', 'halfday', 'halfempty', 'halfexpected', 'halfhalf', 'halfindoor', 'halfmarathon', 'halfmoppinghalfattemptingtoclean', 'halfnaked', 'halfprice', 'halfway', 'halibut', 'halibutswordfishmiso', 'hall', 'halloween', 'halls', 'hallway', 'hallways', 'halo', 'ham', 'hamachi', 'hamburger', 'hamburgers', 'hamburgessa', 'hammered', 'hamper', 'hana', 'hand', 'handbag', 'handbags', 'handcream', 'handcut', 'handed', 'handedly', 'handful', 'handheld', 'handi', 'handicappers', 'handing', 'handiwork', 'handkerchiefs', 'handle', 'handled', 'handles', 'handling', 'handmade', 'handrails', 'hands', 'handsdown', 'handshake', 'handsome', 'handsomely', 'handson', 'handwritten', 'handy', 'handyman', 'hanede', 'hang', 'hangars', 'hanger', 'hanging', 'hangout', 'hangover', 'hangovers', 'hangs', 'hankering', 'hansons', 'haphazardly', 'haphazzard', 'happen', 'happened', 'happenin', 'happening', 'happens', 'happhazardly', 'happier', 'happiest', 'happily', 'happiness', 'happy', 'happygolucky', 'harass', 'harassed', 'harassing', 'harassment', 'hard', 'hardboiled', 'hardcore', 'hardcovers', 'hardened', 'harder', 'harderand', 'hardest', 'hardfought', 'hardly', 'hardpressed', 'hardtofind', 'hardware', 'hardwood', 'hardworking', 'harissa', 'harlequin', 'harm', 'harmful', 'harmonies', 'harmony', 'harp', 'harping', 'harried', 'harsh', 'harshit', 'harshness', 'hart', 'harvest', 'hash', 'hashbrowns', 'hashtagging', 'hasnt', 'hassle', 'hassled', 'hasslefree', 'hastily', 'hasty', 'hat', 'hatch', 'hate', 'hated', 'hateful', 'hatefulSo', 'hatenot', 'hates', 'hating', 'hats', 'haul', 'hauled', 'haunt', 'haunted', 'haunts', 'haupiafilled', 'havarti', 'havebecause', 'havehad', 'havehe', 'havent', 'havnt', 'havoc', 'hawaii', 'hawaiian', 'hay', 'hayride', 'hazelnut', 'hazelnuts', 'head', 'headache', 'headaches', 'headcheek', 'headed', 'headfirst', 'heading', 'headphones', 'heads', 'headset', 'headsplitting', 'heady', 'heafty', 'heal', 'healed', 'healer', 'healing', 'heals', 'health', 'healthcare', 'healthconscious', 'healthful', 'healthhygiene', 'healthier', 'healthiest', 'healthy', 'healthydelicious', 'healthyish', 'heap', 'heaping', 'heaps', 'hear', 'heard', 'hearing', 'hearingimpaired', 'hears', 'heart', 'heartbeat', 'heartbroken', 'heartburn', 'hearted', 'heartedly', 'heartfelt', 'hearth', 'hearts', 'heartworm', 'hearty', 'heat', 'heatViagra', 'heated', 'heater', 'heaters', 'heathens', 'heating', 'heatnothing', 'heaven', 'heavenit', 'heavenly', 'heavenlyincredibly', 'heavens', 'heaviest', 'heavily', 'heavy', 'heavyoily', 'heavysweet', 'heck', 'heckling', 'heckthey', 'hectic', 'hed', 'hedge', 'heed', 'heehee', 'heel', 'heelbut', 'heels', 'hefe', 'heft', 'hefty', 'heh', 'hehehe', 'height', 'heightened', 'heinous', 'heirloom', 'held', 'helicopters', 'hell', 'hello', 'helloits', 'helm', 'helmet', 'helmets', 'help', 'helped', 'helpers', 'helpful', 'helpfulRene', 'helpfuland', 'helpfull', 'helpfulness', 'helpfulthe', 'helping', 'helpless', 'helps', 'hem', 'hematoma', 'hemmed', 'hemroid', 'hen', 'hence', 'hens', 'hep', 'herb', 'herbal', 'herbbutter', 'herbed', 'herbs', 'herbvegetable', 'herd', 'here5', 'hereI', 'hereand', 'hereat', 'herebertos', 'hereby', 'herediarrhea', 'herefor', 'herelunch', 'hereno', 'heres', 'herethank', 'herethe', 'herethis', 'herethought', 'herhis', 'heritage', 'hero', 'herring', 'herselfand', 'hersheys', 'hes', 'heshe', 'hesistant', 'hesitant', 'hesitantly', 'hesitate', 'hesitated', 'hesitation', 'hey', 'heyday', 'hi', 'hiatus', 'hiccup', 'hickish', 'hicks', 'hickups', 'hid', 'hidden', 'hide', 'hideaway', 'hiden', 'hideous', 'hideout', 'hides', 'hiding', 'hifi', 'high', 'highbacked', 'highcaliber', 'highcalorie', 'highchair', 'highend', 'higher', 'highest', 'highgas', 'highland', 'highlight', 'highlighting', 'highlights', 'highlightsshe', 'highly', 'highlymemorable', 'highlyresponsive', 'highpitched', 'highpriced', 'highquality', 'highrise', 'highrisk', 'highs', 'highschool', 'highschoolers', 'hight', 'hightech', 'hightops', 'highway', 'highways', 'hike', 'hikeand', 'hiked', 'hikers', 'hikes', 'hiking', 'hilarious', 'hilariously', 'hill', 'hillier', 'hills', 'hilton', 'himWell', 'himherself', 'hindering', 'hint', 'hints', 'hip', 'hiphop', 'hipper', 'hippie', 'hippieland', 'hippies', 'hippieshipsters', 'hippness', 'hippy', 'hipster', 'hipsterness', 'hipsters', 'hipstery', 'hire', 'hired', 'hires', 'hiring', 'hisherself', 'hispanic', 'historic', 'historical', 'history', 'hit', 'hitch', 'hitchin', 'hitlist', 'hitormiss', 'hits', 'hitting', 'hitup', 'hmm', 'hmmm', 'hmmmm', 'hmmmmmm', 'hmmmmmmm', 'hmmmthe', 'hmmph', 'hoagies', 'hobbies', 'hobby', 'hobos', 'hockey', 'hocks', 'hodgepodge', 'hog', 'hogie', 'hogs', 'hohum', 'hoikey', 'hoisted', 'hold', 'holder', 'holders', 'holding', 'holds', 'hole', 'holeinarundownstripmall', 'holeinthewall', 'holes', 'holiday', 'holidays', 'holistic', 'hollandaise', 'hollendaise', 'hollywood', 'holy', 'homage', 'home', 'homeI', 'homeand', 'homecooked', 'homefries', 'homefriesthey', 'homeless', 'homemade', 'homemadealso', 'homemademeatball', 'homemake', 'homeopathic', 'homerun', 'homes', 'homestyle', 'homethey', 'hometown', 'homework', 'homey', 'homies', 'homogenized', 'homophobia', 'homosexuals', 'homous', 'hone', 'honed', 'honeslty', 'honest', 'honesteven', 'honestly', 'honesty', 'honey', 'honeycomb', 'honeydipped', 'honeymoon', 'hong', 'honked', 'honor', 'honorable', 'honored', 'honoring', 'honors', 'hoo', 'hood', 'hoods', 'hook', 'hookah', 'hooked', 'hookers', 'hooks', 'hooligan', 'hooligans', 'hoooorray', 'hoopla', 'hooters', 'hop', 'hope', 'hoped', 'hopeful', 'hopefully', 'hopes', 'hoping', 'hopno', 'hopped', 'hoppin', 'hopping', 'hops', 'horchata', 'hormonally', 'hormone', 'hormones', 'horns', 'horrendous', 'horrible', 'horribly', 'horrid', 'horrific', 'horrifically', 'horrified', 'horror', 'horse', 'horseback', 'horseradish', 'horses', 'horseshoes', 'horshradish', 'hose', 'hospitable', 'hospital', 'hospitality', 'hospitallike', 'hospitals', 'host', 'hostage', 'hosted', 'hostess', 'hostesses', 'hostessownermanager', 'hostile', 'hosting', 'hosts', 'hostshostesses', 'hot', 'hotdog', 'hotdogs', 'hotdogswhat', 'hotel', 'hotelrestaurantbar', 'hotels', 'hotnready', 'hotoffthegrill', 'hotpeople', 'hotplate', 'hotpot', 'hots', 'hotspot', 'hotspots', 'hotter', 'hottest', 'hotties', 'hotttt', 'hotwings', 'hotwire', 'hotziki', 'hounding', 'hour', 'hourguarantee', 'hourlong', 'hournever', 'hourof', 'hourplus', 'hours', 'hoursbut', 'hourwhich', 'house', 'houseORbuild', 'houseblend', 'housed', 'household', 'househunting', 'housekeeping', 'housemade', 'houses', 'housesitter', 'houseturnedrestaurant', 'housewares', 'housewhipped', 'housewife', 'houstons', 'hover', 'hovered', 'hovering', 'however', 'howl', 'hows', 'hr', 'hrs', 'httpcidseengineeringasuedu', 'httpenwikipediaorgwikiBurrata', 'httpessencebakerycomessencebakeryenvironmentallyfriendlyshtml', 'httpinteractiveasueduqhom', 'httpmonkeywonderlandcomblog', 'httpnewcollegeasueduharcsdegreesmajorsinterdisciplinaryartsandperformanceprogram', 'httpnewcollegeasuedumnsdegreescomputingappliedcomputingprogram', 'httpphoenixgovBNDMAPSindexhtml', 'httpphoenixorgwpcontentuploads201004CamelbackMountainTrailheadOverflowParkingpng', 'httpschmoozeazcomblogp680', 'httptinyurlcombnd5erj', 'httptinyurlcomc785ykr', 'httptinyurlcomc7pkagm', 'httptinyurlcomc7zwftv', 'httptinyurlcomca765ua', 'httptinyurlcomcmtkood', 'httptinyurlcomcspjnfm', 'httptlivingsocialcomdeals453990refemailjprpi85154658', 'httpwwwautismcenterorgdefaultaspx', 'httpwwwazpbsorgcheckplease', 'httpwwwbadmouthnetinnoutssecretmenu', 'httpwwwbbfwcom', 'httpwwwchristophersazcom', 'httpwwwcraigslistorgaboutbesthtf755891987html', 'httpwwwdoggiestepsdogtrainingcom', 'httpwwwflickrcompeopletysoncrosbie', 'httpwwwflickrcomphotosryno4113416766', 'httpwwwfourpeakscom', 'httpwwwhalorescueorgindexhtml', 'httpwwwinnoutcomsecretmenuasp', 'httpwwwlocalfirstazcomfallfestival', 'httpwwwphoenixcitygrillecom', 'httpwwwpizzeriabiancocom', 'httpwwwrestaurantcom', 'httpwwwtexasburgerguycom20050116xtrapattiesandxtracheeseshtml', 'httpwwwultrastarmoviescomparentmoviemorningasp', 'httpwwwyelpcombizlagrandeorangegroceryphoenixhrid4cXbhzxxtmExF9kRjmFViQsrcself', 'httpwwwyelpcombizphotos0Buxoc0cRqjpvkezo3bqogselecto9jIksBMObhCxoImsekQo9jIksBMObhCxoImsekQ', 'httpwwwyelpcombizphotos0Buxoc0cRqjpvkezo3bqogselectrK8m1rxl50PB69c2YqQTgrK8m1rxl50PB69c2YqQTg', 'httpwwwyelpcombizphotos3N9U549Zse8UPMwKZAjAQselectM1WrCuX3oouHHrynL8KJQgM1WrCuX3oouHHrynL8KJQg', 'httpwwwyelpcombizphotos3N9U549Zse8UPMwKZAjAQselectMMwKpMltbKCWNNlraItGwMMwKpMltbKCWNNlraItGw', 'httpwwwyelpcombizphotos3N9U549Zse8UPMwKZAjAQselectXg8U6Fz2E8hu0xQ3Hf7CZgXg8U6Fz2E8hu0xQ3Hf7CZg', 'httpwwwyelpcombizrustlersroostephoenixhridgYib8eA4hDfylSs17Zcg', 'httpwwwyelpcombizseptemberofficehoursatlobbystempehridkQOElzgklMRbAyWS8LhVFw', 'httpwwwyoutubecomwatchvfsG07sMlZ5sfeaturerelated', 'hub', 'hubbie', 'hubby', 'hubbys', 'hubs', 'hubster', 'hubsters', 'huckleberry', 'hue', 'huera', 'hues', 'huevos', 'huff', 'hug', 'huge', 'hugeass', 'hugehad', 'hugely', 'hugh', 'hugs', 'huh', 'hula', 'hullabaloo', 'hum', 'human', 'humane', 'humanely', 'humanity', 'humanitythe', 'humans', 'humble', 'humbling', 'humbly', 'humid', 'humidifier', 'humidity', 'humiliating', 'hummingbirds', 'hummous', 'hummus', 'hummusNope', 'hummuseses', 'hummusgrilledmarinated', 'humor', 'humornot', 'humus', 'hundred', 'hundreds', 'hundredyearold', 'hung', 'hunger', 'hungover', 'hungrier', 'hungry', 'hungryits', 'hunk', 'huns', 'hunt', 'hunter', 'hunterdeer', 'hunters', 'hunting', 'hurrah', 'hurricane', 'hurried', 'hurries', 'hurry', 'hurt', 'hurtful', 'hurting', 'hurts', 'husband', 'husbandandwife', 'husbandly', 'husbands', 'hush', 'hushpuppys', 'hussy', 'hustle', 'hustled', 'hut', 'hyberbolic', 'hybrid', 'hydrated', 'hydration', 'hydrogen', 'hydrogenated', 'hydroponically', 'hygenist', 'hygiene', 'hygienist', 'hygienists', 'hype', 'hypebest', 'hyped', 'hyperbole', 'hypes', 'hypnotic', 'hypnotized', 'hypocrite', 'iHop', 'iPad', 'iPadapparently', 'iPhone', 'iPic', 'iPod', 'iStore', 'iTunes', 'ia', 'iamtimhardy', 'ice', 'iceberg', 'iceburg', 'icecold', 'icecream', 'icecreamlooks', 'icecustard', 'iced', 'ices', 'icey', 'icing', 'ick', 'ickLA', 'icky', 'icon', 'iconic', 'icons', 'icy', 'id', 'idea', 'ideal', 'ideas', 'identical', 'identified', 'identify', 'identity', 'idiot', 'idiotic', 'idiots', 'idk', 'ie', 'iffy', 'ignorance', 'ignorant', 'ignore', 'ignored', 'ignoring', 'ii', 'iitttyyy', 'ilk', 'ill', 'illeffects', 'illegal', 'illlll', 'illness', 'illuminating', 'illusion', 'illusive', 'illustrates', 'ilovethisplace', 'im', 'image', 'imagery', 'images', 'imaginable', 'imagination', 'imaginations', 'imagine', 'imagined', 'imbued', 'imitation', 'immaculate', 'immaculately', 'immediate', 'immediately', 'immense', 'immensely', 'immersed', 'immigrants', 'imminent', 'immobile', 'immune', 'impatient', 'impecable', 'impeccable', 'impeccably', 'impending', 'imperative', 'imperial', 'impersonal', 'impession', 'impetus', 'implicitly', 'implicitlyso', 'implies', 'impolite', 'importance', 'important', 'importantits', 'importantly', 'importantlymy', 'imported', 'importing', 'impossible', 'impostors', 'impractical', 'impresive', 'impress', 'impressed', 'impressedI', 'impresses', 'impressing', 'impression', 'impressions', 'impressive', 'impressively', 'imprinted', 'imprinting', 'impromptu', 'improve', 'improved', 'improvement', 'improvements', 'improves', 'improving', 'inability', 'inactive', 'inactivity', 'inadequate', 'inadvertently', 'inahh', 'inandout', 'inappropriate', 'inaugural', 'inauthentic', 'inbetween', 'inbox', 'incantation', 'incapable', 'incarnation', 'incentive', 'incentivebut', 'incentives', 'incessant', 'inch', 'inches', 'incidences', 'incident', 'incidental', 'incidentally', 'incidentbut', 'incision', 'inclined', 'inclines', 'include', 'included', 'includedwell', 'includes', 'including', 'inclusion', 'inclusive', 'income', 'incoming', 'incompetence', 'incompetent', 'incongruous', 'inconsistencies', 'inconsistent', 'inconvenice', 'inconvenience', 'inconvenienced', 'inconveniencing', 'inconvenient', 'incorporate', 'incorporated', 'incorporation', 'incorrect', 'incorrectly', 'increase', 'increased', 'increases', 'increasing', 'increasingly', 'incredibally', 'incredible', 'incredibleworth', 'incredibly', 'indecisive', 'indeed', 'independent', 'independently', 'indescribably', 'indestructible', 'indian', 'indicated', 'indicates', 'indicating', 'indication', 'indicative', 'indictment', 'indie', 'indifferent', 'indigenous', 'indigestion', 'indistinguishable', 'individual', 'individuality', 'individualized', 'individually', 'individualno', 'individuals', 'indoor', 'indoors', 'indra', 'induce', 'inducing', 'indulge', 'indulged', 'indulgence', 'indulgent', 'indulges', 'indulging', 'industrial', 'industrious', 'industry', 'inedible', 'inevitable', 'inexpensive', 'inexplicable', 'infant', 'infantile', 'infants', 'infected', 'infection', 'inferior', 'infestations', 'infested', 'inflammation', 'inflated', 'inflation', 'inflections', 'influence', 'influx', 'info', 'infomercials', 'inform', 'informal', 'information', 'informational', 'informationfacts', 'informative', 'informed', 'informing', 'infringement', 'infront', 'infuriating', 'infuse', 'infused', 'infusion', 'ingenious', 'ingesting', 'ingrained', 'ingrediants', 'ingredient', 'ingredients', 'ingredientsas', 'ingregients', 'ingrown', 'inhale', 'inhaled', 'inherent', 'inhibiting', 'inhouse', 'inhumane', 'ini', 'init', 'initally', 'initial', 'initialed', 'initially', 'initiative', 'injected', 'injera', 'injured', 'injuries', 'injuring', 'injury', 'inked', 'inlaws', 'innear', 'inner', 'innocent', 'innocuous', 'innout', 'innovation', 'innovative', 'innumerable', 'inout', 'inoutdone', 'input', 'inputsuggestions', 'inquire', 'inquired', 'inquiring', 'inquiry', 'inquisitive', 'ins', 'insane', 'insanely', 'insanity', 'inseason', 'insect', 'insecurities', 'insecurity', 'insert', 'inside', 'insideI', 'insider', 'insiders', 'insides', 'insidethat', 'insidethe', 'insight', 'insightful', 'insist', 'insisted', 'insisting', 'insists', 'insofar', 'inspect', 'inspected', 'inspection', 'inspections', 'inspector', 'inspirational', 'inspire', 'inspired', 'install', 'installation', 'installed', 'installing', 'instance', 'instant', 'instantaneously', 'instantly', 'instantnoodle', 'instatnt', 'instead', 'insteadfelt', 'insteadmy', 'instincts', 'institute', 'institution', 'institutions', 'instore', 'instructed', 'instruction', 'instructions', 'instructor', 'instructors', 'instrument', 'instruments', 'insufficient', 'insulation', 'insult', 'insulted', 'insults', 'insurance', 'insured', 'insures', 'intact', 'intake', 'intangible', 'integrated', 'integrity', 'intellectually', 'intend', 'intended', 'intending', 'intense', 'intensity', 'intent', 'intention', 'intentional', 'intentions', 'intently', 'interact', 'interaction', 'interactions', 'interactive', 'interest', 'interested', 'interesting', 'interference', 'interior', 'interject', 'interlude', 'intermingled', 'intermission', 'internal', 'international', 'internet', 'internship', 'internships', 'interpret', 'interpretation', 'interpretations', 'interrogated', 'interrupt', 'interrupted', 'interrupting', 'interspersed', 'intertubes', 'intertwined', 'interview', 'interviews', 'intestines', 'inthis', 'intimacy', 'intimate', 'intimately', 'intimidated', 'intimidating', 'intolerance', 'intolerancethey', 'intolerant', 'intolerants', 'intonation', 'intoxicated', 'intoxicating', 'intrigued', 'intrigueing', 'intriguing', 'intriguingly', 'intrinsic', 'intrinsically', 'introduce', 'introduced', 'introducing', 'introduction', 'introductions', 'introductory', 'intruding', 'intrusive', 'intuition', 'invading', 'invalidating', 'invariably', 'invasive', 'invent', 'invented', 'inventive', 'inventory', 'inventoryand', 'inverse', 'invert', 'invest', 'investigate', 'investigated', 'investigating', 'investment', 'investor', 'invigorated', 'invincible', 'invisibility', 'invisible', 'invitation', 'invitations', 'invite', 'invited', 'inviting', 'involve', 'involved', 'involves', 'involving', 'inwater', 'iodine', 'iot', 'ipad', 'iphone', 'ipod', 'irate', 'irk', 'irks', 'iron', 'ironic', 'ironically', 'ironing', 'irony', 'irrational', 'irrelevant', 'irreplaceable', 'irrigate', 'irritable', 'irritate', 'irritated', 'irritates', 'irritating', 'isAMAZZZZZZING', 'isI', 'isa', 'isbeyond', 'iselect', 'ish', 'island', 'islands', 'isle', 'isles', 'islets', 'isnow', 'isnt', 'isntlets', 'isolated', 'isso', 'issue', 'issues', 'issuethere', 'issuewhen', 'issuing', 'isummmwell', 'itI', 'itPhoenix', 'itThen', 'itYOU', 'itYou', 'italian', 'italiano', 'italianstyle', 'itand', 'itbut', 'itch', 'itd', 'item', 'itemizations', 'itemized', 'items', 'itemson', 'itemsso', 'iteverything', 'itinerary', 'itis', 'itits', 'itlittle', 'itll', 'itlove', 'itstick', 'itsy', 'itthe', 'itthis', 'itty', 'itwhat', 'iv', 'ive', 'jaaaade', 'jabs', 'jack', 'jackedup', 'jacket', 'jackets', 'jackinthebox', 'jackpot', 'jackrabbit', 'jacuzzi', 'jade', 'jalapeno', 'jalapenos', 'jalapeño', 'jalepeno', 'jalpeno', 'jam', 'jamburrito', 'jamfigs', 'jamkick', 'jammed', 'jamming', 'jamoca', 'jams', 'japanese', 'japchae', 'jar', 'jargon', 'jars', 'jaw', 'jayz', 'jazz', 'jazzed', 'jazzy', 'jealous', 'jealously', 'jean', 'jeans', 'jeansit', 'jeez', 'jello', 'jelly', 'jellys', 'jen', 'jenga', 'jeopardize', 'jer', 'jerk', 'jerks', 'jerky', 'jerkySCORE', 'jerseys', 'jess', 'jets', 'jetted', 'jewel', 'jeweler', 'jewelers', 'jewelery', 'jewelry', 'jewels', 'jewish', 'jewlery', 'ji', 'jiggle', 'jimmy', 'jist', 'jitters', 'jjim', 'job', 'jobWould', 'jobbyjobs', 'jobs', 'joe', 'joes', 'joesgift', 'johnny', 'join', 'joined', 'joing', 'joining', 'joint', 'joints', 'joke', 'joked', 'jokes', 'joking', 'jokingly', 'jolie', 'jolly', 'jolt', 'jonathan', 'jonesin', 'jook', 'jotted', 'jouet', 'journey', 'jousting', 'joy', 'joyfully', 'joys', 'jsut', 'jucey', 'judge', 'judged', 'judges', 'judging', 'judgment', 'judgments', 'juggling', 'juice', 'juices', 'juicessmoothies', 'juicewhich', 'juicy', 'juke', 'jukebox', 'julienned', 'jumbalaya', 'jumbo', 'jump', 'jumped', 'jumping', 'jumps', 'jumpsuit', 'jungle', 'junk', 'junkie', 'junkyard', 'juror', 'jus', 'justice', 'justifiable', 'justified', 'justify', 'justlensescom', 'justright', 'juxtaposing', 'jzzed', 'k', 'kabob', 'kabobs', 'kahlua', 'kalachis', 'kalamata', 'kale', 'kaleand', 'kama', 'kanye', 'kaprow', 'karahi', 'karaoke', 'karawi', 'karma', 'kasras', 'katsu', 'keen', 'keep', 'keeping', 'keeps', 'keg', 'keith', 'ken', 'kennel', 'kennels', 'kentucky', 'kept', 'ketchup', 'kettle', 'key', 'keyboard', 'keyed', 'keypad', 'keys', 'keyskey', 'kha', 'khakis', 'kibble', 'kick', 'kickass', 'kickassery', 'kickboxing', 'kickboxingYoga', 'kickbutt', 'kicked', 'kickermy', 'kickersaintso', 'kickin', 'kicking', 'kicks', 'kicky', 'kid', 'kiddies', 'kidding', 'kiddo', 'kiddos', 'kidfriendly', 'kidless', 'kidnap', 'kidnapped', 'kids', 'kidsfamilythe', 'kidspecifc', 'kierland', 'kill', 'killed', 'killer', 'killin', 'killing', 'kills', 'kiltlifter', 'kim', 'kimberly', 'kimchi', 'kind', 'kinda', 'kindergarten', 'kindly', 'kindness', 'kinds', 'kindsits', 'king', 'kingdom', 'kings', 'kink', 'kinkos', 'kinks', 'kins', 'kiosk', 'kiss', 'kissing', 'kitchen', 'kitchenThe', 'kitchens', 'kitchenthey', 'kitschy', 'kitten', 'kittens', 'kitties', 'kitty', 'kiwi', 'klutzwasnt', 'knacks', 'kneehigh', 'knees', 'knew', 'knick', 'knickknacks', 'knife', 'knives', 'knob', 'knocci', 'knock', 'knocked', 'knocking', 'knook', 'knot', 'knotch', 'knots', 'know', 'knowa', 'knowing', 'knowledgable', 'knowledge', 'knowledgeable', 'knowlike', 'known', 'knows', 'knowsbe', 'knowthe', 'knowtypical', 'kobe', 'koi', 'kokopelli', 'kong', 'kooks', 'koolaid', 'koolaide', 'korean', 'kra', 'krönung', 'kudohba', 'kudos', 'kufta', 'kumquat', 'kung', 'kurobuta', 'kyoto', 'l', 'la', 'lab', 'label', 'labeled', 'labeling', 'labels', 'labor', 'laboratory', 'laborers', 'lace', 'laced', 'lack', 'lacked', 'lacking', 'lackluster', 'lacks', 'lactose', 'lacy', 'lad', 'ladder', 'laden', 'ladies', 'ladiesid', 'ladle', 'lady', 'ladys', 'lagoon', 'lags', 'lai', 'laid', 'laidback', 'lair', 'lais', 'lait', 'lake', 'lakes', 'lamb', 'lambbased', 'lambic', 'lame', 'lameness', 'lamest', 'laminated', 'lamination', 'lamp', 'lamps', 'lampshades', 'land', 'landed', 'landfill', 'landing', 'landlocked', 'landmark', 'landmarks', 'landscape', 'landscaped', 'landscapers', 'landscaping', 'lane', 'lanes', 'language', 'lanterns', 'lap', 'lapping', 'laps', 'laptop', 'laptops', 'lard', 'lardo', 'larg', 'large', 'largely', 'larger', 'larges', 'largest', 'largewith', 'las', 'lasagna', 'laser', 'lasering', 'lashed', 'lashes', 'lashextending', 'lassi', 'last', 'lasted', 'lasting', 'lastly', 'lasts', 'latched', 'late', 'lately', 'latenight', 'later', 'lateral', 'latest', 'latin', 'latte', 'latter', 'lattes', 'laudable', 'laude', 'laugh', 'laughed', 'laughing', 'laughs', 'laughter', 'launch', 'laundry', 'lava', 'lavender', 'lavenders', 'lavishly', 'lavosh', 'law', 'lawn', 'lawns', 'laws', 'lawyer', 'lay', 'layaway', 'layer', 'layered', 'layering', 'layers', 'laying', 'layout', 'layover', 'lazily', 'laziness', 'lazy', 'lazyasssweetseating', 'lb', 'lbs', 'lead', 'leader', 'leading', 'leads', 'leaf', 'leafy', 'league', 'leak', 'leaking', 'leaks', 'lean', 'leaned', 'leaner', 'leaning', 'leap', 'leaped', 'learn', 'learned', 'learning', 'learns', 'lease', 'leased', 'leash', 'leashes', 'leasing', 'least', 'leastall', 'leather', 'leatherworking', 'leathery', 'leave', 'leaveI', 'leavein', 'leaves', 'leaving', 'leavong', 'leberknödel', 'leche', 'leches', 'lecture', 'lectures', 'led', 'ledges', 'lee', 'leek', 'leeks', 'leering', 'leery', 'lees', 'left', 'leftover', 'leftovers', 'leftoversthat', 'leftright', 'leg', 'legal', 'legally', 'legend', 'legendary', 'legends', 'leggings', 'legion', 'legit', 'legitimate', 'legitimately', 'legs', 'lehong', 'leisure', 'leisurely', 'lemming', 'lemon', 'lemonade', 'lemonadeit', 'lemonades', 'lemondadelemon', 'lemongrass', 'lemonherbheaven', 'lemons', 'lemony', 'lend', 'lended', 'lending', 'lends', 'length', 'lengths', 'lengthwise', 'lengthy', 'lengua', 'lens', 'lenses', 'lent', 'lentil', 'lentils', 'leotard', 'leotards', 'lepinja', 'lesbiangay', 'less', 'lessYAY', 'lesser', 'lessgluttonous', 'lesson', 'lessons', 'lessthanaverage', 'lest', 'let', 'lets', 'letter', 'letters', 'letting', 'lettuce', 'lettucespring', 'level', 'leveler', 'levels', 'levers', 'liability', 'liar', 'libation', 'libations', 'liberace', 'liberal', 'libra', 'librarian', 'libraries', 'library', 'librarytake', 'licence', 'license', 'licensed', 'licenseprobably', 'lick', 'licked', 'lickin', 'licking', 'lid', 'lidless', 'lie', 'lied', 'lies', 'lieu', 'life', 'lifealtering', 'lifechanging', 'lifeless', 'lifelong', 'lifes', 'lifesaver', 'lifesavor', 'lifestyle', 'lifetime', 'lift', 'lifting', 'lifts', 'light', 'lightbulbs', 'lighted', 'lightening', 'lighter', 'lightest', 'lighthearted', 'lighting', 'lightly', 'lightning', 'lightrail', 'lights', 'lightup', 'lightweight', 'lik', 'like', 'likeable', 'liked', 'likeddidnt', 'likely', 'liken', 'likes', 'likesitting', 'likethe', 'likey', 'liking', 'liklihood', 'lil', 'lilun', 'limb', 'lime', 'limeade', 'limes', 'limey', 'limit', 'limitations', 'limited', 'limitless', 'limits', 'limo', 'limoncello', 'limone', 'limos', 'limp', 'limpest', 'limón', 'line', 'lined', 'linen', 'linens', 'liner', 'lines', 'lineup', 'linger', 'lingered', 'lingerie', 'lingering', 'lingua', 'lingual', 'linguine', 'linguini', 'linguisa', 'linguistic', 'lining', 'link', 'links', 'linkssides', 'lionessy', 'lions', 'lip', 'lipid', 'lips', 'lipstick', 'liqour', 'liqueur', 'liquid', 'liquidating', 'liquidation', 'liquidy', 'liquor', 'liquors', 'lishcurry', 'lisous', 'list', 'listed', 'listen', 'listened', 'listenerits', 'listeners', 'listening', 'listens', 'listing', 'listings', 'listlessly', 'lists', 'lit', 'lite', 'liter', 'literal', 'literally', 'literature', 'liters', 'litmus', 'little', 'littleeh', 'littleknown', 'littles', 'littlest', 'livable', 'live', 'lived', 'lively', 'liver', 'livers', 'liverwurst', 'livery', 'lives', 'livestock', 'living', 'lizards', 'lo', 'load', 'loaded', 'loading', 'loads', 'loaf', 'loan', 'loaner', 'loathe', 'loathed', 'loaves', 'lobby', 'lobster', 'local', 'locale', 'locales', 'localicious', 'locally', 'locallychanges', 'locallyowned', 'locals', 'localsthe', 'locate', 'located', 'locating', 'location', 'locationand', 'locationatmosphere', 'locationlocated', 'locationplease', 'locations', 'locationsonline', 'locationviewatmosphere', 'locationyou', 'lock', 'locked', 'locker', 'locking', 'locks', 'locksmith', 'locksmiths', 'lodge', 'lodged', 'loft', 'logic', 'logical', 'logo', 'loin', 'loitering', 'lol', 'lollipops', 'lollygagged', 'lollypops', 'lomein', 'lone', 'lonely', 'long', 'longday', 'longed', 'longer', 'longest', 'longgone', 'longing', 'longish', 'longit', 'longterm', 'longthe', 'longtime', 'longvexing', 'lonnnnng', 'loo', 'loofah', 'look', 'looked', 'looking', 'looks', 'loooong', 'looooong', 'loooooove', 'looooounge', 'loooove', 'loop', 'loops', 'loose', 'loosely', 'loosened', 'loosens', 'loosing', 'looved', 'loraco', 'lord', 'loroco', 'los', 'lose', 'loser', 'loses', 'losing', 'loss', 'lost', 'lot', 'lotion', 'lots', 'lottery', 'lotto', 'lotus', 'loud', 'loudI', 'louder', 'loudly', 'loudspeaker', 'loudspeakers', 'louduninspiring', 'lounge', 'lounged', 'loungegoers', 'loungelike', 'loungers', 'lounges', 'loungey', 'lounging', 'lousy', 'lovable', 'love', 'loved', 'lovei', 'loveliest', 'loveliness', 'lovelovelove', 'lovely', 'lovelys', 'lover', 'lovers', 'loves', 'lovey', 'lovin', 'loving', 'low', 'lowbrow', 'lowcalorie', 'lowcarb', 'lowdown', 'lower', 'lowest', 'lowfat', 'lowfi', 'lowkey', 'lowlighting', 'lowly', 'lowquality', 'lows', 'lox', 'loyal', 'loyally', 'loyalty', 'lozenge', 'lshaped', 'lthe', 'lubrication', 'luch', 'lucious', 'luck', 'lucked', 'luckily', 'lucky', 'lucrative', 'luggage', 'luke', 'lukewarm', 'lull', 'lulu', 'lululemon', 'luminarias', 'lumpia', 'lumpless', 'lunch', 'lunchIm', 'lunchbreak', 'lunchbrunch', 'lunchbrunches', 'lunchdinner', 'luncheon', 'lunches', 'lunchlight', 'lunchonly', 'lunchso', 'lunchtime', 'lunchwhich', 'lungs', 'lurch', 'lured', 'lurid', 'lush', 'lust', 'luster', 'luv', 'luvs', 'lux', 'luxe', 'luxurious', 'luxury', 'lychee', 'lychejito', 'lying', 'lynn', 'lyric', 'lyrical', 'lyrics', 'maam', 'mac', 'macadamia', 'macademia', 'macaroni', 'macarons', 'macaroon', 'macaroons', 'maccheese', 'macchiato', 'machaca', 'machine', 'machines', 'macho', 'mackerel', 'macncheese', 'macs', 'mad', 'madame', 'made', 'madeatthetable', 'madetoorder', 'madness', 'madonna', 'madre', 'magazine', 'magazines', 'magic', 'magical', 'magically', 'magna', 'magnet', 'magnificent', 'magnitude', 'mags', 'mah', 'mahi', 'mahimahi', 'mai', 'maids', 'mail', 'mailbox', 'mailed', 'mailin', 'mailing', 'main', 'mainly', 'mains', 'mainstay', 'mainstream', 'maintain', 'maintained', 'maintaining', 'maintains', 'maintenance', 'maitai', 'majerles', 'majestic', 'major', 'majority', 'make', 'makeover', 'maker', 'makers', 'makes', 'makeshift', 'makeup', 'makeyourown', 'makhani', 'makin', 'making', 'makoks', 'malaise', 'malbec', 'male', 'malfunction', 'malfunctioned', 'mall', 'mallcommoners', 'mallesque', 'malllike', 'malllook', 'mallmade', 'malls', 'malt', 'malted', 'malts', 'mam', 'mama', 'mamma', 'mammal', 'mammoth', 'mamosas', 'mamoth', 'man', 'manage', 'manageable', 'managed', 'management', 'manager', 'managermissinginaction', 'managerowner', 'managers', 'manages', 'managing', 'manchego', 'manchurian', 'mandarin', 'mandatory', 'maneuver', 'maneuverable', 'manfriend', 'manfrom', 'mangawhere', 'mango', 'manhandling', 'manhattan', 'manheld', 'mani', 'manicure', 'manicured', 'manicures', 'manicuring', 'manicurist', 'manikin', 'manipedi', 'manipedii', 'manipedis', 'manly', 'manmade', 'mannequin', 'mannequins', 'manner', 'mannered', 'mannerisms', 'manners', 'manning', 'mans', 'manual', 'manually', 'manufactured', 'manufacturer', 'many', 'map', 'maple', 'mapped', 'maps', 'mar', 'maraschino', 'marathon', 'marathons', 'marble', 'march', 'marching', 'marg', 'margarita', 'margarita2nd', 'margaritas', 'margarittas', 'margherita', 'margin', 'marginal', 'marginally', 'margins', 'margs', 'mariachi', 'marinade', 'marinades', 'marinara', 'marinate', 'marinated', 'marine', 'mark', 'markdown', 'marked', 'markers', 'market', 'marketing', 'marketmade', 'marketplace', 'markets', 'marking', 'markings', 'marks', 'markup', 'markups', 'marmalade', 'marnier', 'marriage', 'married', 'marrow', 'marry', 'marsala', 'marscapone', 'marshal', 'marshalls', 'marshals', 'marshamallow', 'marshmallow', 'marshmallows', 'mart', 'martini', 'martinis', 'martinisnot', 'marvel', 'marvelous', 'mary', 'marys', 'masa', 'masala', 'mascaras', 'mascarpone', 'mash', 'mashed', 'mask', 'masking', 'masks', 'mason', 'masquerading', 'mass', 'massage', 'massaged', 'massagers', 'massages', 'massaging', 'massamum', 'masses', 'masseuse', 'masseuses', 'massive', 'master', 'mastered', 'masterful', 'masterfully', 'mastering', 'masterpiece', 'masterpieces', 'mastery', 'mat', 'match', 'matched', 'matches', 'matching', 'matchstick', 'mate', 'mater', 'material', 'materials', 'mates', 'math', 'mathematically', 'matrimony', 'matsumoto', 'mattar', 'matter', 'matterIt', 'matters', 'mattresses', 'mature', 'matzah', 'matzo', 'mauves', 'mawshing', 'max', 'maxim', 'maximum', 'maxipads', 'may', 'mayan', 'maybe', 'mayo', 'mayobased', 'mayonnaise', 'maytag', 'maze', 'mcdonalds', 'mcdowell', 'mckellips', 'meI', 'meThis', 'meager', 'meal', 'mealReflecting', 'mealand', 'mealbetter', 'meals', 'mealy', 'mealytextured', 'mean', 'meandered', 'meaning', 'meaningful', 'means', 'meansMSG', 'meant', 'meantime', 'meanwhile', 'measly', 'measure', 'measured', 'measurement', 'meat', 'meatand', 'meatball', 'meatballs', 'meatbeals', 'meatcheese', 'meateaters', 'meathead', 'meatheads', 'meatless', 'meatlettucecheese', 'meatloaf', 'meatlovers', 'meatloving', 'meats', 'meatso', 'meaty', 'mebut', 'mecca', 'mechanic', 'mechanical', 'mechanics', 'medallion', 'medallions', 'medditeranean', 'medical', 'medication', 'medications', 'medicine', 'medicore', 'medieval', 'mediocre', 'meditating', 'meditative', 'mediterranean', 'medium', 'mediumrange', 'mediumrare', 'mediumwell', 'medley', 'meds', 'meeeeeanie', 'meet', 'meeting', 'meetings', 'meets', 'meetup', 'mega', 'meh', 'mehe', 'mein', 'meinmedium', 'melded', 'mellow', 'mellowambient', 'mellows', 'melon', 'melt', 'melted', 'melting', 'meltingly', 'meltinyour', 'meltinyourmouth', 'melts', 'melty', 'member', 'memberat', 'memberowned', 'members', 'membership', 'memberships', 'membrane', 'memorabilia', 'memorable', 'memories', 'memoriesbeautiful', 'memorize', 'memory', 'memy', 'men', 'mended', 'mens', 'mental', 'mentality', 'mentally', 'mention', 'mentioned', 'mentioning', 'mentions', 'menu', 'menuI', 'menubut', 'menudo', 'menui', 'menus', 'menuwas', 'meowganificant', 'merchandise', 'merchandised', 'merchandising', 'merchants', 'mercy', 'mere', 'merely', 'meringue', 'merited', 'merits', 'merrels', 'merry', 'mesa', 'mesathey', 'mesh', 'mesmerized', 'mesquite', 'mess', 'message', 'messages', 'messed', 'messes', 'messing', 'messy', 'met', 'metabolism', 'metal', 'meted', 'meteocre', 'meter', 'metered', 'meters', 'meth', 'methis', 'method', 'methodical', 'methods', 'meticulous', 'meticulously', 'metric', 'metro', 'metroPHX', 'metropolitan', 'metrosexuality', 'mexicali', 'mexican', 'mexico', 'mgmt', 'mgr', 'mgrs', 'mi', 'mia', 'mias', 'mic', 'michaels', 'micro', 'microbes', 'microbrewery', 'microbrews', 'microchips', 'microfoam', 'micromini', 'microscope', 'microscopically', 'microwave', 'microwaved', 'mid', 'mid1980s', 'midcentury', 'midday', 'middle', 'middleaged', 'midget', 'midiron', 'midnight', 'midnite', 'midrange', 'midst', 'midweek', 'mien', 'mierda', 'might', 'mightily', 'mightly', 'mighty', 'mignon', 'migraines', 'mikes', 'milanese', 'mild', 'mildly', 'mildtasting', 'mile', 'miles', 'military', 'milk', 'milkshake', 'milkshakes', 'milky', 'mill', 'miller', 'milling', 'million', 'millions', 'mimic', 'mimosas', 'min', 'minGROSS', 'minced', 'mind', 'minded', 'mindful', 'mindnumbingly', 'mindset', 'mine', 'mineand', 'minenever', 'mineral', 'miners', 'mines', 'minestrone', 'mingle', 'mini', 'miniSD', 'miniature', 'minibar', 'minicoaster', 'minicostco', 'minifilet', 'minimal', 'minimalist', 'minimalistic', 'minimalistmodern', 'minimally', 'minimize', 'minimized', 'minimum', 'miniscule', 'ministaycation', 'minitacos', 'minneapolis', 'minnie', 'minor', 'minority', 'mins', 'mint', 'mintchip', 'minty', 'minuet', 'minus', 'minut', 'minute', 'minutes', 'minutesI', 'miracle', 'miraculous', 'mirror', 'mirrored', 'mirrors', 'mis', 'miscellaneous', 'miscommunication', 'miserable', 'miserably', 'misfit', 'misfortune', 'mish', 'mishandled', 'mishap', 'mishaps', 'mishmash', 'mishmashed', 'mishmosh', 'misinformed', 'misinterpreted', 'mislead', 'misleading', 'misled', 'mismanagement', 'mismanaging', 'mismatched', 'miso', 'misplaced', 'miss', 'missKEEP', 'missed', 'misses', 'missing', 'mission', 'misstep', 'mistake', 'mistaken', 'mistakenly', 'mistakes', 'mistaking', 'mister', 'misters', 'misting', 'misto', 'misunderstanding', 'misunderstood', 'misuse', 'mitt', 'mitts', 'mix', 'mixed', 'mixer', 'mixers', 'mixes', 'mixing', 'mixology', 'mixto', 'mixture', 'mixup', 'mm', 'mmm', 'mmmghgh', 'mmmm', 'mmmmm', 'mmmmmazing', 'mmmmmm', 'mmmmmmmThey', 'mmmmmmmm', 'mmmmmmmms', 'mms', 'mn', 'mni', 'moaning', 'mobbed', 'mobile', 'mocha', 'mochi', 'mock', 'mocking', 'mockingly', 'mode', 'model', 'modeled', 'modelo', 'models', 'moderate', 'moderately', 'modern', 'modest', 'modestly', 'modification', 'modifications', 'modified', 'modify', 'moist', 'moister', 'moistest', 'moistness', 'moisturizer', 'moisturizers', 'moisturizes', 'mojiot', 'mojito', 'mojitoI', 'mojitos', 'mojo', 'mojosmaybe', 'molar', 'molasses', 'mold', 'molding', 'moldy', 'mole', 'molete', 'molinos', 'molotes', 'molten', 'moly', 'mom', 'moment', 'moments', 'momenttry', 'momentum', 'momma', 'mommies', 'moms', 'mon', 'monday', 'mondayseven', 'money', 'moneygrubbing', 'moneys', 'moneythen', 'mongolian', 'monitor', 'monitoring', 'monitors', 'monk', 'monkey', 'monkeys', 'mono', 'monotone', 'monroe', 'monsoon', 'monster', 'monsters', 'monstrosity', 'monstrous', 'month', 'monthbut', 'monthly', 'months', 'monthy', 'monton', 'monumental', 'mood', 'moods', 'moody', 'mooing', 'moon', 'moonlighting', 'moons', 'mop', 'mopped', 'moral', 'morally', 'moray', 'morbidly', 'mordida', 'moreour', 'moreso', 'morethe', 'mormon', 'morning', 'mornings', 'moron', 'morons', 'morphed', 'morse', 'morsel', 'mortadella', 'mos', 'moss', 'mostly', 'motel', 'mother', 'motherfk', 'motherfs', 'mothers', 'motion', 'motivate', 'motivated', 'motivating', 'motivation', 'moto', 'motor', 'motorcycle', 'motorcycles', 'motorpestle', 'mound', 'mounded', 'mounds', 'mount', 'mountain', 'mountains', 'mounted', 'mounting', 'mourn', 'mouse', 'mousse', 'mouth', 'mouthIt', 'mouthfeel', 'mouthful', 'mouths', 'mouthwatering', 'move', 'moved', 'movers', 'moves', 'movie', 'movies', 'moving', 'mower', 'mozarella', 'mozz', 'mozza', 'mozzarella', 'mozzarellaCibo', 'mrhardtoplease', 'msg', 'mu', 'muaaah', 'much', 'mucho', 'muddled', 'muffin', 'muffins', 'muffinsbeyond', 'muffler', 'mug', 'muggy', 'mugs', 'mule', 'mullet', 'mulling', 'multi', 'multicourse', 'multicultural', 'multidimensional', 'multifourfooted', 'multigrain', 'multiple', 'multiples', 'multiplex', 'multiplied', 'multiplier', 'multiply', 'multitude', 'mum', 'mumbled', 'munch', 'munchies', 'mundane', 'municipals', 'muppet', 'mural', 'murmuring', 'musac', 'muscle', 'muscles', 'museum', 'museumeque', 'museums', 'mush', 'mushiest', 'mushroms', 'mushroom', 'mushrooms', 'mushroomssomething', 'mushroomstoday', 'mushroomswiss', 'mushu', 'mushy', 'music', 'musical', 'musiccdvinylDVDused', 'musician', 'musicians', 'musicits', 'musing', 'musketeers', 'mussel', 'mussels', 'must', 'mustachesonastick', 'mustard', 'mustdo', 'muster', 'mustorder', 'mustreturn', 'musttries', 'musttry', 'mustve', 'mustvisit', 'musubi', 'mutant', 'mutated', 'muted', 'mutilated', 'muttered', 'mutts', 'myriad', 'myselfI', 'myselfIts', 'myspace', 'mysterious', 'mystery', 'mystified', 'mystique', 'myth', 'mythological', 'n', 'na', 'naan', 'nacho', 'nachos', 'nachosthis', 'nada', 'nadya', 'naengmyeon', 'nagging', 'nail', 'nailed', 'nailes', 'nailing', 'nailridden', 'nails', 'nailsJimmy', 'naked', 'nam', 'name', 'namecalling', 'named', 'names', 'nametags', 'nami', 'nan', 'nannies', 'nanny', 'nap', 'napfull', 'napkin', 'napkins', 'napoleons', 'napping', 'narcissistic', 'narcisstic', 'narrow', 'narrowing', 'nastily', 'nastiness', 'nasty', 'nation', 'national', 'nationally', 'nationwide', 'nationworld', 'native', 'natives', 'natural', 'naturally', 'nature', 'naturopathic', 'natzis', 'nausea', 'nauseous', 'nautilus', 'navigate', 'navigated', 'navigating', 'navigator', 'ncheese', 'near', 'nearbrand', 'nearby', 'nearest', 'nearfight', 'nearing', 'nearly', 'nearperfect', 'neat', 'neatly', 'necessarily', 'necessary', 'necessitated', 'necessities', 'necessity', 'neck', 'necklace', 'necklaces', 'necks', 'nectar', 'need', 'needand', 'needed', 'needing', 'needle', 'needless', 'neednt', 'needs', 'needy', 'neesd', 'nefarious', 'negate', 'negated', 'negative', 'negatives', 'neglected', 'negra', 'neighbor', 'neighborbut', 'neighborhood', 'neighborhoods', 'neighborhoodsame', 'neighboring', 'neighbors', 'neither', 'neo', 'neon', 'neosprin', 'nephew', 'nephews', 'nerd', 'nerds', 'nerdy', 'nervewracking', 'nervous', 'nestled', 'nests', 'net', 'network', 'networking', 'networks', 'networkwiring', 'neutered', 'neutering', 'never', 'neverending', 'neverwatereddown', 'new', 'newbie', 'newbies', 'newborn', 'newer', 'newest', 'newly', 'newman', 'news', 'newsletter', 'newson', 'newspaper', 'newspapers', 'newsthe', 'next', 'ngoc', 'nibble', 'nibbles', 'niblets', 'nice', 'niceI', 'nicefriendly', 'nicely', 'nicer', 'nicest', 'nicestlooking', 'nicethe', 'niches', 'nickel', 'nickeled', 'nickle', 'nickname', 'nicoise', 'niece', 'nieceall', 'night', 'nightI', 'nightSaturday', 'nightand', 'nightbased', 'nightcap', 'nightclub', 'nightclubs', 'nighters', 'nightif', 'nightlife', 'nightly', 'nightmare', 'nightmares', 'nights', 'nightsMondayand', 'nightsounds', 'nigiri', 'nigligent', 'nigth', 'nikejust', 'nilly', 'nineteen', 'ninja', 'nipple', 'nirvana', 'nit', 'nite', 'nitpicking', 'nitris', 'nnear', 'noI', 'nob', 'nobody', 'nobodyand', 'noches', 'nocturnal', 'nod', 'nodded', 'nodo', 'nog', 'noise', 'noises', 'noisey', 'noisy', 'noisyquiet', 'nokid', 'nokill', 'nom', 'nominal', 'nominate', 'nominee', 'nomorestudyingatcoffeeshopsduringdinner', 'non', 'nonGF', 'nonGreek', 'nonIndians', 'nonMidFirst', 'nonPhoenixmetro', 'nonPizzeria', 'nonSouth', 'nonacrimonious', 'nonalcoholic', 'nonamerican', 'noncaffeine', 'noncash', 'nonchain', 'nonclean', 'nondescript', 'nondisposable', 'nondistinct', 'none', 'nonenthusiast', 'nonetheless', 'nonexistent', 'nonfat', 'nonhelpful', 'nonholiday', 'nonjudgmental', 'nonmainstream', 'nonmeat', 'nononsense', 'nonprescription', 'nonprofit', 'nonreading', 'nonscottsdaley', 'nonsense', 'nonservice', 'nonspecific', 'nonstop', 'nonstopawesome', 'nonsushi', 'nontraditional', 'nonvegan', 'nonvegetarians', 'noodle', 'noodles', 'noodlesthe', 'nook', 'noon', 'noone', 'noooooooo', 'nope', 'norm', 'normal', 'normalcy', 'normally', 'norman', 'north', 'northern', 'northwest', 'nose', 'nosh', 'noshed', 'noshes', 'nosie', 'nostalgia', 'nostalgic', 'nostrils', 'nosy', 'notable', 'notary', 'notch', 'note', 'noted', 'notes', 'notethis', 'nothing', 'noticable', 'noticably', 'notice', 'noticeable', 'noticeably', 'noticebut', 'noticed', 'notices', 'noticing', 'notified', 'notorious', 'notoverlysauced', 'notsoglamorous', 'notsoshiny', 'nough', 'nourishes', 'nourishment', 'nouvelle', 'novel', 'novels', 'novelties', 'novelty', 'novice', 'novles', 'nowadays', 'nowbut', 'nowcravings', 'nowhere', 'nozzle', 'nt', 'nude', 'nugget', 'nuggets', 'nuked', 'numb', 'numbed', 'number', 'numbered', 'numbers', 'numero', 'numerous', 'nuong', 'nurse', 'nurses', 'nurturing', 'nut', 'nutella', 'nutjob', 'nutmeg', 'nutrition', 'nutritional', 'nutritious', 'nuts', 'nutsack', 'nutsanything', 'nutshell', 'nuttycrunchy', 'nyc', 'oK', 'oak', 'oakville', 'oasis', 'oatmeal', 'obama', 'obese', 'object', 'objection', 'objects', 'obligated', 'obligation', 'obligations', 'obligatory', 'obliged', 'obliques', 'oblivion', 'obnoxious', 'obscene', 'obscure', 'observant', 'observation', 'observed', 'obsessed', 'obsession', 'obsessive', 'obstinate', 'obstruction', 'obtain', 'obvious', 'obviously', 'occasion', 'occasional', 'occasionally', 'occasions', 'occassion', 'occassions', 'occupied', 'occupies', 'occupying', 'occur', 'occured', 'occurences', 'occurred', 'occurs', 'ocean', 'oceanic', 'oclock', 'octaves', 'octomom', 'octopus', 'odd', 'oddity', 'oddly', 'oddness', 'odds', 'odor', 'odors', 'odyssey', 'offagain', 'offend', 'offended', 'offending', 'offends', 'offense', 'offensive', 'offer', 'offered', 'offering', 'offerings', 'offers', 'offevery', 'offhour', 'office', 'officer', 'offices', 'official', 'officially', 'officials', 'offseason', 'offthen', 'offwhite', 'offyou', 'oft', 'often', 'oftentimes', 'ofthe', 'ofthemoment', 'ogled', 'ogling', 'oh', 'ohlala', 'ohsochivalrously', 'ohsogood', 'oil', 'oiled', 'oiliest', 'oiliness', 'oils', 'oily', 'oj', 'ok', 'okay', 'okbut', 'okish', 'okra', 'ol', 'old', 'older', 'oldest', 'oldfashioned', 'oldies', 'oldish', 'olds', 'oldschool', 'oldsmobuick', 'oldstyle', 'ole', 'oleanders', 'olive', 'olives', 'olivesthere', 'oly', 'olympic', 'omakase', 'omelet', 'omelete', 'omelets', 'omelette', 'omelettes', 'omellete', 'omelletes', 'omeltes', 'omg', 'omghands', 'ominvore', 'omit', 'omlettes', 'omnivore', 'onI', 'onThis', 'onand', 'onbecause', 'onceand', 'oncethey', 'one', 'oneIm', 'onePlus', 'oneSO', 'oneand', 'oneget', 'onehalf', 'onehundred', 'onekeeping', 'oneofakind', 'oneonone', 'oneperhaps', 'ones', 'onestar', 'onestop', 'oneswe', 'onethey', 'onetime', 'oneway', 'ongoing', 'onioins', 'onion', 'onions', 'onionssome', 'onionwhich', 'online', 'onlookers', 'onlyThey', 'onset', 'onsince', 'onsite', 'onslaught', 'ontime', 'onto', 'ony', 'onyouve', 'oodles', 'ooey', 'ooeygooey', 'ooh', 'oohed', 'oohing', 'ooooh', 'oops', 'oozing', 'opelousas', 'open', 'openI', 'openair', 'openbox', 'openclose', 'opened', 'openface', 'openfaced', 'opening', 'openingclosing', 'openings', 'openly', 'opens', 'opentable', 'opera', 'operate', 'operated', 'operates', 'operating', 'operation', 'operations', 'opi', 'opinion', 'opinions', 'oppinion', 'opportunities', 'opportunity', 'opposed', 'opposite', 'oppressive', 'oprah', 'ops', 'opt', 'opted', 'optical', 'optician', 'optics', 'optimized', 'opting', 'option', 'optional', 'options', 'opulence', 'opulent', 'oral', 'orally', 'orange', 'orangecello', 'orangeheads', 'oranges', 'orangewood', 'orchard', 'orchestra', 'orchestrated', 'orchid', 'ordeal', 'orded', 'order', 'ordered', 'ordering', 'orderly', 'orderright', 'orders', 'orderwe', 'ordinarily', 'ordinary', 'ordred', 'orecchiette', 'oregano', 'oreganos', 'oreo', 'oreos', 'organ', 'organic', 'organicall', 'organically', 'organization', 'organizations', 'organize', 'organized', 'organizers', 'organizes', 'organizing', 'organs', 'orgasm', 'orgasmic', 'orgy', 'orient', 'oriented', 'orig', 'origin', 'original', 'originally', 'originate', 'origins', 'ornament', 'ornaments', 'ornate', 'orthodontist', 'orthopedics', 'orzo', 'osso', 'ostentatious', 'others', 'othersbut', 'otherwise', 'otoro', 'ouch', 'ouchhmy', 'ought', 'ounce', 'ounces', 'outAll', 'outBluesman', 'outI', 'outNote', 'outagain', 'outandback', 'outbursts', 'outclasses', 'outcome', 'outdated', 'outdoor', 'outdoorfacing', 'outdoorindoor', 'outdoors', 'outer', 'outfield', 'outfit', 'outfits', 'outgoing', 'outgrow', 'outgrowth', 'outing', 'outlasted', 'outlet', 'outlets', 'outlook', 'outlying', 'outnumbered', 'outofpocket', 'outofthefreezerbag', 'outofthisworld', 'outoftown', 'outoftowner', 'outoftowners', 'outraged', 'outrageous', 'outrageously', 'outreach', 'outright', 'outs', 'outshines', 'outside', 'outsideDont', 'outsideinside', 'outsideperfect', 'outsourced', 'outstanding', 'outstandingshe', 'outstretched', 'outta', 'outthey', 'outweighs', 'oven', 'ovenroasted', 'ovens', 'overall', 'overalls', 'overbearing', 'overboard', 'overbooked', 'overcharge', 'overcharged', 'overcome', 'overcompensation', 'overcooked', 'overcooking', 'overcrowded', 'overdoing', 'overdone', 'overdue', 'overflow', 'overflowing', 'overfried', 'overgrown', 'overhaul', 'overhead', 'overhear', 'overheard', 'overheat', 'overheating', 'overindulgence', 'overload', 'overloaded', 'overlook', 'overlooked', 'overlooking', 'overlooming', 'overly', 'overlysweaty', 'overmicrowaved', 'overnight', 'overpower', 'overpowered', 'overpowering', 'overpriced', 'overprices', 'overrated', 'overrode', 'overrun', 'overs', 'oversalted', 'overseas', 'oversee', 'oversell', 'overshadowed', 'oversized', 'oversold', 'overspending', 'overstuff', 'overstuffed', 'overtalented', 'overthetop', 'overtime', 'overuse', 'overview', 'overweight', 'overwhelm', 'overwhelmed', 'overwhelming', 'overwhelmingly', 'overwheming', 'overworked', 'overzealous', 'ovoid', 'owe', 'owed', 'owes', 'owned', 'owner', 'ownerchef', 'ownerdriven', 'ownermanager', 'ownerproprietress', 'owners', 'ownerscooks', 'ownership', 'ownersstaff', 'owning', 'ownreally', 'owns', 'oxide', 'oxtail', 'oy', 'oyster', 'oysters', 'oz', 'p', 'pARTy', 'pIzza', 'pace', 'paced', 'paces', 'pacified', 'pacifier', 'pack', 'package', 'packaged', 'packages', 'packaging', 'packed', 'packedand', 'packet', 'packets', 'packing', 'packs', 'pad', 'padding', 'paddle', 'padi', 'padres', 'pads', 'paella', 'page', 'pages', 'paid', 'pain', 'painful', 'painfully', 'painless', 'pains', 'painstaking', 'paint', 'painted', 'painters', 'painting', 'paintings', 'pair', 'paired', 'pairing', 'pairings', 'pairs', 'pajamas', 'palabok', 'palace', 'palak', 'palatable', 'palate', 'palates', 'palatte', 'palce', 'pale', 'paleo', 'paleta', 'paletas', 'palette', 'palettes', 'pallet', 'pallete', 'palm', 'palms', 'palmsized', 'palpable', 'pals', 'paltry', 'pamper', 'pampered', 'pampering', 'pan', 'pana', 'panang', 'pancake', 'pancakes', 'pancetta', 'pancit', 'pancreatic', 'panda', 'pane', 'paneer', 'panel', 'paneled', 'panelingtables', 'panes', 'panfried', 'panic', 'panini', 'panko', 'panna', 'panoramic', 'pans', 'panseared', 'pansy', 'pantaloons', 'panties', 'pantry', 'pants', 'pao', 'papa', 'papaya', 'paper', 'paperback', 'paperbath', 'papers', 'paperthin', 'paperwork', 'pappardelle', 'paprika', 'par', 'parachute', 'parade', 'paraded', 'paradise', 'paragraphs', 'paramount', 'paraphenalia', 'paraphernalia', 'paraphrased', 'parasitefree', 'parasites', 'parcel', 'parched', 'pardon', 'parent', 'parental', 'parents', 'parfait', 'parfaits', 'parilla', 'parish', 'park', 'parka', 'parkandride', 'parked', 'parkeven', 'parking', 'parks', 'parksports', 'parkway', 'parlor', 'parm', 'parmagian', 'parmesan', 'parmesean', 'paroose', 'parsley', 'parsnip', 'part', 'partake', 'partial', 'partially', 'participants', 'participate', 'participated', 'participating', 'particuarly', 'particular', 'particularly', 'partied', 'parties', 'partner', 'partners', 'partnerships', 'parts', 'partsromantic', 'party', 'partying', 'pasedena', 'pass', 'passable', 'passageway', 'passed', 'passenger', 'passengers', 'passerbys', 'passes', 'passing', 'passion', 'passionate', 'passionately', 'passionfruit', 'passions', 'passive', 'passport', 'past', 'pasta', 'pastas', 'paste', 'pasties', 'pastor', 'pastrami', 'pastries', 'pastry', 'pastthankfully', 'pasture', 'pasty', 'pastys', 'pat', 'patatas', 'patch', 'patched', 'patchouli', 'path', 'pathand', 'pathetic', 'pathetically', 'paths', 'pathways', 'patience', 'patient', 'patiently', 'patients', 'patio', 'patioa', 'patiobecause', 'patios', 'patisseriebakery', 'patrol', 'patrols', 'patron', 'patronage', 'patronagemexican', 'patronize', 'patronized', 'patronizing', 'patrons', 'patronsprobably', 'pattern', 'patterned', 'patterns', 'patties', 'patty', 'paul', 'pause', 'paved', 'pavilion', 'pavillion', 'paw', 'pawn', 'paws', 'pay', 'payatthepump', 'paycheck', 'payday', 'payed', 'paying', 'payingand', 'payingshucks', 'payment', 'payoff', 'pays', 'pbr', 'pc', 'pd', 'pea', 'peaberry', 'peace', 'peaceful', 'peacefulness', 'peacemakers', 'peach', 'peachblood', 'peaches', 'peak', 'peaking', 'peaks', 'peanut', 'peanutbutter', 'peanuts', 'peanutty', 'pear', 'pearls', 'pearly', 'pears', 'peas', 'peasy', 'pecan', 'pecanfig', 'pecans', 'pecorino', 'pedal', 'pedalers', 'pedaling', 'peddle', 'pedestrians', 'pedi', 'pediatric', 'pediatricians', 'pedic', 'pedicure', 'pedicured', 'pedicuremanicure', 'pedicures', 'pedigree', 'pee', 'peed', 'peeing', 'peek', 'peekaboo', 'peeks', 'peel', 'peeled', 'peels', 'peep', 'peeps', 'peer', 'peerpressure', 'peeve', 'peggy', 'peking', 'pellchck', 'pellets', 'pen', 'penalize', 'penaltiesmassive', 'penalty', 'pencil', 'pendant', 'penetrate', 'penetrated', 'penis', 'pennants', 'penne', 'penny', 'peole', 'peolple', 'people', 'peoples', 'peoplethanks', 'peoplethings', 'peoplewatch', 'pepitas', 'peple', 'pepper', 'peppercorn', 'peppercorns', 'peppered', 'pepperocini', 'pepperoni', 'pepperonis', 'peppers', 'peppery', 'pepperysweet', 'per', 'percent', 'percent25', 'percentage', 'perception', 'perch', 'perched', 'perfect', 'perfected', 'perfection', 'perfectionist', 'perfectlly', 'perfectly', 'perfecto', 'perform', 'performance', 'performances', 'performed', 'performers', 'perfume', 'perhaps', 'perimeter', 'perimeters', 'period', 'periodic', 'periodically', 'periods', 'peripherals', 'perk', 'perks', 'perky', 'permanent', 'permission', 'permit', 'permits', 'permitting', 'permutations', 'peroxide', 'perplexed', 'perpperoni', 'perrier', 'persevered', 'persian', 'persistent', 'person', 'personable', 'personal', 'personality', 'personalityvery', 'personalized', 'personallity', 'personally', 'personaly', 'personchristine', 'personified', 'personnel', 'persons', 'perspective', 'persuasion', 'pertains', 'perturbed', 'peruse', 'perused', 'perusing', 'pervert', 'pescatarian', 'pesky', 'pest', 'pestered', 'pesticides', 'pesto', 'pet', 'petals', 'peter', 'petes', 'petfriendly', 'petite', 'petrified', 'pets', 'petsit', 'petsitter', 'petsmart', 'petticoat', 'petting', 'petty', 'pew', 'pews', 'pf', 'phad', 'pharmacies', 'pharmacist', 'pharmacy', 'phase', 'phenomenal', 'phenomenally', 'philadelphia', 'phillo', 'philly', 'philosophical', 'philosophy', 'phlegm', 'pho', 'phobia', 'phoenix', 'phoenixI', 'phoenixs', 'phojoint', 'phone', 'phoned', 'phoneipad', 'phones', 'phonetic', 'phony', 'photo', 'photographer', 'photographers', 'photographic', 'photography', 'photos', 'photoshoots', 'photoshopped', 'phrase', 'phx', 'phyllo', 'physical', 'physically', 'physician', 'physicians', 'physicmedium', 'physics', 'piano', 'pibil', 'pic', 'pick', 'picked', 'pickiest', 'picking', 'pickle', 'pickled', 'pickledpreserved', 'pickles', 'picks', 'pickthekidsup', 'pickup', 'picky', 'pickyeater', 'pickypicky', 'picnic', 'picnics', 'pico', 'picos', 'pics', 'picture', 'pictured', 'pictureperfect', 'pictures', 'picturesque', 'pie', 'piece', 'pieces', 'piecesyoung', 'piecesyummm', 'piecing', 'pierced', 'piercing', 'piercings', 'pies', 'pig', 'piggy', 'pigs', 'pilates', 'pile', 'piled', 'pilgrim', 'pilgrimage', 'pilgrimages', 'pillage', 'pillow', 'pillows', 'pillowy', 'pilot', 'pilots', 'pima', 'pimp', 'pin', 'pina', 'pinafore', 'pinapple', 'pinball', 'pinch', 'pine', 'pineapple', 'pineappleperfect', 'ping', 'pink', 'pinkeye', 'pinko', 'pinnacle', 'pinned', 'pinot', 'pinpoint', 'pins', 'pint', 'pinto', 'pints', 'pipe', 'piper', 'pipes', 'piping', 'pipping', 'pique', 'pirates', 'piss', 'pissed', 'pissing', 'pistachio', 'pistachios', 'pistols', 'pit', 'pita', 'pitas', 'pitch', 'pitcher', 'pitchers', 'pitches', 'pits', 'pitt', 'pitted', 'pity', 'pivotal', 'pixie', 'pizza', 'pizzaGuacamole', 'pizzaits', 'pizzas', 'pizzasthis', 'pizzathis', 'pizzawing', 'pizzazz', 'pizzeria', 'pizzerias', 'pizzookie', 'placard', 'placards', 'place', 'placeThe', 'placeand', 'placecant', 'placed', 'placefun', 'placeit', 'placement', 'places', 'placeso', 'placewe', 'placing', 'plague', 'plagued', 'plain', 'plainly', 'plaintains', 'plaintasting', 'plan', 'planb', 'plane', 'planes', 'planet', 'plank', 'planked', 'planks', 'planned', 'planner', 'planners', 'planning', 'plans', 'plant', 'plantains', 'plantbased', 'plants', 'plantstrees', 'plaque', 'plasma', 'plaster', 'plastered', 'plastic', 'plasticware', 'plasticwareplates', 'plate', 'plated', 'plateful', 'plates', 'platesplit', 'plateswe', 'platewonderful', 'platform', 'platforms', 'plating', 'platinum', 'platter', 'platters', 'play', 'playable', 'played', 'playedkinda', 'player', 'players', 'playerwho', 'playful', 'playground', 'playing', 'playingand', 'playingpetting', 'playlist', 'plays', 'plaza', 'plazas', 'pleY', 'plea', 'pleas', 'pleasant', 'pleasanties', 'pleasantly', 'please', 'pleased', 'pleasent', 'pleases', 'pleasing', 'pleasure', 'pleasures', 'pleather', 'plentiful', 'plenty', 'plesant', 'plethora', 'plethoric', 'plexiglass', 'plight', 'ploenta', 'plop', 'pluck', 'plug', 'plugged', 'plugs', 'plum', 'plumber', 'plumbing', 'plump', 'plumping', 'plunge', 'plunk', 'plus', 'pluses', 'plush', 'pm', 'pnuemonia', 'po', 'poached', 'poblano', 'poboy', 'poboys', 'pocket', 'pockets', 'poetic', 'point', 'pointed', 'pointing', 'pointless', 'points', 'pointy', 'poise', 'poisoned', 'poisoning', 'poke', 'poked', 'poker', 'pole', 'polenta', 'poles', 'police', 'policia', 'policies', 'policy', 'polish', 'polished', 'polite', 'politely', 'political', 'politically', 'politicians', 'politics', 'pollack', 'pollo', 'polo', 'pom', 'pome', 'pomegranate', 'pompous', 'poms', 'pond', 'pondered', 'pondering', 'pong', 'ponied', 'ponies', 'pony', 'ponzu', 'pooch', 'pooches', 'poodle', 'poodles', 'pooey', 'pool', 'poolall', 'pools', 'poolside', 'poop', 'poopypick', 'poor', 'poorer', 'poorly', 'pop', 'popashot', 'popcorn', 'popcorn3', 'popo', 'popped', 'poppers', 'popping', 'poppy', 'pops', 'popular', 'popularity', 'populated', 'population', 'populations', 'populous', 'porch', 'porcini', 'pores', 'pork', 'porkless', 'porks', 'porn', 'porridge', 'port', 'portabella', 'portabello', 'porter', 'portfolio', 'portion', 'portioned', 'portions', 'portionspricey', 'portland', 'portly', 'porto', 'portobello', 'portrait', 'portraits', 'pose', 'poser', 'posh', 'poshswank', 'posing', 'position', 'positioned', 'positions', 'positive', 'positively', 'positives', 'posole', 'possessed', 'possesses', 'possessing', 'possession', 'possibility', 'possible', 'possibleI', 'possibly', 'post', 'postI', 'postcards', 'posted', 'poster', 'posters', 'posting', 'postinos', 'postprandial', 'posts', 'posture', 'posturenot', 'pot', 'potato', 'potatoe', 'potatoes', 'potatoesa', 'potatoesamazing', 'potatos', 'potent', 'potential', 'potentially', 'potholderoven', 'potholes', 'potion', 'potpourri', 'pots', 'potstickers', 'pottery', 'poultry', 'pound', 'pounding', 'pounds', 'pour', 'poured', 'pouring', 'pours', 'poutine', 'powder', 'powdered', 'powders', 'powdery', 'power', 'powerful', 'powers', 'ppl', 'practical', 'practically', 'practice', 'practiced', 'practicemeaning', 'practices', 'practicing', 'praise', 'praised', 'praisedmostly', 'praises', 'praising', 'prance', 'prank', 'prawn', 'prawns', 'pray', 'prayers', 'praying', 'pre', 'preThanksgiving', 'preach', 'preaching', 'preair', 'prebreaded', 'precariouslyand', 'precede', 'preceded', 'precious', 'precise', 'precocous', 'precutcouldnt', 'predatorsGive', 'predicament', 'predict', 'predictable', 'predictably', 'predinner', 'predisposed', 'predominantly', 'predominately', 'preeminent', 'prefabricated', 'preface', 'prefect', 'prefecture', 'prefer', 'prefered', 'preference', 'preferencesand', 'preferred', 'preferring', 'prefers', 'preferwe', 'prefix', 'preform', 'pregame', 'pregnancy', 'pregnant', 'prelude', 'premade', 'premeal', 'prementioned', 'premier', 'premise', 'premises', 'premium', 'premiumhealthiest', 'preoccupied', 'preorder', 'prep', 'prepackaged', 'prepaid', 'preparation', 'preparations', 'prepare', 'prepared', 'preparer', 'prepares', 'preparing', 'prepay', 'preperation', 'preplexed', 'prepped', 'prepping', 'preprepared', 'preprepped', 'preprocessed', 'preregistration', 'prerequisite', 'prereserve', 'preschool', 'prescribed', 'prescription', 'prescriptions', 'presence', 'present', 'presentation', 'presented', 'presenting', 'presents', 'preservation', 'preservatives', 'preserved', 'preserves', 'preset', 'presidential', 'presold', 'press', 'pressed', 'pressure', 'pressured', 'pressuring', 'pressurized', 'prestige', 'prestigious', 'presumably', 'presume', 'presumed', 'preteen', 'pretend', 'pretended', 'pretension', 'pretentious', 'pretentiousness', 'pretsels', 'prettier', 'prettiest', 'pretty', 'pretzel', 'pretzels', 'prevent', 'preventative', 'prevented', 'prevention', 'preventive', 'previews', 'previous', 'previously', 'preyelp', 'preystrategizing', 'price', 'priceWallys', 'priced', 'pricehow', 'priceit', 'priceless', 'pricemy', 'pricepackage', 'prices', 'pricesCarl', 'pricesand', 'pricesaverage', 'priceseven', 'pricesits', 'pricewell', 'pricey', 'priceyas', 'priceybut', 'pricier', 'pricing', 'pricingdoenst', 'prick', 'prickly', 'pricks', 'pricy', 'pride', 'prides', 'pried', 'primarily', 'primary', 'primavera', 'prime', 'primed', 'primer', 'primitive', 'primo', 'princess', 'principle', 'print', 'printed', 'printers', 'printing', 'prints', 'prior', 'priorities', 'priority', 'prison', 'prisoners', 'pristine', 'privacy', 'private', 'privately', 'priveledge', 'priveleges', 'priviledge', 'privy', 'prix', 'prixfixe', 'prize', 'pro', 'proactive', 'prob', 'probably', 'probalby', 'probe', 'problem', 'problematic', 'problems', 'procedure', 'procedureWhat', 'procedures', 'proceed', 'proceeded', 'proceeding', 'proceeds', 'process', 'processed', 'processes', 'processing', 'proclaim', 'procure', 'procured', 'prodding', 'produce', 'produced', 'produces', 'product', 'productgo', 'production', 'productive', 'products', 'profanity', 'profesh', 'profesional', 'professed', 'professes', 'profession', 'professional', 'professionalism', 'professionality', 'professionally', 'professionals', 'professors', 'profile', 'profiling', 'profit', 'profitable', 'profiteroles', 'profitmark', 'profits', 'profoundly', 'profusely', 'program', 'programmable', 'programming', 'programs', 'progress', 'progression', 'progressive', 'progressively', 'prohibition', 'project', 'projected', 'projects', 'prolly', 'prom', 'prominent', 'prominently', 'promiscuous', 'promise', 'promised', 'promises', 'promisethere', 'promising', 'promos', 'promote', 'promoted', 'promoter', 'promoters', 'promotes', 'promoting', 'promotion', 'promotions', 'prompt', 'prompted', 'promptly', 'pronounce', 'pronounced', 'pronto', 'pronunciation', 'proof', 'prop', 'propane', 'proper', 'properly', 'properties', 'property', 'proportional', 'proportions', 'propose', 'proposed', 'proprietor', 'proprietors', 'props', 'prorate', 'pros', 'prosciutto', 'proscuitto', 'prosecco', 'prospect', 'prospective', 'prosper', 'prosperous', 'protecting', 'protein', 'proteins', 'protocol', 'protégé', 'proud', 'proudly', 'prove', 'proved', 'proven', 'proverbial', 'proves', 'provide', 'provided', 'provider', 'providers', 'provides', 'providing', 'proving', 'provisionals', 'provisions', 'provolone', 'prowl', 'proximity', 'proxy', 'ps', 'pseudo', 'pseudodive', 'pseudohipster', 'psyched', 'psycho', 'psychologically', 'psychologistmentorbutt', 'pub', 'pube', 'public', 'publication', 'publications', 'publicized', 'publiclyunderwritten', 'publicservice', 'published', 'publisher', 'publishers', 'pubs', 'pucks', 'pudding', 'puddles', 'pudge', 'pueblo', 'puerto', 'puff', 'puffing', 'puffs', 'puffy', 'pug', 'puke', 'puked', 'puking', 'pull', 'pulled', 'pulling', 'pulls', 'pulp', 'pulsating', 'pulverized', 'pump', 'pumped', 'pumpernickel', 'pumpernickelgolden', 'pumping', 'pumpkin', 'pumps', 'pun', 'punch', 'punchcard', 'punched', 'punches', 'punctuated', 'punctuation', 'puncture', 'pungent', 'punished', 'punishment', 'punk', 'punked', 'pup', 'pupcakes', 'puppet', 'puppies', 'puppy', 'puppyhyper', 'pups', 'pupu', 'pupusa', 'pupusas', 'purchase', 'purchased', 'purchaser', 'purchases', 'purchasing', 'purchasingupgrading', 'pure', 'puree', 'purely', 'purist', 'purists', 'purple', 'purpleorange', 'purpose', 'purposely', 'purposenot', 'purposes', 'purse', 'purses', 'pursued', 'pursuit', 'purveyor', 'puréed', 'push', 'pushed', 'pushes', 'pushing', 'pushups', 'pushy', 'pussy', 'put', 'puter', 'putrid', 'puts', 'puttanesca', 'putting', 'putts', 'puzzled', 'pyllo', 'pyramid', 'q', 'qc', 'qhick', 'quacks', 'quail', 'quaint', 'qualifies', 'qualify', 'qualifying', 'qualities', 'quality', 'qualm', 'quandary', 'quantities', 'quantity', 'quarter', 'quarters', 'quartersize', 'quartsized', 'queen', 'queens', 'queer', 'quenching', 'quesadilla', 'quesadillas', 'quesadlla', 'quesedillas', 'quesitons', 'queso', 'quesoguacamole', 'quest', 'question', 'questionable', 'questionably', 'questioned', 'questioning', 'questions', 'questionsI', 'queue', 'quibble', 'quiche', 'quiches', 'quick', 'quickening', 'quicker', 'quickest', 'quickly', 'quiet', 'quieter', 'quietly', 'quince', 'quinoa', 'quintessential', 'quiona', 'quirk', 'quirkily', 'quirkiness', 'quirky', 'quit', 'quite', 'quitting', 'quiver', 'quotas', 'quote', 'quoted', 'quotes', 'qwest', 'r', 'ra', 'rabbit', 'rabbits', 'rabe', 'race', 'raced', 'races', 'racial', 'racing', 'racism', 'rack', 'racks', 'racquets', 'rad', 'radar', 'radiator', 'radio', 'radish', 'radishes', 'radius', 'raffle', 'raffles', 'rafters', 'rafts', 'rag', 'rage', 'rager', 'ragey', 'ragout', 'rail', 'railing', 'railroad', 'rain', 'rainbow', 'rainy', 'raise', 'raised', 'raisin', 'raising', 'rake', 'ramada', 'ramadas', 'ramble', 'ramen', 'ramikans', 'ran', 'ranch', 'ranchero', 'rancheros', 'rancid', 'random', 'randomly', 'rang', 'range', 'ranged', 'ranges', 'ranging', 'rangoons', 'rank', 'ranks', 'ransacked', 'ransom', 'rant', 'ranted', 'rap', 'rapper', 'rare', 'rarely', 'rareplus', 'rarer', 'rarity', 'rasberry', 'raspberries', 'raspberry', 'rat', 'rate', 'rated', 'rates', 'rather', 'rating', 'ratings', 'ratio', 'ration', 'rations', 'rats', 'ratsqirrels', 'rattled', 'rattles', 'rattling', 'rattlings', 'ratty', 'raucous', 'raunchy', 'ravaged', 'rave', 'raved', 'raven', 'ravenous', 'raves', 'raving', 'ravings', 'ravioli', 'raviolis', 'raw', 'rawness', 'rays', 'razor', 'razors', 'razpado', 'rcvd', 'rd', 'reaaaaally', 'reach', 'reachable', 'reached', 'reaches', 'reaching', 'reacted', 'reaction', 'read', 'reader', 'readily', 'reading', 'reads', 'ready', 'real', 'realdeal', 'realistic', 'reality', 'realize', 'realized', 'realizing', 'realllllllly', 'reallllllly', 'reallly', 'really', 'reallyreallysmart', 'reallyyou', 'realtors', 'realty', 'reams', 'reappeared', 'reapplied', 'rear', 'reason', 'reasonable', 'reasonablethey', 'reasonably', 'reasonits', 'reasons', 'reassurance', 'reassurances', 'reassure', 'reassured', 'reassuring', 'rebate', 'rebates', 'rebel', 'rebook', 'rebuilding', 'rebuttal', 'rec', 'recall', 'recant', 'recap', 'recapture', 'reccomend', 'reccommend', 'receipt', 'receipts', 'receiptschange', 'receive', 'received', 'receiver', 'receives', 'receiving', 'recent', 'recently', 'recept', 'receptacle', 'reception', 'receptionist', 'receptions', 'receptive', 'recesses', 'recession', 'recharging', 'reciept', 'recieved', 'recipe', 'recipeI', 'recipes', 'recital', 'recitals', 'recite', 'recites', 'recker', 'recline', 'reclined', 'recliner', 'reclining', 'recognition', 'recognize', 'recognized', 'recomend', 'recommend', 'recommendation', 'recommendations', 'recommended', 'recommending', 'recommends', 'recompense', 'recongnized', 'record', 'recording', 'records', 'recover', 'recovered', 'recovering', 'recovery', 'recreate', 'recreation', 'recruiting', 'rectified', 'rectify', 'recyclable', 'recycling', 'red', 'redbull', 'reddest', 'reddrenched', 'redecorating', 'redeem', 'redeeming', 'redefine', 'redemption', 'redicolus', 'rediculous', 'rediculously', 'redid', 'redneck', 'rednecks', 'redo', 'redone', 'reds', 'reduce', 'reduced', 'reduction', 'reeeeally', 'reef', 'reeked', 'reeks', 'reeling', 'reese', 'reeses', 'refer', 'reference', 'referenced', 'references', 'referral', 'referred', 'referring', 'refers', 'refill', 'refillable', 'refilled', 'refilling', 'refillplease', 'refills', 'refillsalways', 'refine', 'refined', 'refinement', 'reflect', 'reflected', 'reflecting', 'reflection', 'reflects', 'reflex', 'reflux', 'refreeze', 'refreshed', 'refresher', 'refreshing', 'refreshment', 'refried', 'refrigerated', 'refrigeration', 'refrigerator', 'refueled', 'refuge', 'refugees', 'refund', 'refundable', 'refunded', 'refunds', 'refuse', 'refused', 'refuses', 'refusing', 'reg', 'regal', 'regard', 'regarded', 'regarding', 'regardless', 'regards', 'region', 'regional', 'regions', 'register', 'registered', 'registry', 'regoddamndiculously', 'regress', 'regret', 'regreted', 'regrets', 'regrettable', 'regrettably', 'regretted', 'regular', 'regularly', 'regulars', 'regularsjust', 'regularsonce', 'regulator', 'regulatory', 'rehearsal', 'rehearsed', 'reheat', 'reheated', 'rehooked', 'rehydrated', 'reimagined', 'reimburse', 'reincarnated', 'reinforcement', 'reinstalled', 'reintroduced', 'reinvest', 'reiterate', 'reject', 'rejected', 'rejoice', 'rejuvanation', 'rejuvenated', 'rejuvenates', 'related', 'relating', 'relationship', 'relationships', 'relatively', 'relatives', 'relax', 'relaxation', 'relaxed', 'relaxedgreat', 'relaxing', 'relay', 'relayed', 'relearning', 'release', 'released', 'releases', 'releasing', 'relented', 'relevant', 'reliable', 'reliably', 'reliance', 'relic', 'relied', 'relief', 'relieved', 'relieves', 'relieving', 'religion', 'religious', 'relish', 'relishOMG', 'relive', 'relleno', 'rellenos', 'relocated', 'reluctant', 'reluctantly', 'rely', 'remain', 'remainder', 'remained', 'remaining', 'remains', 'remake', 'remakes', 'remarkable', 'remarked', 'remedied', 'remedy', 'remember', 'remembered', 'remembering', 'remembers', 'remind', 'reminded', 'reminder', 'reminders', 'reminding', 'reminds', 'reminisced', 'reminiscence', 'reminiscent', 'reminiscing', 'remiss', 'remodeled', 'remodeling', 'remodelled', 'remodled', 'remolded', 'remorse', 'remote', 'remotecontrolled', 'remotely', 'removal', 'remove', 'removed', 'remover', 'renaissance', 'rename', 'renamed', 'renaming', 'rendered', 'renew', 'renewed', 'renovated', 'renovation', 'renovations', 'rent', 'rental', 'rentals', 'rented', 'renters', 'renting', 'reopen', 'reopened', 'reordered', 'rep', 'repair', 'repaired', 'repairing', 'repairs', 'repairscleaning', 'repartee', 'repast', 'repeat', 'repeated', 'repeatedly', 'repeating', 'repetition', 'repetitive', 'rephrase', 'replace', 'replaced', 'replacedfor', 'replacement', 'replacing', 'replant', 'replenish', 'replenishment', 'replica', 'replied', 'replies', 'reply', 'report', 'reported', 'repotted', 'representation', 'representative', 'represented', 'representing', 'represents', 'reprieve', 'reprinting', 'reprograms', 'reps', 'reptile', 'reptiles', 'repulsive', 'repurposed', 'reputable', 'reputation', 'req', 'request', 'requested', 'requesting', 'requests', 'require', 'required', 'requirement', 'requires', 'reschedule', 'rescheduled', 'rescue', 'rescueafter', 'rescued', 'research', 'researchOr', 'researched', 'researching', 'reseated', 'resemblance', 'resemble', 'resembled', 'resembling', 'reservation', 'reservations', 'reservationthats', 'reserved', 'residence', 'resident', 'residential', 'residents', 'resides', 'residue', 'residueand', 'resist', 'resistant', 'resisted', 'resisting', 'resling', 'resold', 'resolve', 'resolved', 'resolving', 'resonates', 'resort', 'resortour', 'resorts', 'resortspa', 'resource', 'resources', 'respect', 'respectable', 'respected', 'respectful', 'respecting', 'respectively', 'respond', 'responded', 'responding', 'responds', 'response', 'responses', 'responsibilities', 'responsibility', 'responsible', 'responsive', 'rest', 'restaraunt', 'restauant', 'restaurant', 'restaurantbar', 'restaurantcom', 'restaurantgoers', 'restaurants', 'restaurateurs', 'resting', 'restless', 'resto', 'restock', 'restocking', 'restored', 'restrictions', 'restroom', 'restrooms', 'restuarant', 'restuarants', 'resturant', 'resturants', 'resturaunt', 'result', 'resulted', 'resulting', 'results', 'retail', 'retailed', 'retailers', 'retain', 'retains', 'retarded', 'retards', 'retarted', 'retention', 'rethink', 'rethinking', 'retire', 'retired', 'retirees', 'retirement', 'retort', 'retrains', 'retreat', 'retrieve', 'retrieved', 'retrievedbaked', 'retro', 'retrospectively', 'retrovintage', 'return', 'returned', 'returning', 'returns', 'reuben', 'reunion', 'reunions', 'reusable', 'revamp', 'reveal', 'revealed', 'revealing', 'revel', 'revelation', 'revered', 'reverse', 'review', 'reviewThe', 'reviewbut', 'reviewed', 'reviewer', 'reviewers', 'reviewing', 'reviews', 'reviewsthe', 'reviewthe', 'reviewthey', 'revisit', 'revisited', 'revitalization', 'revitalize', 'revive', 'revived', 'reviwers', 'revolting', 'revolving', 'reward', 'rewarded', 'rewards', 'rhyme', 'rhythmically', 'rhythms', 'rib', 'ribbon', 'ribeeyeeeee', 'ribeye', 'ribs', 'rican', 'rice', 'ricebased', 'ricehigh', 'rices', 'ricespicy', 'rich', 'riches', 'richest', 'richness', 'ricotta', 'rid', 'riddance', 'ridden', 'riddens', 'riddled', 'ride', 'rider', 'riders', 'rides', 'ridiculed', 'ridiculous', 'ridiculously', 'ridiculousness', 'riding', 'rifled', 'rifles', 'rig', 'right', 'righteous', 'rightful', 'rightly', 'rights', 'rightso', 'rightwingers', 'rigmarole', 'ring', 'ringing', 'rings', 'ringsor', 'ringvintage', 'rink', 'rinse', 'rinsed', 'rip', 'ripe', 'ripened', 'ripest', 'ripoff', 'ripped', 'rise', 'risers', 'rises', 'rising', 'risk', 'risking', 'risks', 'risky', 'risotto', 'rissottocorrectally', 'ristorante', 'rita', 'ritas', 'ritual', 'rival', 'rivaled', 'rivals', 'river', 'roach', 'road', 'roadhouse', 'roadhouses', 'roading', 'roads', 'roadside', 'roadtrip', 'roadway', 'roam', 'roamed', 'roaring', 'roast', 'roasted', 'roasting', 'roasts', 'rob', 'robata', 'robe', 'robes', 'robotically', 'robust', 'rock', 'rockabilly', 'rocked', 'rocker', 'rocket', 'rocketed', 'rockin', 'rocking', 'rocks', 'rockstar', 'rocksteady', 'rode', 'rolatini', 'role', 'roll', 'rollatini', 'rolled', 'roller', 'rollin', 'rolling', 'rolls', 'rollsalso', 'rollsone', 'rollup', 'rollups', 'rollyourown', 'roma', 'romaine', 'romance', 'romano', 'romantic', 'rome', 'romper', 'roof', 'roofing', 'roofs', 'rooftop', 'rooibos', 'room', 'roommate', 'roomreception', 'rooms', 'roomsuper', 'roomy', 'roosevelt', 'roost', 'rooster', 'root', 'rootbeerthe', 'rooting', 'roots', 'ropa', 'rope', 'roped', 'ropes', 'rosa', 'rose', 'rosearoma', 'rosemary', 'rosies', 'ross', 'rot', 'rotary', 'rotate', 'rotated', 'rotates', 'rotating', 'rotation', 'rotisserie', 'rotten', 'rotting', 'rough', 'roughly', 'roughlycut', 'round', 'rounded', 'roundeven', 'rounding', 'rounds', 'roundtrip', 'roused', 'route', 'routed', 'routes', 'routine', 'roving', 'row', 'rowdy', 'rows', 'royal', 'royale', 'royalty', 'rsvp', 'rub', 'rubbed', 'rubber', 'rubbery', 'rubbing', 'rubs', 'ruby', 'rude', 'rudely', 'rudeness', 'rudest', 'ruffians', 'rugger', 'rugs', 'ruin', 'ruined', 'ruining', 'ruins', 'rule', 'rules', 'rum', 'rumbi', 'rumbles', 'rumbling', 'rumor', 'rums', 'run', 'rundown', 'runner', 'runners', 'runniest', 'running', 'runny', 'runs', 'runway', 'rupturedissipated', 'rural', 'rush', 'rushed', 'rushes', 'rushing', 'russets', 'rustic', 'rut', 'rye', 'sabziwhich', 'sacked', 'sacred', 'sacrifice', 'sacrificed', 'sad', 'saddens', 'saddle', 'sadly', 'sadness', 'safe', 'safely', 'safer', 'safety', 'saffron', 'safley', 'saga', 'sagacity', 'sage', 'sagging', 'said', 'saidBUT', 'saidOwner', 'saint', 'saintly', 'sakana', 'sake', 'sakes', 'salad', 'saladI', 'saladSandwich', 'salads', 'saladthey', 'salami', 'salary', 'salat', 'salds', 'sale', 'sales', 'salesgirl', 'salesgirls', 'salesman', 'salesperson', 'saleswomen', 'salethink', 'saliva', 'salivate', 'salivates', 'salivating', 'sally', 'salmon', 'salmonyellowtailtuna', 'salon', 'salons', 'saloon', 'salsa', 'salsas', 'salsay', 'salscicia', 'salsiccia', 'salt', 'salted', 'saltier', 'saltiest', 'saltimbocca', 'saltine', 'saltiness', 'saltwater', 'salty', 'saltysweet', 'salute', 'salvage', 'samich', 'sammich', 'sammies', 'sammy', 'samosa', 'samosas', 'sample', 'sampled', 'sampler', 'samples', 'sampling', 'samplings', 'san', 'sanctuary', 'sand', 'sandal', 'sandals', 'sanded', 'sanding', 'sandos', 'sands', 'sandstone', 'sandstorm', 'sandwhich', 'sandwhiches', 'sandwich', 'sandwichI', 'sandwiched', 'sandwiches', 'sandwichessaladsetc', 'sandwichesthey', 'sandwichhalf', 'sandys', 'sane', 'sang', 'sangria', 'sangrias', 'sanitary', 'sanitizing', 'sanity', 'sank', 'sans', 'santa', 'sapling', 'sarcasm', 'sarcastic', 'sarcastically', 'sarsaparilla', 'sashimi', 'sat', 'satay', 'sate', 'sated', 'satellite', 'satiate', 'satified', 'satisfaction', 'satisfied', 'satisfies', 'satisfy', 'satisfying', 'satisfyingly', 'satsun', 'saturated', 'saturday', 'saturdays', 'sauce', 'sauce1895', 'saucea', 'sauceamazing', 'saucebut', 'sauced', 'sauceecstasy', 'saucehuge', 'saucenot', 'saucers', 'sauces', 'saucetasting', 'saucewas', 'saucey', 'saucy', 'sauerbraten', 'sauerkraut', 'sauna', 'saunas', 'saunter', 'saurkraut', 'sausage', 'sausageever', 'sausages', 'sauteed', 'sautéed', 'save', 'saved', 'saver', 'savers', 'saves', 'saving', 'savings', 'savor', 'savored', 'savoring', 'savory', 'savorythe', 'savvy', 'saw', 'sawdust', 'saxophone', 'say', 'say15mins', 'say850', 'sayDONT', 'sayI', 'sayMaharaja', 'sayin', 'saying', 'says', 'sazerac', 'scale', 'scallion', 'scallions', 'scallop', 'scalloped', 'scallops', 'scalp', 'scam', 'scammed', 'scammedthink', 'scan', 'scanned', 'scanning', 'scans', 'scant', 'scantily', 'scar', 'scardy', 'scare', 'scared', 'scarey', 'scarf', 'scarfed', 'scarfing', 'scarier', 'scariest', 'scary', 'scathing', 'scattered', 'scenario', 'scene', 'sceneand', 'scenery', 'scenes', 'sceney', 'scenic', 'scent', 'scented', 'schedule', 'scheduled', 'schedules', 'scheduling', 'scheme', 'schmancy', 'schmears', 'schmucks', 'schneikies', 'schnitzel', 'school', 'schooled', 'schoolnot', 'schools', 'science', 'scientificlogical', 'scientist', 'scifi', 'scissors', 'scoffed', 'scolded', 'scolding', 'scollops', 'scone', 'scones', 'scoop', 'scooped', 'scoops', 'scooter', 'scope', 'scorching', 'score', 'scored', 'scores', 'scorpions', 'scotch', 'scothes10', 'scottsdale', 'scout', 'scowl', 'scraggly', 'scramble', 'scrambled', 'scrambler', 'scrambles', 'scrambling', 'scraped', 'scraping', 'scraps', 'scrapypointy', 'scratch', 'scratched', 'scratcher', 'scream', 'screamed', 'screaming', 'screams', 'screen', 'screening', 'screens', 'screw', 'screwed', 'screwedup', 'screwing', 'screws', 'screwups', 'script', 'scripts', 'scrounge', 'scrub', 'scrubs', 'scruffy', 'scrumptious', 'scrunch', 'scrunched', 'sculpted', 'sculpture', 'sculptures', 'scum', 'scuzy', 'se', 'sea', 'seabase', 'seabass', 'seafood', 'seafoods', 'seagulls', 'sealed', 'seamlessly', 'seams', 'sear', 'search', 'searched', 'searches', 'searching', 'seared', 'sears', 'searscom', 'season', 'seasonal', 'seasoned', 'seasoning', 'seasons', 'seat', 'seated', 'seating', 'seatings', 'seats', 'seaweed', 'sec', 'secluded', 'second', 'secondI', 'secondary', 'secondguessing', 'secondly', 'seconds', 'secondworst', 'secret', 'secretarys', 'secretive', 'secrets', 'secs', 'section', 'sectionat', 'sectioned', 'sectionnot', 'sections', 'secure', 'secured', 'security', 'sedate', 'sedated', 'sedation', 'sedona', 'see', 'seed', 'seeds', 'seedy', 'seeing', 'seek', 'seeking', 'seem', 'seemed', 'seeming', 'seemingly', 'seems', 'seen', 'seenI', 'seenand', 'seenworth', 'sees', 'seetobeseen', 'seewhat', 'segments', 'seizing', 'seldom', 'select', 'selected', 'selecting', 'selection', 'selectioned', 'selections', 'selectionyou', 'self', 'selfconsciously', 'selfdont', 'selfish', 'selfprofessed', 'selfserve', 'selfservice', 'selftaught', 'sell', 'seller', 'sellers', 'selling', 'sells', 'selves', 'semblance', 'semester', 'semi', 'semialacarte', 'semiannual', 'semibusy', 'semihealth', 'semilong', 'seminew', 'semitrailers', 'sen', 'send', 'sending', 'sendoff', 'sends', 'senior', 'seniors', 'sensation', 'sensational', 'sensations', 'sense', 'sensed', 'senses', 'sensible', 'sensitive', 'sensitivity', 'sensory', 'sensuous', 'sent', 'sentance', 'sentence', 'sentences', 'sentimental', 'separate', 'separately', 'separating', 'separation', 'seperate', 'sequel', 'sequence', 'sequined', 'serene', 'serenity', 'series', 'serious', 'seriously', 'seriouslythis', 'serive', 'serpentine', 'serranos', 'serums', 'serv', 'serve', 'served', 'server', 'serverbartender', 'servered', 'servergreat', 'serverotherwise', 'servers', 'serversand', 'serverscomplete', 'serversdang', 'serves', 'service', 'serviceIf', 'serviceIm', 'serviceWe', 'serviceand', 'serviceawful', 'serviced', 'serviceif', 'services', 'servicesmall', 'servicethey', 'serving', 'servings', 'sesame', 'session', 'sessions', 'set', 'setWOW', 'sets', 'setting', 'settings', 'settle', 'settled', 'setup', 'setups', 'seven', 'sevenfigure', 'sever', 'several', 'severalaCAPSLOCK', 'severe', 'severely', 'sewer', 'sewn', 'sex', 'sexiest', 'sexiness', 'sexy', 'sexysultry', 'sh', 'shabby', 'shack', 'shacked', 'shade', 'shaded', 'shades', 'shadow', 'shady', 'shaft', 'shake', 'shaken', 'shaker', 'shakes', 'shaking', 'shall', 'shallot', 'shallots', 'sham', 'shame', 'shameful', 'shamefully', 'shameless', 'shampoo', 'shampoos', 'shanghai', 'shank', 'shanks', 'shape', 'shapeTheir', 'shaped', 'shapes', 'shaping', 'share', 'shareameal', 'shared', 'sharers', 'shares', 'sharing', 'sharp', 'sharpened', 'sharpie', 'shars', 'shashimi', 'shattered', 'shave', 'shaved', 'shaves', 'shaving', 'shawarma', 'shazzam', 'sheared', 'shed', 'shedding', 'sheep', 'sheer', 'sheesh', 'sheet', 'sheets', 'shelf', 'shell', 'shellac', 'shelling', 'shells', 'shelter', 'sheltered', 'shelve', 'shelves', 'shelving', 'shenanigans', 'shepards', 'shepherds', 'shes', 'shift', 'shifts', 'shifty', 'shimp', 'shindig', 'shine', 'shines', 'shiney', 'shing', 'shining', 'shins', 'shiny', 'ship', 'shipment', 'shipments', 'shipped', 'shipping', 'shirazi', 'shirt', 'shirts', 'shish', 'shit', 'shithead', 'shitmusic', 'shitthen', 'shittier', 'shitty', 'shmancy', 'sho', 'shochu', 'shock', 'shocked', 'shocker', 'shocking', 'shockingly', 'shocks', 'shoe', 'shoes', 'shone', 'shook', 'shooshingsounding', 'shoot', 'shooters', 'shooting', 'shoots', 'shootwho', 'shop', 'shopaholics', 'shopcasual', 'shopkeepers', 'shopparadise', 'shoppe', 'shopped', 'shopper', 'shopperiod', 'shoppers', 'shopping', 'shoppingdining', 'shoppingnot', 'shops', 'shorba', 'short', 'short13', 'shortage', 'shortbreadtasting', 'shorten', 'shortened', 'shortens', 'shorter', 'shorthand', 'shortleashdogs', 'shortly', 'shortpar', 'shortribs', 'shorts', 'shorty', 'shot', 'shotit', 'shots', 'shoulder', 'shoulders', 'shouldnt', 'shouldve', 'shout', 'shouted', 'shouting', 'shoutout', 'shouts', 'shoved', 'shovel', 'shovelfuls', 'shoveling', 'shoving', 'show', 'showcase', 'showcased', 'showed', 'shower', 'showering', 'showers', 'showing', 'showings', 'shown', 'showroom', 'shows', 'showstopper', 'shrapnel', 'shred', 'shredded', 'shreds', 'shrimp', 'shrimpcrab', 'shrine', 'shrink', 'shriveled', 'shrooms', 'shrugged', 'sht', 'shthole', 'shtty', 'shu', 'shudder', 'shuffleboard', 'shuffled', 'shuffling', 'shui', 'shut', 'shuttle', 'shuttled', 'shwarma', 'shwarmasp', 'shy', 'shyness', 'shyt', 'si', 'siblings', 'sick', 'sickening', 'sickeningly', 'sickest', 'sickly', 'side', 'sideall', 'sideand', 'sideat', 'sidecar', 'sided', 'sidego', 'sidekick', 'sidepalate', 'sides', 'sidethe', 'sidewalk', 'sideways', 'sidling', 'sift', 'sigh', 'sighed', 'sight', 'sights', 'sign', 'signI', 'signage', 'signal', 'signaled', 'signals', 'signature', 'signed', 'signer', 'significant', 'significantly', 'signin', 'signing', 'signs', 'silence', 'silenced', 'silent', 'silently', 'silicabased', 'silk', 'silklined', 'silky', 'silkysmooth', 'silly', 'silver', 'silvered', 'silvermine', 'silverware', 'similar', 'similarities', 'similarity', 'similarly', 'simmered', 'simple', 'simplest', 'simplicity', 'simplify', 'simplistic', 'simply', 'simultaneously', 'sin', 'sinatra', 'since', 'sincere', 'sincerely', 'sincerity', 'sincewell', 'sinful', 'sinfuland', 'sinfully', 'sing', 'singer', 'singers', 'singing', 'single', 'singleTERRIBLEHostess', 'singles', 'sink', 'sinker', 'sinking', 'sinks', 'sinner', 'sinsr', 'sip', 'sipped', 'sipping', 'sips', 'siptaste', 'sir', 'sirloin', 'sissies', 'sissy', 'sissys', 'sister', 'sisterinlaw', 'sisters', 'sit', 'sitdown', 'site', 'sites', 'sits', 'sitsin', 'sitter', 'sitting', 'situated', 'situation', 'situationbut', 'siu', 'six', 'sixteen', 'sixth', 'sixty', 'sixyear', 'sizable', 'size', 'sized', 'sizes', 'sizing', 'sizzle', 'sizzling', 'skate', 'skateboarding', 'skating', 'skeptic', 'skeptical', 'skepticism', 'sketchbook', 'sketchy', 'skewed', 'skewer', 'skewers', 'ski', 'skill', 'skilled', 'skillet', 'skillets', 'skillfully', 'skills', 'skillsall', 'skim', 'skimp', 'skimpy', 'skin', 'skinny', 'skinon', 'skins', 'skip', 'skipped', 'skipping', 'skirt', 'skirts', 'skits', 'skull', 'sky', 'skylights', 'skyline', 'slab', 'slabs', 'slacks', 'slam', 'slammed', 'slander', 'slang', 'slanged', 'slangs', 'slant', 'slap', 'slapped', 'slaps', 'slash', 'slated', 'slather', 'slathered', 'slave', 'slaw', 'slawmy', 'sleek', 'sleep', 'sleeping', 'sleepy', 'sleeve', 'sleeved', 'sleeves', 'slept', 'slew', 'slice', 'sliced', 'slices', 'slicing', 'slick', 'slicker', 'slid', 'slide', 'slider', 'sliders', 'slides', 'sliding', 'slight', 'slighted', 'slightest', 'slightly', 'slighty', 'slim', 'slimmed', 'slimming', 'slimy', 'slingers', 'slip', 'slipped', 'slippers', 'slippery', 'sliver', 'slivered', 'slivers', 'sllluuuurrrpp', 'slob', 'slogan', 'slop', 'slope', 'slopes', 'slopped', 'sloppy', 'slot', 'slotted', 'slouch', 'slow', 'slowed', 'slowing', 'slowly', 'slownot', 'slowroasted', 'slums', 'slurping', 'slurs', 'slushies', 'slutty', 'smack', 'smacked', 'smacking', 'smacks', 'small', 'smallI', 'smaller', 'smallest', 'smallish', 'smalll', 'smallonce', 'smancy', 'smart', 'smarten', 'smarter', 'smarts', 'smash', 'smashed', 'smashing', 'smattering', 'smear', 'smeared', 'smearing', 'smedium', 'smell', 'smelled', 'smelling', 'smells', 'smelly', 'smile', 'smiled', 'smiles', 'smiley', 'smiling', 'smith', 'smock', 'smoke', 'smoked', 'smokehouseoooh', 'smokers', 'smokes', 'smokey', 'smokin', 'smoking', 'smokingdrinking', 'smoky', 'smooshy', 'smooth', 'smoother', 'smoothie', 'smoothies', 'smoothly', 'smoothplus', 'smoothy', 'smores', 'smother', 'smothered', 'smuggling', 'snack', 'snacking', 'snacks', 'snag', 'snagged', 'snagging', 'snails', 'snakes', 'snaking', 'snap', 'snapped', 'snapper', 'snappy', 'snaps', 'snarfed', 'snarking', 'snarl', 'snatched', 'sneak', 'sneaker', 'sneakers', 'sneaking', 'sneaks', 'sneaky', 'sneer', 'sneeze', 'sneezed', 'snicker', 'snickerdoodle', 'snickered', 'snickers', 'sniff', 'sniffed', 'sniffling', 'sniffster', 'snob', 'snobbery', 'snobbish', 'snobby', 'snobs', 'snoooty', 'snooty', 'snorting', 'snottily', 'snotty', 'snow', 'snowbirds', 'snubbed', 'soak', 'soaked', 'soaking', 'soap', 'soaps', 'soapy', 'soba', 'sober', 'socal', 'socalled', 'soccer', 'social', 'socialize', 'socialized', 'socializing', 'socially', 'society', 'sock', 'socket', 'sockets', 'socks', 'soda', 'sodas', 'sodelicious', 'sofa', 'sofas', 'soft', 'softball', 'softdrink', 'softened', 'softening', 'softer', 'softgreen', 'softshell', 'software', 'sogginess', 'soggy', 'solar', 'sold', 'soldier', 'soldiered', 'sole', 'solely', 'solemnly', 'soles', 'solicited', 'solicits', 'solid', 'solidly', 'solitaire', 'solitary', 'solitude', 'solo', 'soluitions', 'solution', 'solve', 'solved', 'solvent', 'solvents', 'solving', 'somber', 'somebody', 'somebodys', 'someday', 'somehow', 'somehwere', 'someone', 'someones', 'someplace', 'something', 'somethings', 'somethingsome', 'somethingwellthats', 'sometime', 'sometimes', 'somewhat', 'somewhere', 'somewherelll', 'sommelier', 'sommersault', 'somtimes', 'son', 'sone', 'song', 'songs', 'sonic', 'sonoran', 'sons', 'soo', 'soon', 'soonand', 'sooner', 'soontobe', 'sooo', 'soooo', 'sooooo', 'soooooo', 'sooooooo', 'sooooooooo', 'soothe', 'soothing', 'sop', 'sopapilla', 'sophisticated', 'sophistication', 'sophomore', 'sopping', 'sorbet', 'sorbets', 'sordid', 'sore', 'sorely', 'sorority', 'sorrow', 'sorrows', 'sorry', 'sort', 'sorta', 'sorted', 'sorting', 'sorts', 'soso', 'souffle', 'souffles', 'sought', 'soul', 'souls', 'sound', 'sounded', 'sounding', 'sounds', 'soundtrack', 'soup', 'soupdrools', 'soupnazi', 'soupreally', 'soups', 'soupsalad', 'soupvery', 'soupy', 'sour', 'source', 'sourced', 'sources', 'sourcing', 'sourdough', 'sourness', 'sous', 'south', 'southern', 'southwest', 'southwestern', 'souvenier', 'souveniers', 'soy', 'soyfree', 'soynami', 'soynamis', 'sp', 'spa', 'spaW', 'space', 'spacecadet', 'spaces', 'spacey', 'spacing', 'spacious', 'spackling', 'spades', 'spaetzle', 'spagetti', 'spaghetti', 'spalover', 'spam', 'span', 'spandex', 'spandwex', 'spanikopita', 'spanish', 'spanishmexican', 'spanking', 'spare', 'spared', 'spark', 'sparked', 'sparkling', 'sparkly', 'sparse', 'spas', 'spashground', 'spastic', 'spat', 'spawn', 'spawned', 'spay', 'spaying', 'speak', 'speakeasy', 'speaker', 'speakers', 'speaking', 'speaks', 'spear', 'special', 'specialan', 'specialists', 'speciality', 'specialize', 'specializes', 'specially', 'specialness', 'specialorders', 'specials', 'specialsTry', 'specialties', 'specialtly', 'specialty', 'species', 'specific', 'specifically', 'specification', 'specifications', 'specifics', 'specified', 'speckled', 'spectacular', 'spectators', 'spectrum', 'speculate', 'speculation', 'speech', 'speechless', 'speed', 'speeds', 'speedy', 'spell', 'spelled', 'spelling', 'spellings', 'spend', 'spending', 'spends', 'spendy', 'spent', 'speraticly', 'spewed', 'spic', 'spice', 'spiced', 'spicedherbed', 'spices', 'spicey', 'spicier', 'spiciness', 'spicy', 'spicyfood', 'spicylovers', 'spicysmooth', 'spicysweet', 'spicythe', 'spiddle', 'spider', 'spiderman', 'spiders', 'spiked', 'spikey', 'spiky', 'spikyheeled', 'spill', 'spilled', 'spilling', 'spin', 'spinach', 'spinachyou', 'spincach', 'spinning', 'spirit', 'spirits', 'spiritsso', 'spiritual', 'spit', 'spite', 'splash', 'splashed', 'splashing', 'splatters', 'splayed', 'splenda', 'splendid', 'split', 'splits', 'splitting', 'splurge', 'splurged', 'splurges', 'splurging', 'spoil', 'spoiled', 'spoilt', 'spoke', 'spoken', 'spongelike', 'spongy', 'sponsored', 'spontaneous', 'spooky', 'spoon', 'spoonful', 'spoonfuls', 'spoons', 'sporadic', 'spore', 'sport', 'sportbarpool', 'sporting', 'sports', 'spot', 'spotOH', 'spotless', 'spotlessly', 'spoton', 'spotonlemon', 'spots', 'spotted', 'spotty', 'spotyou', 'spouse', 'spouses', 'spouting', 'spouts', 'sprawl', 'sprawled', 'sprawling', 'sprawls', 'spray', 'sprayer', 'spread', 'spreads', 'spreadsheet', 'spring', 'sprinkle', 'sprinkled', 'sprinkles', 'sprinkling', 'sprint', 'sprites', 'sprout', 'sprouts', 'spumoni', 'spun', 'sq', 'sqawapologists', 'square', 'squares', 'squash', 'squat', 'squeaky', 'squealing', 'squeegee', 'squeeking', 'squeeze', 'squeezed', 'squeezing', 'squid', 'squint', 'squirming', 'squirrel', 'squirrels', 'squirt', 'squirted', 'squished', 'squishing', 'squishy', 'sriacha', 'sriracha', 'ss', 'sslowest', 'ssssshhhhhh', 'st', 'stab', 'stabbed', 'stable', 'stack', 'stacked', 'stacking', 'stacks', 'stadium', 'stadiumJobingcom', 'stadiums', 'staff', 'staffa', 'staffchefs', 'staffed', 'staffer', 'staffevery', 'staffing', 'staffperson', 'staffs', 'staffthe', 'stage', 'stagecoach', 'stages', 'stageshow', 'staggering', 'stained', 'staining', 'stainless', 'stains', 'stair', 'staircase', 'stairmaster', 'stairs', 'stake', 'staked', 'stale', 'stalehard', 'stalelooking', 'stalk', 'stalked', 'stalking', 'stall', 'stalled', 'stalls', 'stamina', 'stammered', 'stammering', 'stamp', 'stamped', 'stand', 'standard', 'standards', 'standby', 'standin', 'standing', 'standout', 'standouts', 'stands', 'staple', 'staples', 'star', 'starWhyBecause', 'starbuck', 'starbucks', 'starbut', 'starches', 'stardust', 'stare', 'stared', 'stares', 'stargazing', 'staring', 'stark', 'starry', 'stars', 'starsperhaps', 'start', 'startI', 'started', 'starteed', 'starter', 'starters', 'startersI', 'starting', 'startled', 'startline', 'startlingly', 'starts', 'startup', 'startups', 'starve', 'starving', 'starvingthis', 'stash', 'stashed', 'stashing', 'state', 'stated', 'stateda', 'statement', 'states', 'stateside', 'static', 'stating', 'station', 'stationary', 'stationed', 'stations', 'statistics', 'statues', 'stature', 'status', 'stave', 'stay', 'staycation', 'staycations', 'stayed', 'staying', 'stays', 'steady', 'steak', 'steakburger', 'steakhouse', 'steakhouses', 'steaks', 'steal', 'stealerships', 'stealing', 'steals', 'stealthy', 'steam', 'steamed', 'steamers', 'steaming', 'stedson', 'steel', 'steep', 'steeping', 'steepness', 'steer', 'steered', 'stellar', 'stem', 'stemware', 'stench', 'step', 'stepdad', 'stepped', 'stepper', 'stepping', 'steps', 'stepsister', 'stereo', 'stereotype', 'stereotypical', 'sterile', 'sterilized', 'steroids', 'stew', 'stewThe', 'stewbut', 'stews', 'stick', 'sticker', 'stickers', 'stickiness', 'sticking', 'stickler', 'stickonmustaches', 'sticks', 'sticky', 'stiff', 'stiffy', 'stigma', 'stigmata', 'still', 'stilll', 'stillwarm', 'stimulating', 'stimulation', 'stimuli', 'stingrays', 'stingy', 'stink', 'stinkeyed', 'stinking', 'stinks', 'stinky', 'stipulation', 'stipulations', 'stir', 'stirfried', 'stirred', 'stirrup', 'stitched', 'stitches', 'stitching', 'stock', 'stocked', 'stocking', 'stockings', 'stocks', 'stockwas', 'stockyards', 'stoked', 'stole', 'stolen', 'stomach', 'stomachs', 'stomp', 'stomped', 'stompin', 'stomping', 'stone', 'stoned', 'stones', 'stood', 'stool', 'stools', 'stop', 'stopped', 'stopping', 'stops', 'stopso', 'storage', 'store', 'storebut', 'stored', 'storedont', 'storefood', 'storefront', 'storefronts', 'stores', 'storesparking', 'storeto', 'storewhat', 'stories', 'storm', 'stormed', 'storms', 'story', 'stout', 'stracciatella', 'straddling', 'straight', 'straightaway', 'straightforward', 'strain', 'strained', 'strait', 'strand', 'stranded', 'strands', 'strange', 'strangely', 'stranger', 'strangers', 'strangest', 'strap', 'strapless', 'strapped', 'straps', 'strategic', 'strategy', 'stratified', 'straw', 'strawberries', 'strawberry', 'stray', 'strayed', 'strbucks', 'streak', 'stream', 'streaming', 'street', 'streetnow', 'streets', 'streetso', 'streetwalkin', 'strength', 'strenuous', 'strep', 'stress', 'stressed', 'stressing', 'stretch', 'stretches', 'stretching', 'striaght', 'strict', 'strictly', 'stride', 'strike', 'strikes', 'striking', 'string', 'stringent', 'stringier', 'strings', 'stringy', 'strip', 'striped', 'stripes', 'striping', 'stripmall', 'stripon', 'stripped', 'stripper', 'strippers', 'stripping', 'strips', 'stripsand', 'strive', 'strives', 'stroganoff', 'stroke', 'strokes', 'stroll', 'stroller', 'strolling', 'strong', 'strongcheck', 'stronger', 'strongly', 'strongvery', 'strore', 'struck', 'structure', 'struggle', 'struggled', 'struggles', 'struggling', 'strummed', 'struts', 'stubborn', 'stucco', 'stuck', 'stud', 'studded', 'student', 'students', 'studied', 'studio', 'studios', 'study', 'studying', 'stuff', 'stuffed', 'stuffing', 'stuffthis', 'stuffwhat', 'stuffy', 'stumble', 'stumbled', 'stumbling', 'stumps', 'stunk', 'stunned', 'stunner', 'stunning', 'stupendous', 'stupendously', 'stupid', 'stupidly', 'stupor', 'sturgeon', 'stutter', 'stuttering', 'style', 'styled', 'stylekinda', 'styles', 'stylings', 'stylish', 'stylist', 'stylists', 'styrofoam', 'sua', 'sub', 'subcompared', 'subconcious', 'subdued', 'suberb', 'subject', 'subjects', 'sublime', 'submit', 'submitted', 'submitting', 'subpar', 'subs', 'subscriber', 'subscription', 'subscriptions', 'subsequent', 'subsequently', 'subset', 'substance', 'substandard', 'substantial', 'substantially', 'substitute', 'substituted', 'substitution', 'substitutions', 'subtle', 'subtleness', 'subtly', 'subtract', 'suburban', 'suburbia', 'suburbs', 'subway', 'subways', 'succeed', 'succeeded', 'succeeds', 'success', 'successful', 'successfully', 'succulent', 'succulents', 'succumbed', 'sucha', 'suck', 'sucked', 'sucker', 'suckered', 'suckers', 'sucking', 'sucks', 'sud', 'sudden', 'suddenly', 'suds', 'sue', 'sued', 'suffer', 'suffered', 'suffering', 'suffers', 'suffice', 'sufficed', 'sufficient', 'sufficiently', 'sugar', 'sugared', 'sugarfree', 'sugary', 'suggest', 'suggested', 'suggestedwhy', 'suggesting', 'suggestion', 'suggestions', 'suggests', 'suicide', 'suit', 'suitable', 'suite', 'suitea', 'suited', 'suites', 'suiting', 'suits', 'sum', 'sumac', 'summarize', 'summary', 'summer', 'summers', 'summertime', 'summery', 'summit', 'sumptuous', 'sums', 'sun', 'sunburn', 'sunchokes', 'sundae', 'sundaes', 'sunday', 'sundevil', 'sundried', 'sundries', 'sunflower', 'sunglasses', 'sunken', 'sunny', 'sunnyside', 'suns', 'sunscreen', 'sunscreens', 'sunset', 'sunshine', 'sunsine', 'super', 'superb', 'superbly', 'superbowl', 'superbusy', 'supercheap', 'superdry', 'superfantastic', 'superfantasticdeliciousness', 'superfood', 'superfoodiority', 'superfriendly', 'superhighend', 'superior', 'supermarket', 'supermarkets', 'supershort', 'superspiced', 'superspicy', 'superstar', 'supervision', 'supervisor', 'supervisors', 'supped', 'supper', 'supplementation', 'supplements', 'supplier', 'suppliers', 'supplies', 'supply', 'support', 'supported', 'supporter', 'supporters', 'supporting', 'supportinvest', 'supportive', 'supports', 'suppose', 'supposed', 'supposedly', 'supreme', 'supremely', 'suprising', 'surcharge', 'surcharges', 'sure', 'surefire', 'surely', 'surf', 'surface', 'surfaces', 'surfing', 'surgeries', 'surgery', 'surly', 'surname', 'surpassed', 'surpasses', 'surprise', 'surprised', 'surprisedimpressed', 'surprises', 'surprisethey', 'surprising', 'surprisingly', 'surround', 'surrounded', 'surrounding', 'surroundings', 'surrounds', 'survival', 'survive', 'survived', 'survives', 'surviving', 'sushi', 'sushiBravo', 'sushigrade', 'sushis', 'suspect', 'suspected', 'suspended', 'suspenders', 'suspension', 'suspicion', 'suspicious', 'suspiciously', 'sustainability', 'sustainable', 'sustainableorganic', 'sustainably', 'sustaining', 'susy', 'sutra', 'sutures', 'sw', 'swallow', 'swam', 'swamp', 'swamped', 'swank', 'swanky', 'swap', 'swapped', 'sware', 'swarma', 'swashing', 'swatting', 'swayed', 'swear', 'swearing', 'swears', 'sweat', 'sweater', 'sweaters', 'sweatfilled', 'sweating', 'sweatshops', 'sweaty', 'swede', 'sweep', 'sweeping', 'sweet', 'sweetand', 'sweetened', 'sweeter', 'sweetest', 'sweetheart', 'sweetie', 'sweeties', 'sweetish', 'sweetishbitterishspicy', 'sweetly', 'sweetness', 'sweets', 'sweetsour', 'sweltering', 'swift', 'swill', 'swim', 'swimmer', 'swimming', 'swimsuits', 'swindled', 'swing', 'swinging', 'swipe', 'swipeandsign', 'swiped', 'swirl', 'swirland', 'swirling', 'swirls', 'swiss', 'switch', 'switchbacks', 'switched', 'switchfezticoz', 'swivel', 'swizzle', 'swollen', 'swoon', 'swooninducingand', 'swooning', 'swooped', 'swordfish', 'swore', 'sworn', 'swung', 'syllables', 'symbol', 'symbols', 'sympathetic', 'sympathy', 'symphony', 'symptoms', 'sync', 'synergy', 'synthetic', 'syrup', 'syrupmmmm', 'syrups', 'syrupy', 'syrupyummmmy', 'system', 'systems', 'tab', 'tabbouleh', 'table', 'tableau', 'tablebar', 'tablecloths', 'tables', 'tablesbig', 'tablesbooths', 'tablesfaded', 'tableside', 'tablespoon', 'tablesseriously', 'tablet', 'tablewhich', 'tabooli', 'tabooliridiculous', 'tabouli', 'tabs', 'tack', 'tacked', 'tacky', 'taco', 'tacoburrito', 'tacoregardless', 'tacos', 'tacosWow', 'tacoshow', 'tacosmaybe', 'tacossssss', 'tact', 'tad', 'tag', 'tagged', 'tagline', 'taglines', 'tags', 'tahini', 'tai', 'tail', 'tailgate', 'tailor', 'tailored', 'tailoring', 'tailors', 'tails', 'tainted', 'take', 'takeaway', 'takehome', 'takein', 'taken', 'takenoshitbutstilltakecareofyou', 'takeout', 'takeouts', 'taker', 'takes', 'taking', 'takingmaking', 'tale', 'talent', 'talented', 'talents', 'talk', 'talkative', 'talked', 'talker', 'talking', 'talks', 'tall', 'tally', 'tam', 'tamale', 'tamales', 'tamaletaco', 'tamarind', 'tame', 'tampons', 'tan', 'tandem', 'tandoori', 'tang', 'tango', 'tangy', 'tank', 'tankard', 'tankor', 'tanks', 'tanksi', 'tannat', 'tanning', 'tans', 'tantalized', 'tantalizing', 'taook', 'tap', 'tapas', 'tapcheap', 'tape', 'taped', 'tapenade', 'tapenades', 'tapioca', 'tapped', 'tapping', 'taps', 'taqueria', 'taquitos', 'tar', 'tardy', 'target', 'targetLets', 'targeted', 'tart', 'tartar', 'tartare', 'tartes', 'tartish', 'tartpie', 'tarts', 'tartspies', 'tartsweet', 'tartufa', 'tartufo', 'task', 'tasks', 'taste', 'tasteand', 'tastebuds', 'tasted', 'tasteful', 'tastefully', 'tastegasmic', 'tasteless', 'tastelessmess', 'tasteodor', 'taster', 'tastes', 'tastesbetterthanhome', 'tasteslikehome', 'tastetested', 'tastey', 'tastier', 'tasties', 'tastiest', 'tastiness', 'tasting', 'tastings', 'tasty', 'tastysounding', 'tasy', 'tataki', 'tater', 'taters', 'tats', 'tattered', 'tattering', 'tattoo', 'tattooed', 'tattooer', 'tattooers', 'tattoos', 'tatts', 'taught', 'taunts', 'tavern', 'tax', 'taxes', 'taxi', 'taxicab', 'taxidermy', 'tazer', 'tbone', 'tchatchkies', 'tea', 'teaboba', 'teach', 'teacher', 'teachers', 'teaches', 'teaching', 'teacup', 'teakwoods', 'teal', 'team', 'teams', 'teamwork', 'teapot', 'teapots', 'tear', 'tears', 'teas', 'tease', 'teaspoon', 'teatastiness', 'teats', 'tech', 'technical', 'technically', 'technician', 'technicians', 'technique', 'techniques', 'techno', 'technology', 'techs', 'teddy', 'tee', 'teed', 'teehee', 'teeming', 'teen', 'teenage', 'teenager', 'teenagerinfested', 'teenagers', 'teenie', 'teens', 'teensy', 'teeny', 'teenytiny', 'tees', 'teeth', 'teeththe', 'teetogreen', 'teff', 'telegraph', 'telemarketers', 'telenovela', 'telephone', 'television', 'televisions', 'tell', 'teller', 'tellin', 'telling', 'tells', 'telly', 'temp', 'tempe', 'temped', 'temper', 'temperature', 'temperatures', 'tempermant', 'temporary', 'temps', 'temptation', 'temptationSeriously', 'tempted', 'tempting', 'tempur', 'tempura', 'tempuralike', 'ten', 'tenant', 'tenantowner', 'tend', 'tended', 'tendencies', 'tendency', 'tender', 'tenderI', 'tenderflavorful', 'tenderlion', 'tenderloin', 'tenderness', 'tenders', 'tendon', 'tendons', 'tends', 'tennis', 'tent', 'tenth', 'tents', 'tepan', 'teppen', 'tequila', 'tequilas', 'tequilla', 'teriffic', 'teriyaki', 'term', 'termial', 'terminal', 'terminals', 'terms', 'terra', 'terrace', 'terracotta', 'terrain', 'terrible', 'terribly', 'terrier', 'terrific', 'terrified', 'terrimisu', 'territory', 'terrors', 'test', 'testament', 'tested', 'testosterone', 'tests', 'texmex', 'text', 'texted', 'texting', 'texts', 'textural', 'texture', 'textured', 'textures', 'th', 'tha', 'thai', 'thaiawesome', 'thali', 'thang', 'thank', 'thanked', 'thankful', 'thankfully', 'thanking', 'thankmy', 'thanks', 'thanksgiving', 'thatIDIOTS', 'thatbut', 'thatdonuts', 'thatoffer', 'thats', 'thawed', 'thawing', 'thay', 'thePanko', 'theater', 'theaters', 'theatersee', 'theaterstaff', 'theaterwe', 'theatre', 'theatres', 'theatrical', 'thedimly', 'thee', 'thefts', 'theives', 'themI', 'theme', 'themed', 'themes', 'themselvesextremely', 'themselvesremarkable', 'themsince', 'thenthirty', 'theory', 'theprice', 'ther', 'therapeutic', 'therapist', 'therapistintricate', 'therapists', 'therapy', 'thereEat', 'thereIm', 'thereMUST', 'thereMakes', 'thereafter', 'thereby', 'therefor', 'therefore', 'therelots', 'thereof', 'thereor', 'theres', 'thereyou', 'thermostat', 'theyd', 'theye', 'theyll', 'theyre', 'theyve', 'thhe', 'thick', 'thickcut', 'thickdoughy', 'thicker', 'thickness', 'thicknot', 'thie', 'thier', 'thigh', 'thighs', 'thin', 'thincrust', 'thing', 'thingie', 'thingies', 'thingmy', 'things', 'thingsI', 'thingsjust', 'thingthere', 'thingtheyre', 'thingy', 'thingys', 'think', 'thinker', 'thinkin', 'thinking', 'thinks', 'thinly', 'thinner', 'thinsliced', 'third', 'thirst', 'thirsty', 'thirty', 'thisall', 'thisdid', 'thisgo', 'thisworth', 'thit', 'tho', 'thomas', 'thorough', 'thoroughfares', 'thoroughly', 'thou', 'though', 'thoughGive', 'thoughit', 'thought', 'thoughtful', 'thoughthe', 'thoughts', 'thoughtthrough', 'thouhgt', 'thousand', 'thousands', 'thr', 'thrasher', 'thread', 'threading', 'threatened', 'threatening', 'threats', 'three', 'threesome', 'threetopping', 'threw', 'thrice', 'thrift', 'thrifting', 'thrifty', 'thrilled', 'thrilling', 'thrive', 'throat', 'throne', 'throrugh', 'throughout', 'throught', 'throw', 'throwback', 'throwin', 'throwing', 'thrown', 'throws', 'thru', 'thruoghout', 'thta', 'thugs', 'thumb', 'thumbs', 'thumbsdown', 'thumbsup', 'thumping', 'thunder', 'thunderstorm', 'thunk', 'thur', 'thursday', 'thursdays', 'thus', 'thyme', 'ti', 'tiara', 'ticked', 'ticket', 'ticketThe', 'ticketing', 'tickets', 'tickled', 'tidbits', 'tide', 'tidy', 'tie', 'tied', 'tiered', 'tiers', 'ties', 'tiger', 'tigers', 'tight', 'tighter', 'tika', 'tike', 'tiki', 'tikka', 'tikki', 'til', 'tilapia', 'tile', 'till', 'time', 'timeArrowhead', 'timeI', 'timebut', 'timed', 'timeespecially', 'timefor', 'timefresh', 'timeits', 'timeless', 'timely', 'timer', 'timers', 'times', 'timesaving', 'timesavoid', 'timeshare', 'timesnot', 'timetotime', 'timeyikes', 'timid', 'timing', 'tin', 'tines', 'tinga', 'tingling', 'tini', 'tiniest', 'tinkering', 'tinkled', 'tins', 'tint', 'tinted', 'tiny', 'tip', 'tipHappy', 'tipif', 'tipoff', 'tipped', 'tipping', 'tips', 'tipsy', 'tipwith', 'tiramisu', 'tire', 'tired', 'tirelessly', 'tires', 'tiring', 'tissue', 'tissuemedical', 'title', 'titles', 'tix', 'toadd', 'toast', 'toasted', 'toastednow', 'toaster', 'toasts', 'toasty', 'tobasco', 'toby', 'today', 'todays', 'toddler', 'toddlers', 'toddy', 'todiefor', 'todip', 'todo', 'toe', 'toenails', 'toes', 'toffee', 'tofu', 'together', 'togetherbut', 'togetherdouble', 'togetherness', 'togo', 'toilet', 'toilets', 'toiletwatercloset', 'tokens', 'tokyo', 'told', 'tolerable', 'tolerance', 'tolerate', 'toliet', 'tom', 'tomatillo', 'tomato', 'tomatobased', 'tomatochanterelle', 'tomatoes', 'tomatomozzarella', 'tomatos', 'tomb', 'tomorrow', 'tomorrows', 'ton', 'tone', 'toned', 'toners', 'tones', 'tongs', 'tongue', 'tongued', 'tonguesounds', 'tonic', 'tonight', 'tonights', 'tono', 'tonofbricks', 'tons', 'tooDidnt', 'tooThey', 'tooagain', 'toodisgustingly', 'tooexposed', 'toof', 'toohe', 'toojust', 'took', 'tool', 'tools', 'tooooo', 'tooth', 'toothbrush', 'toothless', 'tootin', 'tootsie', 'tootzi', 'top', 'topat', 'topic', 'topics', 'topings', 'topless', 'topnotch', 'topped', 'topping', 'toppings', 'topple', 'topquality', 'tops', 'topslarge', 'torch', 'torched', 'tore', 'torment', 'torn', 'toro', 'tort', 'torta', 'tortalini', 'tortas', 'tortellini', 'tortilla', 'tortillas', 'torture', 'torturousattimes', 'toss', 'tossed', 'tossedWonder', 'tosses', 'tossing', 'tostada', 'tostadas', 'tot', 'total', 'totaled', 'totally', 'toting', 'tots', 'touch', 'touched', 'touchedI', 'touches', 'touching', 'touchup', 'tough', 'tougher', 'tounge', 'tour', 'tourYou', 'tourism', 'tourist', 'tourists', 'tournaments', 'tourney', 'tours', 'touted', 'touting', 'tow', 'toward', 'towards', 'towel', 'towelcomes', 'towels', 'tower', 'towers', 'towing', 'town', 'towne', 'towners', 'townhomes', 'townin', 'townso', 'townthat', 'toxin', 'toying', 'toys', 'toyshopping', 'traces', 'track', 'tracking', 'tracks', 'tract', 'traction', 'tractor', 'trade', 'traded', 'trademark', 'tradeoff', 'trader', 'trading', 'tradition', 'traditional', 'traditionalbut', 'traditionally', 'traffic', 'tragically', 'tragus', 'trail', 'trailhead', 'trailings', 'trails', 'train', 'trained', 'trainer', 'trainerbut', 'trainers', 'training', 'trains', 'traipse', 'tranquil', 'tranquility', 'transacting', 'transaction', 'transactionso', 'transcendent', 'transcripts', 'transfer', 'transfered', 'transferred', 'transferring', 'transfers', 'transform', 'transformation', 'transformed', 'transforms', 'transgendered', 'transients', 'transit', 'transition', 'transitioned', 'transitioning', 'translated', 'translates', 'translation', 'translations', 'transmission', 'transparency', 'transparent', 'transplant', 'transplanted', 'transplanting', 'transport', 'transported', 'transporting', 'trap', 'trapped', 'traps', 'trash', 'trashed', 'trashy', 'trauma', 'traumatized', 'travel', 'travelairfare', 'traveled', 'traveler', 'travelers', 'traveling', 'travelling', 'travels', 'travelsized', 'travelzoo', 'traverse', 'travesty', 'tray', 'trayHoly', 'trays', 'treacherous', 'treachery', 'tread', 'treadmill', 'treadmillbut', 'treasure', 'treasures', 'treat', 'treat9', 'treatI', 'treated', 'treating', 'treatment', 'treatments', 'treats', 'treatyou', 'tree', 'treelined', 'trees', 'treesmessy', 'trek', 'trekking', 'treks', 'tremendous', 'trend', 'trendier', 'trendy', 'trendyIndie', 'trepidation', 'trepidations', 'tres', 'treslemme', 'trex', 'triangles', 'triangular', 'triathlons', 'tribute', 'trick', 'tricked', 'trickiest', 'tricks', 'tricky', 'tricycles', 'tried', 'triedit', 'tries', 'trifecta', 'trifled', 'trigger', 'trike', 'trim', 'trimmed', 'trimmers', 'trinkets', 'trio', 'trip', 'tripe', 'tripgreat', 'triple', 'trippin', 'trips', 'triscuits', 'trite', 'tritip', 'trivia', 'trophies', 'trophy', 'tropical', 'tropicaldesert', 'trot', 'trotted', 'trouble', 'troubled', 'trough', 'trousers', 'trout', 'troutjust', 'truants', 'truck', 'trucks', 'trucksoda', 'truckwe', 'true', 'truely', 'truetostyle', 'truffle', 'truffled', 'truffles', 'trufflesI', 'truly', 'trumps', 'trust', 'trusted', 'trustworthy', 'trusty', 'truth', 'truthfully', 'try', 'tryand', 'trying', 'trys', 'tshirt', 'tshirtandjeanswearing', 'tshirts', 'tske', 'tsos', 'tub', 'tube', 'tubes', 'tubokay', 'tubs', 'tuck', 'tucked', 'tucson', 'tuesdays', 'tumbled', 'tumbling', 'tumeric', 'tummy', 'tummys', 'tumor', 'tuna', 'tune', 'tuned', 'tunes', 'tuneup', 'tunnel', 'turbo', 'turbulence', 'turd', 'tureen', 'turkey', 'turn', 'turned', 'turning', 'turnover', 'turns', 'turntable', 'tuscana', 'tush', 'tutelage', 'tutorial', 'tutoring', 'tv', 'tvThe', 'tvs', 'tvsalso', 'twas', 'tweak', 'tweaker', 'tweek', 'tweeples', 'tweet', 'tweeted', 'tweeter', 'tweets', 'tweeze', 'twelve', 'twenties', 'twenty', 'twentysomethings', 'twice', 'twicefailed', 'twig', 'twin', 'twinkling', 'twinkly', 'twist', 'twisted', 'twisting', 'twisty', 'twitter', 'twix', 'two', 'twoactor', 'twopiece', 'twopound', 'twostory', 'twothree', 'twotop', 'twotops', 'twoyear', 'twozels', 'twss', 'tying', 'type', 'typebut', 'typed', 'types', 'typical', 'typically', 'typing', 'tzatziki', 'u', 'uber', 'ubersalty', 'ubiquitous', 'udon', 'ufc', 'ugh', 'ugly', 'uh', 'uhh', 'uhhh', 'uhmazin', 'ultimate', 'ultimately', 'ultra', 'ultracool', 'ultrasound', 'ultrasounds', 'ultratender', 'um', 'umbrella', 'umbrellaed', 'umbrellas', 'umm', 'ummyeah', 'umph', 'umpteen', 'umthere', 'un', 'unable', 'unacceptable', 'unadulterated', 'unairconditioned', 'unanimous', 'unannounced', 'unanswered', 'unapologetic', 'unapologetically', 'unappealing', 'unappetizing', 'unassuming', 'unaware', 'unbearable', 'unbeatable', 'unbelievable', 'unbelievableI', 'unbelievably', 'unborn', 'unbridled', 'uncaffeinated', 'uncanny', 'uncaring', 'uncle', 'unclear', 'uncleared', 'uncles', 'uncluttered', 'uncomfortable', 'uncomfortableysweaty', 'uncomfotable', 'uncommon', 'uncomplicated', 'uncooked', 'uncool', 'uncooperative', 'uncountable', 'uncouth', 'uncrisp', 'uncrowded', 'uncrumbled', 'uncut', 'undecided', 'under21', 'underage', 'underaged', 'underappreciated', 'underarm', 'underarms', 'undercoat', 'undercooked', 'undercooking', 'underdone', 'undergrads', 'underground', 'underhanded', 'underneath', 'underrated', 'undersalted', 'underseason', 'underserved', 'understaffed', 'understand', 'understandable', 'understanding', 'understands', 'understated', 'understatement', 'understood', 'underwear', 'underwhelmed', 'underwhelming', 'undeserving', 'undeterred', 'undies', 'undoubtedly', 'undress', 'undrinkable', 'uneasy', 'uneaten', 'unedible', 'uneducated', 'unemployed', 'unemployment', 'unending', 'unenjoyably', 'unentertaining', 'unethical', 'uneventful', 'unexceptional', 'unexpected', 'unexpectedly', 'unfamiliar', 'unfavorable', 'unfazed', 'unfine', 'unfinished', 'unflattering', 'unflavored', 'unflexible', 'unfocused', 'unforgettable', 'unforgivable', 'unfortunate', 'unfortunately', 'unfounded', 'unfriendliness', 'unfriendly', 'unfulfilled', 'ungreasy', 'unhappy', 'unhealth', 'unhealthily', 'unhealthy', 'unheard', 'unhelpful', 'uni', 'unidentifiable', 'unidientifiable', 'uniform', 'uniformly', 'uniforms', 'uniformssomething', 'unimaginable', 'unimpressed', 'uninspired', 'unintended', 'uninteresting', 'uninterrupted', 'uninterupted', 'uninviting', 'union', 'unique', 'uniquefun', 'uniquely', 'uniquelyArizonan', 'uniqueness', 'unisex', 'unisexno', 'unison', 'unit', 'unite', 'units', 'universities', 'university', 'unkept', 'unknowingly', 'unknown', 'unleashing', 'unless', 'unlike', 'unlikely', 'unlimited', 'unlock', 'unlocked', 'unlucky', 'unmanipulated', 'unmarked', 'unmatched', 'unmentionable', 'unmistakably', 'unneccesary', 'unnecessary', 'unneutered', 'unnoticed', 'uno', 'unobstructed', 'unoccupied', 'unorganized', 'unoriginal', 'unoticed', 'unpalatable', 'unparalleled', 'unparalleledbaklava', 'unphoghetable', 'unpleasant', 'unplesant', 'unpretentious', 'unpretentiously', 'unprocessed', 'unprofessional', 'unprofessionally', 'unreal', 'unreasonable', 'unrefined', 'unrelated', 'unrivaled', 'unsanitary', 'unsatisfactory', 'unsatisfied', 'unseasoned', 'unseen', 'unselfishly', 'unsettling', 'unsolicited', 'unspectacular', 'unstopable', 'unstoppable', 'unstressed', 'unsuccessful', 'unsuccessfully', 'unsure', 'unsuspecting', 'unsweetened', 'unthinkable', 'untill', 'untraditional', 'untrained', 'untried', 'unusable', 'unused', 'unusual', 'unusually', 'unvalidated', 'unwanted', 'unwarmed', 'unwelcome', 'unwelcoming', 'unwilling', 'unwind', 'unyielding', 'upandcoming', 'upbeat', 'upbringings', 'upcharge', 'upcharged', 'upcharging', 'upchuck', 'upcoming', 'update', 'updated', 'updates', 'updatethe', 'updating', 'upfront', 'upgrade', 'upgraded', 'upgrades', 'uphill', 'upholstery', 'upload', 'uploaded', 'upo', 'upon', 'upped', 'upper', 'upperclasscomfortable', 'uppers', 'upping', 'uprooted', 'ups', 'upsale', 'upscale', 'upsell', 'upset', 'upsetI', 'upsets', 'upsetting', 'upside', 'upsidedown', 'upstaged', 'upstairs', 'upstairswell', 'uptight', 'upto', 'uptodate', 'uptown', 'ur', 'urban', 'urbanspooncom', 'urchin', 'urge', 'urgebut', 'urgent', 'urging', 'urinal', 'urinates', 'urine', 'us', 'usage', 'use', 'used', 'useful', 'useless', 'uselessif', 'user', 'userfriendly', 'uses', 'ushaped', 'using', 'usual', 'usually', 'usuals', 'usualthen', 'usunfortunately', 'ususally', 'utensil', 'utensils', 'uterus', 'utility', 'utilize', 'utilized', 'utilizing', 'utmost', 'utter', 'uttered', 'utterly', 'utterlyhappy', 'uturns', 'uv', 'vacant', 'vacation', 'vacationing', 'vacations', 'vacay', 'vaccilate', 'vaccination', 'vaccines', 'vacuum', 'vacuumed', 'vaguely', 'vain', 'valencia', 'valet', 'valeted', 'valets', 'valid', 'validated', 'validates', 'validation', 'valley', 'valleys', 'valuable', 'value', 'valueadded', 'valued', 'valueif', 'values', 'vampire', 'vampiro', 'vampiros', 'van', 'vandalized', 'vanilla', 'vanity', 'vantage', 'vaporized', 'variance', 'variation', 'variations', 'varied', 'varies', 'varietals', 'varieties', 'variety', 'varietyallnatural', 'various', 'vary', 'vase', 'vases', 'vast', 'vat', 'vault', 'vaultoftheheavens', 'veal', 'vealstuffed', 'veer', 'veerrrrrryyyyyyyyy', 'veg', 'vegan', 'veganized', 'veganvegetarian', 'vegas', 'vegetable', 'vegetables', 'vegetablesand', 'vegetarian', 'vegetarians', 'vegetarianthey', 'vegetariantofu', 'vegetarianvegan', 'veggie', 'veggies', 'veggiesmeatfruits', 'vegie', 'vegiies', 'vegtable', 'vehicle', 'vehicles', 'veiled', 'vein', 'veins', 'velvet', 'velvety', 'velvetyou', 'vender', 'vendor', 'vendors', 'vendorsput', 'venerable', 'vengence', 'venom', 'vent', 'ventilation', 'vents', 'venture', 'ventured', 'ventures', 'venturing', 'venue', 'venues', 'venueweve', 'vera', 'verbal', 'verbally', 'verde', 'verdes', 'verdict', 'verge', 'verges', 'verify', 'verisimilitude', 'veritable', 'verizon', 'vermicelli', 'versatile', 'versed', 'version', 'versions', 'versus', 'vestibule', 'vests', 'vet', 'veteran', 'veterans', 'veterinary', 'vets', 'vey', 'via', 'vibe', 'vibeif', 'vibrant', 'vibrate', 'vibrated', 'vice', 'vices', 'vicinity', 'vicious', 'vics', 'vide', 'video', 'videogamegod', 'videos', 'vids', 'vieja', 'vietnamese', 'view', 'viewers', 'viewing', 'viewpoint', 'views', 'vile', 'villa', 'village', 'villas', 'vin', 'vinagerette', 'vinaigrette', 'vinaigretteIt', 'vindaloo', 'vine', 'vinegar', 'vinegarbased', 'vinegarette', 'vinegary', 'vines', 'vineyard', 'vingerette', 'vino', 'vintage', 'vintagelooking', 'violated', 'violation', 'violations', 'violence', 'violently', 'virgin', 'virginia', 'virtually', 'virus', 'viscous', 'visi', 'visibility', 'visible', 'visibly', 'vision', 'visions', 'visit', 'visited', 'visiting', 'visitor', 'visitors', 'visits', 'visual', 'visualize', 'visually', 'visuals', 'vitamins', 'vittles', 'vivant', 'vivid', 'vochos', 'vodka', 'vodkas', 'voice', 'voiced', 'void', 'voided', 'voila', 'volcano', 'volleyball', 'volume', 'volumes', 'volunteer', 'volunteered', 'volunteering', 'volunteers', 'vomit', 'von', 'voodoo', 'voracious', 'vortex', 'vote', 'voted', 'votegetting', 'voting', 'vouch', 'voucher', 'vouchers', 'vow', 'vowed', 'vs', 'vueve', 'vulgar', 'vulture', 'vultures', 'vw', 'w', 'w2', 'w5', 'waaaaaaaaay', 'waaaaay', 'waayy', 'wach', 'wacko', 'wacky', 'wad', 'wade', 'waders', 'waffle', 'waffles', 'wafflesa', 'waffling', 'wafts', 'wag', 'wager', 'wagged', 'wagyu', 'waist', 'waistband', 'waisting', 'wait', 'waitI', 'waitIf', 'waited', 'waiter', 'waiterbartender', 'waiterhostessmanagerbartender', 'waitermaybe', 'waiters', 'waiting', 'waitingthe', 'waitless', 'waitors', 'waitress', 'waitressbartender', 'waitresses', 'waitresswaiter', 'waits', 'waitstaff', 'waitstand', 'waive', 'waived', 'wake', 'waking', 'walet', 'walk', 'walkable', 'walked', 'walkin', 'walking', 'walkins', 'walks', 'walkway', 'walkways', 'wall', 'wallet', 'wallets', 'wallmounted', 'wallnuts', 'wallowing', 'wallpaper', 'wallpapers', 'walls', 'walmart', 'walnut', 'walnuts', 'waltzed', 'wand', 'wander', 'wandered', 'wandering', 'wanna', 'wannabe', 'wannabes', 'want', 'wanted', 'wantevery', 'wanting', 'wantons', 'wants', 'war', 'ward', 'warden', 'wardrobe', 'wards', 'ware', 'warehouse', 'warehoused', 'wares', 'wargaming', 'warm', 'warmed', 'warmer', 'warmers', 'warming', 'warmly', 'warmth', 'warn', 'warned', 'warning', 'warnings', 'warp', 'warrant', 'warrants', 'warranty', 'warriors', 'wary', 'wasabe', 'wasabi', 'wash', 'washcloths', 'washdry', 'washed', 'washedit', 'washers', 'washes', 'washing', 'washingtons', 'wasit', 'wasnt', 'wasp', 'waste', 'wastebaskets', 'wasted', 'wasting', 'waswe', 'wasy', 'watch', 'watched', 'watcher', 'watchers', 'watches', 'watching', 'watchingScottsdale', 'watchingarent', 'water', 'watera', 'wateranother', 'watered', 'waterfall', 'waterfalls', 'watering', 'watermelon', 'waterproof', 'waters', 'waterslides', 'waterworks', 'watery', 'wave', 'waved', 'waving', 'wax', 'waxed', 'waxedwhat', 'waxing', 'way', 'wayGreat', 'wayeverydayyeeeaaaahhh', 'wayhes', 'ways', 'wayward', 'wayyyy', 'wayyyyyyy', 'wazoooo', 'wbacon', 'wcomfy', 'weI', 'weak', 'weakness', 'weaknessToffee', 'wealthier', 'weapon', 'wear', 'wearers', 'wearing', 'wears', 'weary', 'weather', 'weaving', 'web', 'website', 'websites', 'wed', 'wedding', 'weddings', 'weddingsreceptions', 'wedge', 'wedges', 'wee', 'weeds', 'week', 'weekShe', 'weekday', 'weekdays', 'weekend', 'weekendactually', 'weekendit', 'weekends', 'weekendsI', 'weekgreat', 'weeklong', 'weekly', 'weeknight', 'weeknights', 'weeks', 'weigh', 'weighs', 'weight', 'weightedbase', 'weights', 'weird', 'weirded', 'weirdest', 'weirdly', 'weirdo', 'welcome', 'welcomeand', 'welcomed', 'welcomes', 'welcoming', 'well', 'wellYes', 'wellalso', 'wellbehaved', 'wellchilled', 'welldecorated', 'welldone', 'wellestablished', 'wellhard', 'wellintentioned', 'wellkept', 'wellknown', 'welllit', 'wellloved', 'wellmade', 'wellmaintained', 'wellmarinated', 'wellness', 'wellnot', 'wellof', 'wellorganized', 'wellpriced', 'wellqualified', 'wellrespected', 'wellreviewed', 'wells', 'wellseasoned', 'wellstocked', 'wellsuited', 'wellversed', 'wellwritten', 'wendys', 'went', 'wentmy', 'wentsome', 'werent', 'wernet', 'west', 'western', 'westgate', 'westside', 'wet', 'wetall', 'weve', 'wfireplace', 'wfor', 'wginger', 'wguacamole', 'wha', 'whack', 'whacked', 'whales', 'whatever', 'whatnot', 'whats', 'whatsleftoflastseasonscollection', 'whatsoever', 'whatsosever', 'whatsover', 'wheat', 'wheatfree', 'wheel', 'wheeling', 'wheels', 'wheezed', 'whenever', 'whenwhere', 'whereas', 'wheres', 'whereupon', 'wherever', 'whether', 'whiff', 'whileas', 'whilst', 'whim', 'whimI', 'whimper', 'whimsical', 'whined', 'whines', 'whinin', 'whining', 'whinnying', 'whip', 'whipMmmmfood', 'whipped', 'whips', 'whirl', 'whirlpool', 'whirlpools', 'whisked', 'whiskey', 'whiskeys8', 'whisper', 'whispered', 'whispers', 'whistle', 'whistlinggotta', 'white', 'whiteboard', 'whitedark', 'whiten', 'whites', 'whitesands', 'whitetrash', 'whiz', 'whod', 'whoever', 'whole', 'wholeheartedly', 'wholesome', 'wholly', 'whoop', 'whooping', 'whopper', 'whopping', 'whore', 'whoreish', 'whorestyle', 'whoring', 'whos', 'whose', 'whys', 'whysee', 'wich', 'wicked', 'wicker', 'wide', 'widening', 'wider', 'widerice', 'widow', 'width', 'wiener', 'wierd', 'wife', 'wifeLOLsince', 'wifes', 'wifi', 'wig', 'wiggle', 'wigs', 'wih', 'wii', 'wil', 'wild', 'wildcat', 'wilderness', 'wildest', 'wildfish', 'wildflowers', 'wildlife', 'wildly', 'willfully', 'willing', 'willingfully', 'willpower', 'willy', 'wilma', 'wilted', 'wimp', 'wimper', 'win', 'wind', 'windex', 'winding', 'window', 'windowCan', 'windowpanes', 'windows', 'winds', 'windshield', 'windshields', 'windy', 'wine', 'winebeer', 'wines', 'wineyou', 'wing', 'wings', 'wining', 'wink', 'winkie', 'winking', 'winky', 'winner', 'winners', 'winning', 'winningsorry', 'wino', 'winos', 'wins', 'winter', 'winters', 'wipe', 'wiped', 'wiper', 'wipes', 'wiping', 'wire', 'wired', 'wireless', 'wires', 'wiring', 'wisdom', 'wise', 'wisely', 'wiser', 'wish', 'wished', 'wishes', 'wishful', 'wishing', 'witches', 'withbut', 'withdrawal', 'withdrawn', 'withe', 'withheld', 'withhis', 'within', 'without', 'withstand', 'withstanding', 'witness', 'witnessed', 'witnesses', 'witty', 'wives', 'wiz', 'wks', 'wll', 'wmushroom', 'wo', 'wobblesee', 'wobbly', 'woefilled', 'woes', 'wok', 'woke', 'woken', 'wolfed', 'woman', 'women', 'womens', 'wonder', 'wondered', 'wonderful', 'wonderfulThe', 'wonderfuland', 'wonderfully', 'wonderfulness', 'wonderfulthe', 'wondering', 'wonderous', 'wonders', 'wondrous', 'wont', 'wonton', 'wontons', 'woo', 'wood', 'woodcarving', 'wooden', 'woodfired', 'woodpaneled', 'woods', 'woodworker', 'wooed', 'wool', 'word', 'wordexcellent', 'wordis', 'wordly', 'words', 'wordsit', 'wore', 'work', 'workappropriate', 'worked', 'worker', 'workers', 'working', 'workmanship', 'workout', 'workouts', 'works', 'workschool', 'workshops', 'workstudyread', 'world', 'worldTyson', 'worldand', 'worldlolI', 'worlds', 'worldwide', 'worm', 'worn', 'worried', 'worries', 'worrisome', 'worry', 'worrying', 'worse', 'worship', 'worst', 'worstershire', 'worth', 'worthless', 'worthwhile', 'worthy', 'woudnt', 'would', 'woulda', 'wouldnt', 'wouldve', 'wound', 'wounds', 'wow', 'wowd', 'wowed', 'wowner', 'wowzer', 'wrap', 'wrapped', 'wrapper', 'wrappers', 'wrapping', 'wraps', 'wrath', 'wreck', 'wrestling', 'wrice', 'wrinkled', 'wrinkles', 'wrinkling', 'wrist', 'wristbands', 'write', 'writer', 'writers', 'writes', 'writing', 'written', 'wrkout', 'wrong', 'wrongthings', 'wrote', 'wtf', 'wth', 'wthe', 'wthin', 'wthis', 'wtih', 'wussies', 'wussy', 'wwwaddictionovercomecom', 'wwwdogparkriotcom', 'wwwphoenixrodandgun', 'x', 'x2', 'xeriscape', 'xrays', 'xylophone', 'xèo', 'ya', 'yaaaaay', 'yack', 'yah', 'yaki', 'yakisoba', 'yakitoriThe', 'yall', 'yam', 'yankin', 'yard', 'yards', 'yardsale', 'yawning', 'yay', 'yds', 'yea', 'yeah', 'yeahplease', 'year', 'yearly', 'yearning', 'yearnings', 'years', 'yearshow', 'yearsif', 'yearsso', 'yearssuper', 'yearsthe', 'yearsuntil', 'yearthough', 'yeast', 'yeh', 'yell', 'yelled', 'yelling', 'yellow', 'yellowfin', 'yellowish', 'yellowtail', 'yells', 'yelp', 'yelpcom', 'yelped', 'yelper', 'yelpers', 'yelping', 'yelps', 'yen', 'yep', 'yeppie', 'yer', 'yerba', 'yes', 'yesssss', 'yesterday', 'yet', 'yetD', 'yetthe', 'yettobeadded', 'yielding', 'yikes', 'yo', 'yodels', 'yoga', 'yogurt', 'yogurtcucumbermint', 'yogurtland', 'yogurts', 'yolk', 'york', 'yorker', 'youFeed', 'youd', 'youll', 'young', 'younger', 'youngest', 'youngggg', 'younight', 'youre', 'yourselfdoes', 'youth', 'youthful', 'youve', 'youwhen', 'yow', 'yr', 'yrs', 'yu', 'yuck', 'yucky', 'yuk', 'yukon', 'yum', 'yuma', 'yumgasms', 'yumm', 'yummie', 'yummier', 'yumminess', 'yummm', 'yummmm', 'yummmmmmers', 'yummo', 'yummy', 'yummyalthough', 'yummydont', 'yummythat', 'yummywe', 'yumness', 'yup', 'yuppies', 'yur', 'yuuuuummmmmyyy', 'yuyuyummy', 'yuzu', 'zen', 'zenRoad', 'zenlike', 'zero', 'zerostar', 'zest', 'zhou', 'zichini', 'zilch', 'zillion', 'zin', 'zinc', 'zing', 'zip', 'ziploc', 'zipper', 'ziti', 'zone', 'zones', 'zoning', 'zoo', 'zoom', 'zucchini', 'zuccini', 'zuchinni', 'zupa', 'zwiebelkräuter', 'École', 'éclairs', 'ém']\n"
     ]
    },
    {
     "name": "stderr",
     "output_type": "stream",
     "text": [
      "C:\\Users\\Ramachandra\\anaconda3\\lib\\site-packages\\sklearn\\utils\\deprecation.py:87: FutureWarning: Function get_feature_names is deprecated; get_feature_names is deprecated in 1.0 and will be removed in 1.2. Please use get_feature_names_out instead.\n",
      "  warnings.warn(msg, category=FutureWarning)\n"
     ]
    }
   ],
   "source": [
    "print(vectorizer.get_feature_names())"
   ]
  },
  {
   "cell_type": "code",
   "execution_count": 93,
   "id": "55d42812",
   "metadata": {},
   "outputs": [
    {
     "name": "stdout",
     "output_type": "stream",
     "text": [
      "[[0 0 0 ... 0 0 0]\n",
      " [0 0 0 ... 0 0 0]\n",
      " [0 0 0 ... 0 0 0]\n",
      " ...\n",
      " [0 0 0 ... 0 0 0]\n",
      " [0 0 0 ... 0 0 0]\n",
      " [0 0 0 ... 0 0 0]]\n"
     ]
    }
   ],
   "source": [
    "print(yelp_countvectorizer.toarray())"
   ]
  },
  {
   "cell_type": "code",
   "execution_count": 94,
   "id": "fb91de24",
   "metadata": {},
   "outputs": [
    {
     "data": {
      "text/plain": [
       "(4086, 26435)"
      ]
     },
     "execution_count": 94,
     "metadata": {},
     "output_type": "execute_result"
    }
   ],
   "source": [
    "yelp_countvectorizer.shape"
   ]
  },
  {
   "cell_type": "markdown",
   "id": "05cb8b60",
   "metadata": {},
   "source": [
    "# Training the model"
   ]
  },
  {
   "cell_type": "code",
   "execution_count": 97,
   "id": "4509a527",
   "metadata": {},
   "outputs": [],
   "source": [
    "from sklearn.naive_bayes import MultinomialNB\n",
    "NB_classifier=MultinomialNB()\n",
    "label=yelp_df_1_5['stars'].values"
   ]
  },
  {
   "cell_type": "code",
   "execution_count": 96,
   "id": "e2d4424a",
   "metadata": {},
   "outputs": [
    {
     "data": {
      "text/plain": [
       "array([5, 5, 5, ..., 1, 1, 1], dtype=int64)"
      ]
     },
     "execution_count": 96,
     "metadata": {},
     "output_type": "execute_result"
    }
   ],
   "source": [
    "yelp_df_1_5['stars'].values"
   ]
  },
  {
   "cell_type": "code",
   "execution_count": 98,
   "id": "41d1e1ee",
   "metadata": {},
   "outputs": [
    {
     "data": {
      "text/plain": [
       "MultinomialNB()"
      ]
     },
     "execution_count": 98,
     "metadata": {},
     "output_type": "execute_result"
    }
   ],
   "source": [
    "NB_classifier.fit(yelp_countvectorizer,label)"
   ]
  },
  {
   "cell_type": "code",
   "execution_count": null,
   "id": "a0ae9d15",
   "metadata": {},
   "outputs": [],
   "source": [
    "# testing the model"
   ]
  },
  {
   "cell_type": "code",
   "execution_count": 99,
   "id": "f5209bc9",
   "metadata": {},
   "outputs": [
    {
     "data": {
      "text/plain": [
       "array([5], dtype=int64)"
      ]
     },
     "execution_count": 99,
     "metadata": {},
     "output_type": "execute_result"
    }
   ],
   "source": [
    "testing_sample = ['amazing food! highly recommmended']\n",
    "testing_sample_countvectorizer=vectorizer.transform(testing_sample)\n",
    "test_predict=NB_classifier.predict(testing_sample_countvectorizer)\n",
    "\n",
    "test_predict"
   ]
  },
  {
   "cell_type": "code",
   "execution_count": 100,
   "id": "f1975ef3",
   "metadata": {},
   "outputs": [
    {
     "data": {
      "text/plain": [
       "array([1], dtype=int64)"
      ]
     },
     "execution_count": 100,
     "metadata": {},
     "output_type": "execute_result"
    }
   ],
   "source": [
    "testing_sample = ['shit food, made me sick']\n",
    "testing_sample_countvectorizer=vectorizer.transform(testing_sample)\n",
    "test_predict=NB_classifier.predict(testing_sample_countvectorizer)\n",
    "\n",
    "test_predict"
   ]
  },
  {
   "cell_type": "markdown",
   "id": "5ecafbce",
   "metadata": {},
   "source": [
    "# Divide the data into training and testing "
   ]
  },
  {
   "cell_type": "code",
   "execution_count": 104,
   "id": "4c587d15",
   "metadata": {},
   "outputs": [
    {
     "name": "stdout",
     "output_type": "stream",
     "text": [
      "(4086, 26435)\n",
      "(4086,)\n"
     ]
    }
   ],
   "source": [
    "X=yelp_countvectorizer\n",
    "y=label\n",
    "print(X.shape)\n",
    "print(y.shape)"
   ]
  },
  {
   "cell_type": "code",
   "execution_count": 105,
   "id": "e41dcf6c",
   "metadata": {},
   "outputs": [],
   "source": [
    "from sklearn.model_selection import train_test_split\n",
    "X_train,X_test,y_train,y_test=train_test_split(X,y,test_size=0.2)"
   ]
  },
  {
   "cell_type": "code",
   "execution_count": 107,
   "id": "a1dd9f93",
   "metadata": {},
   "outputs": [
    {
     "data": {
      "text/plain": [
       "MultinomialNB()"
      ]
     },
     "execution_count": 107,
     "metadata": {},
     "output_type": "execute_result"
    }
   ],
   "source": [
    "from sklearn.naive_bayes import MultinomialNB\n",
    "NB_classifier=MultinomialNB()\n",
    "NB_classifier.fit(X_train,y_train)"
   ]
  },
  {
   "cell_type": "markdown",
   "id": "40ea4855",
   "metadata": {},
   "source": [
    "# Evaluation of the model"
   ]
  },
  {
   "cell_type": "code",
   "execution_count": 108,
   "id": "df61bbd5",
   "metadata": {},
   "outputs": [
    {
     "data": {
      "text/plain": [
       "array([5, 5, 5, ..., 5, 5, 5], dtype=int64)"
      ]
     },
     "execution_count": 108,
     "metadata": {},
     "output_type": "execute_result"
    }
   ],
   "source": [
    "from sklearn.metrics import classification_report,confusion_matrix\n",
    "y_predict_train=NB_classifier.predict(X_train)\n",
    "y_predict_train"
   ]
  },
  {
   "cell_type": "code",
   "execution_count": 109,
   "id": "ae36a031",
   "metadata": {},
   "outputs": [],
   "source": [
    "cm=confusion_matrix(y_train,y_predict_train)"
   ]
  },
  {
   "cell_type": "code",
   "execution_count": 111,
   "id": "73b4cf0f",
   "metadata": {},
   "outputs": [
    {
     "data": {
      "text/plain": [
       "<AxesSubplot:>"
      ]
     },
     "execution_count": 111,
     "metadata": {},
     "output_type": "execute_result"
    },
    {
     "data": {
      "image/png": "[encoded data removed]",
      "text/plain": [
       "<Figure size 640x480 with 2 Axes>"
      ]
     },
     "metadata": {},
     "output_type": "display_data"
    }
   ],
   "source": [
    "sns.heatmap(cm,annot=True)"
   ]
  },
  {
   "cell_type": "code",
   "execution_count": 112,
   "id": "00d61f81",
   "metadata": {},
   "outputs": [
    {
     "data": {
      "text/plain": [
       "array([5, 5, 5, 5, 1, 5, 5, 1, 5, 5, 5, 5, 5, 5, 5, 5, 5, 5, 5, 5, 5, 5,\n",
       "       5, 5, 1, 5, 5, 5, 5, 5, 1, 5, 5, 5, 5, 5, 1, 5, 5, 5, 5, 1, 5, 5,\n",
       "       1, 5, 5, 5, 5, 5, 5, 5, 5, 5, 5, 1, 5, 5, 1, 5, 5, 5, 5, 5, 5, 1,\n",
       "       5, 1, 5, 5, 1, 5, 5, 5, 5, 5, 5, 5, 5, 5, 5, 5, 5, 5, 5, 5, 5, 5,\n",
       "       5, 5, 5, 1, 5, 5, 5, 5, 1, 5, 5, 5, 5, 5, 5, 5, 5, 5, 5, 5, 5, 5,\n",
       "       1, 5, 5, 1, 5, 5, 5, 5, 5, 5, 1, 5, 5, 1, 5, 1, 5, 5, 5, 5, 5, 5,\n",
       "       5, 5, 5, 5, 5, 5, 5, 5, 5, 5, 1, 5, 5, 1, 1, 5, 5, 5, 5, 5, 5, 5,\n",
       "       5, 1, 1, 5, 5, 1, 5, 5, 5, 5, 5, 1, 5, 5, 5, 5, 5, 5, 5, 5, 1, 5,\n",
       "       5, 5, 5, 5, 5, 5, 5, 5, 5, 5, 5, 5, 5, 5, 5, 5, 5, 5, 5, 5, 5, 5,\n",
       "       5, 5, 5, 5, 1, 5, 5, 5, 5, 5, 5, 5, 5, 5, 1, 5, 5, 5, 1, 5, 5, 5,\n",
       "       5, 5, 5, 5, 5, 5, 5, 1, 5, 5, 5, 5, 5, 5, 5, 5, 1, 5, 5, 5, 5, 5,\n",
       "       5, 5, 5, 5, 5, 5, 5, 5, 5, 5, 5, 5, 5, 5, 5, 5, 1, 5, 5, 5, 1, 5,\n",
       "       5, 5, 5, 5, 5, 5, 5, 5, 5, 5, 5, 1, 5, 5, 1, 5, 5, 5, 5, 5, 5, 5,\n",
       "       5, 5, 5, 1, 5, 5, 5, 1, 5, 1, 5, 5, 5, 1, 5, 5, 5, 1, 5, 5, 5, 5,\n",
       "       5, 5, 5, 1, 5, 5, 5, 1, 5, 5, 5, 5, 5, 5, 5, 5, 5, 1, 5, 5, 5, 5,\n",
       "       5, 5, 5, 5, 5, 5, 5, 5, 5, 5, 5, 5, 5, 1, 5, 5, 5, 5, 5, 5, 5, 5,\n",
       "       5, 5, 5, 1, 5, 5, 5, 1, 5, 5, 5, 1, 5, 5, 5, 5, 5, 5, 1, 5, 5, 5,\n",
       "       5, 1, 1, 5, 1, 5, 5, 5, 5, 5, 5, 1, 5, 5, 5, 1, 5, 1, 5, 5, 1, 5,\n",
       "       5, 5, 5, 5, 5, 5, 5, 5, 5, 5, 1, 1, 5, 5, 5, 5, 5, 5, 5, 1, 5, 5,\n",
       "       5, 5, 5, 5, 5, 5, 1, 5, 5, 5, 5, 5, 5, 5, 5, 5, 5, 5, 5, 5, 1, 5,\n",
       "       1, 5, 5, 5, 5, 1, 5, 5, 5, 5, 5, 5, 5, 5, 5, 5, 5, 5, 5, 5, 5, 1,\n",
       "       1, 5, 1, 5, 5, 5, 5, 5, 5, 1, 5, 5, 5, 5, 5, 5, 1, 1, 5, 5, 5, 5,\n",
       "       5, 5, 5, 1, 5, 5, 5, 5, 5, 1, 1, 5, 5, 5, 5, 5, 5, 5, 5, 1, 5, 5,\n",
       "       5, 5, 1, 5, 5, 5, 5, 5, 1, 5, 1, 5, 5, 5, 1, 5, 5, 5, 5, 1, 5, 5,\n",
       "       5, 5, 5, 5, 5, 5, 5, 5, 5, 5, 1, 5, 5, 5, 5, 5, 1, 5, 5, 5, 5, 1,\n",
       "       1, 5, 5, 5, 5, 1, 5, 1, 1, 5, 5, 5, 5, 5, 1, 1, 5, 5, 5, 5, 5, 5,\n",
       "       5, 5, 5, 5, 5, 5, 5, 5, 5, 5, 5, 5, 5, 1, 1, 5, 5, 5, 5, 5, 5, 5,\n",
       "       1, 5, 5, 5, 5, 5, 5, 5, 5, 5, 5, 5, 5, 1, 5, 5, 5, 1, 1, 5, 5, 5,\n",
       "       5, 5, 5, 5, 5, 5, 5, 5, 5, 5, 5, 5, 5, 1, 1, 5, 5, 1, 5, 5, 5, 5,\n",
       "       5, 5, 5, 1, 5, 1, 5, 5, 5, 5, 5, 5, 5, 5, 5, 5, 5, 5, 5, 5, 5, 5,\n",
       "       5, 5, 5, 5, 5, 5, 5, 5, 5, 5, 5, 5, 5, 5, 5, 5, 5, 5, 5, 5, 5, 1,\n",
       "       5, 5, 5, 5, 5, 5, 5, 5, 5, 5, 5, 1, 1, 5, 5, 5, 1, 5, 5, 5, 5, 5,\n",
       "       5, 5, 5, 5, 5, 5, 5, 5, 1, 5, 1, 5, 5, 1, 1, 5, 5, 1, 5, 5, 1, 5,\n",
       "       5, 5, 5, 5, 5, 5, 5, 5, 1, 5, 5, 5, 5, 5, 5, 5, 5, 5, 5, 5, 5, 5,\n",
       "       5, 5, 1, 1, 5, 5, 5, 5, 5, 5, 5, 5, 5, 1, 5, 1, 5, 5, 5, 5, 5, 1,\n",
       "       5, 5, 5, 5, 5, 5, 5, 5, 5, 5, 5, 5, 5, 5, 5, 5, 1, 5, 5, 1, 5, 5,\n",
       "       5, 5, 5, 5, 5, 5, 1, 5, 5, 5, 5, 5, 5, 5, 5, 5, 5, 5, 5, 5, 5, 5,\n",
       "       5, 5, 1, 5], dtype=int64)"
      ]
     },
     "execution_count": 112,
     "metadata": {},
     "output_type": "execute_result"
    }
   ],
   "source": [
    "y_predict_test=NB_classifier.predict(X_test)\n",
    "y_predict_test"
   ]
  },
  {
   "cell_type": "code",
   "execution_count": 113,
   "id": "4119f12e",
   "metadata": {},
   "outputs": [],
   "source": [
    "cm=confusion_matrix(y_test,y_predict_test)"
   ]
  },
  {
   "cell_type": "code",
   "execution_count": 114,
   "id": "1311301c",
   "metadata": {},
   "outputs": [
    {
     "data": {
      "text/plain": [
       "<AxesSubplot:>"
      ]
     },
     "execution_count": 114,
     "metadata": {},
     "output_type": "execute_result"
    },
    {
     "data": {
      "image/png": "[encoded data removed]",
      "text/plain": [
       "<Figure size 640x480 with 2 Axes>"
      ]
     },
     "metadata": {},
     "output_type": "display_data"
    }
   ],
   "source": [
    "sns.heatmap(cm,annot=True)"
   ]
  },
  {
   "cell_type": "code",
   "execution_count": 115,
   "id": "fa1d7975",
   "metadata": {},
   "outputs": [
    {
     "name": "stdout",
     "output_type": "stream",
     "text": [
      "              precision    recall  f1-score   support\n",
      "\n",
      "           1       0.83      0.69      0.75       143\n",
      "           5       0.94      0.97      0.95       675\n",
      "\n",
      "    accuracy                           0.92       818\n",
      "   macro avg       0.88      0.83      0.85       818\n",
      "weighted avg       0.92      0.92      0.92       818\n",
      "\n"
     ]
    }
   ],
   "source": [
    "print(classification_report(y_test,y_predict_test))"
   ]
  },
  {
   "cell_type": "markdown",
   "id": "0ebf3466",
   "metadata": {},
   "source": [
    "# Additional feature TF-IDF(Term Frequency-Inverse Document Frequency)"
   ]
  },
  {
   "cell_type": "markdown",
   "id": "7b27f969",
   "metadata": {},
   "source": [
    "- Tf–idf stands for \"Term Frequency–Inverse Document Frequency\" is a numerical statistic used to reflect how important a word is to a document in a collection or corpus of documents. \n",
    "- TFIDF is used as a weighting factor during text search processes and text mining.\n",
    "- The intuition behing the TFIDF is as follows: if a word appears several times in a given document, this word might be meaningful (more important) than other words that appeared fewer times in the same document. However, if a given word appeared several times in a given document but also appeared many times in other documents, there is a probability that this word might be common frequent word such as 'I' 'am'..etc. (not really important or meaningful!).\n",
    "\n",
    "\n",
    "- TF: Term Frequency is used to measure the frequency of term occurrence in a document: \n",
    "    - TF(word) = Number of times the 'word' appears in a document / Total number of terms in the document\n",
    "- IDF: Inverse Document Frequency is used to measure how important a term is: \n",
    "    - IDF(word) = log_e(Total number of documents / Number of documents with the term 'word' in it).\n",
    "\n",
    "- Example: Let's assume we have a document that contains 1000 words and the term “John” appeared 20 times, the Term-Frequency for the word 'John' can be calculated as follows:\n",
    "    - TF|john = 20/1000 = 0.02\n",
    "\n",
    "- Let's calculate the IDF (inverse document frequency) of the word 'john' assuming that it appears 50,000 times in a 1,000,000 million documents (corpus). \n",
    "    - IDF|john = log (1,000,000/50,000) = 1.3\n",
    "\n",
    "- Therefore the overall weight of the word 'john' is as follows \n",
    "    - TF-IDF|john = 0.02 * 1.3 = 0.026"
   ]
  },
  {
   "cell_type": "code",
   "execution_count": 116,
   "id": "14bea7a7",
   "metadata": {},
   "outputs": [
    {
     "data": {
      "text/plain": [
       "<4086x26435 sparse matrix of type '<class 'numpy.int64'>'\n",
       "\twith 222391 stored elements in Compressed Sparse Row format>"
      ]
     },
     "execution_count": 116,
     "metadata": {},
     "output_type": "execute_result"
    }
   ],
   "source": [
    "yelp_countvectorizer"
   ]
  },
  {
   "cell_type": "code",
   "execution_count": 117,
   "id": "d6b8bbdf",
   "metadata": {},
   "outputs": [
    {
     "name": "stdout",
     "output_type": "stream",
     "text": [
      "(4086, 26435)\n"
     ]
    }
   ],
   "source": [
    "from sklearn.feature_extraction.text import TfidfTransformer\n",
    "yelp_tfidf=TfidfTransformer().fit_transform(yelp_countvectorizer)\n",
    "print(yelp_tfidf.shape)"
   ]
  },
  {
   "cell_type": "code",
   "execution_count": 118,
   "id": "a15b3e48",
   "metadata": {},
   "outputs": [
    {
     "data": {
      "text/plain": [
       "<4086x26435 sparse matrix of type '<class 'numpy.float64'>'\n",
       "\twith 222391 stored elements in Compressed Sparse Row format>"
      ]
     },
     "execution_count": 118,
     "metadata": {},
     "output_type": "execute_result"
    }
   ],
   "source": [
    "yelp_tfidf"
   ]
  },
  {
   "cell_type": "code",
   "execution_count": 119,
   "id": "3a72f27f",
   "metadata": {},
   "outputs": [
    {
     "name": "stdout",
     "output_type": "stream",
     "text": [
      "  (0, 26058)\t0.10031413161789815\n",
      "  (0, 26021)\t0.10520464308908957\n",
      "  (0, 25879)\t0.12830163356761284\n",
      "  (0, 25735)\t0.1021836022265662\n",
      "  (0, 25722)\t0.07299599158195884\n",
      "  (0, 25524)\t0.1322567728509781\n",
      "  (0, 25431)\t0.09158473479883608\n",
      "  (0, 25014)\t0.14817891814298853\n",
      "  (0, 24748)\t0.0812066214257353\n",
      "  (0, 24678)\t0.11679060504446802\n",
      "  (0, 24255)\t0.08848929285925067\n",
      "  (0, 23966)\t0.07494526353541472\n",
      "  (0, 22836)\t0.15213405742635377\n",
      "  (0, 22805)\t0.10495671802414111\n",
      "  (0, 22760)\t0.11400048163562457\n",
      "  (0, 22391)\t0.1870479273139354\n",
      "  (0, 22250)\t0.15213405742635377\n",
      "  (0, 21075)\t0.21091086880648216\n",
      "  (0, 20707)\t0.1519147502295823\n",
      "  (0, 20381)\t0.1275903171515932\n",
      "  (0, 20298)\t0.041660913374109\n",
      "  (0, 20213)\t0.11636936448722564\n",
      "  (0, 20147)\t0.12830163356761284\n",
      "  (0, 20061)\t0.0820475486934585\n",
      "  (0, 19648)\t0.16321550345519448\n",
      "  :\t:\n",
      "  (4084, 5284)\t0.05562268938236693\n",
      "  (4084, 5009)\t0.0784268516500489\n",
      "  (4084, 4994)\t0.0877521304374063\n",
      "  (4084, 4449)\t0.08362562883684888\n",
      "  (4084, 3395)\t0.33623024484779346\n",
      "  (4084, 2328)\t0.0877521304374063\n",
      "  (4084, 2327)\t0.0877521304374063\n",
      "  (4085, 25954)\t0.14524830052112073\n",
      "  (4085, 25429)\t0.1401641901056117\n",
      "  (4085, 22450)\t0.11357501503836352\n",
      "  (4085, 22160)\t0.1420518598953489\n",
      "  (4085, 17391)\t0.13835296551999599\n",
      "  (4085, 15329)\t0.32368008782186736\n",
      "  (4085, 14876)\t0.09381862115354103\n",
      "  (4085, 14613)\t0.20981558269467115\n",
      "  (4085, 14127)\t0.18566912687109227\n",
      "  (4085, 13870)\t0.34470388401287644\n",
      "  (4085, 13851)\t0.35674783441662034\n",
      "  (4085, 13444)\t0.12773700617668216\n",
      "  (4085, 13274)\t0.3856906092208235\n",
      "  (4085, 12943)\t0.1406286920559012\n",
      "  (4085, 10408)\t0.32368008782186736\n",
      "  (4085, 10034)\t0.2391002029606966\n",
      "  (4085, 9593)\t0.15390354527390657\n",
      "  (4085, 8981)\t0.3136986233133983\n"
     ]
    }
   ],
   "source": [
    "print(yelp_tfidf[:,:])"
   ]
  },
  {
   "cell_type": "code",
   "execution_count": 120,
   "id": "815d7b16",
   "metadata": {},
   "outputs": [
    {
     "data": {
      "text/plain": [
       "<AxesSubplot:>"
      ]
     },
     "execution_count": 120,
     "metadata": {},
     "output_type": "execute_result"
    },
    {
     "data": {
      "image/png": "[encoded data removed]",
      "text/plain": [
       "<Figure size 640x480 with 2 Axes>"
      ]
     },
     "metadata": {},
     "output_type": "display_data"
    }
   ],
   "source": [
    "X=yelp_tfidf\n",
    "y=label\n",
    "\n",
    "from sklearn.model_selection import train_test_split\n",
    "X_train,X_test,y_train,y_test=train_test_split(X,y,test_size=0.2)\n",
    "\n",
    "from sklearn.naive_bayes import MultinomialNB\n",
    "NB_classifier=MultinomialNB()\n",
    "NB_classifier.fit(X_train,y_train)\n",
    "\n",
    "y_predict_test=NB_classifier.predict(X_test)\n",
    "y_predict_test\n",
    "cm=confusion_matrix(y_test,y_predict_test)\n",
    "sns.heatmap(cm,annot=True)"
   ]
  },
  {
   "cell_type": "code",
   "execution_count": 121,
   "id": "ed71bc63",
   "metadata": {},
   "outputs": [],
   "source": [
    "# Here we get more bad output when we have used TF-IDf, but it may improve some other model."
   ]
  }
 ],
 "metadata": {
  "kernelspec": {
   "display_name": "Python 3 (ipykernel)",
   "language": "python",
   "name": "python3"
  },
  "language_info": {
   "codemirror_mode": {
    "name": "ipython",
    "version": 3
   },
   "file_extension": ".py",
   "mimetype": "text/x-python",
   "name": "python",
   "nbconvert_exporter": "python",
   "pygments_lexer": "ipython3",
   "version": "3.9.13"
  }
 },
 "nbformat": 4,
 "nbformat_minor": 5
}
